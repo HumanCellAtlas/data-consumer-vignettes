{
 "cells": [
  {
   "cell_type": "markdown",
   "metadata": {},
   "source": [
    "# Download all bundles for liver cells sequenced with 10x"
   ]
  },
  {
   "cell_type": "markdown",
   "metadata": {},
   "source": [
    "In this notebook, we cover how to search the Human Cell Atlas Data Store (DSS) for bundles containing liver cells that were sequenced with 10x, and download all of the data that is found.\n",
    "\n",
    "The two steps of this process are:\n",
    "\n",
    "1. Write an ElasticSearch query to return bundles matching our two conditions (liver cells, and 10x).\n",
    "\n",
    "2. Iterate over the results and download the relevant files using the DSS API.\n",
    "\n",
    "As usual, we start with a DSS API client."
   ]
  },
  {
   "cell_type": "code",
   "execution_count": 218,
   "metadata": {},
   "outputs": [],
   "source": [
    "import hca.dss, json\n",
    "client = hca.dss.DSSClient()"
   ]
  },
  {
   "cell_type": "markdown",
   "metadata": {},
   "source": [
    "## Writing the ElasticSearch Query\n",
    "\n",
    "It is recommended that the reader at least skims the [\"Writing ElasticSearch Queries\"](../elasticsearch-queries/elasticsearch-queries.html) notebook, which covers how ElasticSearch queries are written.\n",
    "\n",
    "To find bundles with T cells and that were sequenced with 10x, we will use a boolean conditional query, with two conditions. We should first run an empty query and look at the metadata returned by one item to figure out what fields should contain \"T cells\" and which fields should contain \"10x\"."
   ]
  },
  {
   "cell_type": "code",
   "execution_count": 219,
   "metadata": {},
   "outputs": [],
   "source": [
    "response = client.post_search(es_query={}, replica='aws', output_format='raw')\n",
    "first_bundle = response['results'][1]"
   ]
  },
  {
   "cell_type": "markdown",
   "metadata": {},
   "source": [
    "Each result contains metadata, as extracted from several JSON files:"
   ]
  },
  {
   "cell_type": "code",
   "execution_count": 220,
   "metadata": {},
   "outputs": [
    {
     "name": "stdout",
     "output_type": "stream",
     "text": [
      "Metadata files:\n",
      "cell_suspension_json\n",
      "dissociation_protocol_json\n",
      "donor_organism_json\n",
      "enrichment_protocol_json\n",
      "library_preparation_protocol_json\n",
      "links_json\n",
      "process_json\n",
      "project_json\n",
      "sequence_file_json\n",
      "sequencing_protocol_json\n",
      "specimen_from_organism_json\n"
     ]
    }
   ],
   "source": [
    "print(\"Metadata files:\")\n",
    "print(\"\\n\".join(first_bundle['metadata']['files'].keys()))"
   ]
  },
  {
   "cell_type": "markdown",
   "metadata": {},
   "source": [
    "### Boolean Condition 1: 10x Data\n",
    "\n",
    "If we are looking for 10x data, the `sequencing_protocol_json` file might be the first place you would look:"
   ]
  },
  {
   "cell_type": "code",
   "execution_count": 222,
   "metadata": {},
   "outputs": [
    {
     "name": "stdout",
     "output_type": "stream",
     "text": [
      "[\n",
      "    {\n",
      "        \"describedBy\": \"https://schema.humancellatlas.org/type/protocol/sequencing/10.0.0/sequencing_protocol\",\n",
      "        \"instrument_manufacturer_model\": {\n",
      "            \"ontology\": \"EFO:0009173\",\n",
      "            \"ontology_label\": \"Illumina NextSeq 500\",\n",
      "            \"text\": \"Illumina NextSeq 500\"\n",
      "        },\n",
      "        \"method\": {\n",
      "            \"ontology\": \"EFO:0008441\",\n",
      "            \"ontology_label\": \"full length single cell RNA sequencing\",\n",
      "            \"text\": \"full length single cell RNA sequencing\"\n",
      "        },\n",
      "        \"paired_end\": true,\n",
      "        \"protocol_core\": {\n",
      "            \"protocol_id\": \"sequencing_protocol_1\"\n",
      "        },\n",
      "        \"provenance\": {\n",
      "            \"document_id\": \"293c36a8-33ce-4e21-a694-b2ae60fb1e2d\",\n",
      "            \"submission_date\": \"2019-05-10T14:22:49.335Z\",\n",
      "            \"update_date\": \"2019-05-10T14:22:53.538Z\"\n",
      "        },\n",
      "        \"schema_type\": \"protocol\"\n",
      "    }\n",
      "]\n"
     ]
    }
   ],
   "source": [
    "import json\n",
    "print(json.dumps(\n",
    "    first_bundle['metadata']['files']['sequencing_protocol_json'],\n",
    "    indent=4\n",
    "))"
   ]
  },
  {
   "cell_type": "markdown",
   "metadata": {},
   "source": [
    "This doesn't contain the right metadata, so we can look next in `library_preparation_protocol_json`:"
   ]
  },
  {
   "cell_type": "code",
   "execution_count": 223,
   "metadata": {},
   "outputs": [
    {
     "name": "stdout",
     "output_type": "stream",
     "text": [
      "[\n",
      "    {\n",
      "        \"describedBy\": \"https://schema.humancellatlas.org/type/protocol/sequencing/6.1.0/library_preparation_protocol\",\n",
      "        \"end_bias\": \"full length\",\n",
      "        \"input_nucleic_acid_molecule\": {\n",
      "            \"ontology\": \"OBI:0000869\",\n",
      "            \"text\": \"polyA RNA\"\n",
      "        },\n",
      "        \"library_construction_kit\": {\n",
      "            \"manufacturer\": \"Illumina\",\n",
      "            \"retail_name\": \"Nextera XT kit\"\n",
      "        },\n",
      "        \"library_construction_method\": {\n",
      "            \"ontology\": \"EFO:0008931\",\n",
      "            \"ontology_label\": \"Smart-seq2\",\n",
      "            \"text\": \"Smart-seq2\"\n",
      "        },\n",
      "        \"nucleic_acid_source\": \"single cell\",\n",
      "        \"primer\": \"poly-dT\",\n",
      "        \"protocol_core\": {\n",
      "            \"protocol_id\": \"library_preparation_protocol_1\"\n",
      "        },\n",
      "        \"provenance\": {\n",
      "            \"document_id\": \"3ab6b486-f900-4f70-ab34-98859ac5f77a\",\n",
      "            \"submission_date\": \"2019-05-10T14:22:49.330Z\",\n",
      "            \"update_date\": \"2019-05-10T14:22:53.537Z\"\n",
      "        },\n",
      "        \"schema_type\": \"protocol\",\n",
      "        \"strand\": \"unstranded\"\n",
      "    }\n",
      "]\n"
     ]
    }
   ],
   "source": [
    "import json\n",
    "print(json.dumps(\n",
    "    first_bundle['metadata']['files']['library_preparation_protocol_json'],\n",
    "    indent=4\n",
    "))"
   ]
  },
  {
   "cell_type": "markdown",
   "metadata": {},
   "source": [
    "From this we can determine the first boolean condition:\n",
    "\n",
    "```\n",
    "files.library_preparation_protocol.library_construction_method.text\n",
    "```\n",
    "\n",
    "should contain the text \"10x\". A `wildcard` query would be good here."
   ]
  },
  {
   "cell_type": "markdown",
   "metadata": {},
   "source": [
    "### Boolean Condition 2: Matching liver cells\n",
    "\n",
    "To find the organ type for the cells in the bundle, we can use the `specimen_from_organism_json` metadata file, which contains information about the organism the specimen came from (including the organ).\n",
    "\n",
    "Checking the metadata reveals the path needed to obtain the organ type:"
   ]
  },
  {
   "cell_type": "code",
   "execution_count": 224,
   "metadata": {},
   "outputs": [
    {
     "name": "stdout",
     "output_type": "stream",
     "text": [
      "[\n",
      "    {\n",
      "        \"biomaterial_core\": {\n",
      "            \"biomaterial_id\": \"DID_scRSq06_pancreas\",\n",
      "            \"ncbi_taxon_id\": [\n",
      "                9606\n",
      "            ]\n",
      "        },\n",
      "        \"describedBy\": \"https://schema.humancellatlas.org/type/biomaterial/10.2.0/specimen_from_organism\",\n",
      "        \"diseases\": [\n",
      "            {\n",
      "                \"ontology\": \"PATO:0000461\",\n",
      "                \"ontology_label\": \"normal\",\n",
      "                \"text\": \"normal\"\n",
      "            }\n",
      "        ],\n",
      "        \"genus_species\": [\n",
      "            {\n",
      "                \"ontology\": \"NCBITaxon:9606\",\n",
      "                \"ontology_label\": \"Homo sapiens\",\n",
      "                \"text\": \"Homo sapiens\"\n",
      "            }\n",
      "        ],\n",
      "        \"organ\": {\n",
      "            \"ontology\": \"UBERON:0001264\",\n",
      "            \"ontology_label\": \"pancreas\",\n",
      "            \"text\": \"pancreas\"\n",
      "        },\n",
      "        \"organ_parts\": [\n",
      "            {\n",
      "                \"ontology\": \"UBERON:0000006\",\n",
      "                \"ontology_label\": \"islet of Langerhans\",\n",
      "                \"text\": \"islet of Langerhans\"\n",
      "            }\n",
      "        ],\n",
      "        \"provenance\": {\n",
      "            \"document_id\": \"67601c53-f042-4b12-ba42-a822ddc23ed9\",\n",
      "            \"submission_date\": \"2019-05-10T14:20:26.013Z\",\n",
      "            \"update_date\": \"2019-05-10T14:26:49.560Z\"\n",
      "        },\n",
      "        \"schema_type\": \"biomaterial\"\n",
      "    }\n",
      "]\n"
     ]
    }
   ],
   "source": [
    "import json\n",
    "print(json.dumps(\n",
    "    first_bundle['metadata']['files']['specimen_from_organism_json'],\n",
    "    indent=4\n",
    "))"
   ]
  },
  {
   "cell_type": "markdown",
   "metadata": {},
   "source": [
    "The path needed for our boolean condition is\n",
    "\n",
    "```\n",
    "files.specimen_from_organism_json.organ.text\n",
    "```\n",
    "\n",
    "and it should match \"liver\"."
   ]
  },
  {
   "cell_type": "markdown",
   "metadata": {},
   "source": [
    "### Combining for the Query\n",
    "\n",
    "We now assemble a boolean conditional query using our two conditions: the first, a wildcard query to find 3' single cell data, and the second, a match query to find organs matching \"liver\"."
   ]
  },
  {
   "cell_type": "code",
   "execution_count": 231,
   "metadata": {},
   "outputs": [],
   "source": [
    "method = \"*10x*\"\n",
    "organ = \"liver\"\n",
    "\n",
    "query = {\n",
    "    \"query\": {\n",
    "        \"bool\": {\n",
    "            \"must\": [\n",
    "                {\n",
    "                    \"wildcard\": {\n",
    "                        \"files.library_preparation_protocol_json.library_construction_method.text\": {\n",
    "                            \"value\": method\n",
    "                        }\n",
    "                    }\n",
    "                },\n",
    "                {\n",
    "                    \"match\": {\n",
    "                        \"files.specimen_from_organism_json.organ.text\": organ\n",
    "                    }\n",
    "                }\n",
    "            ]\n",
    "        }\n",
    "    }\n",
    "}"
   ]
  },
  {
   "cell_type": "markdown",
   "metadata": {},
   "source": [
    "Now we run the query:"
   ]
  },
  {
   "cell_type": "code",
   "execution_count": 232,
   "metadata": {
    "scrolled": false
   },
   "outputs": [
    {
     "name": "stdout",
     "output_type": "stream",
     "text": [
      "post_search() found 10 results\n",
      "post_search() returned 10 results\n"
     ]
    }
   ],
   "source": [
    "search_results = client.post_search(\n",
    "    es_query=query, replica='aws', output_format='raw')\n",
    "\n",
    "print(\"post_search() found %d results\"%(search_results['total_hits']))\n",
    "print(\"post_search() returned %d results\"%(len(search_results['results'])))"
   ]
  },
  {
   "cell_type": "markdown",
   "metadata": {},
   "source": [
    "It so happens that all of these bundles belong to the same project:"
   ]
  },
  {
   "cell_type": "code",
   "execution_count": 239,
   "metadata": {},
   "outputs": [
    {
     "name": "stdout",
     "output_type": "stream",
     "text": [
      "{\n",
      "    \"project_description\": \"The liver is the largest solid organ in the body and is critical for metabolic and immune functions. However, little is known about the cells that make up the human liver and its immune microenvironment. Here we report a map of the cellular landscape of the human liver using single-cell RNA sequencing. We provide the transcriptional profiles of 8444 parenchymal and non-parenchymal cells obtained from the fractionation of fresh hepatic tissue from five human livers. Using gene expression patterns, flow cytometry, and immunohistochemical examinations, we identify 20 discrete cell populations of hepatocytes, endothelial cells, cholangiocytes, hepatic stellate cells, B cells, conventional and non-conventional T cells, NK-like cells, and distinct intrahepatic monocyte/macrophage populations. Together, our study presents a comprehensive view of the human liver at single-cell resolution that outlines the characteristics of resident cells in the liver, and in particular provides a map of the human hepatic immune microenvironment.\",\n",
      "    \"project_short_name\": \"SingleCellLiverLandscape\",\n",
      "    \"project_title\": \"Dissecting the human liver cellular landscape by single cell RNA-seq reveals novel intrahepatic monocyte/ macrophage populations\"\n",
      "}\n"
     ]
    }
   ],
   "source": [
    "print(json.dumps(\n",
    "    search_results['results'][1]['metadata']['files']['project_json'][0]['project_core'],\n",
    "    indent=4\n",
    "))"
   ]
  },
  {
   "cell_type": "markdown",
   "metadata": {},
   "source": [
    "Thus concludes our tutorial."
   ]
  }
 ],
 "metadata": {
  "kernelspec": {
   "display_name": "Python 3",
   "language": "python",
   "name": "python3"
  },
  "language_info": {
   "codemirror_mode": {
    "name": "ipython",
    "version": 3
   },
   "file_extension": ".py",
   "mimetype": "text/x-python",
   "name": "python",
   "nbconvert_exporter": "python",
   "pygments_lexer": "ipython3",
   "version": "3.6.3"
  }
 },
 "nbformat": 4,
 "nbformat_minor": 2
}

{
 "cells": [
  {
   "cell_type": "markdown",
   "metadata": {},
   "source": [
    "# Download Data for All Liver Cells Sequenced with 10x"
   ]
  },
  {
   "cell_type": "markdown",
   "metadata": {},
   "source": [
    "In this notebook, we cover how to search the Human Cell Atlas Data Store (DSS) for bundles containing liver cells that were sequenced with 10x, and download all of the data that is found.\n",
    "\n",
    "The two steps of this process are:\n",
    "\n",
    "1. Write an ElasticSearch query to return bundles matching our two conditions (liver cells, and 10x).\n",
    "\n",
    "2. Iterate over the results and download the relevant files using the DSS API.\n",
    "\n",
    "As usual, we start with a DSS API client."
   ]
  },
  {
   "cell_type": "code",
   "execution_count": 1,
   "metadata": {},
   "outputs": [],
   "source": [
    "import hca.dss, json\n",
    "client = hca.dss.DSSClient()"
   ]
  },
  {
   "cell_type": "markdown",
   "metadata": {},
   "source": [
    "## Writing the ElasticSearch Query\n",
    "\n",
    "It is recommended that the reader at least skims the [\"Writing ElasticSearch Queries\"](../elasticsearch-queries/elasticsearch-queries.html) notebook, which covers how ElasticSearch queries are written.\n",
    "\n",
    "To find bundles with T cells and that were sequenced with 10x, we will use a boolean conditional query, with two conditions. We should first run an empty query and look at the metadata returned by one item to figure out what fields should contain \"T cells\" and which fields should contain \"10x\"."
   ]
  },
  {
   "cell_type": "code",
   "execution_count": 2,
   "metadata": {},
   "outputs": [],
   "source": [
    "response = client.post_search(es_query={}, replica='aws', output_format='raw')\n",
    "first_bundle = response['results'][1]"
   ]
  },
  {
   "cell_type": "markdown",
   "metadata": {},
   "source": [
    "Each result contains metadata, as extracted from several JSON files:"
   ]
  },
  {
   "cell_type": "code",
   "execution_count": 3,
   "metadata": {},
   "outputs": [
    {
     "name": "stdout",
     "output_type": "stream",
     "text": [
      "Metadata files:\n",
      "cell_suspension_json\n",
      "collection_protocol_json\n",
      "donor_organism_json\n",
      "enrichment_protocol_json\n",
      "library_preparation_protocol_json\n",
      "links_json\n",
      "process_json\n",
      "project_json\n",
      "sequence_file_json\n",
      "sequencing_protocol_json\n",
      "specimen_from_organism_json\n"
     ]
    }
   ],
   "source": [
    "print(\"Metadata files:\")\n",
    "print(\"\\n\".join(first_bundle['metadata']['files'].keys()))"
   ]
  },
  {
   "cell_type": "markdown",
   "metadata": {},
   "source": [
    "### Boolean Condition 1: 10x Data\n",
    "\n",
    "If we are looking for 10x data, the `sequencing_protocol_json` file might be the first place you would look:"
   ]
  },
  {
   "cell_type": "code",
   "execution_count": 4,
   "metadata": {},
   "outputs": [
    {
     "name": "stdout",
     "output_type": "stream",
     "text": [
      "[\n",
      "    {\n",
      "        \"describedBy\": \"https://schema.humancellatlas.org/type/protocol/sequencing/10.0.2/sequencing_protocol\",\n",
      "        \"instrument_manufacturer_model\": {\n",
      "            \"ontology\": \"EFO:0008637\",\n",
      "            \"ontology_label\": \"Illumina NovaSeq 6000\",\n",
      "            \"text\": \"Illumina NovaSeq 6000\"\n",
      "        },\n",
      "        \"method\": {\n",
      "            \"ontology\": \"EFO:0008441\",\n",
      "            \"ontology_label\": \"full length single cell RNA sequencing\",\n",
      "            \"text\": \"full length single cell RNA sequencing\"\n",
      "        },\n",
      "        \"paired_end\": true,\n",
      "        \"protocol_core\": {\n",
      "            \"protocol_description\": \"Libraries were sequenced on an Illumina NovaSeq 6000\",\n",
      "            \"protocol_id\": \"sequencing_protocol_1\",\n",
      "            \"protocol_name\": \"SmartSeq2\"\n",
      "        },\n",
      "        \"provenance\": {\n",
      "            \"document_id\": \"571cc0c7-4dc2-443b-93f4-0ce4af08cf6d\",\n",
      "            \"submission_date\": \"2019-07-09T21:04:28.843Z\",\n",
      "            \"update_date\": \"2019-07-09T21:04:34.377Z\"\n",
      "        },\n",
      "        \"schema_type\": \"protocol\"\n",
      "    }\n",
      "]\n"
     ]
    }
   ],
   "source": [
    "import json\n",
    "print(json.dumps(\n",
    "    first_bundle['metadata']['files']['sequencing_protocol_json'],\n",
    "    indent=4\n",
    "))"
   ]
  },
  {
   "cell_type": "markdown",
   "metadata": {},
   "source": [
    "This doesn't contain the right metadata, so we can look next in `library_preparation_protocol_json`:"
   ]
  },
  {
   "cell_type": "code",
   "execution_count": 5,
   "metadata": {},
   "outputs": [
    {
     "name": "stdout",
     "output_type": "stream",
     "text": [
      "[\n",
      "    {\n",
      "        \"describedBy\": \"https://schema.humancellatlas.org/type/protocol/sequencing/6.1.1/library_preparation_protocol\",\n",
      "        \"end_bias\": \"full length\",\n",
      "        \"input_nucleic_acid_molecule\": {\n",
      "            \"ontology\": \"OBI:0000869\",\n",
      "            \"ontology_label\": \"polyA RNA\",\n",
      "            \"text\": \"polyA RNA\"\n",
      "        },\n",
      "        \"library_construction_method\": {\n",
      "            \"ontology\": \"EFO:0008931\",\n",
      "            \"ontology_label\": \"Smart-seq2\",\n",
      "            \"text\": \"Smart-seq2\"\n",
      "        },\n",
      "        \"nucleic_acid_source\": \"single cell\",\n",
      "        \"protocol_core\": {\n",
      "            \"protocol_description\": \"smart-seq2\",\n",
      "            \"protocol_id\": \"library_preparation_1\",\n",
      "            \"protocol_name\": \"Smart-seq2\"\n",
      "        },\n",
      "        \"provenance\": {\n",
      "            \"document_id\": \"47d78ecd-e946-4591-9ed4-acbbdbdf82a1\",\n",
      "            \"submission_date\": \"2019-07-09T21:04:28.837Z\",\n",
      "            \"update_date\": \"2019-07-09T21:04:34.114Z\"\n",
      "        },\n",
      "        \"schema_type\": \"protocol\",\n",
      "        \"strand\": \"unstranded\"\n",
      "    }\n",
      "]\n"
     ]
    }
   ],
   "source": [
    "import json\n",
    "print(json.dumps(\n",
    "    first_bundle['metadata']['files']['library_preparation_protocol_json'],\n",
    "    indent=4\n",
    "))"
   ]
  },
  {
   "cell_type": "markdown",
   "metadata": {},
   "source": [
    "From this we can determine the first boolean condition:\n",
    "\n",
    "```\n",
    "files.library_preparation_protocol.library_construction_method.text\n",
    "```\n",
    "\n",
    "should contain the text \"10x\". A `wildcard` query would be good here."
   ]
  },
  {
   "cell_type": "markdown",
   "metadata": {},
   "source": [
    "### Boolean Condition 2: Matching liver cells\n",
    "\n",
    "To find the organ type for the cells in the bundle, we can use the `specimen_from_organism_json` metadata file, which contains information about the organism the specimen came from (including the organ).\n",
    "\n",
    "Checking the metadata reveals the path needed to obtain the organ type:"
   ]
  },
  {
   "cell_type": "code",
   "execution_count": 6,
   "metadata": {},
   "outputs": [
    {
     "name": "stdout",
     "output_type": "stream",
     "text": [
      "[\n",
      "    {\n",
      "        \"biomaterial_core\": {\n",
      "            \"biomaterial_description\": \"Lung EPCAM\",\n",
      "            \"biomaterial_id\": \"3_38_F_Lung_EPCAM\",\n",
      "            \"biomaterial_name\": \"3_38_F_Lung_EPCAM\",\n",
      "            \"ncbi_taxon_id\": [\n",
      "                10090\n",
      "            ]\n",
      "        },\n",
      "        \"describedBy\": \"https://schema.humancellatlas.org/type/biomaterial/10.2.1/specimen_from_organism\",\n",
      "        \"genus_species\": [\n",
      "            {\n",
      "                \"ontology\": \"NCBITaxon:10090\",\n",
      "                \"ontology_label\": \"Mus musculus\",\n",
      "                \"text\": \"Mus musculus\"\n",
      "            }\n",
      "        ],\n",
      "        \"organ\": {\n",
      "            \"ontology\": \"UBERON:0002048\",\n",
      "            \"ontology_label\": \"lung\",\n",
      "            \"text\": \"lung epcam\"\n",
      "        },\n",
      "        \"provenance\": {\n",
      "            \"document_id\": \"577a91d8-e579-41b6-9353-7e4e774c161a\",\n",
      "            \"submission_date\": \"2019-07-09T19:41:33.874Z\",\n",
      "            \"update_date\": \"2019-07-09T22:28:11.151Z\"\n",
      "        },\n",
      "        \"schema_type\": \"biomaterial\"\n",
      "    }\n",
      "]\n"
     ]
    }
   ],
   "source": [
    "import json\n",
    "print(json.dumps(\n",
    "    first_bundle['metadata']['files']['specimen_from_organism_json'],\n",
    "    indent=4\n",
    "))"
   ]
  },
  {
   "cell_type": "markdown",
   "metadata": {},
   "source": [
    "The path needed for our boolean condition is\n",
    "\n",
    "```\n",
    "files.specimen_from_organism_json.organ.text\n",
    "```\n",
    "\n",
    "and it should match \"liver\"."
   ]
  },
  {
   "cell_type": "markdown",
   "metadata": {},
   "source": [
    "### Combining for the Query\n",
    "\n",
    "We now assemble a boolean conditional query using our two conditions: the first, a wildcard query to find 3' single cell data, and the second, a match query to find organs matching \"liver\"."
   ]
  },
  {
   "cell_type": "code",
   "execution_count": 7,
   "metadata": {},
   "outputs": [],
   "source": [
    "method = \"*10x*\"\n",
    "organ = \"liver\"\n",
    "\n",
    "query = {\n",
    "    \"query\": {\n",
    "        \"bool\": {\n",
    "            \"must\": [\n",
    "                {\n",
    "                    \"wildcard\": {\n",
    "                        \"files.library_preparation_protocol_json.library_construction_method.text\": {\n",
    "                            \"value\": method\n",
    "                        }\n",
    "                    }\n",
    "                },\n",
    "                {\n",
    "                    \"match\": {\n",
    "                        \"files.specimen_from_organism_json.organ.text\": organ\n",
    "                    }\n",
    "                }\n",
    "            ]\n",
    "        }\n",
    "    }\n",
    "}"
   ]
  },
  {
   "cell_type": "markdown",
   "metadata": {},
   "source": [
    "Now we run the query:"
   ]
  },
  {
   "cell_type": "code",
   "execution_count": 8,
   "metadata": {
    "scrolled": false
   },
   "outputs": [
    {
     "name": "stdout",
     "output_type": "stream",
     "text": [
      "post_search() found 15 results\n",
      "post_search() returned 10 results\n"
     ]
    }
   ],
   "source": [
    "search_results = client.post_search(\n",
    "    es_query=query, replica='aws', output_format='raw')\n",
    "\n",
    "print(\"post_search() found %d results\"%(search_results['total_hits']))\n",
    "print(\"post_search() returned %d results\"%(len(search_results['results'])))"
   ]
  },
  {
   "cell_type": "markdown",
   "metadata": {},
   "source": [
    "We can also print information about the project this bundle is part of - it so happens that all of these bundles belong to the same project:"
   ]
  },
  {
   "cell_type": "code",
   "execution_count": 9,
   "metadata": {},
   "outputs": [
    {
     "name": "stdout",
     "output_type": "stream",
     "text": [
      "{\n",
      "    \"project_description\": \"The liver is the largest solid organ in the body and is critical for metabolic and immune functions. However, little is known about the cells that make up the human liver and its immune microenvironment. Here we report a map of the cellular landscape of the human liver using single-cell RNA sequencing. We provide the transcriptional profiles of 8444 parenchymal and non-parenchymal cells obtained from the fractionation of fresh hepatic tissue from five human livers. Using gene expression patterns, flow cytometry, and immunohistochemical examinations, we identify 20 discrete cell populations of hepatocytes, endothelial cells, cholangiocytes, hepatic stellate cells, B cells, conventional and non-conventional T cells, NK-like cells, and distinct intrahepatic monocyte/macrophage populations. Together, our study presents a comprehensive view of the human liver at single-cell resolution that outlines the characteristics of resident cells in the liver, and in particular provides a map of the human hepatic immune microenvironment.\",\n",
      "    \"project_short_name\": \"SingleCellLiverLandscape\",\n",
      "    \"project_title\": \"Dissecting the human liver cellular landscape by single cell RNA-seq reveals novel intrahepatic monocyte/ macrophage populations\"\n",
      "}\n"
     ]
    }
   ],
   "source": [
    "print(json.dumps(\n",
    "    search_results['results'][1]['metadata']['files']['project_json'][0]['project_core'],\n",
    "    indent=4\n",
    "))"
   ]
  },
  {
   "cell_type": "markdown",
   "metadata": {},
   "source": [
    "This concludes the ElasticSearch query portion of this tutorial, the next step is to use the results of this query to download the results."
   ]
  },
  {
   "cell_type": "markdown",
   "metadata": {},
   "source": [
    "## Downloading All Query Results\n",
    "\n",
    "Next, we iterate over the results of the query to download the data. To make that easier, we can rewrrite the `post_search()` API call to `post_search.iterate()` to iterate over all results instead of returning them one page at a time:\n",
    "\n",
    "```python\n",
    "bundles = client.post_search(es_query=query, replica='aws', output_format='raw')\n",
    "```\n",
    "\n",
    "now becomes\n",
    "\n",
    "```python\n",
    "bundles_generator = client.post_search.iterate(es_query=query, replica='aws', output_format='raw')\n",
    "for i, bundle in enumerate(bundles_generator):\n",
    "    # ...\n",
    "```"
   ]
  },
  {
   "cell_type": "markdown",
   "metadata": {},
   "source": [
    "As a refresher, here is our ElasticSearch query:"
   ]
  },
  {
   "cell_type": "code",
   "execution_count": 10,
   "metadata": {},
   "outputs": [
    {
     "name": "stdout",
     "output_type": "stream",
     "text": [
      "{\n",
      "    \"query\": {\n",
      "        \"bool\": {\n",
      "            \"must\": [\n",
      "                {\n",
      "                    \"wildcard\": {\n",
      "                        \"files.library_preparation_protocol_json.library_construction_method.text\": {\n",
      "                            \"value\": \"*10x*\"\n",
      "                        }\n",
      "                    }\n",
      "                },\n",
      "                {\n",
      "                    \"match\": {\n",
      "                        \"files.specimen_from_organism_json.organ.text\": \"liver\"\n",
      "                    }\n",
      "                }\n",
      "            ]\n",
      "        }\n",
      "    }\n",
      "}\n"
     ]
    }
   ],
   "source": [
    "print(json.dumps(query, indent=4))"
   ]
  },
  {
   "cell_type": "markdown",
   "metadata": {},
   "source": [
    "We have our query, and we have our loop structure for iterating over all results of the query. The last thing we need is a function to process each bundle returned by the query."
   ]
  },
  {
   "cell_type": "markdown",
   "metadata": {},
   "source": [
    "### Functions to Process Results\n",
    "\n",
    "Below we give several functions that process the results of the query in different ways. Swap out the call to `print_bundle()` with a call to your function of choice in the loop below."
   ]
  },
  {
   "cell_type": "code",
   "execution_count": 11,
   "metadata": {},
   "outputs": [],
   "source": [
    "def print_bundle(bundle):\n",
    "    \"\"\"This function extracts the bundle FQID and prints it\"\"\"\n",
    "    bundle_fqid = bundle['bundle_fqid']\n",
    "    bundle_uuid, bundle_version = bundle_fqid.split(\".\", 1)\n",
    "    print(f\"Now processing bundle UUID {bundle_uuid} Version {bundle_version}\")"
   ]
  },
  {
   "cell_type": "code",
   "execution_count": 12,
   "metadata": {},
   "outputs": [],
   "source": [
    "def download_bundle(bundle):\n",
    "    \"\"\"This function downloads the exact version of the bundle\"\"\"\n",
    "    bundle_fqid = bundle['bundle_fqid']\n",
    "    bundle_uuid, bundle_version = bundle_fqid.split(\".\", 1)\n",
    "    client.download(\n",
    "        bundle_uuid=bundle_uuid,\n",
    "        version=bundle_version,\n",
    "        replica=\"aws\",\n",
    "        download_dir=\"data-10x-liver\"\n",
    "    )"
   ]
  },
  {
   "cell_type": "code",
   "execution_count": 13,
   "metadata": {},
   "outputs": [],
   "source": [
    "def download_latest_bundle(bundle):\n",
    "    \"\"\"This function downloads the latest version of the bundle\"\"\"\n",
    "    budle_fqid = bundle['bundle_fqid']\n",
    "    bundle_uuid, _ = bundle_fqid.split(\".\", 1)\n",
    "    \n",
    "    # Get information about the latest version of this bundle\n",
    "    bundle_info = dss.get_bundle(\n",
    "        uuid=bundle_uuid,\n",
    "        replica=\"aws\"\n",
    "    )\n",
    "    \n",
    "    # Download the latest version of the bundle\n",
    "    client.download(\n",
    "        bundle_uuid=bundle_uuid,\n",
    "        version=bundle_info['version'],\n",
    "        replica=\"aws\",\n",
    "        download_dir=\"data-10x-liver-latestversion\"\n",
    "    )"
   ]
  },
  {
   "cell_type": "code",
   "execution_count": 14,
   "metadata": {},
   "outputs": [],
   "source": [
    "def download_fastq_only(bundle):\n",
    "    \"\"\"This function downloads only the .fastq.gz files contained in a bundle\"\"\"\n",
    "    bundle_fqid = bundle['bundle_fqid']\n",
    "    for f in bundle['metadata']['manifest']['files']:\n",
    "        f_name = f['name']\n",
    "        if f_name.endswith(\".fastq.gz\"):\n",
    "            f_uuid = f['uuid']\n",
    "            f_version = f['version']\n",
    "            print(f\"Downloading file {f_name} : UUID {f_uuid}\")\n",
    "            results = client.get_file(\n",
    "                uuid = f_uuid,\n",
    "                version = f_version,\n",
    "                replica = 'aws'\n",
    "            )\n",
    "            open(f_name, 'w').write(results.decode(\"utf-8\"))"
   ]
  },
  {
   "cell_type": "code",
   "execution_count": 15,
   "metadata": {},
   "outputs": [
    {
     "name": "stdout",
     "output_type": "stream",
     "text": [
      "Now processing bundle UUID fd7a46db-1e90-4bfd-8e70-a77baa01faa5 Version 2019-09-23T173114.106310Z\n",
      "Now processing bundle UUID fd7a46db-1e90-4bfd-8e70-a77baa01faa5 Version 2019-09-20T175818.017079Z\n",
      "Now processing bundle UUID fbda9910-5076-47a6-83d6-cfff39d17606 Version 2019-09-26T051746.268160Z\n",
      "Now processing bundle UUID fb2ae8b7-06b0-4881-ad9f-1f37255b91b6 Version 2019-09-23T173114.107225Z\n",
      "Now processing bundle UUID fb2ae8b7-06b0-4881-ad9f-1f37255b91b6 Version 2019-09-20T175818.015707Z\n",
      "Now processing bundle UUID c65efd23-bbc4-459a-ac60-d3cde705193d Version 2019-09-23T173114.107641Z\n",
      "Now processing bundle UUID c65efd23-bbc4-459a-ac60-d3cde705193d Version 2019-09-20T175818.014333Z\n",
      "Now processing bundle UUID c59a8de8-d4f3-424b-b716-06b7152b980a Version 2019-09-23T173114.106782Z\n",
      "Now processing bundle UUID c59a8de8-d4f3-424b-b716-06b7152b980a Version 2019-09-20T175818.012949Z\n",
      "Now processing bundle UUID be9f2d04-77ee-4f59-a0f7-f0b58034cf8c Version 2019-09-23T173114.105576Z\n",
      "Now processing bundle UUID be9f2d04-77ee-4f59-a0f7-f0b58034cf8c Version 2019-09-20T175818.018494Z\n",
      "Now processing bundle UUID 82164816-64d4-4975-a248-b66c4fdad6f8 Version 2019-09-26T054644.254919Z\n",
      "Now processing bundle UUID 56cce395-634e-4c53-976c-931727d22dfa Version 2019-09-26T074759.713933Z\n",
      "Now processing bundle UUID 3a7af639-ac18-49a7-aef9-2eb4b1ecf598 Version 2019-09-26T072340.935554Z\n",
      "Now processing bundle UUID 2f62f508-6503-4c2e-a714-8298f55bdaa2 Version 2019-09-26T064657.900169Z\n"
     ]
    }
   ],
   "source": [
    "results_generator = client.post_search.iterate(es_query=query, replica='aws', output_format='raw')\n",
    "\n",
    "for bundle in results_generator:\n",
    "    print_bundle(bundle)"
   ]
  }
 ],
 "metadata": {
  "kernelspec": {
   "display_name": "Python 3",
   "language": "python",
   "name": "python3"
  },
  "language_info": {
   "codemirror_mode": {
    "name": "ipython",
    "version": 3
   },
   "file_extension": ".py",
   "mimetype": "text/x-python",
   "name": "python",
   "nbconvert_exporter": "python",
   "pygments_lexer": "ipython3",
   "version": "3.6.3"
  }
 },
 "nbformat": 4,
 "nbformat_minor": 2
}

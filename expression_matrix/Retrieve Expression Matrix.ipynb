{
 "cells": [
  {
   "cell_type": "markdown",
   "metadata": {},
   "source": [
    "## Retrieving Expression Matrices from the DCP\n",
    "\n",
    "Data in the DCP is organized in \"bundles\", and some of those bundles contain expression matrices that have been produced using HCA analysis pipelines. Those matrices can be downloaded directly, but the DCP also provides a \"matrix service\" that handles aggregation, format conversion, and (eventually) things like filters and queries.\n",
    "\n",
    "This vignette walks through obtaining an expression matrix using the matrix service API. Note that the API has only been functional for a short time and currently doesn't support all experiment types. Also, it's very likely that the direct interaction with the API will be wrapped with something that integrates more naturally with python and R."
   ]
  },
  {
   "cell_type": "markdown",
   "metadata": {},
   "source": [
    "First, there is some boilerplate:\n",
    "- Install the `hca` package\n",
    "- Create a client to the HCA Data Storage System"
   ]
  },
  {
   "cell_type": "code",
   "execution_count": 1,
   "metadata": {
    "scrolled": true
   },
   "outputs": [
    {
     "name": "stdout",
     "output_type": "stream",
     "text": [
      "Requirement already satisfied: hca in /opt/conda/lib/python3.6/site-packages (4.4.9)\n",
      "Requirement already satisfied: cryptography==2.3.1 in /opt/conda/lib/python3.6/site-packages (from hca) (2.3.1)\n",
      "Requirement already satisfied: google-auth-oauthlib<2,>=0.1 in /opt/conda/lib/python3.6/site-packages (from hca) (0.2.0)\n",
      "Requirement already satisfied: commonmark<0.8,>=0.7.4 in /opt/conda/lib/python3.6/site-packages (from hca) (0.7.5)\n",
      "Requirement already satisfied: jsonpointer<2,>=1.10 in /opt/conda/lib/python3.6/site-packages (from hca) (1.14)\n",
      "Requirement already satisfied: PyJWT>=1.6.4 in /opt/conda/lib/python3.6/site-packages (from hca) (1.6.4)\n",
      "Requirement already satisfied: jsonschema<3,>=2.6 in /opt/conda/lib/python3.6/site-packages (from hca) (2.6.0)\n",
      "Requirement already satisfied: crcmod<2,>=1.7 in /opt/conda/lib/python3.6/site-packages (from hca) (1.7)\n",
      "Requirement already satisfied: requests<3,>=2.20.0 in /opt/conda/lib/python3.6/site-packages (from hca) (2.20.0)\n",
      "Requirement already satisfied: docutils<1,>=0.14 in /opt/conda/lib/python3.6/site-packages (from hca) (0.14)\n",
      "Requirement already satisfied: six<2,>=1.10 in /opt/conda/lib/python3.6/site-packages (from hca) (1.11.0)\n",
      "Requirement already satisfied: retrying in /opt/conda/lib/python3.6/site-packages (from hca) (1.3.3)\n",
      "Requirement already satisfied: tweak<1,>=0.6.7 in /opt/conda/lib/python3.6/site-packages (from hca) (0.6.7)\n",
      "Requirement already satisfied: Jinja2<3,>=2.9 in /opt/conda/lib/python3.6/site-packages (from hca) (2.10)\n",
      "Requirement already satisfied: dcplib<2,>=1.3.2 in /opt/conda/lib/python3.6/site-packages (from hca) (1.4.0)\n",
      "Requirement already satisfied: boto3<1.8,>=1.7 in /opt/conda/lib/python3.6/site-packages (from hca) (1.7.84)\n",
      "Requirement already satisfied: google-auth<2,>=1.0.2 in /opt/conda/lib/python3.6/site-packages (from hca) (1.6.1)\n",
      "Requirement already satisfied: argcomplete<2,>=1.9.3 in /opt/conda/lib/python3.6/site-packages (from hca) (1.9.4)\n",
      "Requirement already satisfied: idna>=2.1 in /opt/conda/lib/python3.6/site-packages (from cryptography==2.3.1->hca) (2.7)\n",
      "Requirement already satisfied: asn1crypto>=0.21.0 in /opt/conda/lib/python3.6/site-packages (from cryptography==2.3.1->hca) (0.24.0)\n",
      "Requirement already satisfied: cffi!=1.11.3,>=1.7 in /opt/conda/lib/python3.6/site-packages (from cryptography==2.3.1->hca) (1.11.5)\n",
      "Requirement already satisfied: requests-oauthlib>=0.7.0 in /opt/conda/lib/python3.6/site-packages (from google-auth-oauthlib<2,>=0.1->hca) (1.0.0)\n",
      "Requirement already satisfied: future in /opt/conda/lib/python3.6/site-packages (from commonmark<0.8,>=0.7.4->hca) (0.17.1)\n",
      "Requirement already satisfied: chardet<3.1.0,>=3.0.2 in /opt/conda/lib/python3.6/site-packages (from requests<3,>=2.20.0->hca) (3.0.4)\n",
      "Requirement already satisfied: certifi>=2017.4.17 in /opt/conda/lib/python3.6/site-packages (from requests<3,>=2.20.0->hca) (2018.10.15)\n",
      "Requirement already satisfied: urllib3<1.25,>=1.21.1 in /opt/conda/lib/python3.6/site-packages (from requests<3,>=2.20.0->hca) (1.23)\n",
      "Requirement already satisfied: MarkupSafe>=0.23 in /opt/conda/lib/python3.6/site-packages (from Jinja2<3,>=2.9->hca) (1.0)\n",
      "Requirement already satisfied: puremagic in /opt/conda/lib/python3.6/site-packages (from dcplib<2,>=1.3.2->hca) (1.4)\n",
      "Requirement already satisfied: jmespath<1.0.0,>=0.7.1 in /opt/conda/lib/python3.6/site-packages (from boto3<1.8,>=1.7->hca) (0.9.3)\n",
      "Requirement already satisfied: botocore<1.11.0,>=1.10.84 in /opt/conda/lib/python3.6/site-packages (from boto3<1.8,>=1.7->hca) (1.10.84)\n",
      "Requirement already satisfied: s3transfer<0.2.0,>=0.1.10 in /opt/conda/lib/python3.6/site-packages (from boto3<1.8,>=1.7->hca) (0.1.13)\n",
      "Requirement already satisfied: pyasn1-modules>=0.2.1 in /opt/conda/lib/python3.6/site-packages (from google-auth<2,>=1.0.2->hca) (0.2.2)\n",
      "Requirement already satisfied: rsa>=3.1.4 in /opt/conda/lib/python3.6/site-packages (from google-auth<2,>=1.0.2->hca) (4.0)\n",
      "Requirement already satisfied: cachetools>=2.0.0 in /opt/conda/lib/python3.6/site-packages (from google-auth<2,>=1.0.2->hca) (3.0.0)\n",
      "Requirement already satisfied: pycparser in /opt/conda/lib/python3.6/site-packages (from cffi!=1.11.3,>=1.7->cryptography==2.3.1->hca) (2.19)\n",
      "Requirement already satisfied: oauthlib>=0.6.2 in /opt/conda/lib/python3.6/site-packages (from requests-oauthlib>=0.7.0->google-auth-oauthlib<2,>=0.1->hca) (2.1.0)\n",
      "Requirement already satisfied: argparse in /opt/conda/lib/python3.6/site-packages (from puremagic->dcplib<2,>=1.3.2->hca) (1.4.0)\n",
      "Requirement already satisfied: python-dateutil<3.0.0,>=2.1; python_version >= \"2.7\" in /opt/conda/lib/python3.6/site-packages (from botocore<1.11.0,>=1.10.84->boto3<1.8,>=1.7->hca) (2.7.4)\n",
      "Requirement already satisfied: pyasn1<0.5.0,>=0.4.1 in /opt/conda/lib/python3.6/site-packages (from pyasn1-modules>=0.2.1->google-auth<2,>=1.0.2->hca) (0.4.4)\n"
     ]
    }
   ],
   "source": [
    "import sys\n",
    "!{sys.executable} -m pip install hca\n",
    "import hca.dss\n",
    "client = hca.dss.DSSClient()"
   ]
  },
  {
   "cell_type": "markdown",
   "metadata": {},
   "source": [
    "Now, prepare a query for some bundles in the DSS. Queries are written using [Elasticsearch syntax](https://www.elastic.co/guide/en/elasticsearch/reference/current/query-dsl.html). The query below find bundles by experiment type and species. We find that most serious users have committed the Experimental Factor Ontology and NCBI Taxonomy Database to memory, but in case not, this finds [Smart-seq2](https://www.ebi.ac.uk/ols/ontologies/efo/terms?iri=http%3A%2F%2Fwww.ebi.ac.uk%2Fefo%2FEFO_0008931) data from [humans](https://www.ncbi.nlm.nih.gov/Taxonomy/Browser/wwwtax.cgi?id=9606). It also only returns \"analysis\" bundles, that is bundles that are produced by a secondary analysis pipeline and should have an expression matrix."
   ]
  },
  {
   "cell_type": "code",
   "execution_count": 2,
   "metadata": {},
   "outputs": [],
   "source": [
    "es_query = {\n",
    "  \"query\": {\n",
    "    \"bool\": {\n",
    "      \"must\": [\n",
    "        {\n",
    "          \"match\": {\n",
    "            # Smart-seq2\n",
    "            \"files.library_preparation_protocol_json.library_construction_approach.ontology\": \"EFO:0008931\"\n",
    "          }\n",
    "        },\n",
    "        {\n",
    "          \"match\": {\n",
    "            \"files.sequencing_protocol_json.paired_end\": True\n",
    "          }\n",
    "        },\n",
    "        {\n",
    "          \"match\": {\n",
    "            # Human\n",
    "            \"files.donor_organism_json.biomaterial_core.ncbi_taxon_id\": 9606\n",
    "          }\n",
    "        },\n",
    "        {\n",
    "          \"match\": {\n",
    "            # Only bundles with expression matrices\n",
    "            \"files.analysis_process_json.process_type.text\": \"analysis\"\n",
    "          }\n",
    "        }\n",
    "      ]\n",
    "    }\n",
    "  }\n",
    "}"
   ]
  },
  {
   "cell_type": "markdown",
   "metadata": {},
   "source": [
    "Now, execute the query. We'll just take the first 100 results, and we want the bundle \"fully-qualified ids\" to pass to the matrix service API."
   ]
  },
  {
   "cell_type": "code",
   "execution_count": 3,
   "metadata": {},
   "outputs": [
    {
     "name": "stdout",
     "output_type": "stream",
     "text": [
      "980b814a-b493-4611-8157-c0193590e7d9.2018-11-12T131442.994059Z\n"
     ]
    }
   ],
   "source": [
    "import itertools\n",
    "search_results = list(itertools.islice(client.post_search.iterate(replica=\"aws\", es_query=es_query), 100))\n",
    "bundle_fqids = [r[\"bundle_fqid\"] for r in search_results]\n",
    "print(bundle_fqids[0])"
   ]
  },
  {
   "cell_type": "markdown",
   "metadata": {},
   "source": [
    "Submit the resulting list of bundle fqids to the matrix service. Also, for this case, request the output matrix in [loom format](https://linnarssonlab.org/loompy/index.html). The matrix service should give us a response with a `request_id` that we can use to check when the matrix is ready."
   ]
  },
  {
   "cell_type": "code",
   "execution_count": 4,
   "metadata": {},
   "outputs": [
    {
     "name": "stdout",
     "output_type": "stream",
     "text": [
      "{'eta': '', 'matrix_location': '', 'message': 'Job started.', 'request_id': '73de02df-7b73-456a-b84f-682e0ec3c014', 'status': 'In Progress'}\n"
     ]
    }
   ],
   "source": [
    "import json, requests\n",
    "matrix_query_url = \"https://matrix.data.humancellatlas.org/v0/matrix\"\n",
    "post_response = requests.post(matrix_query_url, data=json.dumps({\"bundle_fqids\": bundle_fqids, \"format\": \"loom\"}), headers={\"Content-Type\": \"application/json\"})\n",
    "print(post_response.json())"
   ]
  },
  {
   "cell_type": "markdown",
   "metadata": {},
   "source": [
    "Wait until the request is ready. When it is, download the matrix from the url in the response from the matrix service. This could take a little while."
   ]
  },
  {
   "cell_type": "code",
   "execution_count": 5,
   "metadata": {},
   "outputs": [
    {
     "name": "stdout",
     "output_type": "stream",
     "text": [
      "--2018-11-16 16:37:22--  https://s3.amazonaws.com/dcp-matrix-service-results-prod/81f3cb0f4a66074635d419df4f0bb47369e8b3211451303557b16b9732da0393.loom\n",
      "Resolving s3.amazonaws.com (s3.amazonaws.com)... 52.216.228.19\n",
      "Connecting to s3.amazonaws.com (s3.amazonaws.com)|52.216.228.19|:443... connected.\n",
      "HTTP request sent, awaiting response... 200 OK\n",
      "Length: 4006609 (3.8M) [binary/octet-stream]\n",
      "Saving to: ‘81f3cb0f4a66074635d419df4f0bb47369e8b3211451303557b16b9732da0393.loom.2’\n",
      "\n",
      "81f3cb0f4a66074635d 100%[===================>]   3.82M  3.44MB/s    in 1.1s    \n",
      "\n",
      "2018-11-16 16:37:24 (3.44 MB/s) - ‘81f3cb0f4a66074635d419df4f0bb47369e8b3211451303557b16b9732da0393.loom.2’ saved [4006609/4006609]\n",
      "\n"
     ]
    }
   ],
   "source": [
    "import os, time\n",
    "while True:\n",
    "    get_response = requests.get(matrix_query_url + '/' + post_response.json()[\"request_id\"])\n",
    "    if get_response.json().get(\"status\", \"In Progress\") == \"In Progress\":\n",
    "        time.sleep(10)\n",
    "    else:\n",
    "        break\n",
    "matrix_url = get_response.json()[\"matrix_location\"]\n",
    "!wget {matrix_url}\n",
    "local_matrix_path = os.path.basename(matrix_url)"
   ]
  },
  {
   "cell_type": "markdown",
   "metadata": {},
   "source": [
    "Finally, let's do something with this matrix. Here we'll open it with [scanpy](https://scanpy.readthedocs.io/en/latest/) and print a graph of this most highly expressed genes."
   ]
  },
  {
   "cell_type": "code",
   "execution_count": 7,
   "metadata": {},
   "outputs": [
    {
     "name": "stdout",
     "output_type": "stream",
     "text": [
      "Requirement already satisfied: scanpy in /opt/conda/lib/python3.6/site-packages (1.3.3)\n",
      "Requirement already satisfied: pandas>=0.21 in /opt/conda/lib/python3.6/site-packages (from scanpy) (0.23.4)\n",
      "Requirement already satisfied: matplotlib>=2.2 in /opt/conda/lib/python3.6/site-packages (from scanpy) (2.2.3)\n",
      "Requirement already satisfied: seaborn in /opt/conda/lib/python3.6/site-packages (from scanpy) (0.9.0)\n",
      "Requirement already satisfied: anndata>=0.6.13 in /opt/conda/lib/python3.6/site-packages (from scanpy) (0.6.13)\n",
      "Requirement already satisfied: networkx in /opt/conda/lib/python3.6/site-packages (from scanpy) (2.2)\n",
      "Requirement already satisfied: h5py in /opt/conda/lib/python3.6/site-packages (from scanpy) (2.7.1)\n",
      "Requirement already satisfied: scikit-learn>=0.19.1 in /opt/conda/lib/python3.6/site-packages (from scanpy) (0.19.2)\n",
      "Requirement already satisfied: tables in /opt/conda/lib/python3.6/site-packages (from scanpy) (3.4.4)\n",
      "Requirement already satisfied: scipy in /opt/conda/lib/python3.6/site-packages (from scanpy) (1.1.0)\n",
      "Requirement already satisfied: natsort in /opt/conda/lib/python3.6/site-packages (from scanpy) (5.4.1)\n",
      "Requirement already satisfied: numba>=0.40.0 in /opt/conda/lib/python3.6/site-packages (from scanpy) (0.40.1)\n",
      "Requirement already satisfied: joblib in /opt/conda/lib/python3.6/site-packages (from scanpy) (0.13.0)\n",
      "Requirement already satisfied: statsmodels in /opt/conda/lib/python3.6/site-packages (from scanpy) (0.9.0)\n",
      "Requirement already satisfied: python-dateutil>=2.5.0 in /opt/conda/lib/python3.6/site-packages (from pandas>=0.21->scanpy) (2.7.4)\n",
      "Requirement already satisfied: pytz>=2011k in /opt/conda/lib/python3.6/site-packages (from pandas>=0.21->scanpy) (2018.6)\n",
      "Requirement already satisfied: numpy>=1.9.0 in /opt/conda/lib/python3.6/site-packages (from pandas>=0.21->scanpy) (1.13.3)\n",
      "Requirement already satisfied: cycler>=0.10 in /opt/conda/lib/python3.6/site-packages (from matplotlib>=2.2->scanpy) (0.10.0)\n",
      "Requirement already satisfied: pyparsing!=2.0.4,!=2.1.2,!=2.1.6,>=2.0.1 in /opt/conda/lib/python3.6/site-packages (from matplotlib>=2.2->scanpy) (2.2.2)\n",
      "Requirement already satisfied: six>=1.10 in /opt/conda/lib/python3.6/site-packages (from matplotlib>=2.2->scanpy) (1.11.0)\n",
      "Requirement already satisfied: kiwisolver>=1.0.1 in /opt/conda/lib/python3.6/site-packages (from matplotlib>=2.2->scanpy) (1.0.1)\n",
      "Requirement already satisfied: decorator>=4.3.0 in /opt/conda/lib/python3.6/site-packages (from networkx->scanpy) (4.3.0)\n",
      "Requirement already satisfied: numexpr>=2.5.2 in /opt/conda/lib/python3.6/site-packages (from tables->scanpy) (2.6.8)\n",
      "Requirement already satisfied: llvmlite>=0.25.0dev0 in /opt/conda/lib/python3.6/site-packages (from numba>=0.40.0->scanpy) (0.25.0)\n",
      "Requirement already satisfied: setuptools in /opt/conda/lib/python3.6/site-packages (from kiwisolver>=1.0.1->matplotlib>=2.2->scanpy) (40.4.3)\n"
     ]
    },
    {
     "data": {
      "image/png": "[encoded data removed]",
      "text/plain": [
       "<Figure size 360x396 with 1 Axes>"
      ]
     },
     "metadata": {
      "needs_background": "light"
     },
     "output_type": "display_data"
    }
   ],
   "source": [
    "!{sys.executable} -m pip install scanpy\n",
    "import scanpy.api as sc\n",
    "adata = sc.read_loom(local_matrix_path)\n",
    "sc.pl.highest_expr_genes(adata, n_top=20)"
   ]
  }
 ],
 "metadata": {
  "kernelspec": {
   "display_name": "Python 3",
   "language": "python",
   "name": "python3"
  },
  "language_info": {
   "codemirror_mode": {
    "name": "ipython",
    "version": 3
   },
   "file_extension": ".py",
   "mimetype": "text/x-python",
   "name": "python",
   "nbconvert_exporter": "python",
   "pygments_lexer": "ipython3",
   "version": "3.6.6"
  }
 },
 "nbformat": 4,
 "nbformat_minor": 2
}

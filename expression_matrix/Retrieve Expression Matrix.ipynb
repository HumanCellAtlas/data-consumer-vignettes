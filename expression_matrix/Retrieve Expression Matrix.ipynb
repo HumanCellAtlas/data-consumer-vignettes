{
 "cells": [
  {
   "cell_type": "markdown",
   "metadata": {},
   "source": [
    "## Retrieving Expression Matrices from the DCP\n",
    "\n",
    "Data in the DCP is organized in \"bundles\", and some of those bundles contain expression matrices that have been produced using HCA analysis pipelines. Those matrices can be downloaded directly, but the DCP also provides a \"matrix service\" that handles aggregation, format conversion, and (eventually) things like filters and queries.\n",
    "\n",
    "This vignette walks through obtaining an expression matrix using the matrix service API. Note that the API has only been functional for a short time and currently doesn't support all experiment types. Also, it's very likely that the direct interaction with the API will be wrapped with something that integrates more naturally with python and R."
   ]
  },
  {
   "cell_type": "markdown",
   "metadata": {},
   "source": [
    "First, there is some boilerplate:\n",
    "- Install the `hca` package\n",
    "- Create a client to the HCA Data Storage System\n",
    "- Point that client to the staging DSS. (There isn't a production matrix service just yet.)"
   ]
  },
  {
   "cell_type": "code",
   "execution_count": null,
   "metadata": {
    "scrolled": true
   },
   "outputs": [],
   "source": [
    "import sys\n",
    "!{sys.executable} -m pip install hca\n",
    "import hca.dss\n",
    "client = hca.dss.DSSClient()\n",
    "client.host = 'https://dss.staging.data.humancellatlas.org/v1'"
   ]
  },
  {
   "cell_type": "markdown",
   "metadata": {},
   "source": [
    "Now, prepare a query for some bundles in the DSS. Queries are written using [Elasticsearch syntax](https://www.elastic.co/guide/en/elasticsearch/reference/current/query-dsl.html). The query below find bundles by experiment type and species. We find that most serious users have committed the Experimental Factor Ontology and NCBI Taxonomy Database to memory, but in case not, this finds [Smart-seq2](https://www.ebi.ac.uk/ols/ontologies/efo/terms?iri=http%3A%2F%2Fwww.ebi.ac.uk%2Fefo%2FEFO_0008931) data from [humans](https://www.ncbi.nlm.nih.gov/Taxonomy/Browser/wwwtax.cgi?id=9606). It also only returns \"analysis\" bundles, that is bundles that are produced by a secondary analysis pipeline and should have an expression matrix."
   ]
  },
  {
   "cell_type": "code",
   "execution_count": null,
   "metadata": {},
   "outputs": [],
   "source": [
    "es_query = {\n",
    "  \"query\": {\n",
    "    \"bool\": {\n",
    "      \"must\": [\n",
    "        {\n",
    "          \"match\": {\n",
    "            # Smart-seq2\n",
    "            \"files.library_preparation_protocol_json.library_construction_approach.ontology\": \"EFO:0008931\"\n",
    "          }\n",
    "        },\n",
    "        {\n",
    "          \"match\": {\n",
    "            \"files.sequencing_protocol_json.paired_end\": True\n",
    "          }\n",
    "        },\n",
    "        {\n",
    "          \"match\": {\n",
    "            # Human\n",
    "            \"files.donor_organism_json.biomaterial_core.ncbi_taxon_id\": 9606\n",
    "          }\n",
    "        },\n",
    "        {\n",
    "          \"match\": {\n",
    "            # Only bundles with expression matrices\n",
    "            \"files.analysis_process_json.process_type.text\": \"analysis\"\n",
    "          }\n",
    "        }\n",
    "      ]\n",
    "    }\n",
    "  }\n",
    "}"
   ]
  },
  {
   "cell_type": "markdown",
   "metadata": {},
   "source": [
    "Now, execute the query. We'll just take the first 100 results, and we want the bundle \"fully-qualified ids\" to pass to the matrix service API."
   ]
  },
  {
   "cell_type": "code",
   "execution_count": null,
   "metadata": {},
   "outputs": [],
   "source": [
    "import itertools\n",
    "search_results = list(itertools.islice(client.post_search.iterate(replica=\"aws\", es_query=es_query), 100))\n",
    "bundle_fqids = [r[\"bundle_fqid\"] for r in search_results]\n",
    "print(bundle_fqids[0])"
   ]
  },
  {
   "cell_type": "markdown",
   "metadata": {},
   "source": [
    "Submit the resulting list of bundle fqids to the matrix service. Also, for this case, request the output matrix in [loom format](https://linnarssonlab.org/loompy/index.html). The matrix service should give us a response with a `request_id` that we can use to check when the matrix is ready."
   ]
  },
  {
   "cell_type": "code",
   "execution_count": null,
   "metadata": {},
   "outputs": [],
   "source": [
    "import json, requests\n",
    "matrix_query_url = \"https://matrix.staging.data.humancellatlas.org/v0/matrix\"\n",
    "post_response = requests.post(matrix_query_url, data=json.dumps({\"bundle_fqids\": bundle_fqids, \"format\": \"loom\"}), headers={\"Content-Type\": \"application/json\"})\n",
    "print(post_response.json())"
   ]
  },
  {
   "cell_type": "markdown",
   "metadata": {},
   "source": [
    "Wait until the request is ready. When it is, download the matrix from the url in the response from the matrix service. This could take a little while."
   ]
  },
  {
   "cell_type": "code",
   "execution_count": null,
   "metadata": {},
   "outputs": [],
   "source": [
    "import os, time\n",
    "while True:\n",
    "    get_response = requests.get(matrix_query_url + '/' + post_response.json()[\"request_id\"])\n",
    "    if get_response.json().get(\"status\", \"In Progress\") == \"In Progress\":\n",
    "        time.sleep(10)\n",
    "    else:\n",
    "        break\n",
    "matrix_url = get_response.json()[\"matrix_location\"]\n",
    "!wget {matrix_url}\n",
    "local_matrix_path = os.path.basename(matrix_url)"
   ]
  },
  {
   "cell_type": "markdown",
   "metadata": {},
   "source": [
    "Finally, let's do something with this matrix. Here we'll open it with [scanpy](https://scanpy.readthedocs.io/en/latest/) and print a graph of this most highly expressed genes."
   ]
  },
  {
   "cell_type": "code",
   "execution_count": null,
   "metadata": {},
   "outputs": [],
   "source": [
    "!{sys.executable} -m pip install scanpy\n",
    "import scanpy.api as sc\n",
    "adata = sc.read_loom(local_matrix_path)\n",
    "sc.pl.highest_expr_genes(adata, n_top=20)"
   ]
  }
 ],
 "metadata": {
  "kernelspec": {
   "display_name": "Python 3",
   "language": "python",
   "name": "python3"
  },
  "language_info": {
   "codemirror_mode": {
    "name": "ipython",
    "version": 3
   },
   "file_extension": ".py",
   "mimetype": "text/x-python",
   "name": "python",
   "nbconvert_exporter": "python",
   "pygments_lexer": "ipython3",
   "version": "3.6.6"
  }
 },
 "nbformat": 4,
 "nbformat_minor": 2
}

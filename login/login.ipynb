{
 "cells": [
  {
   "cell_type": "markdown",
   "metadata": {},
   "source": [
    "# Login to the DSS"
   ]
  },
  {
   "cell_type": "markdown",
   "metadata": {},
   "source": [
    "## Interactively\n",
    "\n",
    "One of the first things you will need to do to use the Human Cell Atlas command line interface (CLI) is to log in with your Human Cell Atlas account.\n",
    "\n",
    "Running the following command in a terminal will open a browser, and will direct you to an Auth0 URL that will ask you to authenticate yourself using one of atuhentication providers.\n",
    "\n",
    "To do this, run the following command at the command line:\n",
    "\n",
    "```\n",
    "hca dss login\n",
    "```\n",
    "\n",
    "Running via a terminal tells you to `Please visit this URL to authorize this application: <url>`\n",
    "\n",
    "That URL directs you to a Google sign-in page, which then redirects to to `localhost:8080`."
   ]
  },
  {
   "cell_type": "markdown",
   "metadata": {},
   "source": [
    "## Remotely\n",
    "\n",
    "If you're working in a notebook, VM, EC2 instance, or other remote host where you can't access a browser, you can run the following command instead:\n",
    "\n",
    "```\n",
    "hca dss login --remote\n",
    "```\n",
    "\n",
    "If you are running a Jupyter notebook, enter the following into a cell to run the command using bash magic:\n",
    "\n",
    "```\n",
    "%%bash\n",
    "hca dss login --remote\n",
    "```"
   ]
  }
 ],
 "metadata": {
  "kernelspec": {
   "display_name": "Python 3",
   "language": "python",
   "name": "python3"
  },
  "language_info": {
   "codemirror_mode": {
    "name": "ipython",
    "version": 3
   },
   "file_extension": ".py",
   "mimetype": "text/x-python",
   "name": "python",
   "nbconvert_exporter": "python",
   "pygments_lexer": "ipython3",
   "version": "3.6.9"
  }
 },
 "nbformat": 4,
 "nbformat_minor": 2
}

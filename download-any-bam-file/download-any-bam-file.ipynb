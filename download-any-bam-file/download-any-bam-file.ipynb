{
 "cells": [
  {
   "cell_type": "markdown",
   "metadata": {},
   "source": [
    "# Download Any BAM File"
   ]
  },
  {
   "cell_type": "markdown",
   "metadata": {},
   "source": [
    "In this notebook we show how to search all bundles in the Human Cell Atlas Data Store (DSS) to find any bundle with a BAM file, and download it. This will allow us to see an example of aligned data in the HCA."
   ]
  },
  {
   "cell_type": "markdown",
   "metadata": {},
   "source": [
    "We start by creating a DSS client:"
   ]
  },
  {
   "cell_type": "code",
   "execution_count": 1,
   "metadata": {},
   "outputs": [],
   "source": [
    "import hca, hca.dss, json\n",
    "client = hca.dss.DSSClient()"
   ]
  },
  {
   "cell_type": "markdown",
   "metadata": {},
   "source": [
    "## Finding Bundles with BAM Files\n",
    "\n",
    "The DSS client we created has a method called `get_file()` that is the function we will ultimately use to download the file, but if we print its help string, we see that we need a UUID to download a file:"
   ]
  },
  {
   "cell_type": "code",
   "execution_count": 2,
   "metadata": {},
   "outputs": [
    {
     "name": "stdout",
     "output_type": "stream",
     "text": [
      "Help on method get_file in module hca.util:\n",
      "\n",
      "get_file(client, uuid:str=None, replica:str=None, version:Union[str, NoneType]=None, token:Union[str, NoneType]=None, directurl:Union[str, NoneType]=None, content_disposition:Union[str, NoneType]=None) method of builtins.type instance\n",
      "    Retrieve a file given a UUID and optionally a version.\n",
      "    \n",
      "    \n",
      "    .. admonition:: Streaming\n",
      "    \n",
      "     Use ``DSSClient.get_file.stream(**kwargs)`` to get a ``requests.Response`` object whose body has not been\n",
      "     read yet. This allows streaming large file bodies:\n",
      "    \n",
      "     .. code-block:: python\n",
      "    \n",
      "        fid = \"7a8fbda7-d470-467a-904e-5c73413fab3e\"\n",
      "        with DSSClient().get_file.stream(uuid=fid, replica=\"aws\") as fh:\n",
      "            while True:\n",
      "                chunk = fh.raw.read(1024)\n",
      "                ...\n",
      "                if not chunk:\n",
      "                    break\n",
      "    \n",
      "     The keyword arguments for ``DSSClient.get_file.stream()`` are identical to the arguments for\n",
      "     ``DSSClient.get_file()`` listed here.\n",
      "    :param uuid:  A RFC4122-compliant ID for the file. \n",
      "    :type uuid: <class 'str'>\n",
      "    :param replica:  Replica to fetch from. \n",
      "    :type replica: <class 'str'>\n",
      "    :param version:  Timestamp of file creation in DSS_VERSION format.  If this is not provided, the latest version is returned. \n",
      "    :type version: typing.Union[str, NoneType]\n",
      "    :param token:  Token to manage retries.  End users constructing queries should not set this parameter. \n",
      "    :type token: typing.Union[str, NoneType]\n",
      "    :param directurl:  When set to true, the response will contain API-specific URLs that are tied to the specified replica, for example ``gs://bucket/object`` or ``s3://bucket/object``  The use of presigned URLs is recommended for data access. Cloud native URLs are currently provided for a limited set of use cases and may not be provided in the future. If cloud native URLs are required, please contact the data store team regarding the credentials necessary to use them. \n",
      "    :type directurl: typing.Union[str, NoneType]\n",
      "    :param content_disposition:  Optional and does not work when directurl=true (only works with the default presigned url response).  If this parameter is provided, the response from fetching the returned presigned url will include the specified Content-Disposition header.  This can be useful to indicate to a browser that a file should be downloaded rather than opened in a new tab, and can also supply the original filename in the response.  Example:  .. code::      content_disposition=\"attachment; filename=data.json\" \n",
      "    :type content_disposition: typing.Union[str, NoneType]\n",
      "    \n",
      "    \n",
      "    \n",
      "    Given a file UUID, return the latest version of that file.  If the version is provided, that version of the file is returned instead.\n",
      "    Headers will contain the data store metadata for the file.\n",
      "    This endpoint returns a HTTP redirect to another HTTP endpoint with the file contents.\n",
      "\n"
     ]
    }
   ],
   "source": [
    "help(client.get_file)"
   ]
  },
  {
   "cell_type": "markdown",
   "metadata": {},
   "source": [
    "## Writing the ElasticSearch Query\n",
    "\n",
    "To find BAM files, we can run an ElasticSearch wildcard query, and search for files listed in each bundle's manifest for patterns matching `*.bam`. See the [\"ElasticSearch Queries\"](../elasticsearch-queries/elasticsearch-queries.ipynb) notebook for details about ElasticSearch wildcard and regular expression queries.\n",
    "\n",
    "We will use the `post_search()` method and pass the ElasticSearch query as an argument. We want to use a wildcard search to find all bundles whose file manifest contains a `*.bam` file. We can run an empty search to determine the metadata structure, including the file manifest, to see how to assemble the ElasticSearch query:"
   ]
  },
  {
   "cell_type": "code",
   "execution_count": 3,
   "metadata": {},
   "outputs": [],
   "source": [
    "#print(help(client.post_search))"
   ]
  },
  {
   "cell_type": "code",
   "execution_count": 4,
   "metadata": {},
   "outputs": [],
   "source": [
    "bundles = client.post_search(es_query={}, replica='aws', output_format='raw')\n",
    "\n",
    "first_bundle = bundles['results'][0]"
   ]
  },
  {
   "cell_type": "markdown",
   "metadata": {},
   "source": [
    "The file manifest, after some exploration, can be found under `metadata.manifest.files`:"
   ]
  },
  {
   "cell_type": "code",
   "execution_count": 5,
   "metadata": {},
   "outputs": [
    {
     "name": "stdout",
     "output_type": "stream",
     "text": [
      "[\n",
      "    {\n",
      "        \"content-type\": \"application/json; dcp-type=\\\"metadata/biomaterial\\\"\",\n",
      "        \"crc32c\": \"e51ced73\",\n",
      "        \"indexed\": true,\n",
      "        \"name\": \"cell_suspension_0.json\",\n",
      "        \"s3-etag\": \"4b126057ce7abdc231255a8bf7784f8a\",\n",
      "        \"sha1\": \"5dc657584a0fb00b1a918e0ecfc4701edf569ca1\",\n",
      "        \"sha256\": \"775d6a9a562a6e818a3de5741c48dfc17d304b942f448da760b3996a139a5876\",\n",
      "        \"size\": 841,\n",
      "        \"uuid\": \"ba96ea2d-c7e2-4c47-9561-418a849f93d0\",\n",
      "        \"version\": \"2019-07-09T232055.867000Z\"\n",
      "    },\n",
      "    {\n",
      "        \"content-type\": \"application/json; dcp-type=\\\"metadata/biomaterial\\\"\",\n",
      "        \"crc32c\": \"6c24cc69\",\n",
      "        \"indexed\": true,\n",
      "        \"name\": \"specimen_from_organism_0.json\",\n",
      "        \"s3-etag\": \"de2f1daec3d270806b2d5590eabb3dfc\",\n",
      "        \"sha1\": \"077305bae96361f9cd453b2066ffb10d4fb6977f\",\n",
      "        \"sha256\": \"40b34fd3f409255888f3065b7d1f9735538713eac567e647d74043dc44eb4777\",\n",
      "        \"size\": 861,\n",
      "        \"uuid\": \"2436de6c-82fa-4434-8cec-f73cde7b01cb\",\n",
      "        \"version\": \"2019-07-09T223746.665000Z\"\n",
      "    },\n",
      "    {\n",
      "        \"content-type\": \"application/json; dcp-type=\\\"metadata/biomaterial\\\"\",\n",
      "        \"crc32c\": \"811a3cdb\",\n",
      "        \"indexed\": true,\n",
      "        \"name\": \"donor_organism_0.json\",\n",
      "        \"s3-etag\": \"8118121f4b1c02b91ff0ae926c42d2c3\",\n",
      "        \"sha1\": \"1626d0ce2ef617c73da9f5c860ceb7fe718031bf\",\n",
      "        \"sha256\": \"8b75452e8ac0c2cb92c45932e9e41ff2790e1c228651eeb59ecc1e22781a313d\",\n",
      "        \"size\": 1455,\n",
      "        \"uuid\": \"278b968f-13eb-4983-995a-4ba08771248a\",\n",
      "        \"version\": \"2019-07-09T221323.206000Z\"\n",
      "    },\n",
      "    {\n",
      "        \"content-type\": \"application/json; dcp-type=\\\"metadata/file\\\"\",\n",
      "        \"crc32c\": \"a4e2caa6\",\n",
      "        \"indexed\": true,\n",
      "        \"name\": \"sequence_file_0.json\",\n",
      "        \"s3-etag\": \"d8e118f824e84c242ce82b1bd4a3519d\",\n",
      "        \"sha1\": \"e0132cee448ae9afccd7158ea30f19d0c2b17aa1\",\n",
      "        \"sha256\": \"548bd20983d6deed7c94e254057f0c9ffac73210530b4a3117160ad56edcf546\",\n",
      "        \"size\": 535,\n",
      "        \"uuid\": \"7726d628-118b-451c-83dc-871a7ea9b1ca\",\n",
      "        \"version\": \"2019-07-10T152455.421000Z\"\n",
      "    },\n",
      "    {\n",
      "        \"content-type\": \"application/json; dcp-type=\\\"metadata/file\\\"\",\n",
      "        \"crc32c\": \"ab576f66\",\n",
      "        \"indexed\": true,\n",
      "        \"name\": \"sequence_file_1.json\",\n",
      "        \"s3-etag\": \"45a137fe58ab4c4e3e4df1d29bc13404\",\n",
      "        \"sha1\": \"d5eab18dd0237627a9e293de5dad0c9939a414ee\",\n",
      "        \"sha256\": \"eae7639657dfc802fa1a713411ef9c7defef1db8fb3d479a37ee5d6ac0c0f51c\",\n",
      "        \"size\": 535,\n",
      "        \"uuid\": \"437ab7ab-3799-462f-8ec5-c2865555daa3\",\n",
      "        \"version\": \"2019-07-10T152530.419000Z\"\n",
      "    },\n",
      "    {\n",
      "        \"content-type\": \"application/json; dcp-type=\\\"metadata/project\\\"\",\n",
      "        \"crc32c\": \"e2b599b7\",\n",
      "        \"indexed\": true,\n",
      "        \"name\": \"project_0.json\",\n",
      "        \"s3-etag\": \"a27d8980b701b4fe7a551190f8540ee0\",\n",
      "        \"sha1\": \"c3cc63ac906c3d04f23395a367a7383059fa9e3c\",\n",
      "        \"sha256\": \"ba4df5b43e0bdff717f6d81b5aaaa941987fb50d3a91498b47a49353abbbedee\",\n",
      "        \"size\": 6366,\n",
      "        \"uuid\": \"e0009214-c0a0-4a7b-96e2-d6a83e966ce0\",\n",
      "        \"version\": \"2019-07-09T221320.395000Z\"\n",
      "    },\n",
      "    {\n",
      "        \"content-type\": \"application/json; dcp-type=\\\"metadata/protocol\\\"\",\n",
      "        \"crc32c\": \"48b46ee4\",\n",
      "        \"indexed\": true,\n",
      "        \"name\": \"library_preparation_protocol_0.json\",\n",
      "        \"s3-etag\": \"178201e2ddfcfaf1f83a1cc93746ce5a\",\n",
      "        \"sha1\": \"a4ce5f58c2c2365dc7db0d1f0dcc8054775d7746\",\n",
      "        \"sha256\": \"d5ffbc2575c154d7ca0ee84cdc778dfd4589549440222119b4cfa122079d58f3\",\n",
      "        \"size\": 901,\n",
      "        \"uuid\": \"47d78ecd-e946-4591-9ed4-acbbdbdf82a1\",\n",
      "        \"version\": \"2019-07-09T210434.114000Z\"\n",
      "    },\n",
      "    {\n",
      "        \"content-type\": \"application/json; dcp-type=\\\"metadata/protocol\\\"\",\n",
      "        \"crc32c\": \"7f5baa13\",\n",
      "        \"indexed\": true,\n",
      "        \"name\": \"sequencing_protocol_0.json\",\n",
      "        \"s3-etag\": \"59e4ed4ecdacb4bc9662ff4304f6ba91\",\n",
      "        \"sha1\": \"71bc2e75cea6b3ccada9f8fc784f46225127708e\",\n",
      "        \"sha256\": \"b7b21fc6edc81738145dbda7c41d8b1da27f80277f5f07cc00f5c72e16ef99e7\",\n",
      "        \"size\": 918,\n",
      "        \"uuid\": \"571cc0c7-4dc2-443b-93f4-0ce4af08cf6d\",\n",
      "        \"version\": \"2019-07-09T210434.377000Z\"\n",
      "    },\n",
      "    {\n",
      "        \"content-type\": \"application/json; dcp-type=\\\"metadata/protocol\\\"\",\n",
      "        \"crc32c\": \"2f49c4de\",\n",
      "        \"indexed\": true,\n",
      "        \"name\": \"collection_protocol_0.json\",\n",
      "        \"s3-etag\": \"2836afecc83df6dec25887fcc02f7128\",\n",
      "        \"sha1\": \"5de3b743ca7bc4b88bbe6fce8beae37466403a4d\",\n",
      "        \"sha256\": \"f76e626daeb3c70862d1ade728bbe054be238e2808a3f0fb9214dbd8b9aa43a0\",\n",
      "        \"size\": 887,\n",
      "        \"uuid\": \"785bd27d-558f-4684-80cf-d04b7790be68\",\n",
      "        \"version\": \"2019-07-09T210433.277000Z\"\n",
      "    },\n",
      "    {\n",
      "        \"content-type\": \"application/json; dcp-type=\\\"metadata/protocol\\\"\",\n",
      "        \"crc32c\": \"4c06f727\",\n",
      "        \"indexed\": true,\n",
      "        \"name\": \"enrichment_protocol_0.json\",\n",
      "        \"s3-etag\": \"5321084af0c4cea1e51dbb5cd67b2181\",\n",
      "        \"sha1\": \"03f211eae58453b067e393df92d2c7902c02a84a\",\n",
      "        \"sha256\": \"fcc4b43afe19a65a6b90989e8a088e595511326878903a43fcea05826700f67e\",\n",
      "        \"size\": 833,\n",
      "        \"uuid\": \"56eccd10-1cb0-46b5-8008-5f306c5ab6d4\",\n",
      "        \"version\": \"2019-07-09T210433.854000Z\"\n",
      "    },\n",
      "    {\n",
      "        \"content-type\": \"application/json; dcp-type=\\\"metadata/process\\\"\",\n",
      "        \"crc32c\": \"fea10f32\",\n",
      "        \"indexed\": true,\n",
      "        \"name\": \"process_0.json\",\n",
      "        \"s3-etag\": \"3934c3a428bad588f9cb789dd922531d\",\n",
      "        \"sha1\": \"0b59566e2f18278a3c4b43a2e7df89d0bfa5ab79\",\n",
      "        \"sha256\": \"770dcd9f2a63998d50a8a5947c7c36492a2c26b9e5c9fe6e55949f86cd940c38\",\n",
      "        \"size\": 377,\n",
      "        \"uuid\": \"c144c8cc-3048-4fda-a3e0-fdca1743aa62\",\n",
      "        \"version\": \"2019-07-10T005013.668000Z\"\n",
      "    },\n",
      "    {\n",
      "        \"content-type\": \"application/json; dcp-type=\\\"metadata/process\\\"\",\n",
      "        \"crc32c\": \"b21f3cea\",\n",
      "        \"indexed\": true,\n",
      "        \"name\": \"process_1.json\",\n",
      "        \"s3-etag\": \"3e8604fe3389cde0c568966ff90784fa\",\n",
      "        \"sha1\": \"cceb18a181ae0cfb4f7accf4430fb49441ed5f1e\",\n",
      "        \"sha256\": \"73652e16fb0de49157923099431a39d076707f08b46831cfb984ca7749aef037\",\n",
      "        \"size\": 380,\n",
      "        \"uuid\": \"bd0a00e8-eeed-4c04-abd5-7b3212fa981c\",\n",
      "        \"version\": \"2019-07-10T001250.697000Z\"\n",
      "    },\n",
      "    {\n",
      "        \"content-type\": \"application/json; dcp-type=\\\"metadata/process\\\"\",\n",
      "        \"crc32c\": \"d7d43139\",\n",
      "        \"indexed\": true,\n",
      "        \"name\": \"process_2.json\",\n",
      "        \"s3-etag\": \"fad68356e6bf63c4327f1f3b580f497a\",\n",
      "        \"sha1\": \"117f7e8a215a9513b3c9e7914a8e3aea08bd4c47\",\n",
      "        \"sha256\": \"d02e6a1b2d1afee2c1a26d74f5c3cb5ba0dfaeabc370984b4f4d5c52b20ccbd5\",\n",
      "        \"size\": 378,\n",
      "        \"uuid\": \"fce3ec06-2d04-4355-a8d1-ab25cfaf9507\",\n",
      "        \"version\": \"2019-07-10T000838.833000Z\"\n",
      "    },\n",
      "    {\n",
      "        \"content-type\": \"application/json; dcp-type=\\\"metadata/links\\\"\",\n",
      "        \"crc32c\": \"5e1e8829\",\n",
      "        \"indexed\": true,\n",
      "        \"name\": \"links.json\",\n",
      "        \"s3-etag\": \"383a63488f3cbd045da97d43528fa33a\",\n",
      "        \"sha1\": \"491271630f534b9b8f39908ecb02eda2b9abce79\",\n",
      "        \"sha256\": \"061419b16bac390590db9e0e1deb493b94e3a11bcdc6a3253e83521b0be32347\",\n",
      "        \"size\": 2081,\n",
      "        \"uuid\": \"9e0a2c0a-ae0d-4349-b3d0-3189a2930508\",\n",
      "        \"version\": \"2019-08-02T022130.857345Z\"\n",
      "    },\n",
      "    {\n",
      "        \"content-type\": \"application/gzip; dcp-type=data\",\n",
      "        \"crc32c\": \"64a1f0d8\",\n",
      "        \"indexed\": false,\n",
      "        \"name\": \"SRR6520067_1.fastq.gz\",\n",
      "        \"s3-etag\": \"33ef86d19b0e86d5ed1d1989c1dbf21e\",\n",
      "        \"sha1\": \"3d77b76a74e5bdf0fa99e6eb1000b028a8f8ab96\",\n",
      "        \"sha256\": \"f7bcf27cad4c2e23c82036820e3aceb4a5d74b396425b692a02d8298074377ee\",\n",
      "        \"size\": 44321552,\n",
      "        \"uuid\": \"de204c6b-97be-44dd-bdb8-89af19a717b9\",\n",
      "        \"version\": \"2019-08-02T022131.233758Z\"\n",
      "    },\n",
      "    {\n",
      "        \"content-type\": \"application/gzip; dcp-type=data\",\n",
      "        \"crc32c\": \"1f0971e6\",\n",
      "        \"indexed\": false,\n",
      "        \"name\": \"SRR6520067_2.fastq.gz\",\n",
      "        \"s3-etag\": \"97b4aade52e6eedb297aab192bc27e73\",\n",
      "        \"sha1\": \"871dba6bb574f00cfd984e9e16221d67e5d41dc3\",\n",
      "        \"sha256\": \"b1d774b2687e2a0b72e5d7643899d8696a348f0c1e04cdb0808de91d593e581d\",\n",
      "        \"size\": 47430937,\n",
      "        \"uuid\": \"5bebcad3-22b0-4383-b16a-4c1a8c067677\",\n",
      "        \"version\": \"2019-08-02T022131.806574Z\"\n",
      "    }\n",
      "]\n"
     ]
    }
   ],
   "source": [
    "print(json.dumps(\n",
    "    first_bundle['metadata']['manifest']['files'],\n",
    "    indent=4\n",
    "))"
   ]
  },
  {
   "cell_type": "markdown",
   "metadata": {},
   "source": [
    "When we write an ElasticSearch query, we can use a wildcard search to match bundles where the field\n",
    "\n",
    "```\n",
    "manifest.files.name\n",
    "```\n",
    "\n",
    "matches the wildcard expression `*.bam`."
   ]
  },
  {
   "cell_type": "code",
   "execution_count": 6,
   "metadata": {},
   "outputs": [],
   "source": [
    "bam_query = {\n",
    "    \"query\": {\n",
    "        \"wildcard\": {\n",
    "            \"manifest.files.name\" : {\n",
    "                \"value\": \"*.bam\"\n",
    "            }\n",
    "        }\n",
    "    }\n",
    "}"
   ]
  },
  {
   "cell_type": "markdown",
   "metadata": {},
   "source": [
    "## Running the ElasticSearch Query\n",
    "\n",
    "Now we can write a function that will call `post_search.iterate()` to iterate over the ElasticSearch results to extract the file UUID information for each BAM file, so that we can use the DSS API to download BAM files.\n",
    "\n",
    "We also implement this function as a generator using the `yield` keyword so that it evaluates lazily."
   ]
  },
  {
   "cell_type": "code",
   "execution_count": 7,
   "metadata": {},
   "outputs": [],
   "source": [
    "def find_bam():\n",
    "    for bundle in client.post_search.iterate(es_query = bam_query, replica = 'aws', output_format = 'raw'):\n",
    "        # Use the files list Use that to get the bundle information\n",
    "        for file_dict in bundle[\"metadata\"][\"manifest\"][\"files\"]:\n",
    "            if file_dict[\"name\"].endswith(\".bam\"):\n",
    "                yield file_dict"
   ]
  },
  {
   "cell_type": "markdown",
   "metadata": {},
   "source": [
    "This is a generator, so we can test it by running `next(find_bam())`, which should return a JSON containing information about a BAM file from the first result of our ElasticSearch query."
   ]
  },
  {
   "cell_type": "code",
   "execution_count": 8,
   "metadata": {},
   "outputs": [
    {
     "name": "stdout",
     "output_type": "stream",
     "text": [
      "{\n",
      "    \"content-type\": \"application/gzip; dcp-type=data\",\n",
      "    \"crc32c\": \"74405869\",\n",
      "    \"indexed\": false,\n",
      "    \"name\": \"ceae7e4d-6871-4d47-b2af-f3c9a5b3f5db_qc.bam\",\n",
      "    \"s3-etag\": \"d86563efae1f97a11215ab8ac08ff57d-3\",\n",
      "    \"sha1\": \"d497da691495b27de9a304b4b0e1853203fe3a6a\",\n",
      "    \"sha256\": \"14b700a3d4e3643cf781fb4641bdaa6dbc252d31d9e5a465acc23f30d61237d7\",\n",
      "    \"size\": 176911395,\n",
      "    \"uuid\": \"1907c7b9-55e5-47d5-a54c-85423e942523\",\n",
      "    \"version\": \"2019-05-18T173113.216367Z\"\n",
      "}\n"
     ]
    }
   ],
   "source": [
    "bam_generator = find_bam()\n",
    "bam_file = next(bam_generator)\n",
    "print(json.dumps(bam_file, indent=4))"
   ]
  },
  {
   "cell_type": "markdown",
   "metadata": {},
   "source": [
    "Check the size to make sure this BAM file is less than 1 GB (since we will download it for this tutorial), and if it is too large, get the next BAM file returned by `find_bam()`:"
   ]
  },
  {
   "cell_type": "code",
   "execution_count": 9,
   "metadata": {},
   "outputs": [
    {
     "name": "stdout",
     "output_type": "stream",
     "text": [
      "BAM file ceae7e4d-6871-4d47-b2af-f3c9a5b3f5db_qc.bam is 0.16 GB\n"
     ]
    }
   ],
   "source": [
    "B2GB = 1/1024/1024/1024\n",
    "size_in_gb = bam_file['size']*B2GB\n",
    "print(\"BAM file %s is %0.2f GB\"%(bam_file['name'], bam_file['size']*B2GB))\n",
    "\n",
    "while size_in_gb > 1.0:\n",
    "    print(\" ------ This BAM file is too large! continuing to look for another BAM file ------\")\n",
    "    bam_file = next(bam_generator)\n",
    "    size_in_gb = bam_file['size']*B2GB\n",
    "    print(\"BAM file %s is %0.2f GB\"%(bam_file['name'], bam_file['size']*B2GB))"
   ]
  },
  {
   "cell_type": "markdown",
   "metadata": {},
   "source": [
    "## Downloading the BAM File\n",
    "\n",
    "We can now use the `bam_file` information to download the file. We call the `client.get_file()` method and pass the UUID of the file:"
   ]
  },
  {
   "cell_type": "code",
   "execution_count": 10,
   "metadata": {},
   "outputs": [],
   "source": [
    "bam_file = client.get_file(uuid=bam_file['uuid'], replica=\"aws\")"
   ]
  },
  {
   "cell_type": "code",
   "execution_count": 11,
   "metadata": {},
   "outputs": [],
   "source": [
    "#print(type(bam_file)) # <class 'bytes'>"
   ]
  },
  {
   "cell_type": "markdown",
   "metadata": {},
   "source": [
    "This is potentially a large file, so we write the file in chunks:"
   ]
  },
  {
   "cell_type": "code",
   "execution_count": 12,
   "metadata": {},
   "outputs": [],
   "source": [
    "with open(\"Aligned.sortedByCoord.out.bam\", \"wb\") as output_bam:\n",
    "    # Write the file in chunks\n",
    "    blocksize = 1000000000\n",
    "    for i in range(0, len(bam_file), blocksize):\n",
    "        output_bam.write(bam_file[i:i+blocksize])"
   ]
  },
  {
   "cell_type": "markdown",
   "metadata": {},
   "source": [
    "Now test the file to ensure we can read it using the `pysam` module:"
   ]
  },
  {
   "cell_type": "code",
   "execution_count": 13,
   "metadata": {},
   "outputs": [
    {
     "name": "stdout",
     "output_type": "stream",
     "text": [
      "@HD\tVN:1.0\tSO:coordinate\n",
      "@SQ\tSN:chr1\tLN:248956422\n",
      "@SQ\tSN:chr2\tLN:242193529\n",
      "@SQ\tSN:chr3\tLN:198295559\n",
      "@SQ\tSN:chr4\tLN:190214555\n",
      "@SQ\tSN:chr5\tLN:181538259\n",
      "@SQ\tSN:chr6\tLN:170805979\n",
      "@SQ\tSN:chr7\tLN:159345973\n",
      "@SQ\tSN:chr8\tLN:145138636\n",
      "@SQ\tSN:chr9\tLN:138394717\n",
      "@SQ\tSN:chr10\tLN:133797422\n",
      "@SQ\tSN:chr11\tLN:135086622\n",
      "@SQ\tSN:chr12\tLN:133275309\n",
      "@SQ\tSN:chr13\tLN:114364328\n",
      "@SQ\tSN:chr14\tLN:107043718\n",
      "@SQ\tSN:chr15\tLN:101991189\n",
      "@SQ\tSN:chr16\tLN:90338345\n",
      "@SQ\tSN:chr17\tLN:83257441\n",
      "@SQ\tSN:chr18\tLN:80373285\n",
      "@SQ\tSN:chr19\tLN:58617616\n",
      "@SQ\tSN:chr20\tLN:64444167\n",
      "@SQ\tSN:chr21\tLN:46709983\n",
      "@SQ\tSN:chr22\tLN:50818468\n",
      "@SQ\tSN:chrX\tLN:156040895\n",
      "@SQ\tSN:chrY\tLN:57227415\n",
      "@SQ\tSN:chrM\tLN:16569\n",
      "@SQ\tSN:GL000008.2\tLN:209709\n",
      "@SQ\tSN:GL000009.2\tLN:201709\n",
      "@SQ\tSN:GL000194.1\tLN:191469\n",
      "@SQ\tSN:GL000195.1\tLN:182896\n",
      "@SQ\tSN:GL000205.2\tLN:185591\n",
      "@SQ\tSN:GL000208.1\tLN:92689\n",
      "@SQ\tSN:GL000213.1\tLN:164239\n",
      "@SQ\tSN:GL000214.1\tLN:137718\n",
      "@SQ\tSN:GL000216.2\tLN:176608\n",
      "@SQ\tSN:GL000218.1\tLN:161147\n",
      "@SQ\tSN:GL000219.1\tLN:179198\n",
      "@SQ\tSN:GL000220.1\tLN:161802\n",
      "@SQ\tSN:GL000221.1\tLN:155397\n",
      "@SQ\tSN:GL000224.1\tLN:179693\n",
      "@SQ\tSN:GL000225.1\tLN:211173\n",
      "@SQ\tSN:GL000226.1\tLN:15008\n",
      "@SQ\tSN:KI270302.1\tLN:2274\n",
      "@SQ\tSN:KI270303.1\tLN:1942\n",
      "@SQ\tSN:KI270304.1\tLN:2165\n",
      "@SQ\tSN:KI270305.1\tLN:1472\n",
      "@SQ\tSN:KI270310.1\tLN:1201\n",
      "@SQ\tSN:KI270311.1\tLN:12399\n",
      "@SQ\tSN:KI270312.1\tLN:998\n",
      "@SQ\tSN:KI270315.1\tLN:2276\n",
      "@SQ\tSN:KI270316.1\tLN:1444\n",
      "@SQ\tSN:KI270317.1\tLN:37690\n",
      "@SQ\tSN:KI270320.1\tLN:4416\n",
      "@SQ\tSN:KI270322.1\tLN:21476\n",
      "@SQ\tSN:KI270329.1\tLN:1040\n",
      "@SQ\tSN:KI270330.1\tLN:1652\n",
      "@SQ\tSN:KI270333.1\tLN:2699\n",
      "@SQ\tSN:KI270334.1\tLN:1368\n",
      "@SQ\tSN:KI270335.1\tLN:1048\n",
      "@SQ\tSN:KI270336.1\tLN:1026\n",
      "@SQ\tSN:KI270337.1\tLN:1121\n",
      "@SQ\tSN:KI270338.1\tLN:1428\n",
      "@SQ\tSN:KI270340.1\tLN:1428\n",
      "@SQ\tSN:KI270362.1\tLN:3530\n",
      "@SQ\tSN:KI270363.1\tLN:1803\n",
      "@SQ\tSN:KI270364.1\tLN:2855\n",
      "@SQ\tSN:KI270366.1\tLN:8320\n",
      "@SQ\tSN:KI270371.1\tLN:2805\n",
      "@SQ\tSN:KI270372.1\tLN:1650\n",
      "@SQ\tSN:KI270373.1\tLN:1451\n",
      "@SQ\tSN:KI270374.1\tLN:2656\n",
      "@SQ\tSN:KI270375.1\tLN:2378\n",
      "@SQ\tSN:KI270376.1\tLN:1136\n",
      "@SQ\tSN:KI270378.1\tLN:1048\n",
      "@SQ\tSN:KI270379.1\tLN:1045\n",
      "@SQ\tSN:KI270381.1\tLN:1930\n",
      "@SQ\tSN:KI270382.1\tLN:4215\n",
      "@SQ\tSN:KI270383.1\tLN:1750\n",
      "@SQ\tSN:KI270384.1\tLN:1658\n",
      "@SQ\tSN:KI270385.1\tLN:990\n",
      "@SQ\tSN:KI270386.1\tLN:1788\n",
      "@SQ\tSN:KI270387.1\tLN:1537\n",
      "@SQ\tSN:KI270388.1\tLN:1216\n",
      "@SQ\tSN:KI270389.1\tLN:1298\n",
      "@SQ\tSN:KI270390.1\tLN:2387\n",
      "@SQ\tSN:KI270391.1\tLN:1484\n",
      "@SQ\tSN:KI270392.1\tLN:971\n",
      "@SQ\tSN:KI270393.1\tLN:1308\n",
      "@SQ\tSN:KI270394.1\tLN:970\n",
      "@SQ\tSN:KI270395.1\tLN:1143\n",
      "@SQ\tSN:KI270396.1\tLN:1880\n",
      "@SQ\tSN:KI270411.1\tLN:2646\n",
      "@SQ\tSN:KI270412.1\tLN:1179\n",
      "@SQ\tSN:KI270414.1\tLN:2489\n",
      "@SQ\tSN:KI270417.1\tLN:2043\n",
      "@SQ\tSN:KI270418.1\tLN:2145\n",
      "@SQ\tSN:KI270419.1\tLN:1029\n",
      "@SQ\tSN:KI270420.1\tLN:2321\n",
      "@SQ\tSN:KI270422.1\tLN:1445\n",
      "@SQ\tSN:KI270423.1\tLN:981\n",
      "@SQ\tSN:KI270424.1\tLN:2140\n",
      "@SQ\tSN:KI270425.1\tLN:1884\n",
      "@SQ\tSN:KI270429.1\tLN:1361\n",
      "@SQ\tSN:KI270435.1\tLN:92983\n",
      "@SQ\tSN:KI270438.1\tLN:112505\n",
      "@SQ\tSN:KI270442.1\tLN:392061\n",
      "@SQ\tSN:KI270448.1\tLN:7992\n",
      "@SQ\tSN:KI270465.1\tLN:1774\n",
      "@SQ\tSN:KI270466.1\tLN:1233\n",
      "@SQ\tSN:KI270467.1\tLN:3920\n",
      "@SQ\tSN:KI270468.1\tLN:4055\n",
      "@SQ\tSN:KI270507.1\tLN:5353\n",
      "@SQ\tSN:KI270508.1\tLN:1951\n",
      "@SQ\tSN:KI270509.1\tLN:2318\n",
      "@SQ\tSN:KI270510.1\tLN:2415\n",
      "@SQ\tSN:KI270511.1\tLN:8127\n",
      "@SQ\tSN:KI270512.1\tLN:22689\n",
      "@SQ\tSN:KI270515.1\tLN:6361\n",
      "@SQ\tSN:KI270516.1\tLN:1300\n",
      "@SQ\tSN:KI270517.1\tLN:3253\n",
      "@SQ\tSN:KI270518.1\tLN:2186\n",
      "@SQ\tSN:KI270519.1\tLN:138126\n",
      "@SQ\tSN:KI270521.1\tLN:7642\n",
      "@SQ\tSN:KI270522.1\tLN:5674\n",
      "@SQ\tSN:KI270528.1\tLN:2983\n",
      "@SQ\tSN:KI270529.1\tLN:1899\n",
      "@SQ\tSN:KI270530.1\tLN:2168\n",
      "@SQ\tSN:KI270538.1\tLN:91309\n",
      "@SQ\tSN:KI270539.1\tLN:993\n",
      "@SQ\tSN:KI270544.1\tLN:1202\n",
      "@SQ\tSN:KI270548.1\tLN:1599\n",
      "@SQ\tSN:KI270579.1\tLN:31033\n",
      "@SQ\tSN:KI270580.1\tLN:1553\n",
      "@SQ\tSN:KI270581.1\tLN:7046\n",
      "@SQ\tSN:KI270582.1\tLN:6504\n",
      "@SQ\tSN:KI270583.1\tLN:1400\n",
      "@SQ\tSN:KI270584.1\tLN:4513\n",
      "@SQ\tSN:KI270587.1\tLN:2969\n",
      "@SQ\tSN:KI270588.1\tLN:6158\n",
      "@SQ\tSN:KI270589.1\tLN:44474\n",
      "@SQ\tSN:KI270590.1\tLN:4685\n",
      "@SQ\tSN:KI270591.1\tLN:5796\n",
      "@SQ\tSN:KI270593.1\tLN:3041\n",
      "@SQ\tSN:KI270706.1\tLN:175055\n",
      "@SQ\tSN:KI270707.1\tLN:32032\n",
      "@SQ\tSN:KI270708.1\tLN:127682\n",
      "@SQ\tSN:KI270709.1\tLN:66860\n",
      "@SQ\tSN:KI270710.1\tLN:40176\n",
      "@SQ\tSN:KI270711.1\tLN:42210\n",
      "@SQ\tSN:KI270712.1\tLN:176043\n",
      "@SQ\tSN:KI270713.1\tLN:40745\n",
      "@SQ\tSN:KI270714.1\tLN:41717\n",
      "@SQ\tSN:KI270715.1\tLN:161471\n",
      "@SQ\tSN:KI270716.1\tLN:153799\n",
      "@SQ\tSN:KI270717.1\tLN:40062\n",
      "@SQ\tSN:KI270718.1\tLN:38054\n",
      "@SQ\tSN:KI270719.1\tLN:176845\n",
      "@SQ\tSN:KI270720.1\tLN:39050\n",
      "@SQ\tSN:KI270721.1\tLN:100316\n",
      "@SQ\tSN:KI270722.1\tLN:194050\n",
      "@SQ\tSN:KI270723.1\tLN:38115\n",
      "@SQ\tSN:KI270724.1\tLN:39555\n",
      "@SQ\tSN:KI270725.1\tLN:172810\n",
      "@SQ\tSN:KI270726.1\tLN:43739\n",
      "@SQ\tSN:KI270727.1\tLN:448248\n",
      "@SQ\tSN:KI270728.1\tLN:1872759\n",
      "@SQ\tSN:KI270729.1\tLN:280839\n",
      "@SQ\tSN:KI270730.1\tLN:112551\n",
      "@SQ\tSN:KI270731.1\tLN:150754\n",
      "@SQ\tSN:KI270732.1\tLN:41543\n",
      "@SQ\tSN:KI270733.1\tLN:179772\n",
      "@SQ\tSN:KI270734.1\tLN:165050\n",
      "@SQ\tSN:KI270735.1\tLN:42811\n",
      "@SQ\tSN:KI270736.1\tLN:181920\n",
      "@SQ\tSN:KI270737.1\tLN:103838\n",
      "@SQ\tSN:KI270738.1\tLN:99375\n",
      "@SQ\tSN:KI270739.1\tLN:73985\n",
      "@SQ\tSN:KI270740.1\tLN:37240\n",
      "@SQ\tSN:KI270741.1\tLN:157432\n",
      "@SQ\tSN:KI270742.1\tLN:186739\n",
      "@SQ\tSN:KI270743.1\tLN:210658\n",
      "@SQ\tSN:KI270744.1\tLN:168472\n",
      "@SQ\tSN:KI270745.1\tLN:41891\n",
      "@SQ\tSN:KI270746.1\tLN:66486\n",
      "@SQ\tSN:KI270747.1\tLN:198735\n",
      "@SQ\tSN:KI270748.1\tLN:93321\n",
      "@SQ\tSN:KI270749.1\tLN:158759\n",
      "@SQ\tSN:KI270750.1\tLN:148850\n",
      "@SQ\tSN:KI270751.1\tLN:150742\n",
      "@SQ\tSN:KI270752.1\tLN:27745\n",
      "@SQ\tSN:KI270753.1\tLN:62944\n",
      "@SQ\tSN:KI270754.1\tLN:40191\n",
      "@SQ\tSN:KI270755.1\tLN:36723\n",
      "@SQ\tSN:KI270756.1\tLN:79590\n",
      "@SQ\tSN:KI270757.1\tLN:71251\n",
      "@RG\tID:ceae7e4d-6871-4d47-b2af-f3c9a5b3f5db\tSM:ceae7e4d-6871-4d47-b2af-f3c9a5b3f5db\tLB:ceae7e4d-6871-4d47-b2af-f3c9a5b3f5db\tPL:ILLUMINA\tPU:ceae7e4d-6871-4d47-b2af-f3c9a5b3f5db\n",
      "@PG\tID:hisat2\tPN:hisat2\tVN:2.1.0\tCL:\"/opt/tools/hisat2-2.1.0/hisat2-align-s --wrapper basic-0 -t -x genome_snp_tran/genome_snp_tran --rg-id=ceae7e4d-6871-4d47-b2af-f3c9a5b3f5db --rg SM:ceae7e4d-6871-4d47-b2af-f3c9a5b3f5db --rg LB:ceae7e4d-6871-4d47-b2af-f3c9a5b3f5db --rg PL:ILLUMINA --rg PU:ceae7e4d-6871-4d47-b2af-f3c9a5b3f5db --new-summary --summary-file ceae7e4d-6871-4d47-b2af-f3c9a5b3f5db_qc.log --met-file ceae7e4d-6871-4d47-b2af-f3c9a5b3f5db_qc.hisat2.met.txt --met 5 --seed 12345 -k 10 --secondary -p 4 -S /dev/fd/63 -1 /tmp/148.inpipe1 -2 /tmp/148.inpipe2\"\n",
      "\n"
     ]
    }
   ],
   "source": [
    "import pysam\n",
    "bam = pysam.AlignmentFile(\"Aligned.sortedByCoord.out.bam\", \"rb\")\n",
    "print(bam.header)"
   ]
  },
  {
   "cell_type": "markdown",
   "metadata": {},
   "source": [
    "## Generalizing: Find and Download Any File of Any Extension in the Data Store\n",
    "\n",
    "Note that we can do a bit more work, and get a general function to iterate over data with specific file extensions in the data store, and pass that along to the `client.get_file()` method to download it:"
   ]
  },
  {
   "cell_type": "code",
   "execution_count": 14,
   "metadata": {},
   "outputs": [],
   "source": [
    "def es_filetype_query(extension):\n",
    "    \"\"\"\n",
    "    Given a file extension (excluding .), return an ElasticSearch\n",
    "    wildcard query that will return bundles containing files with\n",
    "    that extension.\n",
    "    \n",
    "    Example: es_filetype_query('fastq.gz')\n",
    "    \"\"\"\n",
    "    query = {\n",
    "        \"query\": {\n",
    "            \"wildcard\": {\n",
    "                \"manifest.files.name\": {\n",
    "                    \"value\": \"*.%s\"%(extension)\n",
    "                }\n",
    "            }\n",
    "        }\n",
    "    }\n",
    "    return query"
   ]
  },
  {
   "cell_type": "markdown",
   "metadata": {},
   "source": [
    "Next, we can rewrite `find_bam()` to take a file extension as input, assemble the corresponding ElasticSearch query with `es_filetype_query()`,  and return JSON with UUIDs and other information about each of the matching files."
   ]
  },
  {
   "cell_type": "code",
   "execution_count": 15,
   "metadata": {},
   "outputs": [],
   "source": [
    "def find_all_filetype(extension):\n",
    "    for bundle in client.post_search.iterate(es_query = es_filetype_query(extension),\n",
    "                                             replica = 'aws',\n",
    "                                             output_format = 'raw'):\n",
    "        # Use the file nmanifest to find the JSON with file info\n",
    "        for file_dict in bundle[\"metadata\"][\"manifest\"][\"files\"]:\n",
    "            if file_dict[\"name\"].endswith(extension):\n",
    "                yield file_dict"
   ]
  },
  {
   "cell_type": "code",
   "execution_count": 16,
   "metadata": {},
   "outputs": [
    {
     "name": "stdout",
     "output_type": "stream",
     "text": [
      "File Name: SRR6520067_1.fastq.gz\n",
      "UUID: de204c6b-97be-44dd-bdb8-89af19a717b9\n"
     ]
    }
   ],
   "source": [
    "fastq_file = next(find_all_filetype('fastq.gz'))\n",
    "print(f\"File Name: {fastq_file['name']}\")\n",
    "print(f\"UUID: {fastq_file['uuid']}\")"
   ]
  },
  {
   "cell_type": "markdown",
   "metadata": {},
   "source": [
    "This can be processed with a function to either print information about the file or download it:"
   ]
  },
  {
   "cell_type": "code",
   "execution_count": 17,
   "metadata": {},
   "outputs": [],
   "source": [
    "def print_file(fastq):\n",
    "    print(f\" - {fastq['name']} : Size {fastq['size']/1024/1024/1024:.2f} GB\")"
   ]
  },
  {
   "cell_type": "code",
   "execution_count": 18,
   "metadata": {},
   "outputs": [],
   "source": [
    "def download_file(fastq):\n",
    "    print(f\"Now downloading fastq file {fastq['name']} ({fastq['size']/1024/1024/1024} GB)...\")\n",
    "    fastq = client.get_file(uuid=fastq['uuid'], version=fastq['version'], replica='aws')\n",
    "    open(fsatq['filename'], 'wb').write(fastq)"
   ]
  },
  {
   "cell_type": "markdown",
   "metadata": {},
   "source": [
    "Now we can iterate over a few fastq files:"
   ]
  },
  {
   "cell_type": "code",
   "execution_count": 19,
   "metadata": {},
   "outputs": [
    {
     "name": "stdout",
     "output_type": "stream",
     "text": [
      " - SRR6520067_1.fastq.gz : Size 0.04 GB\n",
      " - SRR6520067_2.fastq.gz : Size 0.04 GB\n",
      " - SRR6579532_1.fastq.gz : Size 0.04 GB\n",
      " - SRR6579532_2.fastq.gz : Size 0.04 GB\n",
      " - SRR6611699_1.fastq.gz : Size 0.04 GB\n",
      " - SRR6611699_2.fastq.gz : Size 0.04 GB\n",
      " - ERR2459896_1.fastq.gz : Size 0.04 GB\n",
      " - ERR2459896_2.fastq.gz : Size 0.04 GB\n",
      " - E18_20161004_Neurons_Sample_14_S083_L005_I1_002.fastq.gz : Size 0.04 GB\n",
      " - E18_20161004_Neurons_Sample_14_S083_L005_R1_002.fastq.gz : Size 0.09 GB\n"
     ]
    }
   ],
   "source": [
    "import itertools\n",
    "for fastq_file in itertools.islice(find_all_filetype('fastq.gz'), 10):\n",
    "    print_file(fastq_file)\n",
    "    # download_file(fastq_file)"
   ]
  },
  {
   "cell_type": "markdown",
   "metadata": {},
   "source": [
    "To iterate over every fastq file, replace `itertools.islice(find_all_filetype('fastq.gz', 10))` with `find_all_filetype('fastq.gz')`."
   ]
  }
 ],
 "metadata": {
  "kernelspec": {
   "display_name": "Python 3",
   "language": "python",
   "name": "python3"
  },
  "language_info": {
   "codemirror_mode": {
    "name": "ipython",
    "version": 3
   },
   "file_extension": ".py",
   "mimetype": "text/x-python",
   "name": "python",
   "nbconvert_exporter": "python",
   "pygments_lexer": "ipython3",
   "version": "3.6.3"
  }
 },
 "nbformat": 4,
 "nbformat_minor": 2
}

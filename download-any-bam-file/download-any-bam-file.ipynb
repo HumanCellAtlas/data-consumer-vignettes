{
 "cells": [
  {
   "cell_type": "markdown",
   "metadata": {},
   "source": [
    "# Download Any BAM File\n",
    "\n",
    "Any BAM file will do. I just want to see what aligned data looks like in the HCA.\n",
    "\n",
    "First I'll set up the DSS client."
   ]
  },
  {
   "cell_type": "code",
   "execution_count": 32,
   "metadata": {},
   "outputs": [],
   "source": [
    "import hca, hca.dss, json\n",
    "client = hca.dss.DSSClient()"
   ]
  },
  {
   "cell_type": "markdown",
   "metadata": {},
   "source": [
    "****\n",
    "#### Now I want to find a bundle that has a BAM file in it.\n",
    "\n",
    "The `client` has a method `get_file` that sounds very promising, but I need to get a UUID. I don't know what RFC4122 is, but hopefully I won't have to."
   ]
  },
  {
   "cell_type": "code",
   "execution_count": 33,
   "metadata": {},
   "outputs": [
    {
     "name": "stdout",
     "output_type": "stream",
     "text": [
      "Help on method get_file in module hca.util:\n",
      "\n",
      "get_file(client, uuid:str=None, replica:str=None, version:Union[str, NoneType]=None, token:Union[str, NoneType]=None, directurl:Union[str, NoneType]=None, content_disposition:Union[str, NoneType]=None) method of builtins.type instance\n",
      "    Retrieve a file given a UUID and optionally a version.\n",
      "    \n",
      "    \n",
      "    .. admonition:: Streaming\n",
      "    \n",
      "     Use ``DSSClient.get_file.stream(**kwargs)`` to get a ``requests.Response`` object whose body has not been\n",
      "     read yet. This allows streaming large file bodies:\n",
      "    \n",
      "     .. code-block:: python\n",
      "    \n",
      "        fid = \"7a8fbda7-d470-467a-904e-5c73413fab3e\"\n",
      "        with DSSClient().get_file.stream(uuid=fid, replica=\"aws\") as fh:\n",
      "            while True:\n",
      "                chunk = fh.raw.read(1024)\n",
      "                ...\n",
      "                if not chunk:\n",
      "                    break\n",
      "    \n",
      "     The keyword arguments for ``DSSClient.get_file.stream()`` are identical to the arguments for\n",
      "     ``DSSClient.get_file()`` listed here.\n",
      "    :param uuid:  A RFC4122-compliant ID for the file. \n",
      "    :type uuid: <class 'str'>\n",
      "    :param replica:  Replica to fetch from. \n",
      "    :type replica: <class 'str'>\n",
      "    :param version:  Timestamp of file creation in DSS_VERSION format.  If this is not provided, the latest version is returned. \n",
      "    :type version: typing.Union[str, NoneType]\n",
      "    :param token:  Token to manage retries.  End users constructing queries should not set this parameter. \n",
      "    :type token: typing.Union[str, NoneType]\n",
      "    :param directurl:  When set to true, the response will contain API-specific URLs that are tied to the specified replica, for example ``gs://bucket/object`` or ``s3://bucket/object``  The use of presigned URLs is recommended for data access. Cloud native URLs are currently provided for a limited set of use cases and may not be provided in the future. If cloud native URLs are required, please contact the data store team regarding the credentials necessary to use them. \n",
      "    :type directurl: typing.Union[str, NoneType]\n",
      "    :param content_disposition:  Optional and does not work when directurl=true (only works with the default presigned url response).  If this parameter is provided, the response from fetching the returned presigned url will include the specified Content-Disposition header.  This can be useful to indicate to a browser that a file should be downloaded rather than opened in a new tab, and can also supply the original filename in the response.  Example:  .. code::      content_disposition=\"attachment; filename=data.json\" \n",
      "    :type content_disposition: typing.Union[str, NoneType]\n",
      "    \n",
      "    \n",
      "    \n",
      "    Given a file UUID, return the latest version of that file.  If the version is provided, that version of the file is returned instead.\n",
      "    Headers will contain the data store metadata for the file.\n",
      "    This endpoint returns a HTTP redirect to another HTTP endpoint with the file contents.\n",
      "\n"
     ]
    }
   ],
   "source": [
    "help(client.get_file)"
   ]
  },
  {
   "cell_type": "markdown",
   "metadata": {},
   "source": [
    "****\n",
    "#### Searching for bundles\n",
    "\n",
    "The `post_search` method accepts a `query`, and there's even an example query in the data-store repo's [readme](https://github.com/HumanCellAtlas/data-store/blob/master/README.md). The function signature doesn't quite match the example, but it should be easy to fix. "
   ]
  },
  {
   "cell_type": "code",
   "execution_count": 34,
   "metadata": {},
   "outputs": [
    {
     "data": {
      "text/plain": [
       "{'es_query': {'query': {'bool': {'must': [{'match': {'files.sample_json.donor.species': 'Homo sapiens'}},\n",
       "     {'match': {'files.assay_json.single_cell.method': 'Fluidigm C1'}},\n",
       "     {'match': {'files.sample_json.ncbi_biosample': 'SAMN04303778'}}]}}},\n",
       " 'results': [],\n",
       " 'total_hits': 0}"
      ]
     },
     "execution_count": 34,
     "metadata": {},
     "output_type": "execute_result"
    }
   ],
   "source": [
    "client.post_search(replica=\"aws\", es_query={\n",
    "    \"query\": {\n",
    "        \"bool\": {\n",
    "            \"must\": [{\n",
    "                \"match\": {\n",
    "                    \"files.sample_json.donor.species\": \"Homo sapiens\"\n",
    "                }\n",
    "            }, {\n",
    "                \"match\": {\n",
    "                    \"files.assay_json.single_cell.method\": \"Fluidigm C1\"\n",
    "                }\n",
    "            }, {\n",
    "                \"match\": {\n",
    "                    \"files.sample_json.ncbi_biosample\": \"SAMN04303778\"\n",
    "                }\n",
    "            }]\n",
    "        }\n",
    "    }\n",
    "})"
   ]
  },
  {
   "cell_type": "markdown",
   "metadata": {},
   "source": [
    "****\n",
    "#### Well that didn't work!\n",
    "\n",
    "But I can see how the results are structured. What if I just give it an empty query?"
   ]
  },
  {
   "cell_type": "code",
   "execution_count": 35,
   "metadata": {},
   "outputs": [
    {
     "data": {
      "text/plain": [
       "2307"
      ]
     },
     "execution_count": 35,
     "metadata": {},
     "output_type": "execute_result"
    }
   ],
   "source": [
    "search_response = client.post_search(replica=\"aws\", es_query={})\n",
    "search_response[\"total_hits\"]"
   ]
  },
  {
   "cell_type": "markdown",
   "metadata": {},
   "source": [
    "****\n",
    "Okay great, many results. What does each result look like?"
   ]
  },
  {
   "cell_type": "code",
   "execution_count": 36,
   "metadata": {},
   "outputs": [
    {
     "data": {
      "text/plain": [
       "{'bundle_fqid': 'fff14b79-c37e-43a4-9abc-c0777314f380.2019-05-14T105022.468000Z',\n",
       " 'bundle_url': 'https://dss.integration.data.humancellatlas.org/v1/bundles/fff14b79-c37e-43a4-9abc-c0777314f380?version=2019-05-14T105022.468000Z&replica=aws',\n",
       " 'search_score': None}"
      ]
     },
     "execution_count": 36,
     "metadata": {},
     "output_type": "execute_result"
    }
   ],
   "source": [
    "search_response[\"results\"][0]"
   ]
  },
  {
   "cell_type": "markdown",
   "metadata": {},
   "source": [
    "____\n",
    "Now I have an ID that I can work with, `bundle_fqid`! It's an FQID and not a UUID, and for a bundle, not a file. What happens if I provide the FQID to `get_bundle` as the UUID?"
   ]
  },
  {
   "cell_type": "code",
   "execution_count": 37,
   "metadata": {},
   "outputs": [
    {
     "name": "stdout",
     "output_type": "stream",
     "text": [
      "Oh no! There was an error.\n",
      "not_found: Cannot find bundle! (HTTP 404). Details:\n",
      "Traceback (most recent call last):\n",
      "  File \"/var/task/chalicelib/dss/error.py\", line 72, in wrapper\n",
      "    return func(*args, **kwargs)\n",
      "  File \"/var/task/chalicelib/dss/api/bundles/__init__.py\", line 55, in get\n",
      "    raise DSSException(404, \"not_found\", \"Cannot find bundle!\")\n",
      "dss.error.DSSException\n",
      "\n"
     ]
    }
   ],
   "source": [
    "try:\n",
    "    client.get_bundle(uuid=search_response[\"results\"][0][\"bundle_fqid\"], replica=\"aws\")\n",
    "    print(\"Completed successfully!\")\n",
    "except Exception as e:\n",
    "    # If this operation fails, let's print the error (without raising the exception)\n",
    "    print(\"Oh no! There was an error.\")\n",
    "    print(e)"
   ]
  },
  {
   "cell_type": "markdown",
   "metadata": {},
   "source": [
    "****\n",
    "Hmmm, a `DSSException` - it appears that it couldn't find a bundle with that UUID. This makes sense because FQIDs aren't UUIDs: the UUID is the part of the FQID before the first `.`. The timestamp is everything after. So, if I extract the UUID from the FQID, everything should work:"
   ]
  },
  {
   "cell_type": "code",
   "execution_count": 38,
   "metadata": {},
   "outputs": [
    {
     "data": {
      "text/plain": [
       "{'bundle': {'creator_uid': 0,\n",
       "  'files': [{'content-type': 'application/json; dcp-type=\"metadata/biomaterial\"',\n",
       "    'crc32c': 'fdff6dea',\n",
       "    'indexed': True,\n",
       "    'name': 'cell_suspension_0.json',\n",
       "    's3_etag': '608e9aba7ccfa6f9ab1a41fe55d3034c',\n",
       "    'sha1': 'dd0be5655f99000e257e295011cf0a56824c32b2',\n",
       "    'sha256': '1842c7285092fa5e7f56ad48fa208edd29120b4798875ae8a6fa1142f817d415',\n",
       "    'size': 997,\n",
       "    'uuid': '5851c22f-3ad8-40db-bdf2-f5dc0e26dbd3',\n",
       "    'version': '2019-05-14T093128.827000Z'},\n",
       "   {'content-type': 'application/json; dcp-type=\"metadata/biomaterial\"',\n",
       "    'crc32c': 'a0c4269e',\n",
       "    'indexed': True,\n",
       "    'name': 'specimen_from_organism_0.json',\n",
       "    's3_etag': '73163822cf12c0426e9730ef0c0cddd9',\n",
       "    'sha1': '7bcb10987d77d74a7080bb8c46b8193f00505985',\n",
       "    'sha256': 'bb712ce013a58eccdf0bdf55c15d3ea13388bcf3cec5c24220e381eb65846283',\n",
       "    'size': 1169,\n",
       "    'uuid': '1a2e8c90-0d8b-465c-a4a6-bed616dbfad2',\n",
       "    'version': '2019-05-14T092648.799000Z'},\n",
       "   {'content-type': 'application/json; dcp-type=\"metadata/biomaterial\"',\n",
       "    'crc32c': 'b0b45b80',\n",
       "    'indexed': True,\n",
       "    'name': 'donor_organism_0.json',\n",
       "    's3_etag': 'f236a3b672f2025c726149f2d0542161',\n",
       "    'sha1': '4cf71dfed1aedd9eb10fa6c8b01afc225f75a3ea',\n",
       "    'sha256': 'd13d35b49a79ecfc3be995d9c0df64f071ecfe540f958f570c4aec82f9132997',\n",
       "    'size': 1341,\n",
       "    'uuid': 'cfde197c-59c3-4ac7-93e7-b41d2c206e93',\n",
       "    'version': '2019-05-14T092508.151000Z'},\n",
       "   {'content-type': 'application/json; dcp-type=\"metadata/file\"',\n",
       "    'crc32c': '33ce0536',\n",
       "    'indexed': True,\n",
       "    'name': 'sequence_file_0.json',\n",
       "    's3_etag': '154266a1f321cde8ede20ee8071465a4',\n",
       "    'sha1': '23e4c330452839cb41b69b2fc2d18506cb5c86ce',\n",
       "    'sha256': 'f5d83ecee5d23e98a592482b24a0cff4e92671a9dc6d22f4f62d4d03daf3b987',\n",
       "    'size': 520,\n",
       "    'uuid': '24aee65f-213e-442a-b5a6-8f323aaf8b08',\n",
       "    'version': '2019-05-14T095209.276000Z'},\n",
       "   {'content-type': 'application/json; dcp-type=\"metadata/project\"',\n",
       "    'crc32c': '08fb0af6',\n",
       "    'indexed': True,\n",
       "    'name': 'project_0.json',\n",
       "    's3_etag': '0ad4ab37bfe5d9798afdfba0b949eb05',\n",
       "    'sha1': 'bab034a14a2ca97a98a7035b08cddc9d5fa03459',\n",
       "    'sha256': '96a6a89399aa47c52e15984c19769dccac4029656da0294a95b86b10d6e37914',\n",
       "    'size': 6263,\n",
       "    'uuid': 'ae71be1d-ddd8-4feb-9bed-24c3ddb6e1ad',\n",
       "    'version': '2019-05-14T092506.555000Z'},\n",
       "   {'content-type': 'application/json; dcp-type=\"metadata/protocol\"',\n",
       "    'crc32c': '49aa500f',\n",
       "    'indexed': True,\n",
       "    'name': 'library_preparation_protocol_0.json',\n",
       "    's3_etag': '7e9e1bc2ee6e782f012df057e4fc8513',\n",
       "    'sha1': 'c7b8d0ac3ac5b66e5ac61d81a1ef70bb37a74323',\n",
       "    'sha256': '8d94f45c9c31011a795d2626c2f0aebb506a1dce92de72650171b742a96326fe',\n",
       "    'size': 1337,\n",
       "    'uuid': '96209d06-5fb7-4fc3-bff4-20ef3f55ee40',\n",
       "    'version': '2019-05-14T091945.579000Z'},\n",
       "   {'content-type': 'application/json; dcp-type=\"metadata/protocol\"',\n",
       "    'crc32c': '82d72b8c',\n",
       "    'indexed': True,\n",
       "    'name': 'sequencing_protocol_0.json',\n",
       "    's3_etag': 'db67c58bf1e090404112e4fdad72f7ac',\n",
       "    'sha1': '0aa97de5efb059bef7802d4daa6a462995895fe8',\n",
       "    'sha256': 'd35a79746f9f3e5487d3342d5c2df76ceaad59d55e282ab8ffc0bc360ea12859',\n",
       "    'size': 1025,\n",
       "    'uuid': 'eb61d563-e7ec-407d-a84f-3626663eb4fa',\n",
       "    'version': '2019-05-14T091945.616000Z'},\n",
       "   {'content-type': 'application/json; dcp-type=\"metadata/protocol\"',\n",
       "    'crc32c': '9e7a0efb',\n",
       "    'indexed': True,\n",
       "    'name': 'dissociation_protocol_0.json',\n",
       "    's3_etag': '4fb3cd5b9db025c80fcd1191300f5582',\n",
       "    'sha1': 'b3e94679f3d150ef1d7ec6b6156bf7d391c0c1fd',\n",
       "    'sha256': '0d80e243aa428b5612369391ae7b74dd823cfe02b7c63067b9f5ac97d2034c3d',\n",
       "    'size': 901,\n",
       "    'uuid': 'd72df926-94a2-4e11-b40a-88ed7691cae9',\n",
       "    'version': '2019-05-14T091945.386000Z'},\n",
       "   {'content-type': 'application/json; dcp-type=\"metadata/process\"',\n",
       "    'crc32c': '6273537c',\n",
       "    'indexed': True,\n",
       "    'name': 'process_0.json',\n",
       "    's3_etag': '6d6571aaf2e373b2350bfc6a146edd07',\n",
       "    'sha1': 'b63c096ec76f8a52c4a7d3d4a1971c5c87d111ba',\n",
       "    'sha256': 'da80ad8f7f4e3c0a78fcb1078445e3be1a69d90453552005c7b35c07007db7d0',\n",
       "    'size': 463,\n",
       "    'uuid': '135c272e-ad97-47dd-9231-2095b716157a',\n",
       "    'version': '2019-05-14T093716.651000Z'},\n",
       "   {'content-type': 'application/json; dcp-type=\"metadata/process\"',\n",
       "    'crc32c': 'd7412fca',\n",
       "    'indexed': True,\n",
       "    'name': 'process_1.json',\n",
       "    's3_etag': '2e4f2bb744c2a739a42882628f10b9af',\n",
       "    'sha1': 'b596b232542279da38a9eddb5f1e07e806a8231c',\n",
       "    'sha256': 'abb8e689dbe0f83d3cf3a1876c1ba8241e0c706ef9ca22e2ff7013c161b71453',\n",
       "    'size': 377,\n",
       "    'uuid': '1c67612f-ffc6-4468-8545-ee2bffd2cf38',\n",
       "    'version': '2019-05-14T093536.378000Z'},\n",
       "   {'content-type': 'application/json; dcp-type=\"metadata/process\"',\n",
       "    'crc32c': '3476a09b',\n",
       "    'indexed': True,\n",
       "    'name': 'process_2.json',\n",
       "    's3_etag': '36f81eb1ea94fa6b4487426322d10ed3',\n",
       "    'sha1': '04b8b93260ad2654b377149391a69b5a5d7ea2f6',\n",
       "    'sha256': 'bd47f699e80b8dc4ebcf3b4e516bb82e01d71f96ab8e6ae16a838983872fc50a',\n",
       "    'size': 376,\n",
       "    'uuid': '451a2914-2534-47a9-aa43-e0a93dfb5046',\n",
       "    'version': '2019-05-14T093534.629000Z'},\n",
       "   {'content-type': 'application/json; dcp-type=\"metadata/links\"',\n",
       "    'crc32c': '89974eee',\n",
       "    'indexed': True,\n",
       "    'name': 'links.json',\n",
       "    's3_etag': '7d27535d7b0ddea1204ffbf8bf6e5bf5',\n",
       "    'sha1': '4865a7b2602a05cc1b192dbd25b45820e528e785',\n",
       "    'sha256': 'abef3de4d865fc7a90e5437d3323306cea33e453f48332dd366df6f3974901df',\n",
       "    'size': 1856,\n",
       "    'uuid': 'e46a83ab-0882-47ae-9ba4-392ac40886f5',\n",
       "    'version': '2019-05-14T151416.992321Z'},\n",
       "   {'content-type': 'application/gzip; dcp-type=data',\n",
       "    'crc32c': '900f9190',\n",
       "    'indexed': False,\n",
       "    'name': 'HP1506401_H16.fastq.gz',\n",
       "    's3_etag': 'd43db6663df47d5f46cd182964ed5257',\n",
       "    'sha1': '420099211a18cc5d4243c5edd2a96694bea6e064',\n",
       "    'sha256': 'd197ee59a8be6b4db20f01aa802b49b8b3d5d6abe539872863acd6cdef1f067a',\n",
       "    'size': 26207289,\n",
       "    'uuid': '90dc8de8-9837-492f-bef8-673b262dd417',\n",
       "    'version': '2019-05-14T151417.335615Z'}],\n",
       "  'uuid': 'fff14b79-c37e-43a4-9abc-c0777314f380',\n",
       "  'version': '2019-05-14T105022.468000Z'}}"
      ]
     },
     "execution_count": 38,
     "metadata": {},
     "output_type": "execute_result"
    }
   ],
   "source": [
    "bundle_uuid, bundle_version = search_response['results'][0]['bundle_fqid'].split('.', maxsplit=1)\n",
    "client.get_bundle(uuid=bundle_uuid, replica=\"aws\")"
   ]
  },
  {
   "cell_type": "markdown",
   "metadata": {},
   "source": [
    "****\n",
    "Nice! Now I can see the general structure of a bundle.\n",
    "\n",
    "Using this information, what if I want to find a bundle with a BAM? I can write a function `find_bam()` that iterates over bundles and returns bundle information for each undle with a BAM file:"
   ]
  },
  {
   "cell_type": "code",
   "execution_count": 39,
   "metadata": {},
   "outputs": [],
   "source": [
    "def find_bam():\n",
    "    for result in search_response[\"results\"]:\n",
    "        bundle_uuid, _ = results['bundle_fqid'].split('.', maxsplit=1)\n",
    "        bundle_dict = client.get_bundle(uuid=bundle_uuid, replica=\"aws\")\n",
    "        for file_dict in bundle_dict[\"bundle\"][\"files\"]:\n",
    "            if file_dict[\"name\"].endswith(\".bam\"):\n",
    "                yield file_dict"
   ]
  },
  {
   "cell_type": "markdown",
   "metadata": {},
   "source": [
    "Looks good! `find_bam()` will loop over each result in the `post_search` query we made earlier and GET each bundle until it finds a bundle containing a file that ends in `.bam`. One thing to remember is that sometimes, `post_search` can return a bundle that's been deleted but is lingering in the index, and that trying to GET that bundle could result in an error. It's no problem, as long as we can catch and ignore those cases..."
   ]
  },
  {
   "cell_type": "code",
   "execution_count": 50,
   "metadata": {},
   "outputs": [],
   "source": [
    "def find_bam():\n",
    "    for result in search_response[\"results\"]:\n",
    "        bundle_uuid = result[\"bundle_fqid\"].split('.', maxsplit=1)[0]\n",
    "        try:\n",
    "            bundle_dict = client.get_bundle(uuid=bundle_uuid, replica=\"aws\")\n",
    "        except:\n",
    "            continue\n",
    "        for file_dict in bundle_dict[\"bundle\"][\"files\"]:\n",
    "            if file_dict[\"name\"].endswith(\".bam\"):\n",
    "                yield file_dict"
   ]
  },
  {
   "cell_type": "markdown",
   "metadata": {},
   "source": [
    "One last thing: each `post_search` request is paginated and only returns some 100 results per request. Luckily, there's a method I can use that will automatically and transparently paginate through all results, `post_search.iterate`."
   ]
  },
  {
   "cell_type": "code",
   "execution_count": 51,
   "metadata": {},
   "outputs": [
    {
     "name": "stdout",
     "output_type": "stream",
     "text": [
      "Help on method post_search in module hca.util:\n",
      "\n",
      "post_search(client, es_query:Mapping=None, output_format:Union[str, NoneType]='summary', replica:str=None, per_page:Union[str, NoneType]=100, search_after:Union[str, NoneType]=None) method of builtins.type instance\n",
      "    Find bundles by searching their metadata with an Elasticsearch query\n",
      "    \n",
      "    \n",
      "    \n",
      "    .. admonition:: Pagination\n",
      "    \n",
      "     This method supports pagination. Use ``DSSClient.post_search.iterate(**kwargs)`` to create a generator that\n",
      "     yields all results, making multiple requests over the wire if necessary:\n",
      "    \n",
      "     .. code-block:: python\n",
      "    \n",
      "       for result in DSSClient.post_search.iterate(**kwargs):\n",
      "           ...\n",
      "    \n",
      "     The keyword arguments for ``DSSClient.post_search.iterate()`` are identical to the arguments for\n",
      "     ``DSSClient.post_search()`` listed here.\n",
      "    :param es_query:  Elasticsearch query \n",
      "    :type es_query: typing.Mapping\n",
      "    :param output_format:  Specifies the output format. The default format, ``summary``, is a list of UUIDs for bundles that match the query. Set this parameter to ``raw`` to get the verbatim JSON metadata for bundles that match the query. When using ``output_format raw`` the ``per_page`` size is limit to no more than 10 to avoid excessively large response sizes. \n",
      "    :type output_format: typing.Union[str, NoneType]\n",
      "    :param replica:  Replica to search. \n",
      "    :type replica: <class 'str'>\n",
      "    :param per_page:  Max number of results to return per page. When using ``output_format raw`` the ``per_page`` size is limit to no more than 10 to avoid excessively large response sizes. \n",
      "    :type per_page: typing.Union[str, NoneType]\n",
      "    :param search_after:  **Search-After-Context**. An internal state pointer parameter for use with pagination. This parameter is referenced by the ``Link`` header as described in the \"Pagination\" section. The API client should not need to set this parameter directly; it should instead directly fetch the URL given in the ``Link`` header. \n",
      "    :type search_after: typing.Union[str, NoneType]\n",
      "    \n",
      "    \n",
      "    \n",
      "    Accepts Elasticsearch JSON query and returns matching bundle identifiers\n",
      "    \n",
      "    Index design\n",
      "    ############\n",
      "    \n",
      "    The metadata seach index is implemented as a `document-oriented database <https://en.wikipedia.org/wiki/Document-oriented_database>`_ using `Elasticsearch <https://www.elastic.co/>`_. The index stores all information relevant to a bundle within each bundle document, largely eliminating the need for `object-relational mapping <https://en.wikipedia.org/wiki/Object-relational_mapping>`_. This design is optimized for queries that filter the data.\n",
      "    \n",
      "    To illustrate this concept, say our index stored information on three entities, ``foo``, ``bar``, and ``baz``. A foo can have many bars and bars can have many bazes. If we were to index bazes in a document-oriented design, the information on the foo a bar comes from and the bazes it contains are combined into a single document. A example sketch of this is shown below in `JSON-schema <https://en.wikipedia.org/wiki/JSON#JSON_Schema>`_.\n",
      "    \n",
      "    .. code::\n",
      "    \n",
      "        {\n",
      "          \"definitions\": {\n",
      "            \"bar\": {\n",
      "              \"type\": \"object\",\n",
      "              \"properties\": {\n",
      "                \"uuid\": {\n",
      "                  \"type\": \"string\",\n",
      "                  \"format\": \"uuid\"\n",
      "                },\n",
      "                \"foo\": {\n",
      "                  \"type\": \"object\",\n",
      "                  \"properties\": {\n",
      "                    \"uuid\": {\n",
      "                      \"type\": \"string\",\n",
      "                      \"format\": \"uuid\"\n",
      "                    },\n",
      "                    ...\n",
      "                  }\n",
      "                },\n",
      "                \"bazes\": {\n",
      "                  \"type\": \"array\",\n",
      "                  \"items\": {\n",
      "                    \"type\": \"string\",\n",
      "                    \"format\": \"uuid\"\n",
      "                  }\n",
      "                },\n",
      "                ...\n",
      "              }\n",
      "            }\n",
      "          }\n",
      "        }\n",
      "    \n",
      "    This closely resembles the structure of DSS bundle documents: projects have many bundles and bundles have many files. Each bundle document is a concatenation of the metadata on the project it belongs to and the files it contains.\n",
      "    \n",
      "    Limitations to index design\n",
      "    ###########################\n",
      "    \n",
      "    There are limitations to the design of DSS's metadata search index. A few important ones are listed below.\n",
      "    \n",
      "    * `Joins <https://en.wikipedia.org/wiki/Join_(SQL)>`_ between bundle metadata must be conducted client-side\n",
      "    * Querying is schema-specific; fields or values changed between schema version will break queries that use those fields and values\n",
      "    * A new search index must be built for each schema version\n",
      "    * A lot of metadata is duplicated between documents\n",
      "\n"
     ]
    }
   ],
   "source": [
    "help(client.post_search)"
   ]
  },
  {
   "cell_type": "markdown",
   "metadata": {},
   "source": [
    "I can update my function `find_bam` to use it:"
   ]
  },
  {
   "cell_type": "code",
   "execution_count": 67,
   "metadata": {},
   "outputs": [],
   "source": [
    "def find_bam():\n",
    "    results = client.post_search.iterate(replica=\"aws\", es_query={})\n",
    "    for result in results:\n",
    "        bundle_uuid = result[\"bundle_fqid\"].split('.', maxsplit=1)[0]\n",
    "        try:\n",
    "            bundle_dict = client.get_bundle(uuid=bundle_uuid, replica=\"aws\")\n",
    "        except:\n",
    "            continue\n",
    "        for file_dict in bundle_dict[\"bundle\"][\"files\"]:\n",
    "            if file_dict[\"name\"].endswith(\".bam\"):\n",
    "                yield file_dict"
   ]
  },
  {
   "cell_type": "markdown",
   "metadata": {},
   "source": [
    "The `find_bam()` function is a generator (since it uses the `yield` keyword), so to get the next bundle containing a BAM file, call the `next()` function and pass it the generator:"
   ]
  },
  {
   "cell_type": "code",
   "execution_count": 68,
   "metadata": {},
   "outputs": [
    {
     "name": "stdout",
     "output_type": "stream",
     "text": [
      "{\n",
      "    \"content-type\": \"application/gzip; dcp-type=data\",\n",
      "    \"crc32c\": \"13d0a885\",\n",
      "    \"indexed\": false,\n",
      "    \"name\": \"merged.bam\",\n",
      "    \"s3_etag\": \"2a460ca1a794924868eb9ab10188148d-263\",\n",
      "    \"sha1\": \"e80d114b07a165f638f80904806587a8c2a67b0a\",\n",
      "    \"sha256\": \"610003f3064db6e64aa14b759827e9e4b8c7b8a8fd24b591f85a6db6aae34a9f\",\n",
      "    \"size\": 17629632969,\n",
      "    \"uuid\": \"0fb3b147-11c1-4494-bbfb-55f0140ac656\",\n",
      "    \"version\": \"2019-07-28T070418.165550Z\"\n",
      "}\n"
     ]
    }
   ],
   "source": [
    "bam_generator = find_bam()\n",
    "bam_file = next(bam_generator)\n",
    "print(json.dumps(bam_file, indent=4))"
   ]
  },
  {
   "cell_type": "markdown",
   "metadata": {},
   "source": [
    "Check the size to make sure this BAM file is less than 1 GB (since we will download it for this tutorial), and if it is too large, get the next BAM file returned by `find_bam()`:"
   ]
  },
  {
   "cell_type": "code",
   "execution_count": 69,
   "metadata": {},
   "outputs": [
    {
     "name": "stdout",
     "output_type": "stream",
     "text": [
      "BAM file merged.bam is 16.42 GB\n",
      " ------ This BAM file is too large! continuing to look for another BAM file ------\n",
      "BAM file ecd3c30b-610c-4311-91c6-54c04f63f632_qc.bam is 0.04 GB\n"
     ]
    }
   ],
   "source": [
    "B2GB = 1/1024/1024/1024\n",
    "size_in_gb = bam_file['size']*B2GB\n",
    "print(\"BAM file %s is %0.2f GB\"%(bam_file['name'], bam_file['size']*B2GB))\n",
    "\n",
    "while size_in_gb > 1.0:\n",
    "    print(\" ------ This BAM file is too large! continuing to look for another BAM file ------\")\n",
    "    bam_file = next(bam_generator)\n",
    "    size_in_gb = bam_file['size']*B2GB\n",
    "    print(\"BAM file %s is %0.2f GB\"%(bam_file['name'], bam_file['size']*B2GB))"
   ]
  },
  {
   "cell_type": "markdown",
   "metadata": {},
   "source": [
    "Looks good! What if I want to look for another file type, like fastqs? I can generalize that code above..."
   ]
  },
  {
   "cell_type": "code",
   "execution_count": 70,
   "metadata": {},
   "outputs": [],
   "source": [
    "def find_ext(extension):\n",
    "    results = client.post_search.iterate(replica=\"aws\", es_query={})\n",
    "    for result in results:\n",
    "        bundle_uuid = result[\"bundle_fqid\"].split('.', maxsplit=1)[0]\n",
    "        try:\n",
    "            bundle_dict = client.get_bundle(uuid=bundle_uuid, replica=\"aws\")\n",
    "        except:\n",
    "            continue\n",
    "        for file_dict in bundle_dict[\"bundle\"][\"files\"]:\n",
    "            if file_dict[\"name\"].endswith(extension):\n",
    "                return file_dict"
   ]
  },
  {
   "cell_type": "code",
   "execution_count": 71,
   "metadata": {},
   "outputs": [
    {
     "name": "stdout",
     "output_type": "stream",
     "text": [
      "Name: HP1506401_H16.fastq.gz, UUID: 90dc8de8-9837-492f-bef8-673b262dd417\n"
     ]
    }
   ],
   "source": [
    "fastq_file = find_ext('.fastq.gz')\n",
    "print(f\"Name: {fastq_file['name']}, UUID: {fastq_file['uuid']}\")"
   ]
  },
  {
   "cell_type": "markdown",
   "metadata": {},
   "source": [
    "If I want to download a file and know its UUID, I can use the `get_file` method..."
   ]
  },
  {
   "cell_type": "code",
   "execution_count": 72,
   "metadata": {},
   "outputs": [
    {
     "name": "stderr",
     "output_type": "stream",
     "text": [
      "Waiting 10s before redirect per Retry-After header\n"
     ]
    }
   ],
   "source": [
    "bam_file = client.get_file(uuid=bam_file['uuid'], replica=\"aws\")"
   ]
  },
  {
   "cell_type": "code",
   "execution_count": 73,
   "metadata": {},
   "outputs": [
    {
     "name": "stdout",
     "output_type": "stream",
     "text": [
      "<class 'bytes'>\n"
     ]
    }
   ],
   "source": [
    "print(type(bam_file))"
   ]
  },
  {
   "cell_type": "code",
   "execution_count": 74,
   "metadata": {},
   "outputs": [],
   "source": [
    "with open(\"Aligned.sortedByCoord.out.bam\", \"wb\") as output_bam:\n",
    "    # Write the file in chunks, since it is very large\n",
    "    blocksize = 1000000000\n",
    "    for i in range(0, len(bam_file), blocksize):\n",
    "        output_bam.write(bam_file[i:i+blocksize])"
   ]
  },
  {
   "cell_type": "code",
   "execution_count": 75,
   "metadata": {},
   "outputs": [
    {
     "name": "stdout",
     "output_type": "stream",
     "text": [
      "@HD\tVN:1.0\tSO:coordinate\n",
      "@SQ\tSN:chr1\tLN:248956422\n",
      "@SQ\tSN:chr2\tLN:242193529\n",
      "@SQ\tSN:chr3\tLN:198295559\n",
      "@SQ\tSN:chr4\tLN:190214555\n",
      "@SQ\tSN:chr5\tLN:181538259\n",
      "@SQ\tSN:chr6\tLN:170805979\n",
      "@SQ\tSN:chr7\tLN:159345973\n",
      "@SQ\tSN:chr8\tLN:145138636\n",
      "@SQ\tSN:chr9\tLN:138394717\n",
      "@SQ\tSN:chr10\tLN:133797422\n",
      "@SQ\tSN:chr11\tLN:135086622\n",
      "@SQ\tSN:chr12\tLN:133275309\n",
      "@SQ\tSN:chr13\tLN:114364328\n",
      "@SQ\tSN:chr14\tLN:107043718\n",
      "@SQ\tSN:chr15\tLN:101991189\n",
      "@SQ\tSN:chr16\tLN:90338345\n",
      "@SQ\tSN:chr17\tLN:83257441\n",
      "@SQ\tSN:chr18\tLN:80373285\n",
      "@SQ\tSN:chr19\tLN:58617616\n",
      "@SQ\tSN:chr20\tLN:64444167\n",
      "@SQ\tSN:chr21\tLN:46709983\n",
      "@SQ\tSN:chr22\tLN:50818468\n",
      "@SQ\tSN:chrX\tLN:156040895\n",
      "@SQ\tSN:chrY\tLN:57227415\n",
      "@SQ\tSN:chrM\tLN:16569\n",
      "@SQ\tSN:GL000008.2\tLN:209709\n",
      "@SQ\tSN:GL000009.2\tLN:201709\n",
      "@SQ\tSN:GL000194.1\tLN:191469\n",
      "@SQ\tSN:GL000195.1\tLN:182896\n",
      "@SQ\tSN:GL000205.2\tLN:185591\n",
      "@SQ\tSN:GL000208.1\tLN:92689\n",
      "@SQ\tSN:GL000213.1\tLN:164239\n",
      "@SQ\tSN:GL000214.1\tLN:137718\n",
      "@SQ\tSN:GL000216.2\tLN:176608\n",
      "@SQ\tSN:GL000218.1\tLN:161147\n",
      "@SQ\tSN:GL000219.1\tLN:179198\n",
      "@SQ\tSN:GL000220.1\tLN:161802\n",
      "@SQ\tSN:GL000221.1\tLN:155397\n",
      "@SQ\tSN:GL000224.1\tLN:179693\n",
      "@SQ\tSN:GL000225.1\tLN:211173\n",
      "@SQ\tSN:GL000226.1\tLN:15008\n",
      "@SQ\tSN:KI270302.1\tLN:2274\n",
      "@SQ\tSN:KI270303.1\tLN:1942\n",
      "@SQ\tSN:KI270304.1\tLN:2165\n",
      "@SQ\tSN:KI270305.1\tLN:1472\n",
      "@SQ\tSN:KI270310.1\tLN:1201\n",
      "@SQ\tSN:KI270311.1\tLN:12399\n",
      "@SQ\tSN:KI270312.1\tLN:998\n",
      "@SQ\tSN:KI270315.1\tLN:2276\n",
      "@SQ\tSN:KI270316.1\tLN:1444\n",
      "@SQ\tSN:KI270317.1\tLN:37690\n",
      "@SQ\tSN:KI270320.1\tLN:4416\n",
      "@SQ\tSN:KI270322.1\tLN:21476\n",
      "@SQ\tSN:KI270329.1\tLN:1040\n",
      "@SQ\tSN:KI270330.1\tLN:1652\n",
      "@SQ\tSN:KI270333.1\tLN:2699\n",
      "@SQ\tSN:KI270334.1\tLN:1368\n",
      "@SQ\tSN:KI270335.1\tLN:1048\n",
      "@SQ\tSN:KI270336.1\tLN:1026\n",
      "@SQ\tSN:KI270337.1\tLN:1121\n",
      "@SQ\tSN:KI270338.1\tLN:1428\n",
      "@SQ\tSN:KI270340.1\tLN:1428\n",
      "@SQ\tSN:KI270362.1\tLN:3530\n",
      "@SQ\tSN:KI270363.1\tLN:1803\n",
      "@SQ\tSN:KI270364.1\tLN:2855\n",
      "@SQ\tSN:KI270366.1\tLN:8320\n",
      "@SQ\tSN:KI270371.1\tLN:2805\n",
      "@SQ\tSN:KI270372.1\tLN:1650\n",
      "@SQ\tSN:KI270373.1\tLN:1451\n",
      "@SQ\tSN:KI270374.1\tLN:2656\n",
      "@SQ\tSN:KI270375.1\tLN:2378\n",
      "@SQ\tSN:KI270376.1\tLN:1136\n",
      "@SQ\tSN:KI270378.1\tLN:1048\n",
      "@SQ\tSN:KI270379.1\tLN:1045\n",
      "@SQ\tSN:KI270381.1\tLN:1930\n",
      "@SQ\tSN:KI270382.1\tLN:4215\n",
      "@SQ\tSN:KI270383.1\tLN:1750\n",
      "@SQ\tSN:KI270384.1\tLN:1658\n",
      "@SQ\tSN:KI270385.1\tLN:990\n",
      "@SQ\tSN:KI270386.1\tLN:1788\n",
      "@SQ\tSN:KI270387.1\tLN:1537\n",
      "@SQ\tSN:KI270388.1\tLN:1216\n",
      "@SQ\tSN:KI270389.1\tLN:1298\n",
      "@SQ\tSN:KI270390.1\tLN:2387\n",
      "@SQ\tSN:KI270391.1\tLN:1484\n",
      "@SQ\tSN:KI270392.1\tLN:971\n",
      "@SQ\tSN:KI270393.1\tLN:1308\n",
      "@SQ\tSN:KI270394.1\tLN:970\n",
      "@SQ\tSN:KI270395.1\tLN:1143\n",
      "@SQ\tSN:KI270396.1\tLN:1880\n",
      "@SQ\tSN:KI270411.1\tLN:2646\n",
      "@SQ\tSN:KI270412.1\tLN:1179\n",
      "@SQ\tSN:KI270414.1\tLN:2489\n",
      "@SQ\tSN:KI270417.1\tLN:2043\n",
      "@SQ\tSN:KI270418.1\tLN:2145\n",
      "@SQ\tSN:KI270419.1\tLN:1029\n",
      "@SQ\tSN:KI270420.1\tLN:2321\n",
      "@SQ\tSN:KI270422.1\tLN:1445\n",
      "@SQ\tSN:KI270423.1\tLN:981\n",
      "@SQ\tSN:KI270424.1\tLN:2140\n",
      "@SQ\tSN:KI270425.1\tLN:1884\n",
      "@SQ\tSN:KI270429.1\tLN:1361\n",
      "@SQ\tSN:KI270435.1\tLN:92983\n",
      "@SQ\tSN:KI270438.1\tLN:112505\n",
      "@SQ\tSN:KI270442.1\tLN:392061\n",
      "@SQ\tSN:KI270448.1\tLN:7992\n",
      "@SQ\tSN:KI270465.1\tLN:1774\n",
      "@SQ\tSN:KI270466.1\tLN:1233\n",
      "@SQ\tSN:KI270467.1\tLN:3920\n",
      "@SQ\tSN:KI270468.1\tLN:4055\n",
      "@SQ\tSN:KI270507.1\tLN:5353\n",
      "@SQ\tSN:KI270508.1\tLN:1951\n",
      "@SQ\tSN:KI270509.1\tLN:2318\n",
      "@SQ\tSN:KI270510.1\tLN:2415\n",
      "@SQ\tSN:KI270511.1\tLN:8127\n",
      "@SQ\tSN:KI270512.1\tLN:22689\n",
      "@SQ\tSN:KI270515.1\tLN:6361\n",
      "@SQ\tSN:KI270516.1\tLN:1300\n",
      "@SQ\tSN:KI270517.1\tLN:3253\n",
      "@SQ\tSN:KI270518.1\tLN:2186\n",
      "@SQ\tSN:KI270519.1\tLN:138126\n",
      "@SQ\tSN:KI270521.1\tLN:7642\n",
      "@SQ\tSN:KI270522.1\tLN:5674\n",
      "@SQ\tSN:KI270528.1\tLN:2983\n",
      "@SQ\tSN:KI270529.1\tLN:1899\n",
      "@SQ\tSN:KI270530.1\tLN:2168\n",
      "@SQ\tSN:KI270538.1\tLN:91309\n",
      "@SQ\tSN:KI270539.1\tLN:993\n",
      "@SQ\tSN:KI270544.1\tLN:1202\n",
      "@SQ\tSN:KI270548.1\tLN:1599\n",
      "@SQ\tSN:KI270579.1\tLN:31033\n",
      "@SQ\tSN:KI270580.1\tLN:1553\n",
      "@SQ\tSN:KI270581.1\tLN:7046\n",
      "@SQ\tSN:KI270582.1\tLN:6504\n",
      "@SQ\tSN:KI270583.1\tLN:1400\n",
      "@SQ\tSN:KI270584.1\tLN:4513\n",
      "@SQ\tSN:KI270587.1\tLN:2969\n",
      "@SQ\tSN:KI270588.1\tLN:6158\n",
      "@SQ\tSN:KI270589.1\tLN:44474\n",
      "@SQ\tSN:KI270590.1\tLN:4685\n",
      "@SQ\tSN:KI270591.1\tLN:5796\n",
      "@SQ\tSN:KI270593.1\tLN:3041\n",
      "@SQ\tSN:KI270706.1\tLN:175055\n",
      "@SQ\tSN:KI270707.1\tLN:32032\n",
      "@SQ\tSN:KI270708.1\tLN:127682\n",
      "@SQ\tSN:KI270709.1\tLN:66860\n",
      "@SQ\tSN:KI270710.1\tLN:40176\n",
      "@SQ\tSN:KI270711.1\tLN:42210\n",
      "@SQ\tSN:KI270712.1\tLN:176043\n",
      "@SQ\tSN:KI270713.1\tLN:40745\n",
      "@SQ\tSN:KI270714.1\tLN:41717\n",
      "@SQ\tSN:KI270715.1\tLN:161471\n",
      "@SQ\tSN:KI270716.1\tLN:153799\n",
      "@SQ\tSN:KI270717.1\tLN:40062\n",
      "@SQ\tSN:KI270718.1\tLN:38054\n",
      "@SQ\tSN:KI270719.1\tLN:176845\n",
      "@SQ\tSN:KI270720.1\tLN:39050\n",
      "@SQ\tSN:KI270721.1\tLN:100316\n",
      "@SQ\tSN:KI270722.1\tLN:194050\n",
      "@SQ\tSN:KI270723.1\tLN:38115\n",
      "@SQ\tSN:KI270724.1\tLN:39555\n",
      "@SQ\tSN:KI270725.1\tLN:172810\n",
      "@SQ\tSN:KI270726.1\tLN:43739\n",
      "@SQ\tSN:KI270727.1\tLN:448248\n",
      "@SQ\tSN:KI270728.1\tLN:1872759\n",
      "@SQ\tSN:KI270729.1\tLN:280839\n",
      "@SQ\tSN:KI270730.1\tLN:112551\n",
      "@SQ\tSN:KI270731.1\tLN:150754\n",
      "@SQ\tSN:KI270732.1\tLN:41543\n",
      "@SQ\tSN:KI270733.1\tLN:179772\n",
      "@SQ\tSN:KI270734.1\tLN:165050\n",
      "@SQ\tSN:KI270735.1\tLN:42811\n",
      "@SQ\tSN:KI270736.1\tLN:181920\n",
      "@SQ\tSN:KI270737.1\tLN:103838\n",
      "@SQ\tSN:KI270738.1\tLN:99375\n",
      "@SQ\tSN:KI270739.1\tLN:73985\n",
      "@SQ\tSN:KI270740.1\tLN:37240\n",
      "@SQ\tSN:KI270741.1\tLN:157432\n",
      "@SQ\tSN:KI270742.1\tLN:186739\n",
      "@SQ\tSN:KI270743.1\tLN:210658\n",
      "@SQ\tSN:KI270744.1\tLN:168472\n",
      "@SQ\tSN:KI270745.1\tLN:41891\n",
      "@SQ\tSN:KI270746.1\tLN:66486\n",
      "@SQ\tSN:KI270747.1\tLN:198735\n",
      "@SQ\tSN:KI270748.1\tLN:93321\n",
      "@SQ\tSN:KI270749.1\tLN:158759\n",
      "@SQ\tSN:KI270750.1\tLN:148850\n",
      "@SQ\tSN:KI270751.1\tLN:150742\n",
      "@SQ\tSN:KI270752.1\tLN:27745\n",
      "@SQ\tSN:KI270753.1\tLN:62944\n",
      "@SQ\tSN:KI270754.1\tLN:40191\n",
      "@SQ\tSN:KI270755.1\tLN:36723\n",
      "@SQ\tSN:KI270756.1\tLN:79590\n",
      "@SQ\tSN:KI270757.1\tLN:71251\n",
      "@RG\tID:ecd3c30b-610c-4311-91c6-54c04f63f632\tSM:ecd3c30b-610c-4311-91c6-54c04f63f632\tLB:ecd3c30b-610c-4311-91c6-54c04f63f632\tPL:ILLUMINA\tPU:ecd3c30b-610c-4311-91c6-54c04f63f632\n",
      "@PG\tID:hisat2\tPN:hisat2\tVN:2.1.0\tCL:\"/opt/tools/hisat2-2.1.0/hisat2-align-s --wrapper basic-0 -t -x genome_snp_tran/genome_snp_tran --rg-id=ecd3c30b-610c-4311-91c6-54c04f63f632 --rg SM:ecd3c30b-610c-4311-91c6-54c04f63f632 --rg LB:ecd3c30b-610c-4311-91c6-54c04f63f632 --rg PL:ILLUMINA --rg PU:ecd3c30b-610c-4311-91c6-54c04f63f632 --new-summary --summary-file ecd3c30b-610c-4311-91c6-54c04f63f632_qc.log --met-file ecd3c30b-610c-4311-91c6-54c04f63f632_qc.hisat2.met.txt --met 5 --seed 12345 -k 10 --secondary -p 4 -S /dev/fd/63 -1 /tmp/147.inpipe1 -2 /tmp/147.inpipe2\"\n",
      "\n"
     ]
    }
   ],
   "source": [
    "import pysam\n",
    "bam = pysam.AlignmentFile(\"Aligned.sortedByCoord.out.bam\", \"rb\")\n",
    "print(bam.header)"
   ]
  }
 ],
 "metadata": {
  "kernelspec": {
   "display_name": "Python 3",
   "language": "python",
   "name": "python3"
  },
  "language_info": {
   "codemirror_mode": {
    "name": "ipython",
    "version": 3
   },
   "file_extension": ".py",
   "mimetype": "text/x-python",
   "name": "python",
   "nbconvert_exporter": "python",
   "pygments_lexer": "ipython3",
   "version": "3.6.3"
  }
 },
 "nbformat": 4,
 "nbformat_minor": 2
}

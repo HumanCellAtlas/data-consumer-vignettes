{
 "cells": [
  {
   "cell_type": "markdown",
   "metadata": {},
   "source": [
    "# Download Any BAM File"
   ]
  },
  {
   "cell_type": "markdown",
   "metadata": {},
   "source": [
    "In this notebook we show how to search all bundles in the Human Cell Atlas Data Store (DSS) to find any bundle with a BAM file, and downloda it. This will allow us to see an example of aligned data in the HCA."
   ]
  },
  {
   "cell_type": "markdown",
   "metadata": {},
   "source": [
    "We start by creating a DSS client:"
   ]
  },
  {
   "cell_type": "code",
   "execution_count": 17,
   "metadata": {},
   "outputs": [],
   "source": [
    "import hca, hca.dss, json\n",
    "client = hca.dss.DSSClient()"
   ]
  },
  {
   "cell_type": "markdown",
   "metadata": {},
   "source": [
    "## Finding Bundles with BAM Files\n",
    "\n",
    "The DSS client we created has a method called `get_file()` that is the function we will ultimately use to download the file, but if we print its help string, we see that we need a UUID to download a file:"
   ]
  },
  {
   "cell_type": "code",
   "execution_count": 18,
   "metadata": {},
   "outputs": [
    {
     "name": "stdout",
     "output_type": "stream",
     "text": [
      "Help on method get_file in module hca.util:\n",
      "\n",
      "get_file(client, uuid:str=None, replica:str=None, version:Union[str, NoneType]=None, token:Union[str, NoneType]=None, directurl:Union[str, NoneType]=None, content_disposition:Union[str, NoneType]=None) method of builtins.type instance\n",
      "    Retrieve a file given a UUID and optionally a version.\n",
      "    \n",
      "    \n",
      "    .. admonition:: Streaming\n",
      "    \n",
      "     Use ``DSSClient.get_file.stream(**kwargs)`` to get a ``requests.Response`` object whose body has not been\n",
      "     read yet. This allows streaming large file bodies:\n",
      "    \n",
      "     .. code-block:: python\n",
      "    \n",
      "        fid = \"7a8fbda7-d470-467a-904e-5c73413fab3e\"\n",
      "        with DSSClient().get_file.stream(uuid=fid, replica=\"aws\") as fh:\n",
      "            while True:\n",
      "                chunk = fh.raw.read(1024)\n",
      "                ...\n",
      "                if not chunk:\n",
      "                    break\n",
      "    \n",
      "     The keyword arguments for ``DSSClient.get_file.stream()`` are identical to the arguments for\n",
      "     ``DSSClient.get_file()`` listed here.\n",
      "    :param uuid:  A RFC4122-compliant ID for the file. \n",
      "    :type uuid: <class 'str'>\n",
      "    :param replica:  Replica to fetch from. \n",
      "    :type replica: <class 'str'>\n",
      "    :param version:  Timestamp of file creation in DSS_VERSION format.  If this is not provided, the latest version is returned. \n",
      "    :type version: typing.Union[str, NoneType]\n",
      "    :param token:  Token to manage retries.  End users constructing queries should not set this parameter. \n",
      "    :type token: typing.Union[str, NoneType]\n",
      "    :param directurl:  When set to true, the response will contain API-specific URLs that are tied to the specified replica, for example ``gs://bucket/object`` or ``s3://bucket/object``  The use of presigned URLs is recommended for data access. Cloud native URLs are currently provided for a limited set of use cases and may not be provided in the future. If cloud native URLs are required, please contact the data store team regarding the credentials necessary to use them. \n",
      "    :type directurl: typing.Union[str, NoneType]\n",
      "    :param content_disposition:  Optional and does not work when directurl=true (only works with the default presigned url response).  If this parameter is provided, the response from fetching the returned presigned url will include the specified Content-Disposition header.  This can be useful to indicate to a browser that a file should be downloaded rather than opened in a new tab, and can also supply the original filename in the response.  Example:  .. code::      content_disposition=\"attachment; filename=data.json\" \n",
      "    :type content_disposition: typing.Union[str, NoneType]\n",
      "    \n",
      "    \n",
      "    \n",
      "    Given a file UUID, return the latest version of that file.  If the version is provided, that version of the file is returned instead.\n",
      "    Headers will contain the data store metadata for the file.\n",
      "    This endpoint returns a HTTP redirect to another HTTP endpoint with the file contents.\n",
      "\n"
     ]
    }
   ],
   "source": [
    "help(client.get_file)"
   ]
  },
  {
   "cell_type": "markdown",
   "metadata": {},
   "source": [
    "## Writing the ElasticSearch Query\n",
    "\n",
    "To find BAM files, we can run an ElasticSearch wildcard query, and search for files listed in each bundle's manifest for patterns matching `*.bam`. See the [\"ElasticSearch Queries\"](../elasticsearch-queries/elasticsearch-queries.ipynb) notebook for details about ElasticSearch wildcard and regular expression queries.\n",
    "\n",
    "We will use the `post_search()` method and pass the ElasticSearch query as an argument. We want to use a wildcard search to find all bundles whose file manifest contains a `*.bam` file. We can run an empty search to determine the metadata structure, including the file manifest, to see how to assemble the ElasticSearch query:"
   ]
  },
  {
   "cell_type": "code",
   "execution_count": 26,
   "metadata": {},
   "outputs": [],
   "source": [
    "#print(help(client.post_search))"
   ]
  },
  {
   "cell_type": "code",
   "execution_count": 27,
   "metadata": {},
   "outputs": [],
   "source": [
    "bundles = client.post_search(es_query={}, replica='aws', output_format='raw')\n",
    "\n",
    "first_bundle = bundles['results'][0]"
   ]
  },
  {
   "cell_type": "markdown",
   "metadata": {},
   "source": [
    "The file manifest, after some exploration, can be found under `metadata.manifest.files`:"
   ]
  },
  {
   "cell_type": "code",
   "execution_count": 28,
   "metadata": {},
   "outputs": [
    {
     "name": "stdout",
     "output_type": "stream",
     "text": [
      "[\n",
      "    {\n",
      "        \"content-type\": \"application/json; dcp-type=\\\"metadata/biomaterial\\\"\",\n",
      "        \"crc32c\": \"fdff6dea\",\n",
      "        \"indexed\": true,\n",
      "        \"name\": \"cell_suspension_0.json\",\n",
      "        \"s3-etag\": \"608e9aba7ccfa6f9ab1a41fe55d3034c\",\n",
      "        \"sha1\": \"dd0be5655f99000e257e295011cf0a56824c32b2\",\n",
      "        \"sha256\": \"1842c7285092fa5e7f56ad48fa208edd29120b4798875ae8a6fa1142f817d415\",\n",
      "        \"size\": 997,\n",
      "        \"uuid\": \"5851c22f-3ad8-40db-bdf2-f5dc0e26dbd3\",\n",
      "        \"version\": \"2019-05-14T093128.827000Z\"\n",
      "    },\n",
      "    {\n",
      "        \"content-type\": \"application/json; dcp-type=\\\"metadata/biomaterial\\\"\",\n",
      "        \"crc32c\": \"a0c4269e\",\n",
      "        \"indexed\": true,\n",
      "        \"name\": \"specimen_from_organism_0.json\",\n",
      "        \"s3-etag\": \"73163822cf12c0426e9730ef0c0cddd9\",\n",
      "        \"sha1\": \"7bcb10987d77d74a7080bb8c46b8193f00505985\",\n",
      "        \"sha256\": \"bb712ce013a58eccdf0bdf55c15d3ea13388bcf3cec5c24220e381eb65846283\",\n",
      "        \"size\": 1169,\n",
      "        \"uuid\": \"1a2e8c90-0d8b-465c-a4a6-bed616dbfad2\",\n",
      "        \"version\": \"2019-05-14T092648.799000Z\"\n",
      "    },\n",
      "    {\n",
      "        \"content-type\": \"application/json; dcp-type=\\\"metadata/biomaterial\\\"\",\n",
      "        \"crc32c\": \"b0b45b80\",\n",
      "        \"indexed\": true,\n",
      "        \"name\": \"donor_organism_0.json\",\n",
      "        \"s3-etag\": \"f236a3b672f2025c726149f2d0542161\",\n",
      "        \"sha1\": \"4cf71dfed1aedd9eb10fa6c8b01afc225f75a3ea\",\n",
      "        \"sha256\": \"d13d35b49a79ecfc3be995d9c0df64f071ecfe540f958f570c4aec82f9132997\",\n",
      "        \"size\": 1341,\n",
      "        \"uuid\": \"cfde197c-59c3-4ac7-93e7-b41d2c206e93\",\n",
      "        \"version\": \"2019-05-14T092508.151000Z\"\n",
      "    },\n",
      "    {\n",
      "        \"content-type\": \"application/json; dcp-type=\\\"metadata/file\\\"\",\n",
      "        \"crc32c\": \"33ce0536\",\n",
      "        \"indexed\": true,\n",
      "        \"name\": \"sequence_file_0.json\",\n",
      "        \"s3-etag\": \"154266a1f321cde8ede20ee8071465a4\",\n",
      "        \"sha1\": \"23e4c330452839cb41b69b2fc2d18506cb5c86ce\",\n",
      "        \"sha256\": \"f5d83ecee5d23e98a592482b24a0cff4e92671a9dc6d22f4f62d4d03daf3b987\",\n",
      "        \"size\": 520,\n",
      "        \"uuid\": \"24aee65f-213e-442a-b5a6-8f323aaf8b08\",\n",
      "        \"version\": \"2019-05-14T095209.276000Z\"\n",
      "    },\n",
      "    {\n",
      "        \"content-type\": \"application/json; dcp-type=\\\"metadata/project\\\"\",\n",
      "        \"crc32c\": \"08fb0af6\",\n",
      "        \"indexed\": true,\n",
      "        \"name\": \"project_0.json\",\n",
      "        \"s3-etag\": \"0ad4ab37bfe5d9798afdfba0b949eb05\",\n",
      "        \"sha1\": \"bab034a14a2ca97a98a7035b08cddc9d5fa03459\",\n",
      "        \"sha256\": \"96a6a89399aa47c52e15984c19769dccac4029656da0294a95b86b10d6e37914\",\n",
      "        \"size\": 6263,\n",
      "        \"uuid\": \"ae71be1d-ddd8-4feb-9bed-24c3ddb6e1ad\",\n",
      "        \"version\": \"2019-05-14T092506.555000Z\"\n",
      "    },\n",
      "    {\n",
      "        \"content-type\": \"application/json; dcp-type=\\\"metadata/protocol\\\"\",\n",
      "        \"crc32c\": \"49aa500f\",\n",
      "        \"indexed\": true,\n",
      "        \"name\": \"library_preparation_protocol_0.json\",\n",
      "        \"s3-etag\": \"7e9e1bc2ee6e782f012df057e4fc8513\",\n",
      "        \"sha1\": \"c7b8d0ac3ac5b66e5ac61d81a1ef70bb37a74323\",\n",
      "        \"sha256\": \"8d94f45c9c31011a795d2626c2f0aebb506a1dce92de72650171b742a96326fe\",\n",
      "        \"size\": 1337,\n",
      "        \"uuid\": \"96209d06-5fb7-4fc3-bff4-20ef3f55ee40\",\n",
      "        \"version\": \"2019-05-14T091945.579000Z\"\n",
      "    },\n",
      "    {\n",
      "        \"content-type\": \"application/json; dcp-type=\\\"metadata/protocol\\\"\",\n",
      "        \"crc32c\": \"82d72b8c\",\n",
      "        \"indexed\": true,\n",
      "        \"name\": \"sequencing_protocol_0.json\",\n",
      "        \"s3-etag\": \"db67c58bf1e090404112e4fdad72f7ac\",\n",
      "        \"sha1\": \"0aa97de5efb059bef7802d4daa6a462995895fe8\",\n",
      "        \"sha256\": \"d35a79746f9f3e5487d3342d5c2df76ceaad59d55e282ab8ffc0bc360ea12859\",\n",
      "        \"size\": 1025,\n",
      "        \"uuid\": \"eb61d563-e7ec-407d-a84f-3626663eb4fa\",\n",
      "        \"version\": \"2019-05-14T091945.616000Z\"\n",
      "    },\n",
      "    {\n",
      "        \"content-type\": \"application/json; dcp-type=\\\"metadata/protocol\\\"\",\n",
      "        \"crc32c\": \"9e7a0efb\",\n",
      "        \"indexed\": true,\n",
      "        \"name\": \"dissociation_protocol_0.json\",\n",
      "        \"s3-etag\": \"4fb3cd5b9db025c80fcd1191300f5582\",\n",
      "        \"sha1\": \"b3e94679f3d150ef1d7ec6b6156bf7d391c0c1fd\",\n",
      "        \"sha256\": \"0d80e243aa428b5612369391ae7b74dd823cfe02b7c63067b9f5ac97d2034c3d\",\n",
      "        \"size\": 901,\n",
      "        \"uuid\": \"d72df926-94a2-4e11-b40a-88ed7691cae9\",\n",
      "        \"version\": \"2019-05-14T091945.386000Z\"\n",
      "    },\n",
      "    {\n",
      "        \"content-type\": \"application/json; dcp-type=\\\"metadata/process\\\"\",\n",
      "        \"crc32c\": \"6273537c\",\n",
      "        \"indexed\": true,\n",
      "        \"name\": \"process_0.json\",\n",
      "        \"s3-etag\": \"6d6571aaf2e373b2350bfc6a146edd07\",\n",
      "        \"sha1\": \"b63c096ec76f8a52c4a7d3d4a1971c5c87d111ba\",\n",
      "        \"sha256\": \"da80ad8f7f4e3c0a78fcb1078445e3be1a69d90453552005c7b35c07007db7d0\",\n",
      "        \"size\": 463,\n",
      "        \"uuid\": \"135c272e-ad97-47dd-9231-2095b716157a\",\n",
      "        \"version\": \"2019-05-14T093716.651000Z\"\n",
      "    },\n",
      "    {\n",
      "        \"content-type\": \"application/json; dcp-type=\\\"metadata/process\\\"\",\n",
      "        \"crc32c\": \"d7412fca\",\n",
      "        \"indexed\": true,\n",
      "        \"name\": \"process_1.json\",\n",
      "        \"s3-etag\": \"2e4f2bb744c2a739a42882628f10b9af\",\n",
      "        \"sha1\": \"b596b232542279da38a9eddb5f1e07e806a8231c\",\n",
      "        \"sha256\": \"abb8e689dbe0f83d3cf3a1876c1ba8241e0c706ef9ca22e2ff7013c161b71453\",\n",
      "        \"size\": 377,\n",
      "        \"uuid\": \"1c67612f-ffc6-4468-8545-ee2bffd2cf38\",\n",
      "        \"version\": \"2019-05-14T093536.378000Z\"\n",
      "    },\n",
      "    {\n",
      "        \"content-type\": \"application/json; dcp-type=\\\"metadata/process\\\"\",\n",
      "        \"crc32c\": \"3476a09b\",\n",
      "        \"indexed\": true,\n",
      "        \"name\": \"process_2.json\",\n",
      "        \"s3-etag\": \"36f81eb1ea94fa6b4487426322d10ed3\",\n",
      "        \"sha1\": \"04b8b93260ad2654b377149391a69b5a5d7ea2f6\",\n",
      "        \"sha256\": \"bd47f699e80b8dc4ebcf3b4e516bb82e01d71f96ab8e6ae16a838983872fc50a\",\n",
      "        \"size\": 376,\n",
      "        \"uuid\": \"451a2914-2534-47a9-aa43-e0a93dfb5046\",\n",
      "        \"version\": \"2019-05-14T093534.629000Z\"\n",
      "    },\n",
      "    {\n",
      "        \"content-type\": \"application/json; dcp-type=\\\"metadata/links\\\"\",\n",
      "        \"crc32c\": \"89974eee\",\n",
      "        \"indexed\": true,\n",
      "        \"name\": \"links.json\",\n",
      "        \"s3-etag\": \"7d27535d7b0ddea1204ffbf8bf6e5bf5\",\n",
      "        \"sha1\": \"4865a7b2602a05cc1b192dbd25b45820e528e785\",\n",
      "        \"sha256\": \"abef3de4d865fc7a90e5437d3323306cea33e453f48332dd366df6f3974901df\",\n",
      "        \"size\": 1856,\n",
      "        \"uuid\": \"e46a83ab-0882-47ae-9ba4-392ac40886f5\",\n",
      "        \"version\": \"2019-05-14T151416.992321Z\"\n",
      "    },\n",
      "    {\n",
      "        \"content-type\": \"application/gzip; dcp-type=data\",\n",
      "        \"crc32c\": \"900f9190\",\n",
      "        \"indexed\": false,\n",
      "        \"name\": \"HP1506401_H16.fastq.gz\",\n",
      "        \"s3-etag\": \"d43db6663df47d5f46cd182964ed5257\",\n",
      "        \"sha1\": \"420099211a18cc5d4243c5edd2a96694bea6e064\",\n",
      "        \"sha256\": \"d197ee59a8be6b4db20f01aa802b49b8b3d5d6abe539872863acd6cdef1f067a\",\n",
      "        \"size\": 26207289,\n",
      "        \"uuid\": \"90dc8de8-9837-492f-bef8-673b262dd417\",\n",
      "        \"version\": \"2019-05-14T151417.335615Z\"\n",
      "    }\n",
      "]\n"
     ]
    }
   ],
   "source": [
    "print(json.dumps(\n",
    "    first_bundle['metadata']['manifest']['files'],\n",
    "    indent=4\n",
    "))"
   ]
  },
  {
   "cell_type": "markdown",
   "metadata": {},
   "source": [
    "When we write an ElasticSearch query, we can use a wildcard search to match bundles where the field\n",
    "\n",
    "```\n",
    "manifest.files.name\n",
    "```\n",
    "\n",
    "matches the wildcard expression `*.bam`."
   ]
  },
  {
   "cell_type": "code",
   "execution_count": 31,
   "metadata": {},
   "outputs": [],
   "source": [
    "bam_query = {\n",
    "    \"query\": {\n",
    "        \"wildcard\": {\n",
    "            \"manifest.files.name\" : {\n",
    "                \"value\": \"*.bam\"\n",
    "            }\n",
    "        }\n",
    "    }\n",
    "}"
   ]
  },
  {
   "cell_type": "markdown",
   "metadata": {},
   "source": [
    "## Running the ElasticSearch Query\n",
    "\n",
    "Now we can write a function that will call `post_search.iterate()` to iterate over the ElasticSearch results to extract the file UUID information for each BAM file, so that we can use the DSS API to download BAM files.\n",
    "\n",
    "We also implement this function as a generator using the `yield` keyword so that it evaluates lazily."
   ]
  },
  {
   "cell_type": "code",
   "execution_count": 73,
   "metadata": {},
   "outputs": [],
   "source": [
    "def find_bam():\n",
    "    for bundle in client.post_search.iterate(es_query = bam_query, replica = 'aws', output_format = 'raw'):\n",
    "        # Use the files list Use that to get the bundle information\n",
    "        for file_dict in bundle[\"metadata\"][\"manifest\"][\"files\"]:\n",
    "            if file_dict[\"name\"].endswith(\".bam\"):\n",
    "                yield file_dict"
   ]
  },
  {
   "cell_type": "markdown",
   "metadata": {},
   "source": [
    "This is a generator, so we can test it by running `next(find_bam())`, which should return a JSON containing information about a BAM file from the first result of our ElasticSearch query."
   ]
  },
  {
   "cell_type": "code",
   "execution_count": 74,
   "metadata": {},
   "outputs": [
    {
     "name": "stdout",
     "output_type": "stream",
     "text": [
      "{\n",
      "    \"content-type\": \"application/gzip; dcp-type=data\",\n",
      "    \"crc32c\": \"13d0a885\",\n",
      "    \"indexed\": false,\n",
      "    \"name\": \"merged.bam\",\n",
      "    \"s3-etag\": \"2a460ca1a794924868eb9ab10188148d-263\",\n",
      "    \"sha1\": \"e80d114b07a165f638f80904806587a8c2a67b0a\",\n",
      "    \"sha256\": \"610003f3064db6e64aa14b759827e9e4b8c7b8a8fd24b591f85a6db6aae34a9f\",\n",
      "    \"size\": 17629632969,\n",
      "    \"uuid\": \"0fb3b147-11c1-4494-bbfb-55f0140ac656\",\n",
      "    \"version\": \"2019-07-28T070418.165550Z\"\n",
      "}\n"
     ]
    }
   ],
   "source": [
    "bam_generator = find_bam()\n",
    "bam_file = next(bam_generator)\n",
    "print(json.dumps(bam_file, indent=4))"
   ]
  },
  {
   "cell_type": "markdown",
   "metadata": {},
   "source": [
    "Check the size to make sure this BAM file is less than 1 GB (since we will download it for this tutorial), and if it is too large, get the next BAM file returned by `find_bam()`:"
   ]
  },
  {
   "cell_type": "code",
   "execution_count": 48,
   "metadata": {},
   "outputs": [
    {
     "name": "stdout",
     "output_type": "stream",
     "text": [
      "BAM file merged.bam is 16.42 GB\n",
      " ------ This BAM file is too large! continuing to look for another BAM file ------\n",
      "BAM file ecd3c30b-610c-4311-91c6-54c04f63f632_qc.bam is 0.04 GB\n"
     ]
    }
   ],
   "source": [
    "B2GB = 1/1024/1024/1024\n",
    "size_in_gb = bam_file['size']*B2GB\n",
    "print(\"BAM file %s is %0.2f GB\"%(bam_file['name'], bam_file['size']*B2GB))\n",
    "\n",
    "while size_in_gb > 1.0:\n",
    "    print(\" ------ This BAM file is too large! continuing to look for another BAM file ------\")\n",
    "    bam_file = next(bam_generator)\n",
    "    size_in_gb = bam_file['size']*B2GB\n",
    "    print(\"BAM file %s is %0.2f GB\"%(bam_file['name'], bam_file['size']*B2GB))"
   ]
  },
  {
   "cell_type": "markdown",
   "metadata": {},
   "source": [
    "## Downloading the BAM File\n",
    "\n",
    "We can now use the `bam_file` information to download the file. We call the `client.get_file()` method and pass the UUID of the file:"
   ]
  },
  {
   "cell_type": "code",
   "execution_count": 65,
   "metadata": {},
   "outputs": [
    {
     "name": "stderr",
     "output_type": "stream",
     "text": [
      "Waiting 10s before redirect per Retry-After header\n"
     ]
    },
    {
     "ename": "KeyboardInterrupt",
     "evalue": "",
     "output_type": "error",
     "traceback": [
      "\u001b[0;31m--------------------------------------------------------------\u001b[0m",
      "\u001b[0;31mKeyboardInterrupt\u001b[0m            Traceback (most recent call last)",
      "\u001b[0;32m<ipython-input-65-19e2cab874a5>\u001b[0m in \u001b[0;36m<module>\u001b[0;34m\u001b[0m\n\u001b[0;32m----> 1\u001b[0;31m \u001b[0mbam_file\u001b[0m \u001b[0;34m=\u001b[0m \u001b[0mclient\u001b[0m\u001b[0;34m.\u001b[0m\u001b[0mget_file\u001b[0m\u001b[0;34m(\u001b[0m\u001b[0muuid\u001b[0m\u001b[0;34m=\u001b[0m\u001b[0mbam_file\u001b[0m\u001b[0;34m[\u001b[0m\u001b[0;34m'uuid'\u001b[0m\u001b[0;34m]\u001b[0m\u001b[0;34m,\u001b[0m \u001b[0mreplica\u001b[0m\u001b[0;34m=\u001b[0m\u001b[0;34m\"aws\"\u001b[0m\u001b[0;34m)\u001b[0m\u001b[0;34m\u001b[0m\u001b[0m\n\u001b[0m",
      "\u001b[0;32m~/codes/data-consumer-vignettes/vp/lib/python3.6/site-packages/hca/util/__init__.py\u001b[0m in \u001b[0;36m__call__\u001b[0;34m(self, client, **kwargs)\u001b[0m\n\u001b[1;32m    195\u001b[0m \u001b[0;34m\u001b[0m\u001b[0m\n\u001b[1;32m    196\u001b[0m     \u001b[0;32mdef\u001b[0m \u001b[0m__call__\u001b[0m\u001b[0;34m(\u001b[0m\u001b[0mself\u001b[0m\u001b[0;34m,\u001b[0m \u001b[0mclient\u001b[0m\u001b[0;34m,\u001b[0m \u001b[0;34m**\u001b[0m\u001b[0mkwargs\u001b[0m\u001b[0;34m)\u001b[0m\u001b[0;34m:\u001b[0m\u001b[0;34m\u001b[0m\u001b[0m\n\u001b[0;32m--> 197\u001b[0;31m         \u001b[0;32mreturn\u001b[0m \u001b[0mself\u001b[0m\u001b[0;34m.\u001b[0m\u001b[0m_consume_response\u001b[0m\u001b[0;34m(\u001b[0m\u001b[0mself\u001b[0m\u001b[0;34m.\u001b[0m\u001b[0m_request\u001b[0m\u001b[0;34m(\u001b[0m\u001b[0mkwargs\u001b[0m\u001b[0;34m)\u001b[0m\u001b[0;34m)\u001b[0m\u001b[0;34m\u001b[0m\u001b[0m\n\u001b[0m\u001b[1;32m    198\u001b[0m \u001b[0;34m\u001b[0m\u001b[0m\n\u001b[1;32m    199\u001b[0m     \u001b[0;32mdef\u001b[0m \u001b[0m_cli_call\u001b[0m\u001b[0;34m(\u001b[0m\u001b[0mself\u001b[0m\u001b[0;34m,\u001b[0m \u001b[0mcli_args\u001b[0m\u001b[0;34m)\u001b[0m\u001b[0;34m:\u001b[0m\u001b[0;34m\u001b[0m\u001b[0m\n",
      "\u001b[0;32m~/codes/data-consumer-vignettes/vp/lib/python3.6/site-packages/hca/util/__init__.py\u001b[0m in \u001b[0;36m_request\u001b[0;34m(self, req_args, url, stream, headers)\u001b[0m\n\u001b[1;32m    181\u001b[0m         \u001b[0mjson_input\u001b[0m \u001b[0;34m=\u001b[0m \u001b[0mbody\u001b[0m \u001b[0;32mif\u001b[0m \u001b[0mself\u001b[0m\u001b[0;34m.\u001b[0m\u001b[0mbody_props\u001b[0m \u001b[0;32melse\u001b[0m \u001b[0;32mNone\u001b[0m\u001b[0;34m\u001b[0m\u001b[0m\n\u001b[1;32m    182\u001b[0m         \u001b[0mheaders\u001b[0m \u001b[0;34m=\u001b[0m \u001b[0mheaders\u001b[0m \u001b[0;32mif\u001b[0m \u001b[0mheaders\u001b[0m \u001b[0;32melse\u001b[0m \u001b[0;34m{\u001b[0m\u001b[0;34m}\u001b[0m\u001b[0;34m\u001b[0m\u001b[0m\n\u001b[0;32m--> 183\u001b[0;31m         \u001b[0mres\u001b[0m \u001b[0;34m=\u001b[0m \u001b[0mself\u001b[0m\u001b[0;34m.\u001b[0m\u001b[0mrequest_with_retries_on_post_search\u001b[0m\u001b[0;34m(\u001b[0m\u001b[0msession\u001b[0m\u001b[0;34m,\u001b[0m \u001b[0murl\u001b[0m\u001b[0;34m,\u001b[0m \u001b[0mquery\u001b[0m\u001b[0;34m,\u001b[0m \u001b[0mjson_input\u001b[0m\u001b[0;34m,\u001b[0m \u001b[0mstream\u001b[0m\u001b[0;34m,\u001b[0m \u001b[0mheaders\u001b[0m\u001b[0;34m)\u001b[0m\u001b[0;34m\u001b[0m\u001b[0m\n\u001b[0m\u001b[1;32m    184\u001b[0m         \u001b[0;32mif\u001b[0m \u001b[0mres\u001b[0m\u001b[0;34m.\u001b[0m\u001b[0mstatus_code\u001b[0m \u001b[0;34m>=\u001b[0m \u001b[0;36m400\u001b[0m\u001b[0;34m:\u001b[0m\u001b[0;34m\u001b[0m\u001b[0m\n\u001b[1;32m    185\u001b[0m             \u001b[0;32mraise\u001b[0m \u001b[0mSwaggerAPIException\u001b[0m\u001b[0;34m(\u001b[0m\u001b[0mresponse\u001b[0m\u001b[0;34m=\u001b[0m\u001b[0mres\u001b[0m\u001b[0;34m)\u001b[0m\u001b[0;34m\u001b[0m\u001b[0m\n",
      "\u001b[0;32m~/codes/data-consumer-vignettes/vp/lib/python3.6/site-packages/hca/util/__init__.py\u001b[0m in \u001b[0;36mrequest_with_retries_on_post_search\u001b[0;34m(self, session, url, query, json_input, stream, headers)\u001b[0m\n\u001b[1;32m    155\u001b[0m                                       \u001b[0mstream\u001b[0m\u001b[0;34m=\u001b[0m\u001b[0mstream\u001b[0m\u001b[0;34m,\u001b[0m\u001b[0;34m\u001b[0m\u001b[0m\n\u001b[1;32m    156\u001b[0m                                       \u001b[0mheaders\u001b[0m\u001b[0;34m=\u001b[0m\u001b[0mheaders\u001b[0m\u001b[0;34m,\u001b[0m\u001b[0;34m\u001b[0m\u001b[0m\n\u001b[0;32m--> 157\u001b[0;31m                                       timeout=self.client.timeout_policy)\n\u001b[0m\u001b[1;32m    158\u001b[0m                 \u001b[0mstatus_code\u001b[0m \u001b[0;34m=\u001b[0m \u001b[0mres\u001b[0m\u001b[0;34m.\u001b[0m\u001b[0mstatus_code\u001b[0m\u001b[0;34m\u001b[0m\u001b[0m\n\u001b[1;32m    159\u001b[0m             \u001b[0;32mexcept\u001b[0m \u001b[0mSwaggerAPIException\u001b[0m\u001b[0;34m:\u001b[0m\u001b[0;34m\u001b[0m\u001b[0m\n",
      "\u001b[0;32m~/codes/data-consumer-vignettes/vp/lib/python3.6/site-packages/requests/sessions.py\u001b[0m in \u001b[0;36mrequest\u001b[0;34m(self, method, url, params, data, headers, cookies, files, auth, timeout, allow_redirects, proxies, hooks, stream, verify, cert, json)\u001b[0m\n\u001b[1;32m    531\u001b[0m         }\n\u001b[1;32m    532\u001b[0m         \u001b[0msend_kwargs\u001b[0m\u001b[0;34m.\u001b[0m\u001b[0mupdate\u001b[0m\u001b[0;34m(\u001b[0m\u001b[0msettings\u001b[0m\u001b[0;34m)\u001b[0m\u001b[0;34m\u001b[0m\u001b[0m\n\u001b[0;32m--> 533\u001b[0;31m         \u001b[0mresp\u001b[0m \u001b[0;34m=\u001b[0m \u001b[0mself\u001b[0m\u001b[0;34m.\u001b[0m\u001b[0msend\u001b[0m\u001b[0;34m(\u001b[0m\u001b[0mprep\u001b[0m\u001b[0;34m,\u001b[0m \u001b[0;34m**\u001b[0m\u001b[0msend_kwargs\u001b[0m\u001b[0;34m)\u001b[0m\u001b[0;34m\u001b[0m\u001b[0m\n\u001b[0m\u001b[1;32m    534\u001b[0m \u001b[0;34m\u001b[0m\u001b[0m\n\u001b[1;32m    535\u001b[0m         \u001b[0;32mreturn\u001b[0m \u001b[0mresp\u001b[0m\u001b[0;34m\u001b[0m\u001b[0m\n",
      "\u001b[0;32m~/codes/data-consumer-vignettes/vp/lib/python3.6/site-packages/requests/sessions.py\u001b[0m in \u001b[0;36msend\u001b[0;34m(self, request, **kwargs)\u001b[0m\n\u001b[1;32m    666\u001b[0m \u001b[0;34m\u001b[0m\u001b[0m\n\u001b[1;32m    667\u001b[0m         \u001b[0;31m# Resolve redirects if allowed.\u001b[0m\u001b[0;34m\u001b[0m\u001b[0;34m\u001b[0m\u001b[0m\n\u001b[0;32m--> 668\u001b[0;31m         \u001b[0mhistory\u001b[0m \u001b[0;34m=\u001b[0m \u001b[0;34m[\u001b[0m\u001b[0mresp\u001b[0m \u001b[0;32mfor\u001b[0m \u001b[0mresp\u001b[0m \u001b[0;32min\u001b[0m \u001b[0mgen\u001b[0m\u001b[0;34m]\u001b[0m \u001b[0;32mif\u001b[0m \u001b[0mallow_redirects\u001b[0m \u001b[0;32melse\u001b[0m \u001b[0;34m[\u001b[0m\u001b[0;34m]\u001b[0m\u001b[0;34m\u001b[0m\u001b[0m\n\u001b[0m\u001b[1;32m    669\u001b[0m \u001b[0;34m\u001b[0m\u001b[0m\n\u001b[1;32m    670\u001b[0m         \u001b[0;31m# Shuffle things around if there's history.\u001b[0m\u001b[0;34m\u001b[0m\u001b[0;34m\u001b[0m\u001b[0m\n",
      "\u001b[0;32m~/codes/data-consumer-vignettes/vp/lib/python3.6/site-packages/requests/sessions.py\u001b[0m in \u001b[0;36m<listcomp>\u001b[0;34m(.0)\u001b[0m\n\u001b[1;32m    666\u001b[0m \u001b[0;34m\u001b[0m\u001b[0m\n\u001b[1;32m    667\u001b[0m         \u001b[0;31m# Resolve redirects if allowed.\u001b[0m\u001b[0;34m\u001b[0m\u001b[0;34m\u001b[0m\u001b[0m\n\u001b[0;32m--> 668\u001b[0;31m         \u001b[0mhistory\u001b[0m \u001b[0;34m=\u001b[0m \u001b[0;34m[\u001b[0m\u001b[0mresp\u001b[0m \u001b[0;32mfor\u001b[0m \u001b[0mresp\u001b[0m \u001b[0;32min\u001b[0m \u001b[0mgen\u001b[0m\u001b[0;34m]\u001b[0m \u001b[0;32mif\u001b[0m \u001b[0mallow_redirects\u001b[0m \u001b[0;32melse\u001b[0m \u001b[0;34m[\u001b[0m\u001b[0;34m]\u001b[0m\u001b[0;34m\u001b[0m\u001b[0m\n\u001b[0m\u001b[1;32m    669\u001b[0m \u001b[0;34m\u001b[0m\u001b[0m\n\u001b[1;32m    670\u001b[0m         \u001b[0;31m# Shuffle things around if there's history.\u001b[0m\u001b[0;34m\u001b[0m\u001b[0;34m\u001b[0m\u001b[0m\n",
      "\u001b[0;32m~/codes/data-consumer-vignettes/vp/lib/python3.6/site-packages/dcplib/networking.py\u001b[0m in \u001b[0;36mresolve_redirects\u001b[0;34m(self, resp, req, **kwargs)\u001b[0m\n\u001b[1;32m     21\u001b[0m         \u001b[0;32mif\u001b[0m \u001b[0mself\u001b[0m\u001b[0;34m.\u001b[0m\u001b[0mobey_retry_after\u001b[0m \u001b[0;32mand\u001b[0m \u001b[0mself\u001b[0m\u001b[0;34m.\u001b[0m\u001b[0mget_redirect_target\u001b[0m\u001b[0;34m(\u001b[0m\u001b[0mresp\u001b[0m\u001b[0;34m)\u001b[0m \u001b[0;32mand\u001b[0m \u001b[0;34m\"Retry-After\"\u001b[0m \u001b[0;32min\u001b[0m \u001b[0mresp\u001b[0m\u001b[0;34m.\u001b[0m\u001b[0mheaders\u001b[0m\u001b[0;34m:\u001b[0m\u001b[0;34m\u001b[0m\u001b[0m\n\u001b[1;32m     22\u001b[0m             \u001b[0mlogger\u001b[0m\u001b[0;34m.\u001b[0m\u001b[0mwarning\u001b[0m\u001b[0;34m(\u001b[0m\u001b[0;34m\"Waiting %ss before redirect per Retry-After header\"\u001b[0m\u001b[0;34m,\u001b[0m \u001b[0mresp\u001b[0m\u001b[0;34m.\u001b[0m\u001b[0mheaders\u001b[0m\u001b[0;34m[\u001b[0m\u001b[0;34m\"Retry-After\"\u001b[0m\u001b[0;34m]\u001b[0m\u001b[0;34m)\u001b[0m\u001b[0;34m\u001b[0m\u001b[0m\n\u001b[0;32m---> 23\u001b[0;31m             \u001b[0mresp\u001b[0m\u001b[0;34m.\u001b[0m\u001b[0mconnection\u001b[0m\u001b[0;34m.\u001b[0m\u001b[0mmax_retries\u001b[0m\u001b[0;34m.\u001b[0m\u001b[0msleep_for_retry\u001b[0m\u001b[0;34m(\u001b[0m\u001b[0mresp\u001b[0m\u001b[0;34m.\u001b[0m\u001b[0mraw\u001b[0m\u001b[0;34m)\u001b[0m\u001b[0;34m\u001b[0m\u001b[0m\n\u001b[0m\u001b[1;32m     24\u001b[0m         \u001b[0;32mfor\u001b[0m \u001b[0mrv\u001b[0m \u001b[0;32min\u001b[0m \u001b[0msuper\u001b[0m\u001b[0;34m(\u001b[0m\u001b[0mSession\u001b[0m\u001b[0;34m,\u001b[0m \u001b[0mself\u001b[0m\u001b[0;34m)\u001b[0m\u001b[0;34m.\u001b[0m\u001b[0mresolve_redirects\u001b[0m\u001b[0;34m(\u001b[0m\u001b[0mresp\u001b[0m\u001b[0;34m,\u001b[0m \u001b[0mreq\u001b[0m\u001b[0;34m,\u001b[0m \u001b[0;34m**\u001b[0m\u001b[0mkwargs\u001b[0m\u001b[0;34m)\u001b[0m\u001b[0;34m:\u001b[0m\u001b[0;34m\u001b[0m\u001b[0m\n\u001b[1;32m     25\u001b[0m             \u001b[0;32myield\u001b[0m \u001b[0mrv\u001b[0m\u001b[0;34m\u001b[0m\u001b[0m\n",
      "\u001b[0;32m~/codes/data-consumer-vignettes/vp/lib/python3.6/site-packages/urllib3/util/retry.py\u001b[0m in \u001b[0;36msleep_for_retry\u001b[0;34m(self, response)\u001b[0m\n\u001b[1;32m    276\u001b[0m         \u001b[0mretry_after\u001b[0m \u001b[0;34m=\u001b[0m \u001b[0mself\u001b[0m\u001b[0;34m.\u001b[0m\u001b[0mget_retry_after\u001b[0m\u001b[0;34m(\u001b[0m\u001b[0mresponse\u001b[0m\u001b[0;34m)\u001b[0m\u001b[0;34m\u001b[0m\u001b[0m\n\u001b[1;32m    277\u001b[0m         \u001b[0;32mif\u001b[0m \u001b[0mretry_after\u001b[0m\u001b[0;34m:\u001b[0m\u001b[0;34m\u001b[0m\u001b[0m\n\u001b[0;32m--> 278\u001b[0;31m             \u001b[0mtime\u001b[0m\u001b[0;34m.\u001b[0m\u001b[0msleep\u001b[0m\u001b[0;34m(\u001b[0m\u001b[0mretry_after\u001b[0m\u001b[0;34m)\u001b[0m\u001b[0;34m\u001b[0m\u001b[0m\n\u001b[0m\u001b[1;32m    279\u001b[0m             \u001b[0;32mreturn\u001b[0m \u001b[0;32mTrue\u001b[0m\u001b[0;34m\u001b[0m\u001b[0m\n\u001b[1;32m    280\u001b[0m \u001b[0;34m\u001b[0m\u001b[0m\n",
      "\u001b[0;31mKeyboardInterrupt\u001b[0m: "
     ]
    }
   ],
   "source": [
    "bam_file = client.get_file(uuid=bam_file['uuid'], replica=\"aws\")"
   ]
  },
  {
   "cell_type": "code",
   "execution_count": 66,
   "metadata": {},
   "outputs": [],
   "source": [
    "#print(type(bam_file)) # <class 'bytes'>"
   ]
  },
  {
   "cell_type": "markdown",
   "metadata": {},
   "source": [
    "This is potentially a large file, so we write the file in chunks:"
   ]
  },
  {
   "cell_type": "code",
   "execution_count": 67,
   "metadata": {},
   "outputs": [
    {
     "ename": "TypeError",
     "evalue": "unhashable type: 'slice'",
     "output_type": "error",
     "traceback": [
      "\u001b[0;31m--------------------------------------------------------------\u001b[0m",
      "\u001b[0;31mTypeError\u001b[0m                    Traceback (most recent call last)",
      "\u001b[0;32m<ipython-input-67-423fbb560fd8>\u001b[0m in \u001b[0;36m<module>\u001b[0;34m\u001b[0m\n\u001b[1;32m      3\u001b[0m     \u001b[0mblocksize\u001b[0m \u001b[0;34m=\u001b[0m \u001b[0;36m1000000000\u001b[0m\u001b[0;34m\u001b[0m\u001b[0m\n\u001b[1;32m      4\u001b[0m     \u001b[0;32mfor\u001b[0m \u001b[0mi\u001b[0m \u001b[0;32min\u001b[0m \u001b[0mrange\u001b[0m\u001b[0;34m(\u001b[0m\u001b[0;36m0\u001b[0m\u001b[0;34m,\u001b[0m \u001b[0mlen\u001b[0m\u001b[0;34m(\u001b[0m\u001b[0mbam_file\u001b[0m\u001b[0;34m)\u001b[0m\u001b[0;34m,\u001b[0m \u001b[0mblocksize\u001b[0m\u001b[0;34m)\u001b[0m\u001b[0;34m:\u001b[0m\u001b[0;34m\u001b[0m\u001b[0m\n\u001b[0;32m----> 5\u001b[0;31m         \u001b[0moutput_bam\u001b[0m\u001b[0;34m.\u001b[0m\u001b[0mwrite\u001b[0m\u001b[0;34m(\u001b[0m\u001b[0mbam_file\u001b[0m\u001b[0;34m[\u001b[0m\u001b[0mi\u001b[0m\u001b[0;34m:\u001b[0m\u001b[0mi\u001b[0m\u001b[0;34m+\u001b[0m\u001b[0mblocksize\u001b[0m\u001b[0;34m]\u001b[0m\u001b[0;34m)\u001b[0m\u001b[0;34m\u001b[0m\u001b[0m\n\u001b[0m",
      "\u001b[0;31mTypeError\u001b[0m: unhashable type: 'slice'"
     ]
    }
   ],
   "source": [
    "with open(\"Aligned.sortedByCoord.out.bam\", \"wb\") as output_bam:\n",
    "    # Write the file in chunks\n",
    "    blocksize = 1000000000\n",
    "    for i in range(0, len(bam_file), blocksize):\n",
    "        output_bam.write(bam_file[i:i+blocksize])"
   ]
  },
  {
   "cell_type": "markdown",
   "metadata": {},
   "source": [
    "Now test the file to ensure we can read it using the `pysam` module:"
   ]
  },
  {
   "cell_type": "code",
   "execution_count": 68,
   "metadata": {},
   "outputs": [
    {
     "ename": "ValueError",
     "evalue": "file has no sequences defined (mode='rb') - is it SAM/BAM format? Consider opening with check_sq=False",
     "output_type": "error",
     "traceback": [
      "\u001b[0;31m--------------------------------------------------------------\u001b[0m",
      "\u001b[0;31mValueError\u001b[0m                   Traceback (most recent call last)",
      "\u001b[0;32m<ipython-input-68-3ef96128aba4>\u001b[0m in \u001b[0;36m<module>\u001b[0;34m\u001b[0m\n\u001b[1;32m      1\u001b[0m \u001b[0;32mimport\u001b[0m \u001b[0mpysam\u001b[0m\u001b[0;34m\u001b[0m\u001b[0m\n\u001b[0;32m----> 2\u001b[0;31m \u001b[0mbam\u001b[0m \u001b[0;34m=\u001b[0m \u001b[0mpysam\u001b[0m\u001b[0;34m.\u001b[0m\u001b[0mAlignmentFile\u001b[0m\u001b[0;34m(\u001b[0m\u001b[0;34m\"Aligned.sortedByCoord.out.bam\"\u001b[0m\u001b[0;34m,\u001b[0m \u001b[0;34m\"rb\"\u001b[0m\u001b[0;34m)\u001b[0m\u001b[0;34m\u001b[0m\u001b[0m\n\u001b[0m\u001b[1;32m      3\u001b[0m \u001b[0mprint\u001b[0m\u001b[0;34m(\u001b[0m\u001b[0mbam\u001b[0m\u001b[0;34m.\u001b[0m\u001b[0mheader\u001b[0m\u001b[0;34m)\u001b[0m\u001b[0;34m\u001b[0m\u001b[0m\n",
      "\u001b[0;32mpysam/libcalignmentfile.pyx\u001b[0m in \u001b[0;36mpysam.libcalignmentfile.AlignmentFile.__cinit__\u001b[0;34m()\u001b[0m\n",
      "\u001b[0;32mpysam/libcalignmentfile.pyx\u001b[0m in \u001b[0;36mpysam.libcalignmentfile.AlignmentFile._open\u001b[0;34m()\u001b[0m\n",
      "\u001b[0;31mValueError\u001b[0m: file has no sequences defined (mode='rb') - is it SAM/BAM format? Consider opening with check_sq=False"
     ]
    }
   ],
   "source": [
    "import pysam\n",
    "bam = pysam.AlignmentFile(\"Aligned.sortedByCoord.out.bam\", \"rb\")\n",
    "print(bam.header)"
   ]
  },
  {
   "cell_type": "markdown",
   "metadata": {},
   "source": [
    "## Generalizing: Find and Download Any File of Any Extension in the Data Store\n",
    "\n",
    "Note that we can do a bit more work, and get a general function to iterate over data with specific file extensions in the data store, and pass that along to the `client.get_file()` method to download it:"
   ]
  },
  {
   "cell_type": "code",
   "execution_count": 69,
   "metadata": {},
   "outputs": [],
   "source": [
    "def es_filetype_query(extension):\n",
    "    \"\"\"\n",
    "    Given a file extension (excluding .), return an ElasticSearch\n",
    "    wildcard query that will return bundles containing files with\n",
    "    that extension.\n",
    "    \n",
    "    Example: es_filetype_query('fastq.gz')\n",
    "    \"\"\"\n",
    "    query = {\n",
    "        \"query\": {\n",
    "            \"wildcard\": {\n",
    "                \"manifest.files.name\": {\n",
    "                    \"value\": \"*.%s\"%(extension)\n",
    "                }\n",
    "            }\n",
    "        }\n",
    "    }\n",
    "    return query"
   ]
  },
  {
   "cell_type": "markdown",
   "metadata": {},
   "source": [
    "Next, we can rewrite `find_bam()` to take a file extension as input, assemble the corresponding ElasticSearch query with `es_filetype_query()`,  and return JSON with UUIDs and other information about each of the matching files."
   ]
  },
  {
   "cell_type": "code",
   "execution_count": 70,
   "metadata": {},
   "outputs": [],
   "source": [
    "def find_all_filetype(extension):\n",
    "    for bundle in client.post_search.iterate(es_query = es_filetype_query(extension),\n",
    "                                             replica = 'aws',\n",
    "                                             output_format = 'raw'):\n",
    "        # Use the file nmanifest to find the JSON with file info\n",
    "        for file_dict in bundle[\"metadata\"][\"manifest\"][\"files\"]:\n",
    "            if file_dict[\"name\"].endswith(extension):\n",
    "                yield file_dict"
   ]
  },
  {
   "cell_type": "code",
   "execution_count": 71,
   "metadata": {},
   "outputs": [
    {
     "name": "stdout",
     "output_type": "stream",
     "text": [
      "File Name: HP1506401_H16.fastq.gz\n",
      "UUID: 90dc8de8-9837-492f-bef8-673b262dd417\n"
     ]
    }
   ],
   "source": [
    "fastq_file = next(find_all_filetype('fastq.gz'))\n",
    "print(f\"File Name: {fastq_file['name']}\")\n",
    "print(f\"UUID: {fastq_file['uuid']}\")"
   ]
  },
  {
   "cell_type": "markdown",
   "metadata": {},
   "source": [
    "This can be combined with the `client.get_file()` method to download the file:"
   ]
  },
  {
   "cell_type": "code",
   "execution_count": 79,
   "metadata": {},
   "outputs": [
    {
     "name": "stdout",
     "output_type": "stream",
     "text": [
      "\n",
      "Uncomment code to download the following file:\n",
      "- File Name: HP1506401_H16.fastq.gz\n",
      "- UUID: 90dc8de8-9837-492f-bef8-673b262dd417\n",
      "- Size: 0.02440743986517191GB\n"
     ]
    }
   ],
   "source": [
    "for fastq_file in find_all_filetype('fastq.gz'):\n",
    "    print(\"\\nUncomment code to download the following file:\")\n",
    "    print(f\"- File Name: {fastq_file['name']}\")\n",
    "    print(f\"- UUID: {fastq_file['uuid']}\")\n",
    "    print(f\"- Size: {fastq_file['size']/1024/1024/1024}GB\")\n",
    "    #client.get_file(uuid=fastq_file['uuid'], replica=\"aws\")\n",
    "    break"
   ]
  },
  {
   "cell_type": "code",
   "execution_count": null,
   "metadata": {},
   "outputs": [],
   "source": []
  }
 ],
 "metadata": {
  "kernelspec": {
   "display_name": "Python 3",
   "language": "python",
   "name": "python3"
  },
  "language_info": {
   "codemirror_mode": {
    "name": "ipython",
    "version": 3
   },
   "file_extension": ".py",
   "mimetype": "text/x-python",
   "name": "python",
   "nbconvert_exporter": "python",
   "pygments_lexer": "ipython3",
   "version": "3.6.3"
  }
 },
 "nbformat": 4,
 "nbformat_minor": 2
}

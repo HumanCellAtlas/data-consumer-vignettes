{
 "cells": [
  {
   "cell_type": "markdown",
   "metadata": {},
   "source": [
    "## Download data from the HCA\n",
    "\n",
    "First we're going to install the HCA client and login. The login is omitted here, but here's how you do it:\n",
    "\n",
    "1. Go to a computer where localhost will resolve to the same place you're running a terminal.\n",
    "2. Install the hca client with `pip install hca`\n",
    "3. Run `hca login dss` and follow the instructions.\n",
    "4. Go to `~/.config/hca/config.json` and find the string in `application_secrets.client_secrets`.\n",
    "5. In the notebook environment, run `hca login dss --access-token <token>`, where `<token>` is the string you found in the json file above."
   ]
  },
  {
   "cell_type": "markdown",
   "metadata": {},
   "source": [
    "Now, initialize a client for the DSS."
   ]
  },
  {
   "cell_type": "code",
   "execution_count": 37,
   "metadata": {},
   "outputs": [],
   "source": [
    "import hca, hca.dss, json\n",
    "client = hca.dss.DSSClient()"
   ]
  },
  {
   "cell_type": "markdown",
   "metadata": {},
   "source": [
    "Suppose we know the sample ID that we want to look up, `63cba020-fbb5-4fe5-82c2-eeb1cd5dd957`. So, we write an Elasticsearch query to find bundles with that ID. The `files.assay_json.sample_id` field can be discovered using the private Kibana instance."
   ]
  },
  {
   "cell_type": "code",
   "execution_count": 40,
   "metadata": {},
   "outputs": [
    {
     "name": "stdout",
     "output_type": "stream",
     "text": [
      "{\n",
      "  \"es_query\": {\n",
      "    \"query\": {\n",
      "      \"bool\": {\n",
      "        \"must\": [\n",
      "          {\n",
      "            \"match\": {\n",
      "              \"files.assay_json.sample_id\": \"63cba020-fbb5-4fe5-82c2-eeb1cd5dd957\"\n",
      "            }\n",
      "          }\n",
      "        ]\n",
      "      }\n",
      "    }\n",
      "  },\n",
      "  \"results\": [\n",
      "    {\n",
      "      \"bundle_fqid\": \"2d87b5f5-757d-40b2-a2a7-49d2df179cb9.2017-11-21T185012.925568Z\",\n",
      "      \"bundle_url\": \"https://dss.staging.data.humancellatlas.org/v1/bundles/2d87b5f5-757d-40b2-a2a7-49d2df179cb9?version=2017-11-21T185012.925568Z&replica=aws\",\n",
      "      \"search_score\": 0.074107975\n",
      "    },\n",
      "    {\n",
      "      \"bundle_fqid\": \"0cae8147-8268-46bd-b743-23b4b113147d.2017-10-27T184156.405768Z\",\n",
      "      \"bundle_url\": \"https://dss.staging.data.humancellatlas.org/v1/bundles/0cae8147-8268-46bd-b743-23b4b113147d?version=2017-10-27T184156.405768Z&replica=aws\",\n",
      "      \"search_score\": 0.074107975\n",
      "    },\n",
      "    {\n",
      "      \"bundle_fqid\": \"a76fda85-8e75-4b8c-9c04-fbbbeed05284.2017-11-17T184633.318126Z\",\n",
      "      \"bundle_url\": \"https://dss.staging.data.humancellatlas.org/v1/bundles/a76fda85-8e75-4b8c-9c04-fbbbeed05284?version=2017-11-17T184633.318126Z&replica=aws\",\n",
      "      \"search_score\": 0.074107975\n",
      "    },\n",
      "    {\n",
      "      \"bundle_fqid\": \"ff884cc3-3e7f-43be-a3de-4720daed2867.2017-11-18T184602.204182Z\",\n",
      "      \"bundle_url\": \"https://dss.staging.data.humancellatlas.org/v1/bundles/ff884cc3-3e7f-43be-a3de-4720daed2867?version=2017-11-18T184602.204182Z&replica=aws\",\n",
      "      \"search_score\": 0.074107975\n",
      "    },\n",
      "    {\n",
      "      \"bundle_fqid\": \"1d8e6112-88fa-4668-a76c-7ed4088d0365.2017-10-19T182842.004434Z\",\n",
      "      \"bundle_url\": \"https://dss.staging.data.humancellatlas.org/v1/bundles/1d8e6112-88fa-4668-a76c-7ed4088d0365?version=2017-10-19T182842.004434Z&replica=aws\",\n",
      "      \"search_score\": 0.074107975\n",
      "    },\n",
      "    {\n",
      "      \"bundle_fqid\": \"55875f37-ed84-44fb-841c-353fb84301c9.2017-10-14T182626.578734Z\",\n",
      "      \"bundle_url\": \"https://dss.staging.data.humancellatlas.org/v1/bundles/55875f37-ed84-44fb-841c-353fb84301c9?version=2017-10-14T182626.578734Z&replica=aws\",\n",
      "      \"search_score\": 0.074107975\n",
      "    },\n",
      "    {\n",
      "      \"bundle_fqid\": \"a7a91fd1-fd76-41b1-9e19-196df36b6bd8.2017-11-19T184700.130585Z\",\n",
      "      \"bundle_url\": \"https://dss.staging.data.humancellatlas.org/v1/bundles/a7a91fd1-fd76-41b1-9e19-196df36b6bd8?version=2017-11-19T184700.130585Z&replica=aws\",\n",
      "      \"search_score\": 0.051293295\n",
      "    },\n",
      "    {\n",
      "      \"bundle_fqid\": \"bca0a4fa-9ce1-4a56-a99f-6f6383832458.2017-11-22T184821.276614Z\",\n",
      "      \"bundle_url\": \"https://dss.staging.data.humancellatlas.org/v1/bundles/bca0a4fa-9ce1-4a56-a99f-6f6383832458?version=2017-11-22T184821.276614Z&replica=aws\",\n",
      "      \"search_score\": 0.051293295\n",
      "    },\n",
      "    {\n",
      "      \"bundle_fqid\": \"aad99649-29e0-4d2c-9279-b945f1f2d6aa.2017-10-22T183400.323867Z\",\n",
      "      \"bundle_url\": \"https://dss.staging.data.humancellatlas.org/v1/bundles/aad99649-29e0-4d2c-9279-b945f1f2d6aa?version=2017-10-22T183400.323867Z&replica=aws\",\n",
      "      \"search_score\": 0.051293295\n",
      "    },\n",
      "    {\n",
      "      \"bundle_fqid\": \"a75ba72f-79db-48a1-b3c2-acfaa1ea79d9.2017-09-22T203831.528448Z\",\n",
      "      \"bundle_url\": \"https://dss.staging.data.humancellatlas.org/v1/bundles/a75ba72f-79db-48a1-b3c2-acfaa1ea79d9?version=2017-09-22T203831.528448Z&replica=aws\",\n",
      "      \"search_score\": 0.051293295\n",
      "    },\n",
      "    {\n",
      "      \"bundle_fqid\": \"2cfdd786-7c13-4dea-8f12-a2a35cdc7c1a.2017-12-02T185243.044555Z\",\n",
      "      \"bundle_url\": \"https://dss.staging.data.humancellatlas.org/v1/bundles/2cfdd786-7c13-4dea-8f12-a2a35cdc7c1a?version=2017-12-02T185243.044555Z&replica=aws\",\n",
      "      \"search_score\": 0.051293295\n",
      "    },\n",
      "    {\n",
      "      \"bundle_fqid\": \"d8b29ccb-c056-4634-be2d-09f1d5af9a4b.2017-09-22T182538.286895Z\",\n",
      "      \"bundle_url\": \"https://dss.staging.data.humancellatlas.org/v1/bundles/d8b29ccb-c056-4634-be2d-09f1d5af9a4b?version=2017-09-22T182538.286895Z&replica=aws\",\n",
      "      \"search_score\": 0.051293295\n",
      "    },\n",
      "    {\n",
      "      \"bundle_fqid\": \"d6be30d0-aa91-4962-8de9-8d7dbc5b08ec.2017-10-24T183301.862741Z\",\n",
      "      \"bundle_url\": \"https://dss.staging.data.humancellatlas.org/v1/bundles/d6be30d0-aa91-4962-8de9-8d7dbc5b08ec?version=2017-10-24T183301.862741Z&replica=aws\",\n",
      "      \"search_score\": 0.051293295\n",
      "    },\n",
      "    {\n",
      "      \"bundle_fqid\": \"72f8e62a-775f-4a35-907b-6b32f33fcd4c.2017-10-18T182705.104149Z\",\n",
      "      \"bundle_url\": \"https://dss.staging.data.humancellatlas.org/v1/bundles/72f8e62a-775f-4a35-907b-6b32f33fcd4c?version=2017-10-18T182705.104149Z&replica=aws\",\n",
      "      \"search_score\": 0.051293295\n",
      "    },\n",
      "    {\n",
      "      \"bundle_fqid\": \"3759929f-8797-4318-9b7d-96f3c3f1a845.2017-10-15T182554.810401Z\",\n",
      "      \"bundle_url\": \"https://dss.staging.data.humancellatlas.org/v1/bundles/3759929f-8797-4318-9b7d-96f3c3f1a845?version=2017-10-15T182554.810401Z&replica=aws\",\n",
      "      \"search_score\": 0.051293295\n",
      "    },\n",
      "    {\n",
      "      \"bundle_fqid\": \"4772579a-a581-49e6-a21c-0d3e67d19b8e.2017-09-25T182654.818434Z\",\n",
      "      \"bundle_url\": \"https://dss.staging.data.humancellatlas.org/v1/bundles/4772579a-a581-49e6-a21c-0d3e67d19b8e?version=2017-09-25T182654.818434Z&replica=aws\",\n",
      "      \"search_score\": 0.046520017\n",
      "    },\n",
      "    {\n",
      "      \"bundle_fqid\": \"4dd4217c-5369-414d-b3fe-4ed2d48d6788.2017-09-29T182052.988992Z\",\n",
      "      \"bundle_url\": \"https://dss.staging.data.humancellatlas.org/v1/bundles/4dd4217c-5369-414d-b3fe-4ed2d48d6788?version=2017-09-29T182052.988992Z&replica=aws\",\n",
      "      \"search_score\": 0.046520017\n",
      "    },\n",
      "    {\n",
      "      \"bundle_fqid\": \"09c2ba01-8eaf-439d-869e-2380371b62c2.2017-09-22T200141.921300Z\",\n",
      "      \"bundle_url\": \"https://dss.staging.data.humancellatlas.org/v1/bundles/09c2ba01-8eaf-439d-869e-2380371b62c2?version=2017-09-22T200141.921300Z&replica=aws\",\n",
      "      \"search_score\": 0.046520017\n",
      "    },\n",
      "    {\n",
      "      \"bundle_fqid\": \"c5d3c25f-edfc-4580-bbbe-a88e472a6add.2017-10-31T183548.313008Z\",\n",
      "      \"bundle_url\": \"https://dss.staging.data.humancellatlas.org/v1/bundles/c5d3c25f-edfc-4580-bbbe-a88e472a6add?version=2017-10-31T183548.313008Z&replica=aws\",\n",
      "      \"search_score\": 0.046520017\n",
      "    },\n",
      "    {\n",
      "      \"bundle_fqid\": \"86aa6093-519f-46fb-b26f-32dbcfb5a0a9.2017-12-03T185453.378290Z\",\n",
      "      \"bundle_url\": \"https://dss.staging.data.humancellatlas.org/v1/bundles/86aa6093-519f-46fb-b26f-32dbcfb5a0a9?version=2017-12-03T185453.378290Z&replica=aws\",\n",
      "      \"search_score\": 0.046520017\n",
      "    },\n",
      "    {\n",
      "      \"bundle_fqid\": \"aa1b5bb8-5258-4409-85a6-920580b6bab3.2017-09-22T212710.896969Z\",\n",
      "      \"bundle_url\": \"https://dss.staging.data.humancellatlas.org/v1/bundles/aa1b5bb8-5258-4409-85a6-920580b6bab3?version=2017-09-22T212710.896969Z&replica=aws\",\n",
      "      \"search_score\": 0.046520017\n",
      "    },\n",
      "    {\n",
      "      \"bundle_fqid\": \"9f826839-3948-4064-a730-2564fb0e6573.2017-10-23T183114.478115Z\",\n",
      "      \"bundle_url\": \"https://dss.staging.data.humancellatlas.org/v1/bundles/9f826839-3948-4064-a730-2564fb0e6573?version=2017-10-23T183114.478115Z&replica=aws\",\n",
      "      \"search_score\": 0.046520017\n",
      "    },\n",
      "    {\n",
      "      \"bundle_fqid\": \"44cdc3b3-ca3a-476d-b592-090325573395.2017-11-13T184618.377889Z\",\n",
      "      \"bundle_url\": \"https://dss.staging.data.humancellatlas.org/v1/bundles/44cdc3b3-ca3a-476d-b592-090325573395?version=2017-11-13T184618.377889Z&replica=aws\",\n",
      "      \"search_score\": 0.046520017\n",
      "    },\n",
      "    {\n",
      "      \"bundle_fqid\": \"f516ffb7-b18c-4ac6-ac44-8f0974680fa3.2017-11-14T184545.348738Z\",\n",
      "      \"bundle_url\": \"https://dss.staging.data.humancellatlas.org/v1/bundles/f516ffb7-b18c-4ac6-ac44-8f0974680fa3?version=2017-11-14T184545.348738Z&replica=aws\",\n",
      "      \"search_score\": 0.046520017\n",
      "    },\n",
      "    {\n",
      "      \"bundle_fqid\": \"642da7ef-57dd-4291-b6d3-0c7650d4333d.2017-11-11T184316.180826Z\",\n",
      "      \"bundle_url\": \"https://dss.staging.data.humancellatlas.org/v1/bundles/642da7ef-57dd-4291-b6d3-0c7650d4333d?version=2017-11-11T184316.180826Z&replica=aws\",\n",
      "      \"search_score\": 0.046520017\n",
      "    },\n",
      "    {\n",
      "      \"bundle_fqid\": \"f7ab62bd-7954-49da-b6d2-5bac99dd93c9.2017-11-09T184129.028101Z\",\n",
      "      \"bundle_url\": \"https://dss.staging.data.humancellatlas.org/v1/bundles/f7ab62bd-7954-49da-b6d2-5bac99dd93c9?version=2017-11-09T184129.028101Z&replica=aws\",\n",
      "      \"search_score\": 0.042559616\n",
      "    },\n",
      "    {\n",
      "      \"bundle_fqid\": \"2409898d-dfb4-464e-9380-c9611dd42d4c.2017-11-28T185332.366268Z\",\n",
      "      \"bundle_url\": \"https://dss.staging.data.humancellatlas.org/v1/bundles/2409898d-dfb4-464e-9380-c9611dd42d4c?version=2017-11-28T185332.366268Z&replica=aws\",\n",
      "      \"search_score\": 0.042559616\n",
      "    },\n",
      "    {\n",
      "      \"bundle_fqid\": \"be628340-293a-4c88-a00b-07db2ae607f9.2017-11-30T185710.980526Z\",\n",
      "      \"bundle_url\": \"https://dss.staging.data.humancellatlas.org/v1/bundles/be628340-293a-4c88-a00b-07db2ae607f9?version=2017-11-30T185710.980526Z&replica=aws\",\n",
      "      \"search_score\": 0.042559616\n",
      "    },\n",
      "    {\n",
      "      \"bundle_fqid\": \"e0824811-1b97-4a1f-954c-6024d0007842.2017-11-23T184737.615528Z\",\n",
      "      \"bundle_url\": \"https://dss.staging.data.humancellatlas.org/v1/bundles/e0824811-1b97-4a1f-954c-6024d0007842?version=2017-11-23T184737.615528Z&replica=aws\",\n",
      "      \"search_score\": 0.042559616\n",
      "    },\n",
      "    {\n",
      "      \"bundle_fqid\": \"3647c020-657d-4746-aea4-177e932aedfe.2017-09-26T182205.253476Z\",\n",
      "      \"bundle_url\": \"https://dss.staging.data.humancellatlas.org/v1/bundles/3647c020-657d-4746-aea4-177e932aedfe?version=2017-09-26T182205.253476Z&replica=aws\",\n",
      "      \"search_score\": 0.042559616\n",
      "    },\n",
      "    {\n",
      "      \"bundle_fqid\": \"a3419e8a-85f6-4e17-ba19-d93f7a94400f.2017-10-25T183230.335730Z\",\n",
      "      \"bundle_url\": \"https://dss.staging.data.humancellatlas.org/v1/bundles/a3419e8a-85f6-4e17-ba19-d93f7a94400f?version=2017-10-25T183230.335730Z&replica=aws\",\n",
      "      \"search_score\": 0.042559616\n",
      "    },\n",
      "    {\n",
      "      \"bundle_fqid\": \"8a06732a-87b0-4257-901c-4d1af3c04165.2017-11-10T184201.292907Z\",\n",
      "      \"bundle_url\": \"https://dss.staging.data.humancellatlas.org/v1/bundles/8a06732a-87b0-4257-901c-4d1af3c04165?version=2017-11-10T184201.292907Z&replica=aws\",\n",
      "      \"search_score\": 0.042559616\n",
      "    },\n",
      "    {\n",
      "      \"bundle_fqid\": \"aa095dee-1eb6-4cdd-96e2-36e974212c36.2017-12-01T185334.369911Z\",\n",
      "      \"bundle_url\": \"https://dss.staging.data.humancellatlas.org/v1/bundles/aa095dee-1eb6-4cdd-96e2-36e974212c36?version=2017-12-01T185334.369911Z&replica=aws\",\n",
      "      \"search_score\": 0.042559616\n",
      "    },\n",
      "    {\n",
      "      \"bundle_fqid\": \"c4ff93e5-9e64-4460-8bc6-6e5441fc99dc.2017-10-21T183659.495980Z\",\n",
      "      \"bundle_url\": \"https://dss.staging.data.humancellatlas.org/v1/bundles/c4ff93e5-9e64-4460-8bc6-6e5441fc99dc?version=2017-10-21T183659.495980Z&replica=aws\",\n",
      "      \"search_score\": 0.042559616\n",
      "    },\n",
      "    {\n",
      "      \"bundle_fqid\": \"b7c140f2-c356-45a5-90eb-f9a559c607ad.2017-11-12T184350.885085Z\",\n",
      "      \"bundle_url\": \"https://dss.staging.data.humancellatlas.org/v1/bundles/b7c140f2-c356-45a5-90eb-f9a559c607ad?version=2017-11-12T184350.885085Z&replica=aws\",\n",
      "      \"search_score\": 0.042559616\n",
      "    },\n",
      "    {\n",
      "      \"bundle_fqid\": \"e346a97a-9e11-4184-9fb0-3c4174ec91d9.2018-01-10T140351.852836Z\",\n",
      "      \"bundle_url\": \"https://dss.staging.data.humancellatlas.org/v1/bundles/e346a97a-9e11-4184-9fb0-3c4174ec91d9?version=2018-01-10T140351.852836Z&replica=aws\",\n",
      "      \"search_score\": 0.042559616\n",
      "    },\n",
      "    {\n",
      "      \"bundle_fqid\": \"70f759e9-9736-4182-b7a6-d87ab302fb51.2017-09-24T182102.389647Z\",\n",
      "      \"bundle_url\": \"https://dss.staging.data.humancellatlas.org/v1/bundles/70f759e9-9736-4182-b7a6-d87ab302fb51?version=2017-09-24T182102.389647Z&replica=aws\",\n",
      "      \"search_score\": 0.039220713\n",
      "    },\n",
      "    {\n",
      "      \"bundle_fqid\": \"155bad38-c63c-4d57-8628-f2547b8c9f8a.2017-10-20T182941.322626Z\",\n",
      "      \"bundle_url\": \"https://dss.staging.data.humancellatlas.org/v1/bundles/155bad38-c63c-4d57-8628-f2547b8c9f8a?version=2017-10-20T182941.322626Z&replica=aws\",\n",
      "      \"search_score\": 0.039220713\n",
      "    },\n",
      "    {\n",
      "      \"bundle_fqid\": \"fffc4006-099f-4ed2-809c-5393271108d8.2017-11-29T185454.042148Z\",\n",
      "      \"bundle_url\": \"https://dss.staging.data.humancellatlas.org/v1/bundles/fffc4006-099f-4ed2-809c-5393271108d8?version=2017-11-29T185454.042148Z&replica=aws\",\n",
      "      \"search_score\": 0.039220713\n",
      "    },\n",
      "    {\n",
      "      \"bundle_fqid\": \"6b3334b6-bd81-4e71-a0e7-d808a350b16d.2017-11-15T184520.606358Z\",\n",
      "      \"bundle_url\": \"https://dss.staging.data.humancellatlas.org/v1/bundles/6b3334b6-bd81-4e71-a0e7-d808a350b16d?version=2017-11-15T184520.606358Z&replica=aws\",\n",
      "      \"search_score\": 0.039220713\n",
      "    },\n",
      "    {\n",
      "      \"bundle_fqid\": \"64690a78-7d04-4faa-9a35-52413313f604.2017-09-21T181748.500935Z\",\n",
      "      \"bundle_url\": \"https://dss.staging.data.humancellatlas.org/v1/bundles/64690a78-7d04-4faa-9a35-52413313f604?version=2017-09-21T181748.500935Z&replica=aws\",\n",
      "      \"search_score\": 0.039220713\n",
      "    },\n",
      "    {\n",
      "      \"bundle_fqid\": \"62b08f6a-3a0c-4763-95cd-da0baf022f6d.2017-10-16T183203.498640Z\",\n",
      "      \"bundle_url\": \"https://dss.staging.data.humancellatlas.org/v1/bundles/62b08f6a-3a0c-4763-95cd-da0baf022f6d?version=2017-10-16T183203.498640Z&replica=aws\",\n",
      "      \"search_score\": 0.039220713\n",
      "    },\n",
      "    {\n",
      "      \"bundle_fqid\": \"d026ba13-0a61-4861-9573-59b0641574a2.2017-11-24T184836.741053Z\",\n",
      "      \"bundle_url\": \"https://dss.staging.data.humancellatlas.org/v1/bundles/d026ba13-0a61-4861-9573-59b0641574a2?version=2017-11-24T184836.741053Z&replica=aws\",\n",
      "      \"search_score\": 0.039220713\n",
      "    },\n",
      "    {\n",
      "      \"bundle_fqid\": \"c22fa91e-ab5a-4b83-9013-c426733a791d.2017-12-04T185327.944086Z\",\n",
      "      \"bundle_url\": \"https://dss.staging.data.humancellatlas.org/v1/bundles/c22fa91e-ab5a-4b83-9013-c426733a791d?version=2017-12-04T185327.944086Z&replica=aws\",\n",
      "      \"search_score\": 0.039220713\n",
      "    },\n",
      "    {\n",
      "      \"bundle_fqid\": \"e56c6efb-fbf1-4139-80ff-339b8a42f743.2017-11-25T185044.666289Z\",\n",
      "      \"bundle_url\": \"https://dss.staging.data.humancellatlas.org/v1/bundles/e56c6efb-fbf1-4139-80ff-339b8a42f743?version=2017-11-25T185044.666289Z&replica=aws\",\n",
      "      \"search_score\": 0.039220713\n",
      "    },\n",
      "    {\n",
      "      \"bundle_fqid\": \"1c7fc004-20cd-42a0-a4b0-fa20b1f7bf27.2017-09-27T182025.767114Z\",\n",
      "      \"bundle_url\": \"https://dss.staging.data.humancellatlas.org/v1/bundles/1c7fc004-20cd-42a0-a4b0-fa20b1f7bf27?version=2017-09-27T182025.767114Z&replica=aws\",\n",
      "      \"search_score\": 0.039220713\n",
      "    },\n",
      "    {\n",
      "      \"bundle_fqid\": \"9a5667bb-096a-4024-96b9-81de95fca6a0.2017-09-28T182242.231120Z\",\n",
      "      \"bundle_url\": \"https://dss.staging.data.humancellatlas.org/v1/bundles/9a5667bb-096a-4024-96b9-81de95fca6a0?version=2017-09-28T182242.231120Z&replica=aws\",\n",
      "      \"search_score\": 0.039220713\n",
      "    },\n",
      "    {\n",
      "      \"bundle_fqid\": \"c86ac0da-d69d-46c6-ae86-74c0017ec190.2017-09-23T181819.986116Z\",\n",
      "      \"bundle_url\": \"https://dss.staging.data.humancellatlas.org/v1/bundles/c86ac0da-d69d-46c6-ae86-74c0017ec190?version=2017-09-23T181819.986116Z&replica=aws\",\n",
      "      \"search_score\": 0.039220713\n",
      "    }\n",
      "  ],\n",
      "  \"total_hits\": 48\n",
      "}\n"
     ]
    }
   ],
   "source": [
    "results = client.post_search(es_query={\"query\": {\"bool\": {\"must\": [{\"match\": {\"files.assay_json.sample_id\": \"63cba020-fbb5-4fe5-82c2-eeb1cd5dd957\"}}]}}}, replica=\"aws\")\n",
    "print(json.dumps(results, indent=2))"
   ]
  },
  {
   "cell_type": "markdown",
   "metadata": {},
   "source": [
    "Okay, 48 results! There's probably some way to filter these, but I'd rather not go back to Kibana. So let's go ahead and assume we want the first one, and we'll download it."
   ]
  },
  {
   "cell_type": "code",
   "execution_count": 41,
   "metadata": {
    "scrolled": true
   },
   "outputs": [
    {
     "ename": "SwaggerAPIException",
     "evalue": "not_found: Cannot find file! (HTTP 404). Details:\nTraceback (most recent call last):\n  File \"/var/task/chalicelib/dss/error.py\", line 26, in wrapper\n    return func(*args, **kwargs)\n  File \"/var/task/chalicelib/dss/api/bundles/__init__.py\", line 34, in get\n    return get_bundle(uuid, Replica[replica], version, directurls)\n  File \"/var/task/chalicelib/dss/storage/bundles.py\", line 132, in get_bundle\n    directurls\n  File \"/var/task/chalicelib/dss/storage/bundles.py\", line 46, in get_bundle_from_bucket\n    raise DSSException(404, \"not_found\", \"Cannot find file!\")\ndss.error.DSSException\n",
     "output_type": "error",
     "traceback": [
      "\u001b[0;31m---------------------------------------------------------------------------\u001b[0m",
      "\u001b[0;31mSwaggerAPIException\u001b[0m                       Traceback (most recent call last)",
      "\u001b[0;32m<ipython-input-41-fd995c7f3bed>\u001b[0m in \u001b[0;36m<module>\u001b[0;34m()\u001b[0m\n\u001b[0;32m----> 1\u001b[0;31m \u001b[0mclient\u001b[0m\u001b[0;34m.\u001b[0m\u001b[0mdownload\u001b[0m\u001b[0;34m(\u001b[0m\u001b[0mresults\u001b[0m\u001b[0;34m[\u001b[0m\u001b[0;34m\"results\"\u001b[0m\u001b[0;34m]\u001b[0m\u001b[0;34m[\u001b[0m\u001b[0;36m0\u001b[0m\u001b[0;34m]\u001b[0m\u001b[0;34m[\u001b[0m\u001b[0;34m\"bundle_fqid\"\u001b[0m\u001b[0;34m]\u001b[0m\u001b[0;34m,\u001b[0m \u001b[0mreplica\u001b[0m\u001b[0;34m=\u001b[0m\u001b[0;34m\"aws\"\u001b[0m\u001b[0;34m)\u001b[0m\u001b[0;34m\u001b[0m\u001b[0m\n\u001b[0m",
      "\u001b[0;32m/opt/conda/lib/python3.6/site-packages/hca/dss/__init__.py\u001b[0m in \u001b[0;36mdownload\u001b[0;34m(self, bundle_uuid, replica, version, dest_name)\u001b[0m\n\u001b[1;32m     29\u001b[0m             \u001b[0mdest_name\u001b[0m \u001b[0;34m=\u001b[0m \u001b[0mbundle_uuid\u001b[0m\u001b[0;34m\u001b[0m\u001b[0m\n\u001b[1;32m     30\u001b[0m \u001b[0;34m\u001b[0m\u001b[0m\n\u001b[0;32m---> 31\u001b[0;31m         \u001b[0mbundle\u001b[0m \u001b[0;34m=\u001b[0m \u001b[0mself\u001b[0m\u001b[0;34m.\u001b[0m\u001b[0mget_bundle\u001b[0m\u001b[0;34m(\u001b[0m\u001b[0muuid\u001b[0m\u001b[0;34m=\u001b[0m\u001b[0mbundle_uuid\u001b[0m\u001b[0;34m,\u001b[0m \u001b[0mreplica\u001b[0m\u001b[0;34m=\u001b[0m\u001b[0mreplica\u001b[0m\u001b[0;34m,\u001b[0m \u001b[0mversion\u001b[0m\u001b[0;34m=\u001b[0m\u001b[0mversion\u001b[0m \u001b[0;32mif\u001b[0m \u001b[0mversion\u001b[0m \u001b[0;32melse\u001b[0m \u001b[0;32mNone\u001b[0m\u001b[0;34m)\u001b[0m\u001b[0;34m[\u001b[0m\u001b[0;34m\"bundle\"\u001b[0m\u001b[0;34m]\u001b[0m\u001b[0;34m\u001b[0m\u001b[0m\n\u001b[0m\u001b[1;32m     32\u001b[0m \u001b[0;34m\u001b[0m\u001b[0m\n\u001b[1;32m     33\u001b[0m         \u001b[0;32mif\u001b[0m \u001b[0;32mnot\u001b[0m \u001b[0mos\u001b[0m\u001b[0;34m.\u001b[0m\u001b[0mpath\u001b[0m\u001b[0;34m.\u001b[0m\u001b[0misdir\u001b[0m\u001b[0;34m(\u001b[0m\u001b[0mdest_name\u001b[0m\u001b[0;34m)\u001b[0m\u001b[0;34m:\u001b[0m\u001b[0;34m\u001b[0m\u001b[0m\n",
      "\u001b[0;32m/opt/conda/lib/python3.6/site-packages/hca/util/__init__.py\u001b[0m in \u001b[0;36m__call__\u001b[0;34m(self, client, **kwargs)\u001b[0m\n\u001b[1;32m    142\u001b[0m \u001b[0;34m\u001b[0m\u001b[0m\n\u001b[1;32m    143\u001b[0m     \u001b[0;32mdef\u001b[0m \u001b[0m__call__\u001b[0m\u001b[0;34m(\u001b[0m\u001b[0mself\u001b[0m\u001b[0;34m,\u001b[0m \u001b[0mclient\u001b[0m\u001b[0;34m,\u001b[0m \u001b[0;34m**\u001b[0m\u001b[0mkwargs\u001b[0m\u001b[0;34m)\u001b[0m\u001b[0;34m:\u001b[0m\u001b[0;34m\u001b[0m\u001b[0m\n\u001b[0;32m--> 144\u001b[0;31m         \u001b[0;32mreturn\u001b[0m \u001b[0mself\u001b[0m\u001b[0;34m.\u001b[0m\u001b[0m_consume_response\u001b[0m\u001b[0;34m(\u001b[0m\u001b[0mself\u001b[0m\u001b[0;34m.\u001b[0m\u001b[0m_request\u001b[0m\u001b[0;34m(\u001b[0m\u001b[0mkwargs\u001b[0m\u001b[0;34m)\u001b[0m\u001b[0;34m)\u001b[0m\u001b[0;34m\u001b[0m\u001b[0m\n\u001b[0m\u001b[1;32m    145\u001b[0m \u001b[0;34m\u001b[0m\u001b[0m\n\u001b[1;32m    146\u001b[0m     \u001b[0;32mdef\u001b[0m \u001b[0m_cli_call\u001b[0m\u001b[0;34m(\u001b[0m\u001b[0mself\u001b[0m\u001b[0;34m,\u001b[0m \u001b[0mcli_args\u001b[0m\u001b[0;34m)\u001b[0m\u001b[0;34m:\u001b[0m\u001b[0;34m\u001b[0m\u001b[0m\n",
      "\u001b[0;32m/opt/conda/lib/python3.6/site-packages/hca/util/__init__.py\u001b[0m in \u001b[0;36m_request\u001b[0;34m(self, req_args, url, stream, headers)\u001b[0m\n\u001b[1;32m    130\u001b[0m         \u001b[0mres\u001b[0m \u001b[0;34m=\u001b[0m \u001b[0msession\u001b[0m\u001b[0;34m.\u001b[0m\u001b[0mrequest\u001b[0m\u001b[0;34m(\u001b[0m\u001b[0mself\u001b[0m\u001b[0;34m.\u001b[0m\u001b[0mhttp_method\u001b[0m\u001b[0;34m,\u001b[0m \u001b[0murl\u001b[0m\u001b[0;34m,\u001b[0m \u001b[0mparams\u001b[0m\u001b[0;34m=\u001b[0m\u001b[0mquery\u001b[0m\u001b[0;34m,\u001b[0m \u001b[0mjson\u001b[0m\u001b[0;34m=\u001b[0m\u001b[0mjson_input\u001b[0m\u001b[0;34m,\u001b[0m \u001b[0mstream\u001b[0m\u001b[0;34m=\u001b[0m\u001b[0mstream\u001b[0m\u001b[0;34m,\u001b[0m \u001b[0mheaders\u001b[0m\u001b[0;34m=\u001b[0m\u001b[0mheaders\u001b[0m\u001b[0;34m)\u001b[0m\u001b[0;34m\u001b[0m\u001b[0m\n\u001b[1;32m    131\u001b[0m         \u001b[0;32mif\u001b[0m \u001b[0mres\u001b[0m\u001b[0;34m.\u001b[0m\u001b[0mstatus_code\u001b[0m \u001b[0;34m>=\u001b[0m \u001b[0;36m400\u001b[0m\u001b[0;34m:\u001b[0m\u001b[0;34m\u001b[0m\u001b[0m\n\u001b[0;32m--> 132\u001b[0;31m             \u001b[0;32mraise\u001b[0m \u001b[0mSwaggerAPIException\u001b[0m\u001b[0;34m(\u001b[0m\u001b[0mresponse\u001b[0m\u001b[0;34m=\u001b[0m\u001b[0mres\u001b[0m\u001b[0;34m)\u001b[0m\u001b[0;34m\u001b[0m\u001b[0m\n\u001b[0m\u001b[1;32m    133\u001b[0m         \u001b[0;32mreturn\u001b[0m \u001b[0mres\u001b[0m\u001b[0;34m\u001b[0m\u001b[0m\n\u001b[1;32m    134\u001b[0m \u001b[0;34m\u001b[0m\u001b[0m\n",
      "\u001b[0;31mSwaggerAPIException\u001b[0m: not_found: Cannot find file! (HTTP 404). Details:\nTraceback (most recent call last):\n  File \"/var/task/chalicelib/dss/error.py\", line 26, in wrapper\n    return func(*args, **kwargs)\n  File \"/var/task/chalicelib/dss/api/bundles/__init__.py\", line 34, in get\n    return get_bundle(uuid, Replica[replica], version, directurls)\n  File \"/var/task/chalicelib/dss/storage/bundles.py\", line 132, in get_bundle\n    directurls\n  File \"/var/task/chalicelib/dss/storage/bundles.py\", line 46, in get_bundle_from_bucket\n    raise DSSException(404, \"not_found\", \"Cannot find file!\")\ndss.error.DSSException\n"
     ]
    }
   ],
   "source": [
    "client.download(results[\"results\"][0][\"bundle_fqid\"], replica=\"aws\")"
   ]
  },
  {
   "cell_type": "markdown",
   "metadata": {},
   "source": [
    "Oh no, okay we want the first 36 characters of the fqid."
   ]
  },
  {
   "cell_type": "code",
   "execution_count": 42,
   "metadata": {},
   "outputs": [
    {
     "name": "stdout",
     "output_type": "stream",
     "text": [
      "File assay.json: Retrieving...\n",
      "File assay.json: GET SUCCEEDED. Writing to disk.\n",
      "File assay.json: GET SUCCEEDED. Stored at 2d87b5f5-757d-40b2-a2a7-49d2df179cb9/assay.json.\n",
      "File manifest.json: Retrieving...\n",
      "File manifest.json: GET SUCCEEDED. Writing to disk.\n",
      "File manifest.json: GET SUCCEEDED. Stored at 2d87b5f5-757d-40b2-a2a7-49d2df179cb9/manifest.json.\n",
      "File project.json: Retrieving...\n",
      "File project.json: GET SUCCEEDED. Writing to disk.\n",
      "File project.json: GET SUCCEEDED. Stored at 2d87b5f5-757d-40b2-a2a7-49d2df179cb9/project.json.\n",
      "File sample.json: Retrieving...\n",
      "File sample.json: GET SUCCEEDED. Writing to disk.\n",
      "File sample.json: GET SUCCEEDED. Stored at 2d87b5f5-757d-40b2-a2a7-49d2df179cb9/sample.json.\n",
      "File async_copied_file: Retrieving...\n",
      "File async_copied_file: GET SUCCEEDED. Writing to disk.\n",
      "File async_copied_file: GET SUCCEEDED. Stored at 2d87b5f5-757d-40b2-a2a7-49d2df179cb9/async_copied_file.\n"
     ]
    },
    {
     "data": {
      "text/plain": [
       "{}"
      ]
     },
     "execution_count": 42,
     "metadata": {},
     "output_type": "execute_result"
    }
   ],
   "source": [
    "client.download(results[\"results\"][0][\"bundle_fqid\"][:36], replica=\"aws\")"
   ]
  },
  {
   "cell_type": "markdown",
   "metadata": {},
   "source": [
    "Looks good, we've downloaded some files to `2d87b5f5-757d-40b2-a2a7-49d2df179cb9`. Let's see what's in there."
   ]
  },
  {
   "cell_type": "code",
   "execution_count": 44,
   "metadata": {},
   "outputs": [
    {
     "name": "stdout",
     "output_type": "stream",
     "text": [
      "total 65556\n",
      "-rw-r--r-- 1 jovyan users     2019 Feb 22 22:35 assay.json\n",
      "-rw-r--r-- 1 jovyan users 67108865 Feb 22 22:36 async_copied_file\n",
      "-rw-r--r-- 1 jovyan users      555 Feb 22 22:35 manifest.json\n",
      "-rw-r--r-- 1 jovyan users     1361 Feb 22 22:35 project.json\n",
      "-rw-r--r-- 1 jovyan users      805 Feb 22 22:35 sample.json\n"
     ]
    }
   ],
   "source": [
    "%%bash\n",
    "ls -l 2d87b5f5-757d-40b2-a2a7-49d2df179cb9"
   ]
  },
  {
   "cell_type": "markdown",
   "metadata": {},
   "source": [
    "Some json files with metadata, and a ~mystery~ `async_copied_file`. No data files though, how do I get those? Maybe the answer is in one of these jsons."
   ]
  },
  {
   "cell_type": "code",
   "execution_count": 45,
   "metadata": {},
   "outputs": [
    {
     "data": {
      "text/plain": [
       "{'dir': 'http://hgwdev.soe.ucsc.edu/~kent/hca/big_data_files',\n",
       " 'files': [{'format': '.fastq.gz', 'name': 'pbmc8k_S1_L007_R1_001.fastq.gz'},\n",
       "  {'format': '.fastq.gz', 'name': 'pbmc8k_S1_L007_R2_001.fastq.gz'},\n",
       "  {'format': '.fastq.gz', 'name': 'pbmc8k_S1_L008_R1_001.fastq.gz'},\n",
       "  {'format': '.fastq.gz', 'name': 'pbmc8k_S1_L008_R2_001.fastq.gz'}],\n",
       " 'version': '1'}"
      ]
     },
     "execution_count": 45,
     "metadata": {},
     "output_type": "execute_result"
    }
   ],
   "source": [
    "import json\n",
    "json.load(open(\"2d87b5f5-757d-40b2-a2a7-49d2df179cb9/manifest.json\"))"
   ]
  },
  {
   "cell_type": "markdown",
   "metadata": {},
   "source": [
    "Ah great, Jim Kent has the data. We can download it from him."
   ]
  },
  {
   "cell_type": "code",
   "execution_count": 35,
   "metadata": {},
   "outputs": [
    {
     "name": "stderr",
     "output_type": "stream",
     "text": [
      "IOPub data rate exceeded.\n",
      "The notebook server will temporarily stop sending output\n",
      "to the client in order to avoid crashing it.\n",
      "To change this limit, set the config variable\n",
      "`--NotebookApp.iopub_data_rate_limit`.\n",
      "\n",
      "Current values:\n",
      "NotebookApp.iopub_data_rate_limit=1000000.0 (bytes/sec)\n",
      "NotebookApp.rate_limit_window=3.0 (secs)\n",
      "\n"
     ]
    }
   ],
   "source": [
    "%%bash\n",
    "wget http://hgwdev.soe.ucsc.edu/~kent/hca/big_data_files/pbmc8k_S1_L007_R1_001.fastq.gz"
   ]
  },
  {
   "cell_type": "code",
   "execution_count": 47,
   "metadata": {},
   "outputs": [
    {
     "name": "stdout",
     "output_type": "stream",
     "text": [
      "total 7.2G\n",
      "-rw-r--r-- 1 jovyan users 7.2G Feb  5  2017 pbmc8k_S1_L007_R1_001.fastq.gz\n",
      "-rwxr-xr-x 1 jovyan users 2.9M May 21  2017 jq\n",
      "drwsrwsr-x 1 jovyan users 4.0K Feb 22 21:39 work\n",
      "drwxr-sr-x 2 jovyan users 4.0K Feb 22 22:12 2d87b5f5-757d-40b2-a2a7-49d2df179cb9\n",
      "-rw-r--r-- 1 jovyan users  32K Feb 22 22:43 HCA Download.ipynb\n"
     ]
    }
   ],
   "source": [
    "%%bash\n",
    "ls -lrth"
   ]
  },
  {
   "cell_type": "markdown",
   "metadata": {},
   "source": [
    "Success!"
   ]
  }
 ],
 "metadata": {
  "kernelspec": {
   "display_name": "Python 3",
   "language": "python",
   "name": "python3"
  },
  "language_info": {
   "codemirror_mode": {
    "name": "ipython",
    "version": 3
   },
   "file_extension": ".py",
   "mimetype": "text/x-python",
   "name": "python",
   "nbconvert_exporter": "python",
   "pygments_lexer": "ipython3",
   "version": "3.6.3"
  }
 },
 "nbformat": 4,
 "nbformat_minor": 2
}

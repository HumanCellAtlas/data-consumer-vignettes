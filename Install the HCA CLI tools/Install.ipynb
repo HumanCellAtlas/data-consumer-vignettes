{
 "cells": [
  {
   "cell_type": "markdown",
   "metadata": {},
   "source": [
    "## Install the HCA CLI ❎"
   ]
  },
  {
   "cell_type": "markdown",
   "metadata": {},
   "source": [
    "### Installation just works"
   ]
  },
  {
   "cell_type": "code",
   "execution_count": 1,
   "metadata": {},
   "outputs": [
    {
     "ename": "Exception",
     "evalue": "oh no this is an exception the notebook will probably fail",
     "output_type": "error",
     "traceback": [
      "\u001b[0;31m---------------------------------------------------------------------------\u001b[0m",
      "\u001b[0;31mException\u001b[0m                                 Traceback (most recent call last)",
      "\u001b[0;32m<ipython-input-1-899d2f069c58>\u001b[0m in \u001b[0;36m<module>\u001b[0;34m\u001b[0m\n\u001b[0;32m----> 1\u001b[0;31m \u001b[0;32mraise\u001b[0m \u001b[0mException\u001b[0m\u001b[0;34m(\u001b[0m\u001b[0;34m\"oh no this is an exception the notebook will probably fail\"\u001b[0m\u001b[0;34m)\u001b[0m\u001b[0;34m\u001b[0m\u001b[0;34m\u001b[0m\u001b[0m\n\u001b[0m",
      "\u001b[0;31mException\u001b[0m: oh no this is an exception the notebook will probably fail"
     ]
    }
   ],
   "source": [
    "raise Exception(\"oh no this is an exception the notebook will probably fail\")"
   ]
  },
  {
   "cell_type": "code",
   "execution_count": 2,
   "metadata": {},
   "outputs": [
    {
     "name": "stdout",
     "output_type": "stream",
     "text": [
      "Requirement already satisfied: hca in /usr/local/lib/python3.7/site-packages (6.3.0)\n",
      "Requirement already satisfied: cryptography==2.3.1 in /usr/local/lib/python3.7/site-packages (from hca) (2.3.1)\n",
      "Requirement already satisfied: dcplib<3,>=2.0.2 in /usr/local/lib/python3.7/site-packages (from hca) (2.0.3)\n",
      "Requirement already satisfied: google-auth<2,>=1.0.2 in /usr/local/lib/python3.7/site-packages (from hca) (1.6.3)\n",
      "Requirement already satisfied: s3transfer<0.3.0,>=0.2.0 in /usr/local/lib/python3.7/site-packages (from hca) (0.2.1)\n",
      "Requirement already satisfied: six<2,>=1.10 in /Users/mymac/Library/Python/3.7/lib/python/site-packages (from hca) (1.12.0)\n",
      "Requirement already satisfied: docutils<1,>=0.14 in /usr/local/lib/python3.7/site-packages (from hca) (0.14)\n",
      "Requirement already satisfied: jsonschema<3,>=2.6 in /usr/local/lib/python3.7/site-packages (from hca) (2.6.0)\n",
      "Requirement already satisfied: atomicwrites<2,>=1.3.0 in /usr/local/lib/python3.7/site-packages (from hca) (1.3.0)\n",
      "Requirement already satisfied: awscli>1.15.70 in /usr/local/lib/python3.7/site-packages (from hca) (1.16.201)\n",
      "Requirement already satisfied: Jinja2<3,>=2.9 in /usr/local/lib/python3.7/site-packages (from hca) (2.10.1)\n",
      "Requirement already satisfied: boto3>1.8 in /usr/local/lib/python3.7/site-packages (from hca) (1.9.191)\n",
      "Requirement already satisfied: puremagic<1.5 in /usr/local/lib/python3.7/site-packages (from hca) (1.4)\n",
      "Requirement already satisfied: argcomplete<2,>=1.9.3 in /usr/local/lib/python3.7/site-packages (from hca) (1.10.0)\n",
      "Requirement already satisfied: botocore>=1.12.13 in /usr/local/lib/python3.7/site-packages (from hca) (1.12.191)\n",
      "Requirement already satisfied: requests<3,>=2.20.0 in /usr/local/lib/python3.7/site-packages (from hca) (2.22.0)\n",
      "Requirement already satisfied: commonmark<1,>=0.9.0 in /usr/local/lib/python3.7/site-packages (from hca) (0.9.0)\n",
      "Requirement already satisfied: tweak<2,>=1.0.2 in /usr/local/lib/python3.7/site-packages (from hca) (1.0.3)\n",
      "Requirement already satisfied: jsonpointer<2,>=1.10 in /usr/local/lib/python3.7/site-packages (from hca) (1.14)\n",
      "Requirement already satisfied: tenacity<5.1,>=5.0.2 in /usr/local/lib/python3.7/site-packages (from hca) (5.0.4)\n",
      "Requirement already satisfied: google-auth-oauthlib<2,>=0.1 in /usr/local/lib/python3.7/site-packages (from hca) (0.4.0)\n",
      "Requirement already satisfied: PyJWT>=1.6.4 in /usr/local/lib/python3.7/site-packages (from hca) (1.7.1)\n",
      "Requirement already satisfied: rsa<=3.5.0,>=3.1.2 in /usr/local/lib/python3.7/site-packages (from hca) (3.4.2)\n",
      "Requirement already satisfied: asn1crypto>=0.21.0 in /usr/local/lib/python3.7/site-packages (from cryptography==2.3.1->hca) (0.24.0)\n",
      "Requirement already satisfied: cffi!=1.11.3,>=1.7 in /usr/local/lib/python3.7/site-packages (from cryptography==2.3.1->hca) (1.12.3)\n",
      "Requirement already satisfied: idna>=2.1 in /usr/local/lib/python3.7/site-packages (from cryptography==2.3.1->hca) (2.8)\n",
      "Requirement already satisfied: crc32c in /usr/local/lib/python3.7/site-packages (from dcplib<3,>=2.0.2->hca) (1.7)\n",
      "Requirement already satisfied: cachetools>=2.0.0 in /usr/local/lib/python3.7/site-packages (from google-auth<2,>=1.0.2->hca) (3.1.1)\n",
      "Requirement already satisfied: pyasn1-modules>=0.2.1 in /usr/local/lib/python3.7/site-packages (from google-auth<2,>=1.0.2->hca) (0.2.5)\n",
      "Requirement already satisfied: PyYAML<=5.1,>=3.10; python_version != \"2.6\" in /usr/local/lib/python3.7/site-packages (from awscli>1.15.70->hca) (5.1)\n",
      "Requirement already satisfied: colorama<=0.3.9,>=0.2.5 in /usr/local/lib/python3.7/site-packages (from awscli>1.15.70->hca) (0.3.9)\n",
      "Requirement already satisfied: MarkupSafe>=0.23 in /usr/local/lib/python3.7/site-packages (from Jinja2<3,>=2.9->hca) (1.1.1)\n",
      "Requirement already satisfied: jmespath<1.0.0,>=0.7.1 in /usr/local/lib/python3.7/site-packages (from boto3>1.8->hca) (0.9.4)\n",
      "Requirement already satisfied: argparse in /usr/local/lib/python3.7/site-packages (from puremagic<1.5->hca) (1.4.0)\n",
      "Requirement already satisfied: urllib3<1.26,>=1.20; python_version >= \"3.4\" in /usr/local/lib/python3.7/site-packages (from botocore>=1.12.13->hca) (1.25.3)\n",
      "Requirement already satisfied: python-dateutil<3.0.0,>=2.1; python_version >= \"2.7\" in /usr/local/lib/python3.7/site-packages (from botocore>=1.12.13->hca) (2.8.0)\n",
      "Requirement already satisfied: certifi>=2017.4.17 in /usr/local/lib/python3.7/site-packages (from requests<3,>=2.20.0->hca) (2019.6.16)\n",
      "Requirement already satisfied: chardet<3.1.0,>=3.0.2 in /usr/local/lib/python3.7/site-packages (from requests<3,>=2.20.0->hca) (3.0.4)\n",
      "Requirement already satisfied: future in /usr/local/lib/python3.7/site-packages (from commonmark<1,>=0.9.0->hca) (0.17.1)\n",
      "Requirement already satisfied: requests-oauthlib>=0.7.0 in /usr/local/lib/python3.7/site-packages (from google-auth-oauthlib<2,>=0.1->hca) (1.2.0)\n",
      "Requirement already satisfied: pyasn1>=0.1.3 in /usr/local/lib/python3.7/site-packages (from rsa<=3.5.0,>=3.1.2->hca) (0.4.5)\n",
      "Requirement already satisfied: pycparser in /usr/local/lib/python3.7/site-packages (from cffi!=1.11.3,>=1.7->cryptography==2.3.1->hca) (2.19)\n",
      "Requirement already satisfied: oauthlib>=3.0.0 in /usr/local/lib/python3.7/site-packages (from requests-oauthlib>=0.7.0->google-auth-oauthlib<2,>=0.1->hca) (3.0.2)\n"
     ]
    }
   ],
   "source": [
    "%%bash\n",
    "pip3 install hca"
   ]
  },
  {
   "cell_type": "code",
   "execution_count": 3,
   "metadata": {},
   "outputs": [
    {
     "data": {
      "text/plain": [
       "['HCAConfig',\n",
       " '__builtins__',\n",
       " '__cached__',\n",
       " '__doc__',\n",
       " '__file__',\n",
       " '__loader__',\n",
       " '__name__',\n",
       " '__package__',\n",
       " '__path__',\n",
       " '__spec__',\n",
       " 'absolute_import',\n",
       " 'config',\n",
       " 'division',\n",
       " 'dss',\n",
       " 'get_config',\n",
       " 'logger',\n",
       " 'print_function',\n",
       " 'unicode_literals',\n",
       " 'upload',\n",
       " 'util']"
      ]
     },
     "execution_count": 3,
     "metadata": {},
     "output_type": "execute_result"
    }
   ],
   "source": [
    "import hca; dir(hca)"
   ]
  },
  {
   "cell_type": "code",
   "execution_count": 4,
   "metadata": {},
   "outputs": [
    {
     "name": "stdout",
     "output_type": "stream",
     "text": [
      "usage: hca [-h] [--version] [--log-level {ERROR,DEBUG,CRITICAL,INFO,WARNING}]\n",
      "           {help,upload,dss,query} ...\n",
      "\n",
      "Human Cell Atlas Command Line Interface\n",
      "\n",
      "For general help, run ``hca help``.\n",
      "For help with individual commands, run ``hca <command> --help``.\n",
      "\n",
      "Positional Arguments:\n",
      "  {help,upload,dss,query}\n",
      "    upload              Upload data to DCP\n",
      "    dss                 Interact with the HCA Data Storage System\n",
      "    query               Interact with the HCA DCP Query Service\n",
      "\n",
      "Optional Arguments:\n",
      "  -h, --help            show this help message and exit\n",
      "  --version             show program's version number and exit\n",
      "  --log-level {ERROR,DEBUG,CRITICAL,INFO,WARNING}\n",
      "                        ['DEBUG', 'INFO', 'WARNING', 'ERROR', 'CRITICAL']\n",
      "\n"
     ]
    }
   ],
   "source": [
    "%%bash\n",
    "hca --help"
   ]
  }
 ],
 "metadata": {
  "kernelspec": {
   "display_name": "Python 3",
   "language": "python",
   "name": "python3"
  },
  "language_info": {
   "codemirror_mode": {
    "name": "ipython",
    "version": 3
   },
   "file_extension": ".py",
   "mimetype": "text/x-python",
   "name": "python",
   "nbconvert_exporter": "python",
   "pygments_lexer": "ipython3",
   "version": "3.7.4"
  }
 },
 "nbformat": 4,
 "nbformat_minor": 2
}

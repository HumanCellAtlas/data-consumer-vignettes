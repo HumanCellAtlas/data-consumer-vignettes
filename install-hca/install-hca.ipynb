{
 "cells": [
  {
   "cell_type": "markdown",
   "metadata": {},
   "source": [
    "# Install the HCA CLI"
   ]
  },
  {
   "cell_type": "markdown",
   "metadata": {},
   "source": [
    "The first step of programmatic access to the HCA is installation of the [dcp-cli](https://github.com/HumanCellAtlas/dcp-cli). Install the HCA CLI tool using `pip`:"
   ]
  },
  {
   "cell_type": "code",
   "execution_count": 1,
   "metadata": {},
   "outputs": [
    {
     "name": "stdout",
     "output_type": "stream",
     "text": [
      "Requirement already satisfied: hca in /Users/charles/codes/data-consumer-vignettes/vp/lib/python3.6/site-packages (6.3.0)\n",
      "Requirement already satisfied: awscli>1.15.70 in /Users/charles/codes/data-consumer-vignettes/vp/lib/python3.6/site-packages (from hca) (1.16.306)\n",
      "Requirement already satisfied: docutils<1,>=0.14 in /Users/charles/codes/data-consumer-vignettes/vp/lib/python3.6/site-packages (from hca) (0.15.2)\n",
      "Requirement already satisfied: dcplib<3,>=2.0.2 in /Users/charles/codes/data-consumer-vignettes/vp/lib/python3.6/site-packages (from hca) (2.1.2)\n",
      "Requirement already satisfied: PyJWT>=1.6.4 in /Users/charles/codes/data-consumer-vignettes/vp/lib/python3.6/site-packages (from hca) (1.7.1)\n",
      "Requirement already satisfied: six<2,>=1.10 in /Users/charles/codes/data-consumer-vignettes/vp/lib/python3.6/site-packages (from hca) (1.13.0)\n",
      "Collecting jsonschema<3,>=2.6\n",
      "  Using cached https://files.pythonhosted.org/packages/77/de/47e35a97b2b05c2fadbec67d44cfcdcd09b8086951b331d82de90d2912da/jsonschema-2.6.0-py2.py3-none-any.whl\n",
      "Requirement already satisfied: requests<3,>=2.20.0 in /Users/charles/codes/data-consumer-vignettes/vp/lib/python3.6/site-packages (from hca) (2.22.0)\n",
      "Requirement already satisfied: argcomplete<2,>=1.9.3 in /Users/charles/codes/data-consumer-vignettes/vp/lib/python3.6/site-packages (from hca) (1.10.3)\n",
      "Requirement already satisfied: puremagic<1.5 in /Users/charles/codes/data-consumer-vignettes/vp/lib/python3.6/site-packages (from hca) (1.4)\n",
      "Requirement already satisfied: google-auth<2,>=1.0.2 in /Users/charles/codes/data-consumer-vignettes/vp/lib/python3.6/site-packages (from hca) (1.9.0)\n",
      "Requirement already satisfied: botocore>=1.12.13 in /Users/charles/codes/data-consumer-vignettes/vp/lib/python3.6/site-packages (from hca) (1.13.42)\n",
      "Requirement already satisfied: rsa<=3.5.0,>=3.1.2 in /Users/charles/codes/data-consumer-vignettes/vp/lib/python3.6/site-packages (from hca) (3.4.2)\n",
      "Requirement already satisfied: commonmark<1,>=0.9.0 in /Users/charles/codes/data-consumer-vignettes/vp/lib/python3.6/site-packages (from hca) (0.9.1)\n",
      "Requirement already satisfied: atomicwrites<2,>=1.3.0 in /Users/charles/codes/data-consumer-vignettes/vp/lib/python3.6/site-packages (from hca) (1.3.0)\n",
      "Requirement already satisfied: cryptography==2.3.1 in /Users/charles/codes/data-consumer-vignettes/vp/lib/python3.6/site-packages (from hca) (2.3.1)\n",
      "Requirement already satisfied: jsonpointer<2,>=1.10 in /Users/charles/codes/data-consumer-vignettes/vp/lib/python3.6/site-packages (from hca) (1.14)\n",
      "Requirement already satisfied: Jinja2<3,>=2.9 in /Users/charles/codes/data-consumer-vignettes/vp/lib/python3.6/site-packages (from hca) (2.10.3)\n",
      "Requirement already satisfied: boto3>1.8 in /Users/charles/codes/data-consumer-vignettes/vp/lib/python3.6/site-packages (from hca) (1.10.42)\n",
      "Requirement already satisfied: s3transfer<0.3.0,>=0.2.0 in /Users/charles/codes/data-consumer-vignettes/vp/lib/python3.6/site-packages (from hca) (0.2.1)\n",
      "Requirement already satisfied: tenacity<5.1,>=5.0.2 in /Users/charles/codes/data-consumer-vignettes/vp/lib/python3.6/site-packages (from hca) (5.0.4)\n",
      "Requirement already satisfied: tweak<2,>=1.0.2 in /Users/charles/codes/data-consumer-vignettes/vp/lib/python3.6/site-packages (from hca) (1.0.3)\n",
      "Requirement already satisfied: google-auth-oauthlib<2,>=0.1 in /Users/charles/codes/data-consumer-vignettes/vp/lib/python3.6/site-packages (from hca) (0.4.1)\n",
      "Requirement already satisfied: colorama<0.4.2,>=0.2.5; python_version != \"2.6\" and python_version != \"3.3\" in /Users/charles/codes/data-consumer-vignettes/vp/lib/python3.6/site-packages (from awscli>1.15.70->hca) (0.4.1)\n",
      "Requirement already satisfied: PyYAML<5.2,>=3.10; python_version != \"2.6\" and python_version != \"3.3\" in /Users/charles/codes/data-consumer-vignettes/vp/lib/python3.6/site-packages (from awscli>1.15.70->hca) (5.1.2)\n",
      "Requirement already satisfied: crc32c in /Users/charles/codes/data-consumer-vignettes/vp/lib/python3.6/site-packages (from dcplib<3,>=2.0.2->hca) (2.0)\n",
      "Requirement already satisfied: idna<2.9,>=2.5 in /Users/charles/codes/data-consumer-vignettes/vp/lib/python3.6/site-packages (from requests<3,>=2.20.0->hca) (2.8)\n",
      "Requirement already satisfied: chardet<3.1.0,>=3.0.2 in /Users/charles/codes/data-consumer-vignettes/vp/lib/python3.6/site-packages (from requests<3,>=2.20.0->hca) (3.0.4)\n",
      "Requirement already satisfied: certifi>=2017.4.17 in /Users/charles/codes/data-consumer-vignettes/vp/lib/python3.6/site-packages (from requests<3,>=2.20.0->hca) (2019.11.28)\n",
      "Requirement already satisfied: urllib3!=1.25.0,!=1.25.1,<1.26,>=1.21.1 in /Users/charles/codes/data-consumer-vignettes/vp/lib/python3.6/site-packages (from requests<3,>=2.20.0->hca) (1.25.7)\n",
      "Requirement already satisfied: argparse in /Users/charles/codes/data-consumer-vignettes/vp/lib/python3.6/site-packages (from puremagic<1.5->hca) (1.4.0)\n",
      "Requirement already satisfied: pyasn1-modules>=0.2.1 in /Users/charles/codes/data-consumer-vignettes/vp/lib/python3.6/site-packages (from google-auth<2,>=1.0.2->hca) (0.2.7)\n",
      "Requirement already satisfied: cachetools<3.2,>=2.0.0 in /Users/charles/codes/data-consumer-vignettes/vp/lib/python3.6/site-packages (from google-auth<2,>=1.0.2->hca) (3.1.1)\n",
      "Requirement already satisfied: setuptools>=40.3.0 in /Users/charles/codes/data-consumer-vignettes/vp/lib/python3.6/site-packages (from google-auth<2,>=1.0.2->hca) (42.0.2)\n",
      "Requirement already satisfied: jmespath<1.0.0,>=0.7.1 in /Users/charles/codes/data-consumer-vignettes/vp/lib/python3.6/site-packages (from botocore>=1.12.13->hca) (0.9.4)\n",
      "Requirement already satisfied: python-dateutil<2.8.1,>=2.1; python_version >= \"2.7\" in /Users/charles/codes/data-consumer-vignettes/vp/lib/python3.6/site-packages (from botocore>=1.12.13->hca) (2.8.0)\n",
      "Requirement already satisfied: pyasn1>=0.1.3 in /Users/charles/codes/data-consumer-vignettes/vp/lib/python3.6/site-packages (from rsa<=3.5.0,>=3.1.2->hca) (0.4.8)\n",
      "Requirement already satisfied: cffi!=1.11.3,>=1.7 in /Users/charles/codes/data-consumer-vignettes/vp/lib/python3.6/site-packages (from cryptography==2.3.1->hca) (1.13.2)\n",
      "Requirement already satisfied: asn1crypto>=0.21.0 in /Users/charles/codes/data-consumer-vignettes/vp/lib/python3.6/site-packages (from cryptography==2.3.1->hca) (1.2.0)\n",
      "Requirement already satisfied: MarkupSafe>=0.23 in /Users/charles/codes/data-consumer-vignettes/vp/lib/python3.6/site-packages (from Jinja2<3,>=2.9->hca) (1.1.1)\n",
      "Requirement already satisfied: requests-oauthlib>=0.7.0 in /Users/charles/codes/data-consumer-vignettes/vp/lib/python3.6/site-packages (from google-auth-oauthlib<2,>=0.1->hca) (1.3.0)\n",
      "Requirement already satisfied: pycparser in /Users/charles/codes/data-consumer-vignettes/vp/lib/python3.6/site-packages (from cffi!=1.11.3,>=1.7->cryptography==2.3.1->hca) (2.19)\n",
      "Requirement already satisfied: oauthlib>=3.0.0 in /Users/charles/codes/data-consumer-vignettes/vp/lib/python3.6/site-packages (from requests-oauthlib>=0.7.0->google-auth-oauthlib<2,>=0.1->hca) (3.1.0)\n",
      "Installing collected packages: jsonschema\n",
      "  Found existing installation: jsonschema 3.2.0\n",
      "    Uninstalling jsonschema-3.2.0:\n",
      "      Successfully uninstalled jsonschema-3.2.0\n",
      "Successfully installed jsonschema-2.6.0\n"
     ]
    }
   ],
   "source": [
    "%%bash\n",
    "pip3 install hca"
   ]
  },
  {
   "cell_type": "markdown",
   "metadata": {},
   "source": [
    "Now that the tool has been installed into the Python environment used to run this notebook, we can import it right away and use `dir()` to see what methods are available:"
   ]
  },
  {
   "cell_type": "code",
   "execution_count": 3,
   "metadata": {},
   "outputs": [
    {
     "data": {
      "text/plain": [
       "['HCAConfig',\n",
       " '__builtins__',\n",
       " '__cached__',\n",
       " '__doc__',\n",
       " '__file__',\n",
       " '__loader__',\n",
       " '__name__',\n",
       " '__package__',\n",
       " '__path__',\n",
       " '__spec__',\n",
       " 'absolute_import',\n",
       " 'config',\n",
       " 'division',\n",
       " 'dss',\n",
       " 'get_config',\n",
       " 'logger',\n",
       " 'print_function',\n",
       " 'unicode_literals',\n",
       " 'upload',\n",
       " 'util']"
      ]
     },
     "execution_count": 3,
     "metadata": {},
     "output_type": "execute_result"
    }
   ],
   "source": [
    "import hca\n",
    "dir(hca)"
   ]
  },
  {
   "cell_type": "markdown",
   "metadata": {},
   "source": [
    "The `hca` command line tool has also been installed into the Python environment, so we can use Bash magic to run the `hca` command line tool:"
   ]
  },
  {
   "cell_type": "code",
   "execution_count": 4,
   "metadata": {},
   "outputs": [
    {
     "name": "stdout",
     "output_type": "stream",
     "text": [
      "usage: hca [-h] [--version] [--log-level {DEBUG,INFO,WARNING,CRITICAL,ERROR}]\n",
      "           {help,upload,dss,query} ...\n",
      "\n",
      "Human Cell Atlas Command Line Interface\n",
      "\n",
      "For general help, run ``hca help``.\n",
      "For help with individual commands, run ``hca <command> --help``.\n",
      "\n",
      "Positional Arguments:\n",
      "  {help,upload,dss,query}\n",
      "    upload              Upload data to DCP\n",
      "    dss                 Interact with the HCA Data Storage System\n",
      "    query               Interact with the HCA DCP Query Service\n",
      "\n",
      "Optional Arguments:\n",
      "  -h, --help            show this help message and exit\n",
      "  --version             show program's version number and exit\n",
      "  --log-level {DEBUG,INFO,WARNING,CRITICAL,ERROR}\n",
      "                        ['DEBUG', 'INFO', 'WARNING', 'ERROR', 'CRITICAL']\n",
      "\n"
     ]
    }
   ],
   "source": [
    "%%bash\n",
    "hca --help"
   ]
  },
  {
   "cell_type": "markdown",
   "metadata": {},
   "source": [
    "You should now be ready to run the rest of the example notebooks!"
   ]
  }
 ],
 "metadata": {
  "kernelspec": {
   "display_name": "Python 3",
   "language": "python",
   "name": "python3"
  },
  "language_info": {
   "codemirror_mode": {
    "name": "ipython",
    "version": 3
   },
   "file_extension": ".py",
   "mimetype": "text/x-python",
   "name": "python",
   "nbconvert_exporter": "python",
   "pygments_lexer": "ipython3",
   "version": "3.6.3"
  }
 },
 "nbformat": 4,
 "nbformat_minor": 2
}

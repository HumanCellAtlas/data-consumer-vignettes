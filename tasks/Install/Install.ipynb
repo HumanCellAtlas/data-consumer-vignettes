{
 "cells": [
  {
   "cell_type": "markdown",
   "metadata": {},
   "source": [
    "## Install the HCA CLI ❎"
   ]
  },
  {
   "cell_type": "markdown",
   "metadata": {},
   "source": [
    "### Installation just works"
   ]
  },
  {
   "cell_type": "code",
   "execution_count": 1,
   "metadata": {},
   "outputs": [
    {
     "name": "stdout",
     "output_type": "stream",
     "text": [
      "Requirement already satisfied: hca in /opt/conda/lib/python3.6/site-packages\n",
      "Requirement already satisfied: crcmod<2,>=1.7 in /opt/conda/lib/python3.6/site-packages (from hca)\n",
      "Requirement already satisfied: argcomplete<2,>=1.9.3 in /opt/conda/lib/python3.6/site-packages (from hca)\n",
      "Requirement already satisfied: jsonpointer<2,>=1.10 in /opt/conda/lib/python3.6/site-packages (from hca)\n",
      "Requirement already satisfied: google-auth<2,>=1.0.2 in /opt/conda/lib/python3.6/site-packages (from hca)\n",
      "Requirement already satisfied: six<2,>=1.10 in /opt/conda/lib/python3.6/site-packages (from hca)\n",
      "Requirement already satisfied: boto3<2,>=1.4 in /opt/conda/lib/python3.6/site-packages (from hca)\n",
      "Requirement already satisfied: jsonschema<3,>=2.6 in /opt/conda/lib/python3.6/site-packages (from hca)\n",
      "Requirement already satisfied: requests<3,>=2.17 in /opt/conda/lib/python3.6/site-packages (from hca)\n",
      "Requirement already satisfied: google-auth-oauthlib<2,>=0.1 in /opt/conda/lib/python3.6/site-packages (from hca)\n",
      "Requirement already satisfied: dcplib<2,>1.0 in /opt/conda/lib/python3.6/site-packages (from hca)\n",
      "Requirement already satisfied: tweak<1,>=0.6.7 in /opt/conda/lib/python3.6/site-packages (from hca)\n",
      "Requirement already satisfied: Jinja2<3,>=2.9 in /opt/conda/lib/python3.6/site-packages (from hca)\n",
      "Requirement already satisfied: commonmark<1,>=0.7.4 in /opt/conda/lib/python3.6/site-packages (from hca)\n",
      "Requirement already satisfied: cachetools>=2.0.0 in /opt/conda/lib/python3.6/site-packages (from google-auth<2,>=1.0.2->hca)\n",
      "Requirement already satisfied: pyasn1-modules>=0.2.1 in /opt/conda/lib/python3.6/site-packages (from google-auth<2,>=1.0.2->hca)\n",
      "Requirement already satisfied: rsa>=3.1.4 in /opt/conda/lib/python3.6/site-packages (from google-auth<2,>=1.0.2->hca)\n",
      "Requirement already satisfied: botocore<1.10.0,>=1.9.0 in /opt/conda/lib/python3.6/site-packages (from boto3<2,>=1.4->hca)\n",
      "Requirement already satisfied: jmespath<1.0.0,>=0.7.1 in /opt/conda/lib/python3.6/site-packages (from boto3<2,>=1.4->hca)\n",
      "Requirement already satisfied: s3transfer<0.2.0,>=0.1.10 in /opt/conda/lib/python3.6/site-packages (from boto3<2,>=1.4->hca)\n",
      "Requirement already satisfied: chardet<3.1.0,>=3.0.2 in /opt/conda/lib/python3.6/site-packages (from requests<3,>=2.17->hca)\n",
      "Requirement already satisfied: idna<2.7,>=2.5 in /opt/conda/lib/python3.6/site-packages (from requests<3,>=2.17->hca)\n",
      "Requirement already satisfied: urllib3<1.23,>=1.21.1 in /opt/conda/lib/python3.6/site-packages (from requests<3,>=2.17->hca)\n",
      "Requirement already satisfied: certifi>=2017.4.17 in /opt/conda/lib/python3.6/site-packages (from requests<3,>=2.17->hca)\n",
      "Requirement already satisfied: requests-oauthlib>=0.7.0 in /opt/conda/lib/python3.6/site-packages (from google-auth-oauthlib<2,>=0.1->hca)\n",
      "Requirement already satisfied: puremagic in /opt/conda/lib/python3.6/site-packages (from dcplib<2,>1.0->hca)\n",
      "Requirement already satisfied: MarkupSafe>=0.23 in /opt/conda/lib/python3.6/site-packages (from Jinja2<3,>=2.9->hca)\n",
      "Requirement already satisfied: future in /opt/conda/lib/python3.6/site-packages (from commonmark<1,>=0.7.4->hca)\n",
      "Requirement already satisfied: pyasn1<0.5.0,>=0.4.1 in /opt/conda/lib/python3.6/site-packages (from pyasn1-modules>=0.2.1->google-auth<2,>=1.0.2->hca)\n",
      "Requirement already satisfied: docutils>=0.10 in /opt/conda/lib/python3.6/site-packages (from botocore<1.10.0,>=1.9.0->boto3<2,>=1.4->hca)\n",
      "Requirement already satisfied: python-dateutil<3.0.0,>=2.1 in /opt/conda/lib/python3.6/site-packages (from botocore<1.10.0,>=1.9.0->boto3<2,>=1.4->hca)\n",
      "Requirement already satisfied: oauthlib>=0.6.2 in /opt/conda/lib/python3.6/site-packages (from requests-oauthlib>=0.7.0->google-auth-oauthlib<2,>=0.1->hca)\n",
      "Requirement already satisfied: argparse in /opt/conda/lib/python3.6/site-packages (from puremagic->dcplib<2,>1.0->hca)\n"
     ]
    }
   ],
   "source": [
    "%%bash\n",
    "pip install hca"
   ]
  },
  {
   "cell_type": "code",
   "execution_count": 2,
   "metadata": {},
   "outputs": [
    {
     "data": {
      "text/plain": [
       "['HCAConfig',\n",
       " '__builtins__',\n",
       " '__cached__',\n",
       " '__doc__',\n",
       " '__file__',\n",
       " '__loader__',\n",
       " '__name__',\n",
       " '__package__',\n",
       " '__path__',\n",
       " '__spec__',\n",
       " '_config',\n",
       " 'absolute_import',\n",
       " 'division',\n",
       " 'get_config',\n",
       " 'logger',\n",
       " 'logging',\n",
       " 'os',\n",
       " 'print_function',\n",
       " 'tweak',\n",
       " 'unicode_literals']"
      ]
     },
     "execution_count": 2,
     "metadata": {},
     "output_type": "execute_result"
    }
   ],
   "source": [
    "import hca; dir(hca)"
   ]
  },
  {
   "cell_type": "code",
   "execution_count": 3,
   "metadata": {},
   "outputs": [
    {
     "name": "stdout",
     "output_type": "stream",
     "text": [
      "usage: hca [-h] [--version] [--log-level {DEBUG,ERROR,INFO,CRITICAL,WARNING}]\n",
      "           {help,upload,dss} ...\n",
      "\n",
      "Human Cell Atlas Command Line Interface\n",
      "\n",
      "For general help, run ``{prog} help``.\n",
      "For help with individual commands, run ``{prog} <command> --help``.\n",
      "\n",
      "positional arguments:\n",
      "  {help,upload,dss}\n",
      "    upload              Upload data to DCP\n",
      "    dss                 Interact with the HCA Data Storage System\n",
      "\n",
      "optional arguments:\n",
      "  -h, --help            show this help message and exit\n",
      "  --version             show program's version number and exit\n",
      "  --log-level {DEBUG,ERROR,INFO,CRITICAL,WARNING}\n",
      "                        ['DEBUG', 'INFO', 'WARNING', 'ERROR', 'CRITICAL']\n"
     ]
    }
   ],
   "source": [
    "%%bash\n",
    "hca --help"
   ]
  }
 ],
 "metadata": {
  "kernelspec": {
   "display_name": "Python 3",
   "language": "python",
   "name": "python3"
  },
  "language_info": {
   "codemirror_mode": {
    "name": "ipython",
    "version": 3
   },
   "file_extension": ".py",
   "mimetype": "text/x-python",
   "name": "python",
   "nbconvert_exporter": "python",
   "pygments_lexer": "ipython3",
   "version": "3.6.4"
  }
 },
 "nbformat": 4,
 "nbformat_minor": 2
}

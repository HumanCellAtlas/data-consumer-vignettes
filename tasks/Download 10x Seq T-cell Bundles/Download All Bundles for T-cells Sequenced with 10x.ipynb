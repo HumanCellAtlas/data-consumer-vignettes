{
 "cells": [
  {
   "cell_type": "markdown",
   "metadata": {},
   "source": [
    "# Download all bundles for T cells sequenced with 10x\n",
    "\n",
    "Suppose I want to get all bundles that contain T cells _and_ were sequenced using 10x. How should I go about doing this?\n",
    "\n",
    "For those short on time, here are the steps in a nutshell:\n",
    "\n",
    "> 1) Write an Elasticsearch query with a `bool` and a `must` query, and then add the conditions you want to specify within them (`match` or `reg_exp`, for example).\n",
    "\n",
    "> 2) Execute the `post_search` method using the Elasticsearch query you wrote, and from the search results get a bundle.\n",
    "\n",
    "> 3) If your search returned no results, it may be helpful try either **a)** examining a bundle closer to see what the fields look like, or **b)** disassembling your search and executing it one piece at a time.\n",
    "\n",
    "And now for the in-depth answer. First, we'll need a query to search with; it might be a little more complicated than the ones we've used in previous vignettes, but the process overall is simple."
   ]
  },
  {
   "cell_type": "code",
   "execution_count": 1,
   "metadata": {},
   "outputs": [],
   "source": [
    "query = {\n",
    "    \"query\": {\n",
    "        \"bool\": {\n",
    "            \"must\": [\n",
    "                {\n",
    "                    \"match\": {\n",
    "                        \"files.process_json.processes.content.dissociation_method\": \"10x_v2\"\n",
    "                    }\n",
    "                },\n",
    "                {\n",
    "                    \"regexp\": {\n",
    "                        \"files.biomaterial_json.biomaterials.content.target_cell_type.text\": {\n",
    "                            \"value\": \".*T\\\\ cell\" # Gives us any type of T cell\n",
    "                        }\n",
    "                    }\n",
    "                }\n",
    "            ]\n",
    "        }\n",
    "    }\n",
    "}"
   ]
  },
  {
   "cell_type": "markdown",
   "metadata": {},
   "source": [
    "This query should give us all bundles with a dissociation method matching *10x_v2* and a target cell type matching *any type of T cell*. Keep in mind that while the use of the characters **`.*`** is convenient for finding a value in an unknown format, it _can_ make searches slow. However, for this example, let's not worry about performance.\n",
    "\n",
    "If you're wondering how to find the paths to these fields, [this previous vignette](https://github.com/HumanCellAtlas/data-consumer-vignettes/tree/master/tasks/Find%20Cell%20Type%20Count#find-cell-type-count) might be helpful.\n",
    "\n",
    "Now, let's give the query a try."
   ]
  },
  {
   "cell_type": "code",
   "execution_count": 2,
   "metadata": {
    "scrolled": false
   },
   "outputs": [
    {
     "ename": "IndexError",
     "evalue": "list index out of range",
     "output_type": "error",
     "traceback": [
      "\u001b[1;31m---------------------------------------------------------------------------\u001b[0m",
      "\u001b[1;31mIndexError\u001b[0m                                Traceback (most recent call last)",
      "\u001b[1;32m<ipython-input-2-23f77063d8e8>\u001b[0m in \u001b[0;36m<module>\u001b[1;34m()\u001b[0m\n\u001b[0;32m      5\u001b[0m \u001b[1;33m\u001b[0m\u001b[0m\n\u001b[0;32m      6\u001b[0m \u001b[0msearch_results\u001b[0m \u001b[1;33m=\u001b[0m \u001b[0mclient\u001b[0m\u001b[1;33m.\u001b[0m\u001b[0mpost_search\u001b[0m\u001b[1;33m(\u001b[0m\u001b[0mes_query\u001b[0m\u001b[1;33m=\u001b[0m\u001b[0mquery\u001b[0m\u001b[1;33m,\u001b[0m \u001b[0mreplica\u001b[0m\u001b[1;33m=\u001b[0m\u001b[1;34m'aws'\u001b[0m\u001b[1;33m,\u001b[0m \u001b[0moutput_format\u001b[0m\u001b[1;33m=\u001b[0m\u001b[1;34m'raw'\u001b[0m\u001b[1;33m)\u001b[0m\u001b[1;33m\u001b[0m\u001b[0m\n\u001b[1;32m----> 7\u001b[1;33m \u001b[0mprint\u001b[0m\u001b[1;33m(\u001b[0m\u001b[0mjson\u001b[0m\u001b[1;33m.\u001b[0m\u001b[0mdumps\u001b[0m\u001b[1;33m(\u001b[0m\u001b[0msearch_results\u001b[0m\u001b[1;33m[\u001b[0m\u001b[1;34m'results'\u001b[0m\u001b[1;33m]\u001b[0m\u001b[1;33m[\u001b[0m\u001b[1;36m0\u001b[0m\u001b[1;33m]\u001b[0m\u001b[1;33m,\u001b[0m \u001b[0mindent\u001b[0m\u001b[1;33m=\u001b[0m\u001b[1;36m4\u001b[0m\u001b[1;33m,\u001b[0m \u001b[0msort_keys\u001b[0m\u001b[1;33m=\u001b[0m\u001b[1;32mTrue\u001b[0m\u001b[1;33m)\u001b[0m\u001b[1;33m)\u001b[0m\u001b[1;33m\u001b[0m\u001b[0m\n\u001b[0m",
      "\u001b[1;31mIndexError\u001b[0m: list index out of range"
     ]
    }
   ],
   "source": [
    "import hca.dss, json\n",
    "client = hca.dss.DSSClient()\n",
    "\n",
    "# Print the first bundle we get from this query\n",
    "\n",
    "search_results = client.post_search(es_query=query, replica='aws', output_format='raw')\n",
    "print(json.dumps(search_results['results'][0], indent=4, sort_keys=True))"
   ]
  },
  {
   "cell_type": "markdown",
   "metadata": {},
   "source": [
    "...Well, that didn't exactly work out like we were hoping. What went wrong?\n",
    "\n",
    "If the list index is out of range, it probably means that the search returned no results. Let's see..."
   ]
  },
  {
   "cell_type": "code",
   "execution_count": 3,
   "metadata": {},
   "outputs": [
    {
     "name": "stdout",
     "output_type": "stream",
     "text": [
      "0\n"
     ]
    }
   ],
   "source": [
    "print(search_results['total_hits'])"
   ]
  },
  {
   "cell_type": "markdown",
   "metadata": {},
   "source": [
    "Aha, we've found the problem. Let's try simplifying the search a little, this time only looking for T cells."
   ]
  },
  {
   "cell_type": "code",
   "execution_count": 4,
   "metadata": {},
   "outputs": [],
   "source": [
    "query = {\n",
    "    \"query\": {\n",
    "        \"regexp\": {\n",
    "            \"files.biomaterial_json.biomaterials.content.target_cell_type.text\": {\n",
    "                \"value\": \".*T\\\\ cell\"\n",
    "            }\n",
    "        }\n",
    "    }\n",
    "}"
   ]
  },
  {
   "cell_type": "markdown",
   "metadata": {},
   "source": [
    "Now that we've abandoned half the query, we should get some results."
   ]
  },
  {
   "cell_type": "code",
   "execution_count": 5,
   "metadata": {},
   "outputs": [
    {
     "name": "stdout",
     "output_type": "stream",
     "text": [
      "1183\n"
     ]
    }
   ],
   "source": [
    "search_results = client.post_search(es_query=query, replica='aws', output_format='raw')\n",
    "print(search_results['total_hits'])"
   ]
  },
  {
   "cell_type": "markdown",
   "metadata": {},
   "source": [
    "That's a lot of bundles with T cells. Why aren't we getting any that were sequenced using 10x?\n",
    "\n",
    "Let's search using the other half of the query and find out."
   ]
  },
  {
   "cell_type": "code",
   "execution_count": 6,
   "metadata": {},
   "outputs": [],
   "source": [
    "query = {\n",
    "    \"query\": {\n",
    "        \"match\": {\n",
    "            \"files.process_json.processes.content.dissociation_method\": \"10x_v2\"\n",
    "        }\n",
    "    }\n",
    "}"
   ]
  },
  {
   "cell_type": "markdown",
   "metadata": {},
   "source": [
    "Okay, let's see how many bundles with 10x sequencing there are."
   ]
  },
  {
   "cell_type": "code",
   "execution_count": 7,
   "metadata": {},
   "outputs": [
    {
     "name": "stdout",
     "output_type": "stream",
     "text": [
      "4\n"
     ]
    }
   ],
   "source": [
    "search_results = client.post_search(es_query=query, replica='aws', output_format='raw')\n",
    "print(search_results['total_hits'])"
   ]
  },
  {
   "cell_type": "markdown",
   "metadata": {},
   "source": [
    "Well, well. That makes more sense now. It seems there are only four bundles sequenced by 10x, which makes it unlikely that any of them include data about T cells. Maybe we can examine part of a bundle to get a better idea of what's going on."
   ]
  },
  {
   "cell_type": "code",
   "execution_count": 8,
   "metadata": {},
   "outputs": [
    {
     "name": "stdout",
     "output_type": "stream",
     "text": [
      "{\n",
      "    \"content\": {\n",
      "        \"biomaterial_core\": {\n",
      "            \"biomaterial_id\": \"3_BM1_cells\",\n",
      "            \"has_input_biomaterial\": \"3_BM1\",\n",
      "            \"ncbi_taxon_id\": [\n",
      "                9606\n",
      "            ]\n",
      "        },\n",
      "        \"describedBy\": \"https://schema.humancellatlas.org/type/biomaterial/5.1.0/cell_suspension\",\n",
      "        \"genus_species\": [\n",
      "            {\n",
      "                \"ontology\": \"NCBITaxon:9606\",\n",
      "                \"text\": \"Homo sapiens\"\n",
      "            }\n",
      "        ],\n",
      "        \"schema_type\": \"biomaterial\",\n",
      "        \"target_cell_type\": [\n",
      "            {\n",
      "                \"ontology\": \"CL:1001610\",\n",
      "                \"text\": \"bone marrow hematopoietic cell\"\n",
      "            }\n",
      "        ],\n",
      "        \"total_estimated_cells\": 3971\n",
      "    },\n",
      "    \"hca_ingest\": {\n",
      "        \"accession\": \"\",\n",
      "        \"document_id\": \"6d98e8a4-dc7e-4ee8-aad6-9861b744e9fe\",\n",
      "        \"submissionDate\": \"2018-03-26T16:59:18.876Z\",\n",
      "        \"updateDate\": \"2018-03-28T17:49:42.521Z\"\n",
      "    }\n",
      "}\n"
     ]
    }
   ],
   "source": [
    "print(json.dumps(search_results['results'][0]['metadata']['files']['biomaterial_json']['biomaterials'][0], indent=4, sort_keys=True))"
   ]
  },
  {
   "cell_type": "markdown",
   "metadata": {},
   "source": [
    "Looking at this, it would seem that all the cells recorded here are bone marrow hematopoietic cells. What about the other bundles though?"
   ]
  },
  {
   "cell_type": "code",
   "execution_count": 9,
   "metadata": {},
   "outputs": [
    {
     "name": "stdout",
     "output_type": "stream",
     "text": [
      "False\n"
     ]
    }
   ],
   "source": [
    "print( 'T cell' in json.dumps(search_results['results']) )"
   ]
  },
  {
   "cell_type": "markdown",
   "metadata": {},
   "source": [
    "Well, there's our answer! It would seem that there aren't any data on T cells anywhere in these four bundles, meaning there aren't any bundles containing data on both T cells and 10x sequencing.\n",
    "\n",
    "Still, I'm not quite satisfied yet; I want to actually see some results from a compound query. One common practice of breaking down hematopoietic system tissue is by means of _mechanical_ dissociation. Maybe we can find some bundles with T cells and this method instead."
   ]
  },
  {
   "cell_type": "code",
   "execution_count": 10,
   "metadata": {},
   "outputs": [],
   "source": [
    "query = {\n",
    "    \"query\": {\n",
    "        \"bool\": {\n",
    "            \"must\": [\n",
    "                {\n",
    "                    \"match\": {\n",
    "                        \"files.process_json.processes.content.dissociation_method\": \"mechanical\"\n",
    "                    }\n",
    "                },\n",
    "                {\n",
    "                    \"regexp\": {\n",
    "                        \"files.biomaterial_json.biomaterials.content.target_cell_type.text\": {\n",
    "                            \"value\": \".*T\\\\ cell\" # Gives us any type of T cell\n",
    "                        }\n",
    "                    }\n",
    "                }\n",
    "            ]\n",
    "        }\n",
    "    }\n",
    "}"
   ]
  },
  {
   "cell_type": "markdown",
   "metadata": {},
   "source": [
    "And now to run a search on it..."
   ]
  },
  {
   "cell_type": "code",
   "execution_count": 11,
   "metadata": {},
   "outputs": [
    {
     "name": "stdout",
     "output_type": "stream",
     "text": [
      "1183\n"
     ]
    }
   ],
   "source": [
    "search_results = client.post_search(es_query=query, replica='aws', output_format='raw')\n",
    "print(search_results['total_hits'])"
   ]
  },
  {
   "cell_type": "markdown",
   "metadata": {},
   "source": [
    "There we go! Our query with two parameters worked. It looks like all of the current bundles with T cell data have a _mechanical_ dissociation method. "
   ]
  }
 ],
 "metadata": {
  "kernelspec": {
   "display_name": "Python 3",
   "language": "python",
   "name": "python3"
  },
  "language_info": {
   "codemirror_mode": {
    "name": "ipython",
    "version": 3
   },
   "file_extension": ".py",
   "mimetype": "text/x-python",
   "name": "python",
   "nbconvert_exporter": "python",
   "pygments_lexer": "ipython3",
   "version": "3.6.6"
  }
 },
 "nbformat": 4,
 "nbformat_minor": 2
}

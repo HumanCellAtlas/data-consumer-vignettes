{
 "cells": [
  {
   "cell_type": "markdown",
   "metadata": {},
   "source": [
    "# Download all bundles for T cells sequenced with 10x\n",
    "\n",
    "Suppose I want to get all bundles that contain T cells _and_ were sequenced using 10x. How should I go about doing this?\n",
    "\n",
    "For those short on time, here are the steps in a nutshell:\n",
    "\n",
    "> 1) Write an Elasticsearch query with a `bool` and a `must` subquery, and then add the conditions you want to specify within them (in this case, `match` or `reg_exp`). See the query below for an example.\n",
    "\n",
    "> 2) Execute the `post_search` method using the Elasticsearch query you wrote, and from the search results get a bundle.\n",
    "\n",
    "> 3) If your search returned no results, it may be helpful to try **a)** checking that the paths to your fields are correct, and/or **b)** disassembling your search and executing it one piece at a time.\n",
    "\n",
    "And now for the in-depth answer. First, we'll need a query to search with; it might be a little more complicated than the ones used in previous vignettes, but the process overall is simple."
   ]
  },
  {
   "cell_type": "code",
   "execution_count": 2,
   "metadata": {},
   "outputs": [],
   "source": [
    "query = {\n",
    "    \"query\": {\n",
    "        \"bool\": {\n",
    "            \"must\": [\n",
    "                {\n",
    "                    \"match\": {\n",
    "                        \"files.dissociation_protocol_json.dissociation_method.text\": \"10x_v2\"\n",
    "                    }\n",
    "                },\n",
    "                {\n",
    "                    \"regexp\": {\n",
    "                        \"files.cell_suspension_json.selected_cell_type.text\": {\n",
    "                            \"value\": \".*T\\\\ cell\" # Gives us any type of T cell\n",
    "                        }\n",
    "                    }\n",
    "                }\n",
    "            ]\n",
    "        }\n",
    "    }\n",
    "}"
   ]
  },
  {
   "cell_type": "markdown",
   "metadata": {},
   "source": [
    "This query should give us all bundles with a dissociation method matching *10x_v2* and a target cell type matching *any type of T cell*. Keep in mind that while the use of the wildcard characters **`.*`** is convenient for finding a value in an unknown format, it _can_ make searches slow. However, for this example, let's not worry about performance.\n",
    "\n",
    "If you're wondering how to find the paths to these fields, [this previous vignette](https://github.com/HumanCellAtlas/data-consumer-vignettes/tree/master/tasks/Find%20Cell%20Type%20Count#find-cell-type-count) might be helpful.\n",
    "\n",
    "Now, let's give the query a try."
   ]
  },
  {
   "cell_type": "code",
   "execution_count": 3,
   "metadata": {
    "scrolled": true
   },
   "outputs": [
    {
     "ename": "IndexError",
     "evalue": "list index out of range",
     "output_type": "error",
     "traceback": [
      "\u001b[1;31m---------------------------------------------------------------------------\u001b[0m",
      "\u001b[1;31mIndexError\u001b[0m                                Traceback (most recent call last)",
      "\u001b[1;32m<ipython-input-3-0919ec80cdf0>\u001b[0m in \u001b[0;36m<module>\u001b[1;34m()\u001b[0m\n\u001b[0;32m      7\u001b[0m \u001b[1;33m\u001b[0m\u001b[0m\n\u001b[0;32m      8\u001b[0m \u001b[0msearch_results\u001b[0m \u001b[1;33m=\u001b[0m \u001b[0mclient\u001b[0m\u001b[1;33m.\u001b[0m\u001b[0mpost_search\u001b[0m\u001b[1;33m(\u001b[0m\u001b[0mes_query\u001b[0m\u001b[1;33m=\u001b[0m\u001b[0mquery\u001b[0m\u001b[1;33m,\u001b[0m \u001b[0mreplica\u001b[0m\u001b[1;33m=\u001b[0m\u001b[1;34m'aws'\u001b[0m\u001b[1;33m,\u001b[0m \u001b[0moutput_format\u001b[0m\u001b[1;33m=\u001b[0m\u001b[1;34m'raw'\u001b[0m\u001b[1;33m)\u001b[0m\u001b[1;33m\u001b[0m\u001b[0m\n\u001b[1;32m----> 9\u001b[1;33m \u001b[0mprint\u001b[0m\u001b[1;33m(\u001b[0m\u001b[0mjson\u001b[0m\u001b[1;33m.\u001b[0m\u001b[0mdumps\u001b[0m\u001b[1;33m(\u001b[0m\u001b[0msearch_results\u001b[0m\u001b[1;33m[\u001b[0m\u001b[1;34m'results'\u001b[0m\u001b[1;33m]\u001b[0m\u001b[1;33m[\u001b[0m\u001b[1;36m0\u001b[0m\u001b[1;33m]\u001b[0m\u001b[1;33m,\u001b[0m \u001b[0mindent\u001b[0m\u001b[1;33m=\u001b[0m\u001b[1;36m4\u001b[0m\u001b[1;33m,\u001b[0m \u001b[0msort_keys\u001b[0m\u001b[1;33m=\u001b[0m\u001b[1;32mTrue\u001b[0m\u001b[1;33m)\u001b[0m\u001b[1;33m)\u001b[0m\u001b[1;33m\u001b[0m\u001b[0m\n\u001b[0m",
      "\u001b[1;31mIndexError\u001b[0m: list index out of range"
     ]
    }
   ],
   "source": [
    "import hca.dss, json\n",
    "client = hca.dss.DSSClient()\n",
    "\n",
    "client.host = 'https://dss.staging.data.humancellatlas.org/v1'\n",
    "\n",
    "# Print the first bundle we get from this query\n",
    "\n",
    "search_results = client.post_search(es_query=query, replica='aws', output_format='raw')\n",
    "print(json.dumps(search_results['results'][0], indent=4, sort_keys=True))"
   ]
  },
  {
   "cell_type": "markdown",
   "metadata": {},
   "source": [
    "...Well, that didn't exactly work out like we were hoping. What went wrong?\n",
    "\n",
    "If the list index is out of range, it must mean that the search returned no results. Let's see..."
   ]
  },
  {
   "cell_type": "code",
   "execution_count": 4,
   "metadata": {},
   "outputs": [
    {
     "name": "stdout",
     "output_type": "stream",
     "text": [
      "0\n"
     ]
    }
   ],
   "source": [
    "print(search_results['total_hits'])"
   ]
  },
  {
   "cell_type": "markdown",
   "metadata": {},
   "source": [
    "Aha, we've found the problem. Let's try simplifying the search a little, this time only looking for 10x seq."
   ]
  },
  {
   "cell_type": "code",
   "execution_count": 5,
   "metadata": {},
   "outputs": [],
   "source": [
    "query = {\n",
    "    \"query\": {\n",
    "        \"match\": {\n",
    "            \"files.dissociation_protocol_json.dissociation_method.text\": \"10x_v2\"\n",
    "        }\n",
    "    }\n",
    "}"
   ]
  },
  {
   "cell_type": "markdown",
   "metadata": {},
   "source": [
    "Now that we've abandoned half the query, we should get some results."
   ]
  },
  {
   "cell_type": "code",
   "execution_count": 6,
   "metadata": {},
   "outputs": [
    {
     "name": "stdout",
     "output_type": "stream",
     "text": [
      "14070\n"
     ]
    }
   ],
   "source": [
    "search_results = client.post_search(es_query=query, replica='aws', output_format='raw')\n",
    "print(search_results['total_hits'])"
   ]
  },
  {
   "cell_type": "markdown",
   "metadata": {},
   "source": [
    "That's a lot of bundles with 10x sequencing. Why aren't we getting any that also contain data on T cells?\n",
    "\n",
    "Let's search using the other half of the query and find out."
   ]
  },
  {
   "cell_type": "code",
   "execution_count": 7,
   "metadata": {},
   "outputs": [],
   "source": [
    "query = {\n",
    "    \"query\": {\n",
    "        \"regexp\": {\n",
    "            \"files.cell_suspension_json.selected_cell_type.text\": {\n",
    "                \"value\": \".*T\\\\ cell\"\n",
    "            }\n",
    "        }\n",
    "    }\n",
    "}"
   ]
  },
  {
   "cell_type": "markdown",
   "metadata": {},
   "source": [
    "Okay, let's see how many bundles with T cells there are."
   ]
  },
  {
   "cell_type": "code",
   "execution_count": 8,
   "metadata": {},
   "outputs": [
    {
     "name": "stdout",
     "output_type": "stream",
     "text": [
      "1183\n"
     ]
    }
   ],
   "source": [
    "search_results = client.post_search(es_query=query, replica='aws', output_format='raw')\n",
    "print(search_results['total_hits'])"
   ]
  },
  {
   "cell_type": "markdown",
   "metadata": {},
   "source": [
    "It looks like there are also plenty of bundles with T cells, so why aren't we getting any that also have 10x sequencing? Maybe we can examine part of a bundle to get a better idea of what's going on."
   ]
  },
  {
   "cell_type": "code",
   "execution_count": 9,
   "metadata": {},
   "outputs": [
    {
     "name": "stdout",
     "output_type": "stream",
     "text": [
      "{\n",
      "    \"describedBy\": \"http://schema.staging.data.humancellatlas.org/type/protocol/biomaterial_collection/5.0.3/dissociation_protocol\",\n",
      "    \"dissociation_method\": {\n",
      "        \"ontology\": \"EFO:0009129\",\n",
      "        \"text\": \"mechanical dissociation\"\n",
      "    },\n",
      "    \"protocol_core\": {\n",
      "        \"document\": \"TissueDissociationProtocol.pdf\",\n",
      "        \"protocol_id\": \"tissue_dissociation_protocol\",\n",
      "        \"protocol_name\": \"Extracting cells from lymph nodes\"\n",
      "    },\n",
      "    \"provenance\": {\n",
      "        \"document_id\": \"40056e47-131d-4c6e-a884-a927bfccf8ce\",\n",
      "        \"submission_date\": \"2018-09-13T18:02:23.415Z\",\n",
      "        \"update_date\": \"2018-09-13T18:02:29.781Z\"\n",
      "    },\n",
      "    \"schema_type\": \"protocol\"\n",
      "}\n"
     ]
    }
   ],
   "source": [
    "print(json.dumps(search_results['results'][0]['metadata']['files']['dissociation_protocol_json'][0], indent=4, sort_keys=True))"
   ]
  },
  {
   "cell_type": "markdown",
   "metadata": {},
   "source": [
    "Looking at the first bundle, it would seem that all the cells recorded here were sequenced via mechanical dissociation. What about the other bundles?"
   ]
  },
  {
   "cell_type": "code",
   "execution_count": 10,
   "metadata": {},
   "outputs": [
    {
     "name": "stdout",
     "output_type": "stream",
     "text": [
      "False\n"
     ]
    }
   ],
   "source": [
    "print( '10x_2' in search_results['results'] )"
   ]
  },
  {
   "cell_type": "markdown",
   "metadata": {},
   "source": [
    "Well, there's our answer! It would seem that there aren't any data on 10x seq in any of these bundles, meaning there aren't any bundles containing data on both T cells and 10x sequencing.\n",
    "\n",
    "Still, I'm not quite satisfied yet; I want to actually see some results from a compound query. I know that a common practice of breaking down hematopoietic system tissue (which often contains T cells) is by means of _mechanical dissociation_. Maybe we can find some bundles with data on T cells and this method instead."
   ]
  },
  {
   "cell_type": "code",
   "execution_count": 11,
   "metadata": {},
   "outputs": [],
   "source": [
    "query = {\n",
    "    \"query\": {\n",
    "        \"bool\": {\n",
    "            \"must\": [\n",
    "                {\n",
    "                    \"match\": {\n",
    "                        \"files.dissociation_protocol_json.dissociation_method.text\": \"mechanical dissociation\"\n",
    "                    }\n",
    "                },\n",
    "                {\n",
    "                    \"regexp\": {\n",
    "                        \"files.cell_suspension_json.selected_cell_type.text\": {\n",
    "                            \"value\": \".*T\\\\ cell\"\n",
    "                        }\n",
    "                    }\n",
    "                }\n",
    "            ]\n",
    "        }\n",
    "    }\n",
    "}"
   ]
  },
  {
   "cell_type": "markdown",
   "metadata": {},
   "source": [
    "And now to run a search on it..."
   ]
  },
  {
   "cell_type": "code",
   "execution_count": 12,
   "metadata": {},
   "outputs": [
    {
     "name": "stdout",
     "output_type": "stream",
     "text": [
      "1183\n"
     ]
    }
   ],
   "source": [
    "search_results = client.post_search(es_query=query, replica='aws', output_format='raw')\n",
    "print(search_results['total_hits'])"
   ]
  },
  {
   "cell_type": "markdown",
   "metadata": {},
   "source": [
    "There we go! Our query with two parameters worked. It looks like all the bundles with T cell data have a _mechanical_ dissociation method. "
   ]
  }
 ],
 "metadata": {
  "kernelspec": {
   "display_name": "Python 3",
   "language": "python",
   "name": "python3"
  },
  "language_info": {
   "codemirror_mode": {
    "name": "ipython",
    "version": 3
   },
   "file_extension": ".py",
   "mimetype": "text/x-python",
   "name": "python",
   "nbconvert_exporter": "python",
   "pygments_lexer": "ipython3",
   "version": "3.7.0"
  }
 },
 "nbformat": 4,
 "nbformat_minor": 2
}

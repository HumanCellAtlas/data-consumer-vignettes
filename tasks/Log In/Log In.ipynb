{
 "cells": [
  {
   "cell_type": "markdown",
   "metadata": {},
   "source": [
    "## Login to the DSS 🔶"
   ]
  },
  {
   "cell_type": "markdown",
   "metadata": {},
   "source": [
    "### Things fall apart when logging in\n",
    "First, assume the HCA CLI is already installed.\n",
    "\n",
    "The docs say to log in with `hca dss login`. This won't return if you run it in a notebook:"
   ]
  },
  {
   "cell_type": "code",
   "execution_count": null,
   "metadata": {},
   "outputs": [],
   "source": [
    "%%bash\n",
    "hca dss login"
   ]
  },
  {
   "cell_type": "markdown",
   "metadata": {},
   "source": [
    "Running via a terminal tells you to `Please visit this URL to authorize this application: <url>`\n",
    "\n",
    "That URL directs you to a Google sign-in page, which then redirects to to `localhost:8080`.\n",
    "\n",
    "If you're working in a notebook, VM, EC2 instance, or other remote host where you can't access a browser, instead do:"
   ]
  },
  {
   "cell_type": "code",
   "execution_count": null,
   "metadata": {},
   "outputs": [],
   "source": [
    "%%bash\n",
    "hca dss login --remote"
   ]
  }
 ],
 "metadata": {
  "kernelspec": {
   "display_name": "Python 3",
   "language": "python",
   "name": "python3"
  },
  "language_info": {
   "codemirror_mode": {
    "name": "ipython",
    "version": 3
   },
   "file_extension": ".py",
   "mimetype": "text/x-python",
   "name": "python",
   "nbconvert_exporter": "python",
   "pygments_lexer": "ipython3",
   "version": "3.7.4"
  }
 },
 "nbformat": 4,
 "nbformat_minor": 2
}

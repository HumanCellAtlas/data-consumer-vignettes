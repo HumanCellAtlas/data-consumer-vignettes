{
 "cells": [
  {
   "cell_type": "markdown",
   "metadata": {},
   "source": [
    "# Download Any BAM File 🌕\n",
    "\n",
    "Any BAM file will do. I just want to see what aligned data looks like in the HCA.\n",
    "\n",
    "First I'll set up the DSS client."
   ]
  },
  {
   "cell_type": "code",
   "execution_count": null,
   "metadata": {},
   "outputs": [],
   "source": [
    "import hca, hca.dss, json\n",
    "client = hca.dss.DSSClient()"
   ]
  },
  {
   "cell_type": "markdown",
   "metadata": {},
   "source": [
    "****\n",
    "#### Now I want to find a bundle that has a BAM file in it.\n",
    "\n",
    "The `client` has a method `get_file` that sounds very promising, but I need to get a UUID. I don't know what RFC4122 is, but hopefully I won't have to."
   ]
  },
  {
   "cell_type": "code",
   "execution_count": null,
   "metadata": {},
   "outputs": [],
   "source": [
    "help(client.get_file)"
   ]
  },
  {
   "cell_type": "markdown",
   "metadata": {},
   "source": [
    "****\n",
    "#### Searching for bundles\n",
    "\n",
    "The `post_search` method accepts a `query`, and there's even an example query in the data-store repo's [readme](https://github.com/HumanCellAtlas/data-store/blob/master/README.md). The function signature doesn't quite match the example, but it should be easy to fix. "
   ]
  },
  {
   "cell_type": "code",
   "execution_count": null,
   "metadata": {},
   "outputs": [],
   "source": [
    "client.post_search(replica=\"aws\", es_query={\n",
    "    \"query\": {\n",
    "        \"bool\": {\n",
    "            \"must\": [{\n",
    "                \"match\": {\n",
    "                    \"files.sample_json.donor.species\": \"Homo sapiens\"\n",
    "                }\n",
    "            }, {\n",
    "                \"match\": {\n",
    "                    \"files.assay_json.single_cell.method\": \"Fluidigm C1\"\n",
    "                }\n",
    "            }, {\n",
    "                \"match\": {\n",
    "                    \"files.sample_json.ncbi_biosample\": \"SAMN04303778\"\n",
    "                }\n",
    "            }]\n",
    "        }\n",
    "    }\n",
    "})"
   ]
  },
  {
   "cell_type": "markdown",
   "metadata": {},
   "source": [
    "****\n",
    "#### Well that didn't work!\n",
    "\n",
    "But I can see how the results are structured. What if I just give it an empty query?"
   ]
  },
  {
   "cell_type": "code",
   "execution_count": null,
   "metadata": {},
   "outputs": [],
   "source": [
    "search_response = client.post_search(replica=\"aws\", es_query={})\n",
    "search_response[\"total_hits\"]"
   ]
  },
  {
   "cell_type": "markdown",
   "metadata": {},
   "source": [
    "****\n",
    "Okay great, many results. What does each result look like?"
   ]
  },
  {
   "cell_type": "code",
   "execution_count": null,
   "metadata": {},
   "outputs": [],
   "source": [
    "search_response[\"results\"][0]"
   ]
  },
  {
   "cell_type": "markdown",
   "metadata": {},
   "source": [
    "____\n",
    "Now I have an ID that I can work with, `bundle_fqid`! It's an FQID and not a UUID, and for a bundle, not a file. What happens if I provide the FQID to `get_bundle` as the UUID?"
   ]
  },
  {
   "cell_type": "code",
   "execution_count": null,
   "metadata": {},
   "outputs": [],
   "source": [
    "try:\n",
    "    client.get_bundle(uuid=search_response[\"results\"][0][\"bundle_fqid\"], replica=\"aws\")\n",
    "    print(\"Completed successfully!\")\n",
    "except Exception as e:\n",
    "    # If this operation fails, let's print the error (without raising the exception)\n",
    "    print(\"Oh no! There was an error.\")\n",
    "    print(e)"
   ]
  },
  {
   "cell_type": "markdown",
   "metadata": {},
   "source": [
    "****\n",
    "Hmmm, a `DSSException` - it appears that it couldn't find a bundle with that UUID. This makes sense because FQIDs aren't UUIDs: the UUID is the part of the FQID before the first `.`. The timestamp is everything after. So, if I extract the UUID from the FQID, everything should work:"
   ]
  },
  {
   "cell_type": "code",
   "execution_count": null,
   "metadata": {},
   "outputs": [],
   "source": [
    "bundle_uuid, bundle_version = search_response['results'][0]['bundle_fqid'].split('.', maxsplit=1)\n",
    "client.get_bundle(uuid=bundle_uuid, replica=\"aws\")"
   ]
  },
  {
   "cell_type": "markdown",
   "metadata": {},
   "source": [
    "****\n",
    "Nice! Now I can see the general structure of a bundle.\n",
    "\n",
    "Using this information, what if I want to find a bundle with a BAM? I can write a function `find_bam()` that iterates over bundles until it finds a bundle with a BAM..."
   ]
  },
  {
   "cell_type": "code",
   "execution_count": null,
   "metadata": {},
   "outputs": [],
   "source": [
    "def find_bam():\n",
    "    for result in search_response[\"results\"]:\n",
    "        bundle_uuid, _ = results['bundle_fqid'].split('.', maxsplit=1)\n",
    "        bundle_dict = client.get_bundle(uuid=bundle_uuid, replica=\"aws\")\n",
    "        for file_dict in bundle_dict[\"bundle\"][\"files\"]:\n",
    "            if file_dict[\"name\"].endswith(\".bam\"):\n",
    "                return file_dict"
   ]
  },
  {
   "cell_type": "markdown",
   "metadata": {},
   "source": [
    "Looks good! `find_bam()` will loop over each result in the `post_search` query we made earlier and GET each bundle until it finds a bundle containing a file that ends in `.bam`. One thing to remember is that sometimes, `post_search` can return a bundle that's been deleted but is lingering in the index, and that trying to GET that bundle could result in an error. It's no problem, as long as we can catch and ignore those cases..."
   ]
  },
  {
   "cell_type": "code",
   "execution_count": null,
   "metadata": {},
   "outputs": [],
   "source": [
    "def find_bam():\n",
    "    for result in search_response[\"results\"]:\n",
    "        bundle_uuid = result[\"bundle_fqid\"].split('.', maxsplit=1)[0]\n",
    "        try:\n",
    "            bundle_dict = client.get_bundle(uuid=bundle_uuid, replica=\"aws\")\n",
    "        except:\n",
    "            continue\n",
    "        for file_dict in bundle_dict[\"bundle\"][\"files\"]:\n",
    "            if file_dict[\"name\"].endswith(\".bam\"):\n",
    "                return file_dict"
   ]
  },
  {
   "cell_type": "markdown",
   "metadata": {},
   "source": [
    "One last thing: each `post_search` request is paginated and only returns some 100 results per request. Luckily, there's a method I can use that will automatically and transparently paginate through all results, `post_search.iterate`."
   ]
  },
  {
   "cell_type": "code",
   "execution_count": null,
   "metadata": {},
   "outputs": [],
   "source": [
    "help(client.post_search)"
   ]
  },
  {
   "cell_type": "code",
   "execution_count": null,
   "metadata": {},
   "outputs": [],
   "source": [
    "I can update my function `find_bam` to use it:"
   ]
  },
  {
   "cell_type": "code",
   "execution_count": null,
   "metadata": {},
   "outputs": [],
   "source": [
    "def find_bam():\n",
    "    result = client.post_search.iterate(replica=\"aws\", es_query={})\n",
    "    for result in results:\n",
    "        bundle_uuid = result[\"bundle_fqid\"].split('.', maxsplit=1)[0]\n",
    "        try:\n",
    "            bundle_dict = client.get_bundle(uuid=bundle_uuid, replica=\"aws\")\n",
    "        except:\n",
    "            continue\n",
    "        for file_dict in bundle_dict[\"bundle\"][\"files\"]:\n",
    "            if file_dict[\"name\"].endswith(\".bam\"):\n",
    "                return file_dict"
   ]
  },
  {
   "cell_type": "code",
   "execution_count": null,
   "metadata": {},
   "outputs": [],
   "source": [
    "find_bam()"
   ]
  },
  {
   "cell_type": "markdown",
   "metadata": {},
   "source": [
    "Looks good! What if I want to look for another file type, like fastqs? I can generalize that code above..."
   ]
  },
  {
   "cell_type": "code",
   "execution_count": null,
   "metadata": {},
   "outputs": [],
   "source": [
    "def find_ext(extension):\n",
    "    result = client.post_search.iterate(replica=\"aws\", es_query={})\n",
    "    for result in results:\n",
    "        bundle_uuid = result[\"bundle_fqid\"].split('.', maxsplit=1)[0]\n",
    "        try:\n",
    "            bundle_dict = client.get_bundle(uuid=bundle_uuid, replica=\"aws\")\n",
    "        except:\n",
    "            continue\n",
    "        for file_dict in bundle_dict[\"bundle\"][\"files\"]:\n",
    "            if file_dict[\"name\"].endswith(extension):\n",
    "                return file_dict"
   ]
  },
  {
   "cell_type": "code",
   "execution_count": null,
   "metadata": {},
   "outputs": [],
   "source": [
    "fastq_file = find_ext('.fastq.gz')\n",
    "print(f\"Name: {fastq_file['name']}, UUID: {fastq_file['uuid']}\")"
   ]
  },
  {
   "cell_type": "markdown",
   "metadata": {},
   "source": [
    "If I want to download a file and know its UUID, I can use the `get_file` method..."
   ]
  },
  {
   "cell_type": "code",
   "execution_count": null,
   "metadata": {},
   "outputs": [],
   "source": [
    "bam_file = client.get_file(uuid=file_dict['uuid'], replica=\"aws\")\n",
    "with open(\"Aligned.sortedByCoord.out.bam\", \"wb\") as output_bam:\n",
    "    output_bam.write(bam_file)"
   ]
  },
  {
   "cell_type": "code",
   "execution_count": null,
   "metadata": {},
   "outputs": [],
   "source": [
    "import pysam\n",
    "bam = pysam.AlignmentFile(\"Aligned.sortedByCoord.out.bam\", \"rb\")\n",
    "print(bam.header)"
   ]
  }
 ],
 "metadata": {
  "kernelspec": {
   "display_name": "Python 3",
   "language": "python",
   "name": "python3"
  },
  "language_info": {
   "codemirror_mode": {
    "name": "ipython",
    "version": 3
   },
   "file_extension": ".py",
   "mimetype": "text/x-python",
   "name": "python",
   "nbconvert_exporter": "python",
   "pygments_lexer": "ipython3",
   "version": "3.7.4"
  }
 },
 "nbformat": 4,
 "nbformat_minor": 2
}

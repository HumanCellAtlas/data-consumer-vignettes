{
 "cells": [
  {
   "cell_type": "markdown",
   "metadata": {},
   "source": [
    "# Download Any BAM File 🌕\n",
    "\n",
    "Any BAM file will do. I just want to see what aligned data looks like in the HCA.\n",
    "\n",
    "First I'll set up the DSS client."
   ]
  },
  {
   "cell_type": "code",
   "execution_count": 1,
   "metadata": {},
   "outputs": [],
   "source": [
    "import hca, hca.dss, json\n",
    "client = hca.dss.DSSClient()"
   ]
  },
  {
   "cell_type": "markdown",
   "metadata": {},
   "source": [
    "****\n",
    "#### Now I want to find a bundle that has a BAM file in it.\n",
    "\n",
    "The `client` has a method `get_file` that sounds very promising, but I need to get a UUID. I don't know what RFC4122 is, but hopefully I won't have to."
   ]
  },
  {
   "cell_type": "code",
   "execution_count": 6,
   "metadata": {},
   "outputs": [
    {
     "name": "stdout",
     "output_type": "stream",
     "text": [
      "Help on method get_file in module hca.util:\n",
      "\n",
      "get_file(client, uuid:str=None, replica:str=None, version:Union[str, NoneType]=None) method of builtins.type instance\n",
      "    Retrieve a file given a UUID and optionally a version.\n",
      "    \n",
      "    \n",
      "    .. admonition:: Streaming\n",
      "    \n",
      "     Use ``DSSClient.get_file.stream(**kwargs)`` to get a ``requests.Response`` object whose body has not been\n",
      "     read yet. This allows streaming large file bodies:\n",
      "    \n",
      "     .. code-block:: python\n",
      "    \n",
      "        fid = \"7a8fbda7-d470-467a-904e-5c73413fab3e\"\n",
      "        with DSSClient().get_file.stream(uuid=fid, replica=\"aws\") as fh:\n",
      "            while True:\n",
      "                chunk = fh.raw.read(1024)\n",
      "                ...\n",
      "                if not chunk:\n",
      "                    break\n",
      "    \n",
      "     The keyword arguments for ``DSSClient.get_file.stream()`` are identical to the arguments for\n",
      "     ``DSSClient.get_file()`` listed here.\n",
      "    :param uuid:  A RFC4122-compliant ID for the file. \n",
      "    :type uuid: <class 'str'>\n",
      "    :param replica:  Replica to fetch from. \n",
      "    :type replica: <class 'str'>\n",
      "    :param version:  Timestamp of file creation in RFC3339.  If this is not provided, the latest version is returned. \n",
      "    :type version: typing.Union[str, NoneType]\n",
      "    \n",
      "    \n",
      "    \n",
      "    Given a file UUID, return the latest version of that file.  If the version is provided, that version of the file\n",
      "    is returned instead.\n",
      "    \n",
      "    Headers will contain the data store metadata for the file.\n",
      "    \n",
      "    This endpoint returns a HTTP redirect to another HTTP endpoint with the file contents.\n",
      "\n"
     ]
    }
   ],
   "source": [
    "help(client.get_file)"
   ]
  },
  {
   "cell_type": "markdown",
   "metadata": {},
   "source": [
    "****\n",
    "#### Searching for bundles\n",
    "\n",
    "The `post_search` method accepts a `query`, and there's even an example query in the data-store repo's [readme](https://github.com/HumanCellAtlas/data-store/blob/master/README.md). The function signature doesn't quite match the example, but it should be easy to fix. "
   ]
  },
  {
   "cell_type": "code",
   "execution_count": 10,
   "metadata": {},
   "outputs": [
    {
     "data": {
      "text/plain": [
       "{'es_query': {'query': {'bool': {'must': [{'match': {'files.sample_json.donor.species': 'Homo sapiens'}},\n",
       "     {'match': {'files.assay_json.single_cell.method': 'Fluidigm C1'}},\n",
       "     {'match': {'files.sample_json.ncbi_biosample': 'SAMN04303778'}}]}}},\n",
       " 'results': [],\n",
       " 'total_hits': 0}"
      ]
     },
     "execution_count": 10,
     "metadata": {},
     "output_type": "execute_result"
    }
   ],
   "source": [
    "client.post_search(replica=\"aws\", es_query={\n",
    "    \"query\": {\n",
    "        \"bool\": {\n",
    "            \"must\": [{\n",
    "                \"match\": {\n",
    "                    \"files.sample_json.donor.species\": \"Homo sapiens\"\n",
    "                }\n",
    "            }, {\n",
    "                \"match\": {\n",
    "                    \"files.assay_json.single_cell.method\": \"Fluidigm C1\"\n",
    "                }\n",
    "            }, {\n",
    "                \"match\": {\n",
    "                    \"files.sample_json.ncbi_biosample\": \"SAMN04303778\"\n",
    "                }\n",
    "            }]\n",
    "        }\n",
    "    }\n",
    "})"
   ]
  },
  {
   "cell_type": "markdown",
   "metadata": {},
   "source": [
    "****\n",
    "#### Well that didn't work!\n",
    "\n",
    "But I can see how the results are structured. What if I just give it an empty query?"
   ]
  },
  {
   "cell_type": "code",
   "execution_count": 13,
   "metadata": {},
   "outputs": [
    {
     "data": {
      "text/plain": [
       "2241"
      ]
     },
     "execution_count": 13,
     "metadata": {},
     "output_type": "execute_result"
    }
   ],
   "source": [
    "search_response = client.post_search(replica=\"aws\", es_query={})\n",
    "search_response[\"total_hits\"]"
   ]
  },
  {
   "cell_type": "markdown",
   "metadata": {},
   "source": [
    "****\n",
    "Okay great, many results. What does each result look like?"
   ]
  },
  {
   "cell_type": "code",
   "execution_count": 14,
   "metadata": {},
   "outputs": [
    {
     "data": {
      "text/plain": [
       "{'bundle_fqid': 'fb57815c-dbd9-4d3c-853f-8651e72b099f.2017-09-30T023030.386657Z',\n",
       " 'bundle_url': 'https://dss.staging.data.humancellatlas.org/v1/bundles/fb57815c-dbd9-4d3c-853f-8651e72b099f?version=2017-09-30T023030.386657Z&replica=aws',\n",
       " 'search_score': 1.0}"
      ]
     },
     "execution_count": 14,
     "metadata": {},
     "output_type": "execute_result"
    }
   ],
   "source": [
    "search_response[\"results\"][0]"
   ]
  },
  {
   "cell_type": "markdown",
   "metadata": {},
   "source": [
    "____\n",
    "Now I have an ID that I can work with, though it's an \"fqid\" not a \"uuid\", and it's for a bundle, not a file. I can try it with `get_bundle`:"
   ]
  },
  {
   "cell_type": "code",
   "execution_count": 19,
   "metadata": {},
   "outputs": [
    {
     "ename": "SwaggerAPIException",
     "evalue": "not_found: Cannot find file! (HTTP 404). Details:\nTraceback (most recent call last):\n  File \"/var/task/chalicelib/dss/error.py\", line 26, in wrapper\n    return func(*args, **kwargs)\n  File \"/var/task/chalicelib/dss/api/bundles/__init__.py\", line 34, in get\n    return get_bundle(uuid, Replica[replica], version, directurls)\n  File \"/var/task/chalicelib/dss/storage/bundles.py\", line 132, in get_bundle\n    directurls\n  File \"/var/task/chalicelib/dss/storage/bundles.py\", line 46, in get_bundle_from_bucket\n    raise DSSException(404, \"not_found\", \"Cannot find file!\")\ndss.error.DSSException\n",
     "output_type": "error",
     "traceback": [
      "\u001b[0;31m---------------------------------------------------------------------------\u001b[0m",
      "\u001b[0;31mSwaggerAPIException\u001b[0m                       Traceback (most recent call last)",
      "\u001b[0;32m<ipython-input-19-43b4bf49072c>\u001b[0m in \u001b[0;36m<module>\u001b[0;34m()\u001b[0m\n\u001b[0;32m----> 1\u001b[0;31m \u001b[0mclient\u001b[0m\u001b[0;34m.\u001b[0m\u001b[0mget_bundle\u001b[0m\u001b[0;34m(\u001b[0m\u001b[0muuid\u001b[0m\u001b[0;34m=\u001b[0m\u001b[0msearch_response\u001b[0m\u001b[0;34m[\u001b[0m\u001b[0;34m\"results\"\u001b[0m\u001b[0;34m]\u001b[0m\u001b[0;34m[\u001b[0m\u001b[0;36m0\u001b[0m\u001b[0;34m]\u001b[0m\u001b[0;34m[\u001b[0m\u001b[0;34m\"bundle_fqid\"\u001b[0m\u001b[0;34m]\u001b[0m\u001b[0;34m,\u001b[0m \u001b[0mreplica\u001b[0m\u001b[0;34m=\u001b[0m\u001b[0;34m\"aws\"\u001b[0m\u001b[0;34m)\u001b[0m\u001b[0;34m\u001b[0m\u001b[0m\n\u001b[0m",
      "\u001b[0;32m/opt/conda/lib/python3.6/site-packages/hca/util/__init__.py\u001b[0m in \u001b[0;36m__call__\u001b[0;34m(self, client, **kwargs)\u001b[0m\n\u001b[1;32m    142\u001b[0m \u001b[0;34m\u001b[0m\u001b[0m\n\u001b[1;32m    143\u001b[0m     \u001b[0;32mdef\u001b[0m \u001b[0m__call__\u001b[0m\u001b[0;34m(\u001b[0m\u001b[0mself\u001b[0m\u001b[0;34m,\u001b[0m \u001b[0mclient\u001b[0m\u001b[0;34m,\u001b[0m \u001b[0;34m**\u001b[0m\u001b[0mkwargs\u001b[0m\u001b[0;34m)\u001b[0m\u001b[0;34m:\u001b[0m\u001b[0;34m\u001b[0m\u001b[0m\n\u001b[0;32m--> 144\u001b[0;31m         \u001b[0;32mreturn\u001b[0m \u001b[0mself\u001b[0m\u001b[0;34m.\u001b[0m\u001b[0m_consume_response\u001b[0m\u001b[0;34m(\u001b[0m\u001b[0mself\u001b[0m\u001b[0;34m.\u001b[0m\u001b[0m_request\u001b[0m\u001b[0;34m(\u001b[0m\u001b[0mkwargs\u001b[0m\u001b[0;34m)\u001b[0m\u001b[0;34m)\u001b[0m\u001b[0;34m\u001b[0m\u001b[0m\n\u001b[0m\u001b[1;32m    145\u001b[0m \u001b[0;34m\u001b[0m\u001b[0m\n\u001b[1;32m    146\u001b[0m     \u001b[0;32mdef\u001b[0m \u001b[0m_cli_call\u001b[0m\u001b[0;34m(\u001b[0m\u001b[0mself\u001b[0m\u001b[0;34m,\u001b[0m \u001b[0mcli_args\u001b[0m\u001b[0;34m)\u001b[0m\u001b[0;34m:\u001b[0m\u001b[0;34m\u001b[0m\u001b[0m\n",
      "\u001b[0;32m/opt/conda/lib/python3.6/site-packages/hca/util/__init__.py\u001b[0m in \u001b[0;36m_request\u001b[0;34m(self, req_args, url, stream, headers)\u001b[0m\n\u001b[1;32m    130\u001b[0m         \u001b[0mres\u001b[0m \u001b[0;34m=\u001b[0m \u001b[0msession\u001b[0m\u001b[0;34m.\u001b[0m\u001b[0mrequest\u001b[0m\u001b[0;34m(\u001b[0m\u001b[0mself\u001b[0m\u001b[0;34m.\u001b[0m\u001b[0mhttp_method\u001b[0m\u001b[0;34m,\u001b[0m \u001b[0murl\u001b[0m\u001b[0;34m,\u001b[0m \u001b[0mparams\u001b[0m\u001b[0;34m=\u001b[0m\u001b[0mquery\u001b[0m\u001b[0;34m,\u001b[0m \u001b[0mjson\u001b[0m\u001b[0;34m=\u001b[0m\u001b[0mjson_input\u001b[0m\u001b[0;34m,\u001b[0m \u001b[0mstream\u001b[0m\u001b[0;34m=\u001b[0m\u001b[0mstream\u001b[0m\u001b[0;34m,\u001b[0m \u001b[0mheaders\u001b[0m\u001b[0;34m=\u001b[0m\u001b[0mheaders\u001b[0m\u001b[0;34m)\u001b[0m\u001b[0;34m\u001b[0m\u001b[0m\n\u001b[1;32m    131\u001b[0m         \u001b[0;32mif\u001b[0m \u001b[0mres\u001b[0m\u001b[0;34m.\u001b[0m\u001b[0mstatus_code\u001b[0m \u001b[0;34m>=\u001b[0m \u001b[0;36m400\u001b[0m\u001b[0;34m:\u001b[0m\u001b[0;34m\u001b[0m\u001b[0m\n\u001b[0;32m--> 132\u001b[0;31m             \u001b[0;32mraise\u001b[0m \u001b[0mSwaggerAPIException\u001b[0m\u001b[0;34m(\u001b[0m\u001b[0mresponse\u001b[0m\u001b[0;34m=\u001b[0m\u001b[0mres\u001b[0m\u001b[0;34m)\u001b[0m\u001b[0;34m\u001b[0m\u001b[0m\n\u001b[0m\u001b[1;32m    133\u001b[0m         \u001b[0;32mreturn\u001b[0m \u001b[0mres\u001b[0m\u001b[0;34m\u001b[0m\u001b[0m\n\u001b[1;32m    134\u001b[0m \u001b[0;34m\u001b[0m\u001b[0m\n",
      "\u001b[0;31mSwaggerAPIException\u001b[0m: not_found: Cannot find file! (HTTP 404). Details:\nTraceback (most recent call last):\n  File \"/var/task/chalicelib/dss/error.py\", line 26, in wrapper\n    return func(*args, **kwargs)\n  File \"/var/task/chalicelib/dss/api/bundles/__init__.py\", line 34, in get\n    return get_bundle(uuid, Replica[replica], version, directurls)\n  File \"/var/task/chalicelib/dss/storage/bundles.py\", line 132, in get_bundle\n    directurls\n  File \"/var/task/chalicelib/dss/storage/bundles.py\", line 46, in get_bundle_from_bucket\n    raise DSSException(404, \"not_found\", \"Cannot find file!\")\ndss.error.DSSException\n"
     ]
    }
   ],
   "source": [
    "client.get_bundle(uuid=search_response[\"results\"][0][\"bundle_fqid\"], replica=\"aws\")"
   ]
  },
  {
   "cell_type": "markdown",
   "metadata": {},
   "source": [
    "****\n",
    "Hmmm, a `SwaggerAPIExcecption`; it appears that it couldn't find a bundle with that UUID. I suppose I can strip off the timestamp from the ID."
   ]
  },
  {
   "cell_type": "code",
   "execution_count": 24,
   "metadata": {},
   "outputs": [
    {
     "data": {
      "text/plain": [
       "{'bundle': {'creator_uid': 1,\n",
       "  'files': [{'content-type': 'gzip',\n",
       "    'crc32c': 'e978e85d',\n",
       "    'indexed': True,\n",
       "    'name': 'SRR2967608_1.fastq.gz',\n",
       "    's3_etag': '89f6f8bec37ec1fc4560f3f99d47721d',\n",
       "    'sha1': '58f03f7c6c0887baa54da85db5c820cfbe25d367',\n",
       "    'sha256': '9b4c0dde8683f924975d0867903dc7a967f46bee5c0a025c451b9ba73e43f120',\n",
       "    'size': 22220717,\n",
       "    'uuid': '44b872e5-20ac-4cbd-b6c6-404a04e21308',\n",
       "    'version': '2017-09-30T023023.368927Z'},\n",
       "   {'content-type': 'gzip',\n",
       "    'crc32c': '942cd9d6',\n",
       "    'indexed': True,\n",
       "    'name': 'SRR2967608_2.fastq.gz',\n",
       "    's3_etag': 'fb9bbafee8a92ced414b3658b1bb9517',\n",
       "    'sha1': 'bb5c8a68c155bad257cb7b93faef71a116cecba2',\n",
       "    'sha256': 'c0d11199740a66150b8bb70a0474d8de9819e77f3f77b55dd04790e3fe6fb53c',\n",
       "    'size': 23675941,\n",
       "    'uuid': 'a9fef945-e003-4fdf-84b3-eddfa6f0ef9c',\n",
       "    'version': '2017-09-30T023024.232296Z'},\n",
       "   {'content-type': 'application/json',\n",
       "    'crc32c': 'd31000c8',\n",
       "    'indexed': True,\n",
       "    'name': 'assay.json',\n",
       "    's3_etag': '7b794fa0ecd2d9d05316291c8b9ff818',\n",
       "    'sha1': 'f9ec5bec08d09a7c0a4aff8eeb08cfcdda55192b',\n",
       "    'sha256': '90648706a325a059966f026783a2a4494dcaaf304182df7bff424fb051d8e378',\n",
       "    'size': 655,\n",
       "    'uuid': '9ca962e5-f584-4710-a373-dfb715742a51',\n",
       "    'version': '2017-09-30T023025.090616Z'},\n",
       "   {'content-type': 'application/json',\n",
       "    'crc32c': '003ad03e',\n",
       "    'indexed': True,\n",
       "    'name': 'cell.json',\n",
       "    's3_etag': 'fb5aac9f8f0a9da710998cac814a33dc',\n",
       "    'sha1': '6e1de4809aa92d3e142830fbcf353c2e03556335',\n",
       "    'sha256': 'cb718e73527242a757431cbbc94b40878e201608064b77ca6b9ebf900c3c9ee6',\n",
       "    'size': 42,\n",
       "    'uuid': '381328b5-6e01-4279-a4a5-b6c4a52825c2',\n",
       "    'version': '2017-09-30T023026.014269Z'},\n",
       "   {'content-type': 'application/json',\n",
       "    'crc32c': 'e5466084',\n",
       "    'indexed': True,\n",
       "    'name': 'manifest.json',\n",
       "    's3_etag': 'd8674c819d58168b36e7c197d07b0247',\n",
       "    'sha1': 'c897279ca670469ab4044071396301a3d1e6512f',\n",
       "    'sha256': '2652667a03099e12af8582e7bfe3d83169cb98b8ee784cf713dd00fa1fe479b1',\n",
       "    'size': 303,\n",
       "    'uuid': '08e876c0-9090-421b-8cb9-86fa441eb9e6',\n",
       "    'version': '2017-09-30T023026.903159Z'},\n",
       "   {'content-type': 'application/json',\n",
       "    'crc32c': '4db24aeb',\n",
       "    'indexed': True,\n",
       "    'name': 'project.json',\n",
       "    's3_etag': 'f2a84e3cc346735eb43cb50010ba583a',\n",
       "    'sha1': '99d9ab9b83d900b23af4916677130e54197f9082',\n",
       "    'sha256': '90cdd049c9654e5048a73c3f9ce575d805b72f6c66e6dbacfc3789a7d0b29e4e',\n",
       "    'size': 3450,\n",
       "    'uuid': 'd533fe1c-b21d-440d-a482-818fcbc5e0cf',\n",
       "    'version': '2017-09-30T023027.877480Z'},\n",
       "   {'content-type': 'application/json',\n",
       "    'crc32c': 'ed0f785d',\n",
       "    'indexed': True,\n",
       "    'name': 'sample.json',\n",
       "    's3_etag': 'ecbaee942c4c617d764f971ab8e6b85c',\n",
       "    'sha1': '1e2068289735e8b30e75822b6a66660ffdfc57a4',\n",
       "    'sha256': '38641578ab2343c31dbb56b114f6e4060862c01fde2f84395d3b99f64423afd9',\n",
       "    'size': 3060,\n",
       "    'uuid': '30f089f3-8531-47d5-a2f5-b6a9537b63b0',\n",
       "    'version': '2017-09-30T023029.566833Z'}],\n",
       "  'uuid': 'fb57815c-dbd9-4d3c-853f-8651e72b099f',\n",
       "  'version': '2017-09-30T023030.386657Z'}}"
      ]
     },
     "execution_count": 24,
     "metadata": {},
     "output_type": "execute_result"
    }
   ],
   "source": [
    "client.get_bundle(uuid=search_response[\"results\"][0][\"bundle_fqid\"][:36], replica=\"aws\")"
   ]
  },
  {
   "cell_type": "markdown",
   "metadata": {},
   "source": [
    "****\n",
    "This is very promising! No BAM files in this bundle, but I see the structure of a \"bundle\" and how I can work with it. Now, I just need to iterate over bundles until I find a BAM "
   ]
  },
  {
   "cell_type": "code",
   "execution_count": 28,
   "metadata": {},
   "outputs": [],
   "source": [
    "for result in search_response[\"results\"]:\n",
    "    bundle_uuid = result[\"bundle_fqid\"][:36]\n",
    "    bundle_dict = client.get_bundle(uuid=bundle_uuid, replica=\"aws\")\n",
    "    found_file = False\n",
    "    for file_dict in bundle_dict[\"bundle\"][\"files\"]:\n",
    "        if file_dict[\"name\"].endswith(\".bam\"):\n",
    "            print(\"Name: {}, UUID: {}\".format(file_dict[\"name\"], file_dict[\"uuid\"]))\n",
    "            found_file = True\n",
    "            break\n",
    "    if found_file:\n",
    "        break"
   ]
  },
  {
   "cell_type": "markdown",
   "metadata": {},
   "source": [
    "No results, what if I try it for fastqs?"
   ]
  },
  {
   "cell_type": "code",
   "execution_count": 33,
   "metadata": {},
   "outputs": [
    {
     "name": "stdout",
     "output_type": "stream",
     "text": [
      "Name: SRR2967608_1.fastq.gz, UUID: 44b872e5-20ac-4cbd-b6c6-404a04e21308\n"
     ]
    }
   ],
   "source": [
    "for result in search_response[\"results\"]:\n",
    "    bundle_uuid = result[\"bundle_fqid\"][:36]\n",
    "    bundle_dict = client.get_bundle(uuid=bundle_uuid, replica=\"aws\")\n",
    "    found_file = False\n",
    "    for file_dict in bundle_dict[\"bundle\"][\"files\"]:\n",
    "        if file_dict[\"name\"].endswith(\".fastq.gz\"):\n",
    "            print(\"Name: {}, UUID: {}\".format(file_dict[\"name\"], file_dict[\"uuid\"]))\n",
    "            found_file = True\n",
    "            break\n",
    "    if found_file:\n",
    "        break"
   ]
  },
  {
   "cell_type": "markdown",
   "metadata": {},
   "source": [
    "****\n",
    "Perhaps aren't any BAMs?\n",
    "\n",
    "No, it turns out the search results are paginated, so the `results` list only contains 100 of the ~2000 results. There's another RFC for the reading list there, but there's also the `post_search.iterate` method that should work."
   ]
  },
  {
   "cell_type": "code",
   "execution_count": 34,
   "metadata": {},
   "outputs": [
    {
     "name": "stdout",
     "output_type": "stream",
     "text": [
      "Help on method post_search in module hca.util:\n",
      "\n",
      "post_search(client, es_query:Mapping=None, output_format:Union[str, NoneType]='summary', replica:str=None, per_page:Union[str, NoneType]=100) method of builtins.type instance\n",
      "    Find bundles by searching their metadata with an Elasticsearch query\n",
      "    \n",
      "    \n",
      "    \n",
      "    .. admonition:: Pagination\n",
      "    \n",
      "     This method supports pagination. Use ``DSSClient.post_search.iterate(**kwargs)`` to create a generator that\n",
      "     yields all results, making multiple requests over the wire if necessary:\n",
      "    \n",
      "     .. code-block:: python\n",
      "    \n",
      "       for result in DSSClient.post_search.iterate(**kwargs):\n",
      "           ...\n",
      "    \n",
      "     The keyword arguments for ``DSSClient.post_search.iterate()`` are identical to the arguments for\n",
      "     ``DSSClient.post_search()`` listed here.\n",
      "    :param es_query:  Elasticsearch query \n",
      "    :type es_query: typing.Mapping\n",
      "    :param output_format:  Specifies the output format. The default format, ``summary``, is a list of UUIDs for bundles that match the query. Set this parameter to ``raw`` to get the verbatim JSON metadata for bundles that match the query. \n",
      "    :type output_format: typing.Union[str, NoneType]\n",
      "    :param replica:  Replica to search. \n",
      "    :type replica: <class 'str'>\n",
      "    :param per_page:  Max number of results to return per page. \n",
      "    :type per_page: typing.Union[str, NoneType]\n",
      "    \n",
      "    \n",
      "    \n",
      "    Accepts Elasticsearch JSON query and returns matching bundle identifiers\n",
      "    \n",
      "    **Pagination**\n",
      "    \n",
      "    The DSS API supports pagination in a manner consistent with the\n",
      "    `GitHub API <https://developer.github.com/v3/guides/traversing-with-pagination/>`_, which is based on\n",
      "    `RFC 5988 <https://tools.ietf.org/html/rfc5988>`_. When the results of an API call exceed the page size\n",
      "    specified, the HTTP response will contain a ``Link`` header of the following form:\n",
      "    ``Link: <https://dss.data.humancellatlas.org/v1/search?replica=aws&per_page=100&_scroll_id=123>; rel=\"next\"``.\n",
      "    The URL in the header refers to the next page of the results to be fetched; if no ``Link rel=\"next\"`` URL is\n",
      "    included, then all results have been fetched. The client should recognize and parse the ``Link`` header\n",
      "    appropriately according to RFC 5988, and retrieve the next page if requested by the user, or if all results\n",
      "    are being retrieved.\n",
      "\n"
     ]
    }
   ],
   "source": [
    "help(client.post_search)"
   ]
  },
  {
   "cell_type": "code",
   "execution_count": 35,
   "metadata": {},
   "outputs": [
    {
     "name": "stdout",
     "output_type": "stream",
     "text": [
      "Name: Aligned.sortedByCoord.out.bam, UUID: f9fa3804-ce46-456a-9023-50c8d5bf822f\n"
     ]
    }
   ],
   "source": [
    "results = client.post_search.iterate(replica=\"aws\", es_query={})\n",
    "for result in results:\n",
    "    bundle_uuid = result[\"bundle_fqid\"][:36]\n",
    "    bundle_dict = client.get_bundle(uuid=bundle_uuid, replica=\"aws\")\n",
    "    found_file = False\n",
    "    for file_dict in bundle_dict[\"bundle\"][\"files\"]:\n",
    "        if file_dict[\"name\"].endswith(\".bam\"):\n",
    "            print(\"Name: {}, UUID: {}\".format(file_dict[\"name\"], file_dict[\"uuid\"]))\n",
    "            found_file = True\n",
    "            break\n",
    "    if found_file:\n",
    "        break"
   ]
  },
  {
   "cell_type": "code",
   "execution_count": 41,
   "metadata": {},
   "outputs": [],
   "source": [
    "bam_file = client.get_file(uuid=\"f9fa3804-ce46-456a-9023-50c8d5bf822f\", replica=\"aws\")\n",
    "with open(\"Aligned.sortedByCoord.out.bam\", \"wb\") as output_bam:\n",
    "    output_bam.write(bam_file)"
   ]
  },
  {
   "cell_type": "code",
   "execution_count": 46,
   "metadata": {},
   "outputs": [
    {
     "name": "stdout",
     "output_type": "stream",
     "text": [
      "@HD\tVN:1.4\tSO:coordinate\n",
      "@SQ\tSN:chr21\tLN:48129895\n",
      "@PG\tID:STAR\tPN:STAR\tVN:STAR_2.5.3a\tCL:STAR   --genomeDir ./star   --genomeLoad NoSharedMemory   --readFilesIn /cromwell_root/org-humancellatlas-dss-staging/blobs/fe6d4fdfea2ff1df97500dcfe7085ac3abfb760026bff75a34c20fb97a4b2b29.17f8b4be0cc6e8281a402bb365b1283b458906a3.c7bbee4c46bbf29432862e05830c8f39.4ef74578   /cromwell_root/org-humancellatlas-dss-staging/blobs/c305bee37b3c3735585e11306272b6ab085f04cd22ea8703957b4503488cfeba.f166b6952e30a41e1409e7fb0cb0fb1ad93f3f21.a3a9f23d07cfc5e40a4c3a8adf3903ae.69987b3e      --readFilesCommand zcat      --limitBAMsortRAM 30000000000   --outSAMtype BAM   SortedByCoordinate      --outSAMstrandField intronMotif   --outSAMunmapped Within      --sjdbGTFfile /cromwell_root/broad-dsde-mint-staging-teststorage/demo/gencodev19_chr21.gtf   --quantMode TranscriptomeSAM      --twopassMode Basic\n",
      "@CO\tuser command line: STAR --readFilesIn /cromwell_root/org-humancellatlas-dss-staging/blobs/fe6d4fdfea2ff1df97500dcfe7085ac3abfb760026bff75a34c20fb97a4b2b29.17f8b4be0cc6e8281a402bb365b1283b458906a3.c7bbee4c46bbf29432862e05830c8f39.4ef74578 /cromwell_root/org-humancellatlas-dss-staging/blobs/c305bee37b3c3735585e11306272b6ab085f04cd22ea8703957b4503488cfeba.f166b6952e30a41e1409e7fb0cb0fb1ad93f3f21.a3a9f23d07cfc5e40a4c3a8adf3903ae.69987b3e --genomeDir ./star --quantMode TranscriptomeSAM --outSAMstrandField intronMotif --genomeLoad NoSharedMemory --sjdbGTFfile /cromwell_root/broad-dsde-mint-staging-teststorage/demo/gencodev19_chr21.gtf --readFilesCommand zcat --twopassMode Basic --outSAMtype BAM SortedByCoordinate --outSAMunmapped Within --limitBAMsortRAM 30000000000\n",
      "\n"
     ]
    }
   ],
   "source": [
    "import pysam\n",
    "bam = pysam.AlignmentFile(\"Aligned.sortedByCoord.out.bam\", \"rb\")\n",
    "print(bam.header)"
   ]
  }
 ],
 "metadata": {
  "kernelspec": {
   "display_name": "Python 3",
   "language": "python",
   "name": "python3"
  },
  "language_info": {
   "codemirror_mode": {
    "name": "ipython",
    "version": 3
   },
   "file_extension": ".py",
   "mimetype": "text/x-python",
   "name": "python",
   "nbconvert_exporter": "python",
   "pygments_lexer": "ipython3",
   "version": "3.6.4"
  }
 },
 "nbformat": 4,
 "nbformat_minor": 2
}

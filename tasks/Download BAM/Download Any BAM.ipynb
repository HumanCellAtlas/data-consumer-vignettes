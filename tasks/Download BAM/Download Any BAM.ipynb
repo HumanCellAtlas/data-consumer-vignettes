{
 "cells": [
  {
   "cell_type": "markdown",
   "metadata": {},
   "source": [
    "# Download Any BAM File 🌕\n",
    "\n",
    "Any BAM file will do. I just want to see what aligned data looks like in the HCA.\n",
    "\n",
    "First I'll set up the DSS client."
   ]
  },
  {
   "cell_type": "code",
   "execution_count": null,
   "metadata": {},
   "outputs": [],
   "source": [
    "import hca, hca.dss, json\n",
    "client = hca.dss.DSSClient()"
   ]
  },
  {
   "cell_type": "markdown",
   "metadata": {},
   "source": [
    "****\n",
    "#### Now I want to find a bundle that has a BAM file in it.\n",
    "\n",
    "The `client` has a method `get_file` that sounds very promising, but I need to get a UUID. I don't know what RFC4122 is, but hopefully I won't have to."
   ]
  },
  {
   "cell_type": "code",
   "execution_count": null,
   "metadata": {},
   "outputs": [],
   "source": [
    "help(client.get_file)"
   ]
  },
  {
   "cell_type": "markdown",
   "metadata": {},
   "source": [
    "****\n",
    "#### Searching for bundles\n",
    "\n",
    "The `post_search` method accepts a `query`, and there's even an example query in the data-store repo's [readme](https://github.com/HumanCellAtlas/data-store/blob/master/README.md). The function signature doesn't quite match the example, but it should be easy to fix. "
   ]
  },
  {
   "cell_type": "code",
   "execution_count": null,
   "metadata": {},
   "outputs": [],
   "source": [
    "client.post_search(replica=\"aws\", es_query={\n",
    "    \"query\": {\n",
    "        \"bool\": {\n",
    "            \"must\": [{\n",
    "                \"match\": {\n",
    "                    \"files.sample_json.donor.species\": \"Homo sapiens\"\n",
    "                }\n",
    "            }, {\n",
    "                \"match\": {\n",
    "                    \"files.assay_json.single_cell.method\": \"Fluidigm C1\"\n",
    "                }\n",
    "            }, {\n",
    "                \"match\": {\n",
    "                    \"files.sample_json.ncbi_biosample\": \"SAMN04303778\"\n",
    "                }\n",
    "            }]\n",
    "        }\n",
    "    }\n",
    "})"
   ]
  },
  {
   "cell_type": "markdown",
   "metadata": {},
   "source": [
    "****\n",
    "#### Well that didn't work!\n",
    "\n",
    "But I can see how the results are structured. What if I just give it an empty query?"
   ]
  },
  {
   "cell_type": "code",
   "execution_count": null,
   "metadata": {},
   "outputs": [],
   "source": [
    "search_response = client.post_search(replica=\"aws\", es_query={})\n",
    "search_response[\"total_hits\"]"
   ]
  },
  {
   "cell_type": "markdown",
   "metadata": {},
   "source": [
    "****\n",
    "Okay great, many results. What does each result look like?"
   ]
  },
  {
   "cell_type": "code",
   "execution_count": null,
   "metadata": {},
   "outputs": [],
   "source": [
    "search_response[\"results\"][0]"
   ]
  },
  {
   "cell_type": "markdown",
   "metadata": {},
   "source": [
    "____\n",
    "Now I have an ID that I can work with, though it's an \"fqid\" not a \"uuid\", and it's for a bundle, not a file. I can try providing it to  `get_bundle`... "
   ]
  },
  {
   "cell_type": "code",
   "execution_count": null,
   "metadata": {},
   "outputs": [],
   "source": [
    "try:\n",
    "    client.get_bundle(uuid=search_response[\"results\"][0][\"bundle_fqid\"], replica=\"aws\")\n",
    "    print(\"Completed successfully!\")\n",
    "except Exception as e:\n",
    "    # If this operation fails, let's print the error (without raising the exception)\n",
    "    print(\"Oh no! There was an error.\")\n",
    "    print(e)"
   ]
  },
  {
   "cell_type": "markdown",
   "metadata": {},
   "source": [
    "****\n",
    "Hmmm, a `DSSException`; it appears that it couldn't find a bundle with that UUID. I suppose I can strip off the timestamp from the ID. (The UUID is the part of the FQID before the first `.`. The timestamp is everything after.)"
   ]
  },
  {
   "cell_type": "code",
   "execution_count": null,
   "metadata": {},
   "outputs": [],
   "source": [
    "bundle_uuid, bundle_version = search_response['results'][0]['bundle_fqid'].split('.', maxsplit=1)\n",
    "client.get_bundle(uuid=bundle_uuid, replica=\"aws\")"
   ]
  },
  {
   "cell_type": "markdown",
   "metadata": {},
   "source": [
    "****\n",
    "This is very promising! No BAM files in this bundle, but I see the structure of a \"bundle\" and how I can work with it. Now, I just need to iterate over bundles until I find a BAM "
   ]
  },
  {
   "cell_type": "code",
   "execution_count": null,
   "metadata": {},
   "outputs": [],
   "source": [
    "for result in search_response[\"results\"]:\n",
    "    bundle_uuid = result[\"bundle_fqid\"].split('.', maxsplit=1)[0]\n",
    "    try:\n",
    "        bundle_dict = client.get_bundle(uuid=bundle_uuid, replica=\"aws\")\n",
    "    except:\n",
    "        # Sometimes, bundles that are deleted linger in the index.\n",
    "        # It's no problem - we can just ignore it and move on.\n",
    "        continue\n",
    "    found_file = False\n",
    "    for file_dict in bundle_dict[\"bundle\"][\"files\"]:\n",
    "        if file_dict[\"name\"].endswith(\".bam\"):\n",
    "            print(\"Name: {}, UUID: {}\".format(file_dict[\"name\"], file_dict[\"uuid\"]))\n",
    "            found_file = True\n",
    "            break\n",
    "    if found_file:\n",
    "        break"
   ]
  },
  {
   "cell_type": "markdown",
   "metadata": {},
   "source": [
    "What if I look for fastqs?"
   ]
  },
  {
   "cell_type": "code",
   "execution_count": null,
   "metadata": {},
   "outputs": [],
   "source": [
    "for result in search_response[\"results\"]:\n",
    "    bundle_uuid = result[\"bundle_fqid\"].split('.', maxsplit=1)[0]\n",
    "    try:\n",
    "        bundle_dict = client.get_bundle(uuid=bundle_uuid, replica=\"aws\")\n",
    "    except:\n",
    "        continue\n",
    "    found_file = False\n",
    "    for file_dict in bundle_dict[\"bundle\"][\"files\"]:\n",
    "        if file_dict[\"name\"].endswith(\".fastq.gz\"):\n",
    "            print(\"Name: {}, UUID: {}\".format(file_dict[\"name\"], file_dict[\"uuid\"]))\n",
    "            found_file = True\n",
    "            break\n",
    "    if found_file:\n",
    "        break"
   ]
  },
  {
   "cell_type": "markdown",
   "metadata": {},
   "source": [
    "****\n",
    "\n",
    "Don't see any results? That's because search results are paginated, so the `results` list only contains 100 of the ~2000 results. There's another RFC for the reading list there, but there's also the `post_search.iterate` method that should work."
   ]
  },
  {
   "cell_type": "code",
   "execution_count": null,
   "metadata": {},
   "outputs": [],
   "source": [
    "help(client.post_search)"
   ]
  },
  {
   "cell_type": "code",
   "execution_count": null,
   "metadata": {},
   "outputs": [],
   "source": [
    "results = client.post_search.iterate(replica=\"aws\", es_query={})\n",
    "for result in results:\n",
    "    bundle_uuid = result[\"bundle_fqid\"].split('.', maxsplit=1)[0]\n",
    "    try:\n",
    "        bundle_dict = client.get_bundle(uuid=bundle_uuid, replica=\"aws\")\n",
    "    except:\n",
    "        continue\n",
    "    found_file = False\n",
    "    for file_dict in bundle_dict[\"bundle\"][\"files\"]:\n",
    "        if file_dict[\"name\"].endswith(\".bam\"):\n",
    "            print(\"Name: {}, UUID: {}\".format(file_dict[\"name\"], file_dict[\"uuid\"]))\n",
    "            found_file = True\n",
    "            break\n",
    "    if found_file:\n",
    "        break"
   ]
  },
  {
   "cell_type": "code",
   "execution_count": null,
   "metadata": {},
   "outputs": [],
   "source": [
    "bam_file = client.get_file(uuid=file_dict['uuid'], replica=\"aws\")\n",
    "with open(\"Aligned.sortedByCoord.out.bam\", \"wb\") as output_bam:\n",
    "    output_bam.write(bam_file)"
   ]
  },
  {
   "cell_type": "code",
   "execution_count": null,
   "metadata": {},
   "outputs": [],
   "source": [
    "import pysam\n",
    "bam = pysam.AlignmentFile(\"Aligned.sortedByCoord.out.bam\", \"rb\")\n",
    "print(bam.header)"
   ]
  }
 ],
 "metadata": {
  "kernelspec": {
   "display_name": "Python 3",
   "language": "python",
   "name": "python3"
  },
  "language_info": {
   "codemirror_mode": {
    "name": "ipython",
    "version": 3
   },
   "file_extension": ".py",
   "mimetype": "text/x-python",
   "name": "python",
   "nbconvert_exporter": "python",
   "pygments_lexer": "ipython3",
   "version": "3.7.4"
  }
 },
 "nbformat": 4,
 "nbformat_minor": 2
}

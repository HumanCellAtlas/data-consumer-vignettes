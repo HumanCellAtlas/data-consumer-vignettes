{
 "cells": [
  {
   "cell_type": "markdown",
   "metadata": {},
   "source": [
    "**N.B:** This notebook doesn't point to the \"real\" HCA Data Coordination Platform. It points to an instance of the Data Storage System used for testing. So, you won't find this data in the future, and its organization and metadata structure won't necessarily match what's available in the DCP. Nevertheless, this can be useful for exploring the API and data model conceptually."
   ]
  },
  {
   "cell_type": "markdown",
   "metadata": {},
   "source": [
    "## Interacting with the HCA Data Storage System\n",
    "\n",
    "The current interface of the HCS DSS is defined here: https://dss.data.humancellatlas.org/v1/swagger.json, and there are two bindings: a python interface and a command line interface.\n",
    "\n",
    "Here we'll use the python interface to look through some objects in the DSS and how we can access them. First, we'll import the library and initialize the client."
   ]
  },
  {
   "cell_type": "code",
   "execution_count": 1,
   "metadata": {},
   "outputs": [],
   "source": [
    "import hca.dss\n",
    "dss_client = hca.dss.DSSClient()"
   ]
  },
  {
   "cell_type": "markdown",
   "metadata": {},
   "source": [
    "### Bundles\n",
    "Now let's take a look at a \"bundle\" that's stored in the DSS. A bundle is the basic unit of storage in the DSS, and it's simply a versioned collection of files with a unique ID."
   ]
  },
  {
   "cell_type": "code",
   "execution_count": 2,
   "metadata": {},
   "outputs": [
    {
     "data": {
      "text/plain": [
       "{'bundle': {'creator_uid': 8008,\n",
       "  'files': [{'content-type': 'application/json; dcp-type=\"metadata/project\"',\n",
       "    'crc32c': '4ce66be3',\n",
       "    'indexed': True,\n",
       "    'name': 'project.json',\n",
       "    's3_etag': '2be0a2479191779505af379eba6d5d10',\n",
       "    'sha1': '36a9ab5c9cf6d772e52310740ce55ed09eb2dd19',\n",
       "    'sha256': '76106f0ac8250169e75f1034192cec634ac395c99a912a9be9b8496782f6e6f4',\n",
       "    'size': 2714,\n",
       "    'uuid': '370452fa-3091-48cb-8d69-10c26e0db433',\n",
       "    'version': '2018-03-26T154205.186524Z'},\n",
       "   {'content-type': 'application/json; dcp-type=\"metadata/biomaterial\"',\n",
       "    'crc32c': 'b1c5b387',\n",
       "    'indexed': True,\n",
       "    'name': 'biomaterial.json',\n",
       "    's3_etag': '8a3359dcb4c38b24f648d9168a8fea64',\n",
       "    'sha1': 'd43bbe3baf4e3fabb7f5d4bc0c062429027dd28d',\n",
       "    'sha256': '7ca86a30655aedc6c00a34b1768d529459740a14c989acfd4552fb660493a6bd',\n",
       "    'size': 3700,\n",
       "    'uuid': '1d7fd92c-ae01-4920-91a9-3edf950d4d70',\n",
       "    'version': '2018-03-26T154205.786705Z'},\n",
       "   {'content-type': 'application/gzip; dcp-type=data',\n",
       "    'crc32c': '66fcd7a4',\n",
       "    'indexed': False,\n",
       "    'name': 'SRR3934437_1.fastq.gz',\n",
       "    's3_etag': 'bd554b6cca01f86f0ff0049adf740f35',\n",
       "    'sha1': 'f5ab7e592461e0fb7b7293b4a089cc144f12bd80',\n",
       "    'sha256': '0685d2f3a2606892437979db49da4b08e444d784bdc2545b6935d4da997aab7a',\n",
       "    'size': 46620992,\n",
       "    'uuid': 'b589faf3-1193-4427-a256-e10eb17fdd13',\n",
       "    'version': '2018-03-26T154206.570819Z'},\n",
       "   {'content-type': 'application/gzip; dcp-type=data',\n",
       "    'crc32c': '66e59b01',\n",
       "    'indexed': False,\n",
       "    'name': 'SRR3934437_2.fastq.gz',\n",
       "    's3_etag': '321fccb6569ff505495cb34a33e1c9a3',\n",
       "    'sha1': '577738cdfcb4220520f9ba1ee9b6845e282db016',\n",
       "    'sha256': 'e562982c2142427596d1cbc6612491584e5123bdd29dc539e166fa976dfc9552',\n",
       "    'size': 49310595,\n",
       "    'uuid': 'b968bf89-f6a8-4fd2-9bc1-8dd25d4c85c9',\n",
       "    'version': '2018-03-26T154208.067192Z'},\n",
       "   {'content-type': 'application/json; dcp-type=\"metadata/file\"',\n",
       "    'crc32c': '48a6673b',\n",
       "    'indexed': True,\n",
       "    'name': 'file.json',\n",
       "    's3_etag': 'cd65d78ee7e506c21c8b9d31f21a5f47',\n",
       "    'sha1': 'fc52615dd72640ed36f51eb71eccd8f624b59a88',\n",
       "    'sha256': '72b2a010839043b26cca79d6efdcc45aeeae1cc3f77023b1b1dca7cd61583261',\n",
       "    'size': 1306,\n",
       "    'uuid': '0cf13def-5d60-42ca-a62c-a3daeb2298f1',\n",
       "    'version': '2018-03-26T154210.763649Z'},\n",
       "   {'content-type': 'application/json; dcp-type=\"metadata/process\"',\n",
       "    'crc32c': '7367e083',\n",
       "    'indexed': True,\n",
       "    'name': 'process.json',\n",
       "    's3_etag': '7388f14f7ba2abbad5dc6ee0cd16d856',\n",
       "    'sha1': 'fe0b9a26cba7b9d5879776564184c62d7354d63f',\n",
       "    'sha256': '811f46638a14fc611dd34e621dce0c0396baae0b8a5ec48122f7337343dc8833',\n",
       "    'size': 3394,\n",
       "    'uuid': '054ae44b-2222-477a-995a-27e2b6c83258',\n",
       "    'version': '2018-03-26T154211.750783Z'},\n",
       "   {'content-type': 'application/json; dcp-type=\"metadata/protocol\"',\n",
       "    'crc32c': 'dad141fd',\n",
       "    'indexed': True,\n",
       "    'name': 'protocol.json',\n",
       "    's3_etag': 'b0c0980cc8a196b1e7236a889a19d0f8',\n",
       "    'sha1': '8966e992716590e9a37123e676c3a7b7e713635a',\n",
       "    'sha256': 'f5253f8bc4609997681b9bb0c1b299b04cdf48b8d6f29fd72cdc0682815ec8b9',\n",
       "    'size': 2388,\n",
       "    'uuid': '64629b4a-d70e-4eb0-a7a5-e4a4a9e8f86b',\n",
       "    'version': '2018-03-26T154212.576715Z'},\n",
       "   {'content-type': 'application/json; dcp-type=\"metadata/links\"',\n",
       "    'crc32c': 'e45cf235',\n",
       "    'indexed': True,\n",
       "    'name': 'links.json',\n",
       "    's3_etag': '0c9586ee1010f9318d8715a9fa75eabd',\n",
       "    'sha1': '83846aa571e40700a98764b3e3dd6945e75aae63',\n",
       "    'sha256': 'c77d2479c27036629776ef259e9af3204fac6b551c044f5b3589a8eeec3858d8',\n",
       "    'size': 3463,\n",
       "    'uuid': '1fee11bf-1873-422a-bc50-016e22bffd21',\n",
       "    'version': '2018-03-26T154213.160405Z'}],\n",
       "  'uuid': 'ec7e6476-abeb-4d78-82d8-8a28b43c46a6',\n",
       "  'version': '2018-03-26T154214.008924Z'}}"
      ]
     },
     "execution_count": 2,
     "metadata": {},
     "output_type": "execute_result"
    }
   ],
   "source": [
    "bundle_uuid = 'ec7e6476-abeb-4d78-82d8-8a28b43c46a6' # Elsewhere, we'll cover how to query for a bundle uuid\n",
    "bundle = dss_client.get_bundle(uuid=bundle_uuid, replica=\"aws\")\n",
    "bundle"
   ]
  },
  {
   "cell_type": "markdown",
   "metadata": {},
   "source": [
    "So this bundle is a collection of eight files:"
   ]
  },
  {
   "cell_type": "code",
   "execution_count": 3,
   "metadata": {},
   "outputs": [
    {
     "data": {
      "text/plain": [
       "['project.json',\n",
       " 'biomaterial.json',\n",
       " 'SRR3934437_1.fastq.gz',\n",
       " 'SRR3934437_2.fastq.gz',\n",
       " 'file.json',\n",
       " 'process.json',\n",
       " 'protocol.json',\n",
       " 'links.json']"
      ]
     },
     "execution_count": 3,
     "metadata": {},
     "output_type": "execute_result"
    }
   ],
   "source": [
    "[f['name'] for f in bundle['bundle']['files']]"
   ]
  },
  {
   "cell_type": "markdown",
   "metadata": {},
   "source": [
    "A couple fastqs and some json files. Let's look at one of the json files"
   ]
  },
  {
   "cell_type": "code",
   "execution_count": 4,
   "metadata": {},
   "outputs": [
    {
     "name": "stdout",
     "output_type": "stream",
     "text": [
      "The uuid of biomaterial.json is 1d7fd92c-ae01-4920-91a9-3edf950d4d70\n"
     ]
    },
    {
     "data": {
      "text/plain": [
       "{'biomaterials': [{'content': {'biomaterial_core': {'has_input_biomaterial': 'BT_S2_T',\n",
       "     'biomaterial_name': 'Single cell from Tumor,1001000174.A2',\n",
       "     'supplementary_files': ['ftp://ftp.ncbi.nlm.nih.gov/geo/samples/GSM2243nnn/GSM2243527/suppl/GSM2243527_1001000174.A2.csv.gz'],\n",
       "     'ncbi_taxon_id': [9606],\n",
       "     'biomaterial_id': 'GSM2243527',\n",
       "     'biosd_biomaterial': 'SAMN05421306'},\n",
       "    'genus_species': [{'text': 'Homo sapiens', 'ontology': 'NCBITaxon:9606'}],\n",
       "    'describedBy': 'https://schema.humancellatlas.org/type/biomaterial/5.1.0/cell_suspension',\n",
       "    'total_estimated_cells': 1,\n",
       "    'schema_type': 'biomaterial'},\n",
       "   'hca_ingest': {'accession': '',\n",
       "    'submissionDate': '2018-03-22T10:14:35.739Z',\n",
       "    'updateDate': '2018-03-22T10:19:26.105Z',\n",
       "    'document_id': '64ad6b33-66d0-46f0-a34d-283ca8ae5978'}},\n",
       "  {'content': {'organ': {'text': 'brain', 'ontology': 'UBERON:0000955'},\n",
       "    'genus_species': [{'text': 'Homo sapiens', 'ontology': 'NCBITaxon:9606'}],\n",
       "    'schema_type': 'biomaterial',\n",
       "    'biomaterial_core': {'has_input_biomaterial': 'BT_S2',\n",
       "     'ncbi_taxon_id': [9606],\n",
       "     'biomaterial_id': 'BT_S2_T',\n",
       "     'biomaterial_description': 'Tumor'},\n",
       "    'organ_part': {'text': 'temporal lobe'},\n",
       "    'describedBy': 'https://schema.humancellatlas.org/type/biomaterial/5.1.0/specimen_from_organism'},\n",
       "   'hca_ingest': {'accession': '',\n",
       "    'submissionDate': '2018-03-22T10:14:32.451Z',\n",
       "    'updateDate': '2018-03-22T10:17:39.231Z',\n",
       "    'document_id': '6253cba6-f6f8-48c0-85a8-c65ed3f4e87a'}},\n",
       "  {'content': {'is_living': True,\n",
       "    'biological_sex': 'unknown',\n",
       "    'genus_species': [{'text': 'Homo sapiens', 'ontology': 'NCBITaxon:9606'}],\n",
       "    'schema_type': 'biomaterial',\n",
       "    'biomaterial_core': {'ncbi_taxon_id': [9606], 'biomaterial_id': 'BT_S2'},\n",
       "    'describedBy': 'https://schema.humancellatlas.org/type/biomaterial/5.1.0/donor_organism'},\n",
       "   'hca_ingest': {'accession': '',\n",
       "    'submissionDate': '2018-03-22T10:15:09.762Z',\n",
       "    'updateDate': '2018-03-22T10:17:07.810Z',\n",
       "    'document_id': 'e169ba60-4a7f-4832-98de-2a8a1555108e'}}],\n",
       " 'describedBy': 'https://schema.humancellatlas.org/bundle/5.1.0/biomaterial',\n",
       " 'schema_version': '5.1.0',\n",
       " 'schema_type': 'biomaterial_bundle'}"
      ]
     },
     "execution_count": 4,
     "metadata": {},
     "output_type": "execute_result"
    }
   ],
   "source": [
    "biomaterial_json_uuid = [f['uuid'] for f in bundle['bundle']['files'] if f['name'] == 'biomaterial.json'][0]\n",
    "print(\"The uuid of biomaterial.json is\", biomaterial_json_uuid)\n",
    "dss_client.get_file(uuid=biomaterial_json_uuid, replica=\"aws\")"
   ]
  },
  {
   "cell_type": "markdown",
   "metadata": {},
   "source": [
    "Metadata. Great.\n",
    "\n",
    "This describes the data that's in the two fastq files. So these fastqs are from a tumor in the temporal lobe of a human brain. This json follows the HCA Metadata Schema, which is defined here: https://github.com/HumanCellAtlas/metadata-schema . The other json files contain other metadata.\n",
    "\n",
    "Now, if we want to download one of the fastqs, we probably don't want to dump it to an output cell in the notebook. So we'll write it to a file."
   ]
  },
  {
   "cell_type": "code",
   "execution_count": 5,
   "metadata": {},
   "outputs": [],
   "source": [
    "with dss_client.get_file.stream(uuid=\"b968bf89-f6a8-4fd2-9bc1-8dd25d4c85c9\", replica=\"aws\") as remote_fh, \\\n",
    "          open(\"/home/jovyan/SRR3934437_2.fastq.gz\", \"wb\") as local_fh:\n",
    "    while True:\n",
    "        chunk = remote_fh.raw.read(1<<20)\n",
    "        if not chunk:\n",
    "            break\n",
    "        local_fh.write(chunk)"
   ]
  },
  {
   "cell_type": "code",
   "execution_count": 6,
   "metadata": {},
   "outputs": [
    {
     "name": "stdout",
     "output_type": "stream",
     "text": [
      "-rw-r--r-- 1 jovyan users 49310595 Apr 25 15:25 /home/jovyan/SRR3934437_2.fastq.gz\r\n"
     ]
    }
   ],
   "source": [
    "ls -l /home/jovyan/*.fastq.gz"
   ]
  },
  {
   "cell_type": "markdown",
   "metadata": {},
   "source": [
    "There it is. And the size matches too, so hey that's pretty good.\n",
    "\n",
    "So, we've looked at a bundle and its contents, the metadata stored in the bundle, and we've downloaded some of its data."
   ]
  },
  {
   "cell_type": "markdown",
   "metadata": {},
   "source": [
    "### Replicas\n",
    "\n",
    "In most of the `DSSClient` invocations above, there was a `replica=\"aws\"` parameter. The DSS replicates data across multiple clouds so users are more likely to be able to compute next to the HCA's data. Currently, `aws` and `gcp` are permitted values for `replica`, but the DSS is designed to allow expanding that list."
   ]
  },
  {
   "cell_type": "code",
   "execution_count": 7,
   "metadata": {},
   "outputs": [
    {
     "data": {
      "text/plain": [
       "{'bundle': {'creator_uid': 8008,\n",
       "  'files': [{'content-type': 'application/json; dcp-type=\"metadata/project\"',\n",
       "    'crc32c': '4ce66be3',\n",
       "    'indexed': True,\n",
       "    'name': 'project.json',\n",
       "    's3_etag': '2be0a2479191779505af379eba6d5d10',\n",
       "    'sha1': '36a9ab5c9cf6d772e52310740ce55ed09eb2dd19',\n",
       "    'sha256': '76106f0ac8250169e75f1034192cec634ac395c99a912a9be9b8496782f6e6f4',\n",
       "    'size': 2714,\n",
       "    'uuid': '370452fa-3091-48cb-8d69-10c26e0db433',\n",
       "    'version': '2018-03-26T154205.186524Z'},\n",
       "   {'content-type': 'application/json; dcp-type=\"metadata/biomaterial\"',\n",
       "    'crc32c': 'b1c5b387',\n",
       "    'indexed': True,\n",
       "    'name': 'biomaterial.json',\n",
       "    's3_etag': '8a3359dcb4c38b24f648d9168a8fea64',\n",
       "    'sha1': 'd43bbe3baf4e3fabb7f5d4bc0c062429027dd28d',\n",
       "    'sha256': '7ca86a30655aedc6c00a34b1768d529459740a14c989acfd4552fb660493a6bd',\n",
       "    'size': 3700,\n",
       "    'uuid': '1d7fd92c-ae01-4920-91a9-3edf950d4d70',\n",
       "    'version': '2018-03-26T154205.786705Z'},\n",
       "   {'content-type': 'application/gzip; dcp-type=data',\n",
       "    'crc32c': '66fcd7a4',\n",
       "    'indexed': False,\n",
       "    'name': 'SRR3934437_1.fastq.gz',\n",
       "    's3_etag': 'bd554b6cca01f86f0ff0049adf740f35',\n",
       "    'sha1': 'f5ab7e592461e0fb7b7293b4a089cc144f12bd80',\n",
       "    'sha256': '0685d2f3a2606892437979db49da4b08e444d784bdc2545b6935d4da997aab7a',\n",
       "    'size': 46620992,\n",
       "    'uuid': 'b589faf3-1193-4427-a256-e10eb17fdd13',\n",
       "    'version': '2018-03-26T154206.570819Z'},\n",
       "   {'content-type': 'application/gzip; dcp-type=data',\n",
       "    'crc32c': '66e59b01',\n",
       "    'indexed': False,\n",
       "    'name': 'SRR3934437_2.fastq.gz',\n",
       "    's3_etag': '321fccb6569ff505495cb34a33e1c9a3',\n",
       "    'sha1': '577738cdfcb4220520f9ba1ee9b6845e282db016',\n",
       "    'sha256': 'e562982c2142427596d1cbc6612491584e5123bdd29dc539e166fa976dfc9552',\n",
       "    'size': 49310595,\n",
       "    'uuid': 'b968bf89-f6a8-4fd2-9bc1-8dd25d4c85c9',\n",
       "    'version': '2018-03-26T154208.067192Z'},\n",
       "   {'content-type': 'application/json; dcp-type=\"metadata/file\"',\n",
       "    'crc32c': '48a6673b',\n",
       "    'indexed': True,\n",
       "    'name': 'file.json',\n",
       "    's3_etag': 'cd65d78ee7e506c21c8b9d31f21a5f47',\n",
       "    'sha1': 'fc52615dd72640ed36f51eb71eccd8f624b59a88',\n",
       "    'sha256': '72b2a010839043b26cca79d6efdcc45aeeae1cc3f77023b1b1dca7cd61583261',\n",
       "    'size': 1306,\n",
       "    'uuid': '0cf13def-5d60-42ca-a62c-a3daeb2298f1',\n",
       "    'version': '2018-03-26T154210.763649Z'},\n",
       "   {'content-type': 'application/json; dcp-type=\"metadata/process\"',\n",
       "    'crc32c': '7367e083',\n",
       "    'indexed': True,\n",
       "    'name': 'process.json',\n",
       "    's3_etag': '7388f14f7ba2abbad5dc6ee0cd16d856',\n",
       "    'sha1': 'fe0b9a26cba7b9d5879776564184c62d7354d63f',\n",
       "    'sha256': '811f46638a14fc611dd34e621dce0c0396baae0b8a5ec48122f7337343dc8833',\n",
       "    'size': 3394,\n",
       "    'uuid': '054ae44b-2222-477a-995a-27e2b6c83258',\n",
       "    'version': '2018-03-26T154211.750783Z'},\n",
       "   {'content-type': 'application/json; dcp-type=\"metadata/protocol\"',\n",
       "    'crc32c': 'dad141fd',\n",
       "    'indexed': True,\n",
       "    'name': 'protocol.json',\n",
       "    's3_etag': 'b0c0980cc8a196b1e7236a889a19d0f8',\n",
       "    'sha1': '8966e992716590e9a37123e676c3a7b7e713635a',\n",
       "    'sha256': 'f5253f8bc4609997681b9bb0c1b299b04cdf48b8d6f29fd72cdc0682815ec8b9',\n",
       "    'size': 2388,\n",
       "    'uuid': '64629b4a-d70e-4eb0-a7a5-e4a4a9e8f86b',\n",
       "    'version': '2018-03-26T154212.576715Z'},\n",
       "   {'content-type': 'application/json; dcp-type=\"metadata/links\"',\n",
       "    'crc32c': 'e45cf235',\n",
       "    'indexed': True,\n",
       "    'name': 'links.json',\n",
       "    's3_etag': '0c9586ee1010f9318d8715a9fa75eabd',\n",
       "    'sha1': '83846aa571e40700a98764b3e3dd6945e75aae63',\n",
       "    'sha256': 'c77d2479c27036629776ef259e9af3204fac6b551c044f5b3589a8eeec3858d8',\n",
       "    'size': 3463,\n",
       "    'uuid': '1fee11bf-1873-422a-bc50-016e22bffd21',\n",
       "    'version': '2018-03-26T154213.160405Z'}],\n",
       "  'uuid': 'ec7e6476-abeb-4d78-82d8-8a28b43c46a6',\n",
       "  'version': '2018-03-26T154214.008924Z'}}"
      ]
     },
     "execution_count": 7,
     "metadata": {},
     "output_type": "execute_result"
    }
   ],
   "source": [
    "bundle = dss_client.get_bundle(uuid=bundle_uuid, replica=\"gcp\")\n",
    "bundle"
   ]
  },
  {
   "cell_type": "markdown",
   "metadata": {},
   "source": [
    "### Versions\n",
    "\n",
    "There's an additional identifying field in the descriptions of bundles and files: `version`. Objects in the DSS are versioned, and superseding versions of a bundle or file can be published later. By omitting a `version` parameter above, we were defaulting to the latest version of each object, but we can specify a version as well:"
   ]
  },
  {
   "cell_type": "code",
   "execution_count": 8,
   "metadata": {},
   "outputs": [
    {
     "data": {
      "text/plain": [
       "{'bundle': {'creator_uid': 8008,\n",
       "  'files': [{'content-type': 'application/json; dcp-type=\"metadata/project\"',\n",
       "    'crc32c': '4ce66be3',\n",
       "    'indexed': True,\n",
       "    'name': 'project.json',\n",
       "    's3_etag': '2be0a2479191779505af379eba6d5d10',\n",
       "    'sha1': '36a9ab5c9cf6d772e52310740ce55ed09eb2dd19',\n",
       "    'sha256': '76106f0ac8250169e75f1034192cec634ac395c99a912a9be9b8496782f6e6f4',\n",
       "    'size': 2714,\n",
       "    'uuid': '370452fa-3091-48cb-8d69-10c26e0db433',\n",
       "    'version': '2018-03-26T154205.186524Z'},\n",
       "   {'content-type': 'application/json; dcp-type=\"metadata/biomaterial\"',\n",
       "    'crc32c': 'b1c5b387',\n",
       "    'indexed': True,\n",
       "    'name': 'biomaterial.json',\n",
       "    's3_etag': '8a3359dcb4c38b24f648d9168a8fea64',\n",
       "    'sha1': 'd43bbe3baf4e3fabb7f5d4bc0c062429027dd28d',\n",
       "    'sha256': '7ca86a30655aedc6c00a34b1768d529459740a14c989acfd4552fb660493a6bd',\n",
       "    'size': 3700,\n",
       "    'uuid': '1d7fd92c-ae01-4920-91a9-3edf950d4d70',\n",
       "    'version': '2018-03-26T154205.786705Z'},\n",
       "   {'content-type': 'application/gzip; dcp-type=data',\n",
       "    'crc32c': '66fcd7a4',\n",
       "    'indexed': False,\n",
       "    'name': 'SRR3934437_1.fastq.gz',\n",
       "    's3_etag': 'bd554b6cca01f86f0ff0049adf740f35',\n",
       "    'sha1': 'f5ab7e592461e0fb7b7293b4a089cc144f12bd80',\n",
       "    'sha256': '0685d2f3a2606892437979db49da4b08e444d784bdc2545b6935d4da997aab7a',\n",
       "    'size': 46620992,\n",
       "    'uuid': 'b589faf3-1193-4427-a256-e10eb17fdd13',\n",
       "    'version': '2018-03-26T154206.570819Z'},\n",
       "   {'content-type': 'application/gzip; dcp-type=data',\n",
       "    'crc32c': '66e59b01',\n",
       "    'indexed': False,\n",
       "    'name': 'SRR3934437_2.fastq.gz',\n",
       "    's3_etag': '321fccb6569ff505495cb34a33e1c9a3',\n",
       "    'sha1': '577738cdfcb4220520f9ba1ee9b6845e282db016',\n",
       "    'sha256': 'e562982c2142427596d1cbc6612491584e5123bdd29dc539e166fa976dfc9552',\n",
       "    'size': 49310595,\n",
       "    'uuid': 'b968bf89-f6a8-4fd2-9bc1-8dd25d4c85c9',\n",
       "    'version': '2018-03-26T154208.067192Z'},\n",
       "   {'content-type': 'application/json; dcp-type=\"metadata/file\"',\n",
       "    'crc32c': '48a6673b',\n",
       "    'indexed': True,\n",
       "    'name': 'file.json',\n",
       "    's3_etag': 'cd65d78ee7e506c21c8b9d31f21a5f47',\n",
       "    'sha1': 'fc52615dd72640ed36f51eb71eccd8f624b59a88',\n",
       "    'sha256': '72b2a010839043b26cca79d6efdcc45aeeae1cc3f77023b1b1dca7cd61583261',\n",
       "    'size': 1306,\n",
       "    'uuid': '0cf13def-5d60-42ca-a62c-a3daeb2298f1',\n",
       "    'version': '2018-03-26T154210.763649Z'},\n",
       "   {'content-type': 'application/json; dcp-type=\"metadata/process\"',\n",
       "    'crc32c': '7367e083',\n",
       "    'indexed': True,\n",
       "    'name': 'process.json',\n",
       "    's3_etag': '7388f14f7ba2abbad5dc6ee0cd16d856',\n",
       "    'sha1': 'fe0b9a26cba7b9d5879776564184c62d7354d63f',\n",
       "    'sha256': '811f46638a14fc611dd34e621dce0c0396baae0b8a5ec48122f7337343dc8833',\n",
       "    'size': 3394,\n",
       "    'uuid': '054ae44b-2222-477a-995a-27e2b6c83258',\n",
       "    'version': '2018-03-26T154211.750783Z'},\n",
       "   {'content-type': 'application/json; dcp-type=\"metadata/protocol\"',\n",
       "    'crc32c': 'dad141fd',\n",
       "    'indexed': True,\n",
       "    'name': 'protocol.json',\n",
       "    's3_etag': 'b0c0980cc8a196b1e7236a889a19d0f8',\n",
       "    'sha1': '8966e992716590e9a37123e676c3a7b7e713635a',\n",
       "    'sha256': 'f5253f8bc4609997681b9bb0c1b299b04cdf48b8d6f29fd72cdc0682815ec8b9',\n",
       "    'size': 2388,\n",
       "    'uuid': '64629b4a-d70e-4eb0-a7a5-e4a4a9e8f86b',\n",
       "    'version': '2018-03-26T154212.576715Z'},\n",
       "   {'content-type': 'application/json; dcp-type=\"metadata/links\"',\n",
       "    'crc32c': 'e45cf235',\n",
       "    'indexed': True,\n",
       "    'name': 'links.json',\n",
       "    's3_etag': '0c9586ee1010f9318d8715a9fa75eabd',\n",
       "    'sha1': '83846aa571e40700a98764b3e3dd6945e75aae63',\n",
       "    'sha256': 'c77d2479c27036629776ef259e9af3204fac6b551c044f5b3589a8eeec3858d8',\n",
       "    'size': 3463,\n",
       "    'uuid': '1fee11bf-1873-422a-bc50-016e22bffd21',\n",
       "    'version': '2018-03-26T154213.160405Z'}],\n",
       "  'uuid': 'ec7e6476-abeb-4d78-82d8-8a28b43c46a6',\n",
       "  'version': '2018-03-26T154214.008924Z'}}"
      ]
     },
     "execution_count": 8,
     "metadata": {},
     "output_type": "execute_result"
    }
   ],
   "source": [
    "bundle = dss_client.get_bundle(uuid=bundle_uuid, replica=\"gcp\", version=\"2018-03-26T154214.008924Z\")\n",
    "bundle"
   ]
  }
 ],
 "metadata": {
  "kernelspec": {
   "display_name": "Python 3",
   "language": "python",
   "name": "python3"
  },
  "language_info": {
   "codemirror_mode": {
    "name": "ipython",
    "version": 3
   },
   "file_extension": ".py",
   "mimetype": "text/x-python",
   "name": "python",
   "nbconvert_exporter": "python",
   "pygments_lexer": "ipython3",
   "version": "3.6.5"
  }
 },
 "nbformat": 4,
 "nbformat_minor": 2
}

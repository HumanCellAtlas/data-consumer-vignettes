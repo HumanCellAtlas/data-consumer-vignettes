{
 "cells": [
  {
   "cell_type": "markdown",
   "metadata": {},
   "source": [
    "# Download SmartSeq2 Expression Matrix as an Input to Scanpy"
   ]
  },
  {
   "cell_type": "markdown",
   "metadata": {},
   "source": [
    "Suppose I want to get a SmartSeq2 expression matrix that I can analyze using scanpy. How can I go about finding something like this using the DSS API?"
   ]
  },
  {
   "cell_type": "code",
   "execution_count": 1,
   "metadata": {},
   "outputs": [],
   "source": [
    "import hca.dss\n",
    "client = hca.dss.DSSClient()"
   ]
  },
  {
   "cell_type": "markdown",
   "metadata": {},
   "source": [
    "Well, first things first: We're going to need to search for a `.results` file. This file should contain what we need to put together an expression matrix.\n",
    "\n",
    "Here's our ElasticSearch query."
   ]
  },
  {
   "cell_type": "code",
   "execution_count": 24,
   "metadata": {
    "scrolled": true
   },
   "outputs": [],
   "source": [
    "query = {\n",
    "    \"query\": {\n",
    "      \"bool\": {\n",
    "        \"must\": [\n",
    "          {\n",
    "            \"match\": {\n",
    "              \"files.file_json.files.content.file_core.file_format\": \"results\" # It needs to have a\n",
    "            }                                                                  # results file...\n",
    "          },\n",
    "          {\n",
    "            \"range\": {\n",
    "              \"manifest.version\": {\n",
    "                \"gte\": \"2018-07-12T100000.000000Z\" # ...and preferably not be too old, either.\n",
    "              }\n",
    "            }\n",
    "          }\n",
    "        ]\n",
    "      }\n",
    "    }\n",
    "  }"
   ]
  },
  {
   "cell_type": "markdown",
   "metadata": {},
   "source": [
    "We can use this query in the `post_search()` method to find a recent analysis bundle containing a `.results` file. __However, before HCA's official release, we won't find any analysis bundles under _production,___ where we're currently looking. We need to look under _integration_ instead. To do this, we can follow a few short steps:\n",
    "\n",
    "> 1) Go to ```~/.config/hca/``` on your local machine and edit the `config.json` file there.\n",
    "\n",
    "> 2) Change the path `https://dss.data.humancellatlas.org/v1/swagger.json` to `https://dss.integration.data.humancellatlas.org/v1/swagger.json`.\n",
    "\n",
    "> 3) Restart your computer.\n",
    "\n",
    "After completing these steps, we can execute our search with no problems. (Note that to save space in this example, I'll only print the portion of the bundle containing the results file.)\n",
    "\n",
    "* _Reminder: Don't forget to change this path back to its original value if you want to search through production again!_"
   ]
  },
  {
   "cell_type": "code",
   "execution_count": 26,
   "metadata": {},
   "outputs": [
    {
     "name": "stdout",
     "output_type": "stream",
     "text": [
      "{\n",
      "    \"content\": {\n",
      "        \"describedBy\": \"https://schema.humancellatlas.org/type/file/5.2.1/analysis_file\",\n",
      "        \"file_core\": {\n",
      "            \"file_format\": \"results\",\n",
      "            \"file_name\": \"4ee53206-80cd-4144-8c75-b62399a7ae99_rsem.genes.results\"\n",
      "        },\n",
      "        \"schema_type\": \"file\"\n",
      "    },\n",
      "    \"hca_ingest\": {\n",
      "        \"document_id\": \"330f62be-05a5-4c64-9b49-d884c3babeb6\",\n",
      "        \"submissionDate\": \"2018-07-17T15:58:47.738Z\"\n",
      "    }\n",
      "}\n"
     ]
    }
   ],
   "source": [
    "import json\n",
    "\n",
    "# Print part of a recent analysis bundle with a results file.\n",
    "\n",
    "bundle = client.post_search(es_query=query, replica='aws', output_format='raw')\n",
    "print(json.dumps(bundle['results'][0]['metadata']['files']['file_json']['files'][28], indent=4, sort_keys=True))"
   ]
  },
  {
   "cell_type": "markdown",
   "metadata": {},
   "source": [
    "Okay! It looks like we've found a file uuid we can use: `330f62be-05a5-4c64-9b49-d884c3babeb6`. Let's save it locally."
   ]
  },
  {
   "cell_type": "code",
   "execution_count": 4,
   "metadata": {},
   "outputs": [],
   "source": [
    "# Get the results file\n",
    "\n",
    "file = client.get_file(replica='aws', uuid='330f62be-05a5-4c64-9b49-d884c3babeb6')\n",
    "with open('matrix.results', 'w') as outfile:\n",
    "    outfile.write(file.decode(\"utf-8\"))\n",
    "    "
   ]
  },
  {
   "cell_type": "markdown",
   "metadata": {},
   "source": [
    "Here's what our file, `matrix.results`, looks like. I've truncated the output so it doesn't take up too much room."
   ]
  },
  {
   "cell_type": "code",
   "execution_count": 5,
   "metadata": {},
   "outputs": [
    {
     "name": "stdout",
     "output_type": "stream",
     "text": [
      "gene_id\ttranscript_id(s)\tlength\teffective_length\texpected_count\tTPM\tFPKM\tposterior_mean_count\tposterior_standard_deviation_of_count\tpme_TPM\tpme_FPKM\n",
      "ENSG00000000003.14\tENST00000373020.8,ENST00000494424.1,ENST00000496771.5,ENST00000612152.4,ENST00000614008.4\t1749.40\t1541.80\t0.00\t0.00\t0.00\t0.00\t0.00\t2.02\t23.44\n",
      "ENSG00000000005.5\tENST00000373031.4,ENST00000485971.1\t940.50\t732.90\t0.00\t0.00\t0.00\t0.00\t0.00\t1.54\t17.88\n",
      "ENSG00000000419.12\tENST00000371582.8,ENST00000371584.8,ENST00000371588.9,ENST00000413082.1,ENST00000466152.5,ENST00000494752.1\t977.83\t770.24\t0.00\t0.00\t0.00\t0.00\t0.00\t3.32\t38.56\n",
      "\n",
      "...\n"
     ]
    }
   ],
   "source": [
    "with open('matrix.results', 'r') as m:\n",
    "    print(m.read()[:591])\n",
    "    print('...')"
   ]
  },
  {
   "cell_type": "markdown",
   "metadata": {},
   "source": [
    "For our matrix, however, we might only want _some_ of these values. In my case, suppose I only want the `gene_id` and `TPM` values. We can extract these values easily using Python's `csv` module."
   ]
  },
  {
   "cell_type": "code",
   "execution_count": 6,
   "metadata": {},
   "outputs": [],
   "source": [
    "import csv\n",
    "\n",
    "# Transform the results file into a mtx file\n",
    "\n",
    "with open('matrix.results', newline='') as infile, open('matrix.mtx', 'w') as outfile:\n",
    "    reader = csv.DictReader(infile, delimiter='\\t')\n",
    "    writer = csv.DictWriter(outfile, delimiter='\\t', fieldnames=['gene_id', 'TPM'])\n",
    "    for row in reader:\n",
    "        writer.writerow({'gene_id': row['gene_id'], 'TPM': row['TPM']})\n"
   ]
  },
  {
   "cell_type": "markdown",
   "metadata": {},
   "source": [
    "Our new file, `matrix.mtx`, looks something like this:"
   ]
  },
  {
   "cell_type": "code",
   "execution_count": 7,
   "metadata": {},
   "outputs": [
    {
     "name": "stdout",
     "output_type": "stream",
     "text": [
      "ENSG00000000003.14\t0.00\n",
      "\n",
      "ENSG00000000005.5\t0.00\n",
      "\n",
      "ENSG00000000419.12\t0.00\n",
      "\n",
      "ENSG00000000457.13\t0.00\n",
      "\n",
      "...\n"
     ]
    }
   ],
   "source": [
    "with open('matrix.mtx', 'r') as m:\n",
    "    print(m.read()[:98])\n",
    "    print('...')"
   ]
  },
  {
   "cell_type": "markdown",
   "metadata": {},
   "source": [
    "Now that we have a file containing exactly what we want, we can read it into scanpy."
   ]
  },
  {
   "cell_type": "code",
   "execution_count": 11,
   "metadata": {},
   "outputs": [],
   "source": [
    "import scanpy.api as sc\n",
    "\n",
    "adata = sc.read_csv( filename='matrix.mtx', delimiter='\\t' )"
   ]
  },
  {
   "cell_type": "markdown",
   "metadata": {},
   "source": [
    "But how do we know that everything worked? Let's see what our AnnData object looks like."
   ]
  },
  {
   "cell_type": "code",
   "execution_count": 13,
   "metadata": {},
   "outputs": [
    {
     "name": "stdout",
     "output_type": "stream",
     "text": [
      "AnnData object with n_obs × n_vars = 58347 × 1 \n",
      "0.0   0.0   0.0   0.0   0.0   0.0   0.0   0.0   0.0   0.0   0.0   0.0   0.0   0.0   0.0   0.0   0.0   \n",
      "0.0   0.0   0.0   0.0   0.0   0.0   0.0   0.0   0.0   0.0   0.0   0.0   0.0   0.0   0.0   0.0   0.0   \n",
      "0.0   0.0   0.0   0.0   0.0   0.0   0.0   0.0   0.0   0.0   0.0   0.0   0.0   0.0   0.0   0.0   0.0   \n",
      "0.0   0.0   0.0   0.0   0.0   0.0   0.0   0.0   0.0   0.0   0.0   0.0   0.0   0.0   0.0   0.0   0.0   \n",
      "0.0   0.0   0.0   0.0   0.0   0.0   0.0   0.0   0.0   0.0   0.0   0.0   0.0   0.0   0.0   0.0   0.0   \n",
      "0.0   0.0   0.0   0.0   0.0   0.0   0.0   0.0   0.0   0.0   0.0   0.0   0.0   0.0   0.0   0.0   0.0   \n",
      "0.0   0.0   0.0   0.0   0.0   0.0   0.0   0.0   0.0   0.0   0.0   0.0   0.0   0.0   0.0   0.0   0.0   \n",
      "0.0   0.0   0.0   0.0   0.0   0.0   0.0   0.0   0.0   0.0   0.0   0.0   0.0   0.0   0.0   0.0   0.0   \n",
      "...\n"
     ]
    }
   ],
   "source": [
    "print(adata)\n",
    "for i in range(0, 136):\n",
    "    print( '{:<6}'.format('{:.1f}'.format(adata.X[i])), end='' if (i + 1) % 17 != 0 else '\\n' )\n",
    "print('...')"
   ]
  },
  {
   "cell_type": "markdown",
   "metadata": {},
   "source": [
    "And just to make it easier to see the relevant data in our matrix..."
   ]
  },
  {
   "cell_type": "code",
   "execution_count": 10,
   "metadata": {},
   "outputs": [
    {
     "name": "stdout",
     "output_type": "stream",
     "text": [
      "309.74 2289.43 1079.51 33.39 71.25 306.59 55.48 262.12 233.33 359.17 579.74 875.4 1571.24 7501.46 114659.92 347.55 76.15 1258.66 42.63 170.67 1384.1 2636.91 8210.16 23152.72 40069.76 15311.09 51841.59 988.92 8740.85 1786.69 13603.32 33274.64 314.7 1665.7 6726.94 12717.9 46112.46 10746.5 2619.5 637.16 21969.11 17856.29 794.83 23246.24 2372.67 78258.91 26619.13 109.81 8582.35 1111.28 1170.91 6920.93 161.06 250.58 171.18 126.3 20162.46 118.0 6422.18 774.58 9770.59 9643.0 3571.98 36718.99 45083.26 1618.13 18952.62 24666.38 1357.03 1071.54 694.25 652.7 1615.82 386.99 5256.2 867.7 17468.06 199.05 841.76 99981.39 15283.49 127.55 858.33 220.5 1144.79 1475.82 9094.49 6.09 35948.45 183.31 12083.88 1119.97 561.17 766.69 147.05 1427.83 3711.39 305.53 279.72 2907.42 105.23 "
     ]
    }
   ],
   "source": [
    "for i in range(len(adata.X)-1):\n",
    "    if adata.X[i] != 0:\n",
    "        print(adata.X[i], end=' ')"
   ]
  },
  {
   "cell_type": "markdown",
   "metadata": {},
   "source": [
    "Now that you've set up your matrix in scanpy, you're free to perform whatever analysis piques your interest."
   ]
  }
 ],
 "metadata": {
  "kernelspec": {
   "display_name": "Python 3",
   "language": "python",
   "name": "python3"
  },
  "language_info": {
   "codemirror_mode": {
    "name": "ipython",
    "version": 3
   },
   "file_extension": ".py",
   "mimetype": "text/x-python",
   "name": "python",
   "nbconvert_exporter": "python",
   "pygments_lexer": "ipython3",
   "version": "3.6.6"
  }
 },
 "nbformat": 4,
 "nbformat_minor": 2
}

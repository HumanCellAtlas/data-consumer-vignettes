{
 "cells": [
  {
   "cell_type": "markdown",
   "metadata": {},
   "source": [
    "# Find the Number of Cells of a Specific Cell Type\n",
    "\n",
    "I need to find how many cells of a certain organ type are available in the HCA database. How can I go about doing this?\n",
    "\n",
    "First, let's get set up."
   ]
  },
  {
   "cell_type": "code",
   "execution_count": 94,
   "metadata": {},
   "outputs": [],
   "source": [
    "import hca, json"
   ]
  },
  {
   "cell_type": "markdown",
   "metadata": {},
   "source": [
    "Now, what type of cells are we looking for? Maybe cells from a _lymph node_?"
   ]
  },
  {
   "cell_type": "code",
   "execution_count": 95,
   "metadata": {},
   "outputs": [],
   "source": [
    "organ_type = 'lymph node'"
   ]
  },
  {
   "cell_type": "markdown",
   "metadata": {},
   "source": [
    "To see what cells appear in the database, we'll need to do some _searching_: specifically, using the __post_search()__ method. post_search() has four parameters: `es_query`, `output_format`, `replica`, and `per_page`, two of which are optional: `output_format` and `per_page`.\n",
    "\n",
    "Don't worry about `per_page`; we won't be needing it. For `replica`, we'll be using AWS, and for `output_format`, we'll want to use the mode `raw`. Using `raw` will return get the verbatim JSON metadata for bundles that match our query, which we'll need if we want to find information about the organ type.\n",
    "\n",
    "Now, let's start by writing our ElasticSearch query, `es_query`."
   ]
  },
  {
   "cell_type": "code",
   "execution_count": 96,
   "metadata": {},
   "outputs": [],
   "source": [
    "query = {\n",
    "    \"query\" : {\n",
    "        \"bool\" : {\n",
    "            \"must\" : [{\n",
    "                \"match\" : {\n",
    "                    \"files.biomaterial_json.biomaterials.content.organ.text\" : organ_type\n",
    "                }\n",
    "            }, {\n",
    "                \"match\" : {\n",
    "                    \"files.biomaterial_json.schema_version\" : \"5.1.0\"\n",
    "                }\n",
    "            }, {\n",
    "                \"range\" : {\n",
    "                    \"files.biomaterial_json.biomaterials.content.total_estimated_cells\" : {\n",
    "                        \"gt\" : 0\n",
    "                    }\n",
    "                }\n",
    "            }]\n",
    "        }\n",
    "    }\n",
    "}"
   ]
  },
  {
   "cell_type": "markdown",
   "metadata": {},
   "source": [
    "From this search, we want all bundles that have an _organ type_ of lymph node, a _schema version_ of 5.1.0, and _at least one cell_ in the sample. Let's see if this returns any results. Instead of using a `raw` `output_format` here, let's just use `summary` for simplicity."
   ]
  },
  {
   "cell_type": "code",
   "execution_count": 97,
   "metadata": {},
   "outputs": [
    {
     "data": {
      "text/plain": [
       "3274"
      ]
     },
     "execution_count": 97,
     "metadata": {},
     "output_type": "execute_result"
    }
   ],
   "source": [
    "hca.dss.DSSClient().post_search(es_query=query, replica='aws', output_format='summary')['total_hits']"
   ]
  },
  {
   "cell_type": "markdown",
   "metadata": {},
   "source": [
    "Great, we got something. It looks like we have 3274 bundles with schema version 1.5.0, containing at least one lymph node cell.\n",
    "\n",
    "Now, to count up the number of cells in each bundle."
   ]
  },
  {
   "cell_type": "code",
   "execution_count": 99,
   "metadata": {
    "scrolled": false
   },
   "outputs": [
    {
     "name": "stdout",
     "output_type": "stream",
     "text": [
      "lymph node cell count: 3274\n"
     ]
    }
   ],
   "source": [
    "count = 0\n",
    "\n",
    "# Iterate through all search results containing the chosen cell type\n",
    "for bundle in hca.dss.DSSClient().post_search.iterate(es_query=query, replica='aws', output_format='raw'):\n",
    "    count += bundle['metadata']['files']['biomaterial_json']['biomaterials'][0]['content']['total_estimated_cells']\n",
    "\n",
    "print('{} cell count: {}'.format(organ_type, count))"
   ]
  },
  {
   "cell_type": "markdown",
   "metadata": {},
   "source": [
    "Huh, it looks like we got the same number of cells that were returned in our previous search. There must be exactly one cell per bundle."
   ]
  },
  {
   "cell_type": "code",
   "execution_count": null,
   "metadata": {},
   "outputs": [],
   "source": []
  }
 ],
 "metadata": {
  "kernelspec": {
   "display_name": "Python 3",
   "language": "python",
   "name": "python3"
  },
  "language_info": {
   "codemirror_mode": {
    "name": "ipython",
    "version": 3
   },
   "file_extension": ".py",
   "mimetype": "text/x-python",
   "name": "python",
   "nbconvert_exporter": "python",
   "pygments_lexer": "ipython3",
   "version": "3.6.4"
  }
 },
 "nbformat": 4,
 "nbformat_minor": 2
}

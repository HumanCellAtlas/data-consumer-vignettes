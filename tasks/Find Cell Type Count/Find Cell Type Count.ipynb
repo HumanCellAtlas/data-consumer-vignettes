": [
  {
   "cell_type": "code",
   "execution_count": 37,
   "metadata": {
    "scrolled": false
   },
   "outputs": [
    {
     "name": "stdout",
     "output_type": "stream",
     "text": [
      "spleen cell count: 39300000\n"
     ]
    }
   ],
   "source": [
    "#!/usr/bin/env python3\n",
    "\n",
    "import hca, json\n",
    "\n",
    "\n",
    "def count_cell_types(cell_type):\n",
    "    count = 0\n",
    "    query = {\n",
    "        \"query\" : {\n",
    "            \"bool\" : {\n",
    "                \"must\" : [{\n",
    "                    \"match\" : {\n",
    "                        \"files.biomaterial_json.biomaterials.content.organ.text\" : cell_type\n",
    "                    }\n",
    "                }, {\n",
    "                    \"match\" : {\n",
    "                        \"files.biomaterial_json.schema_version\" : \"5.1.0\"\n",
    "                    }\n",
    "                }, {\n",
    "                    \"range\" : {\n",
    "                        \"files.biomaterial_json.biomaterials.content.total_estimated_cells\" : {\n",
    "                            \"gt\" : 0\n",
    "                        }\n",
    "                    }\n",
    "                }]\n",
    "            }\n",
    "        }\n",
    "    }\n",
    "    \n",
    "    # Iterate through all search results containing the chosen cell type\n",
    "    for bundle in hca.dss.DSSClient().post_search.iterate(es_query=query, replica='aws', output_format='raw'):\n",
    "        \n",
    "        # Skip over any empty bundles\n",
    "        if not bundle['metadata'].get('files'):\n",
    "            continue\n",
    "        \n",
    "        # If the checks passed, then increment the count by the number of cells found in this file\n",
    "        count += bundle['metadata']['files']['biomaterial_json']['biomaterials'][0]['content']['total_estimated_cells']\n",
    "    return count\n",
    "\n",
    "\n",
    "def main():\n",
    "    organ_type = 'spleen'\n",
    "    print('{} cell count: {}'.format(organ_type, count_cell_types(organ_type)))\n",
    "\n",
    "    \n",
    "main()"
   ]
  },
  {
   "cell_type": "code",
   "execution_count": null,
   "metadata": {},
   "outputs": [],
   "source": []
  }
 ],
 "metadata": {
  "kernelspec": {
   "display_name": "Python 3",
   "language": "python",
   "name": "python3"
  },
  "language_info": {
   "codemirror_mode": {
    "name": "ipython",
    "version": 3
   },
   "file_extension": ".py",
   "mimetype": "text/x-python",
   "name": "python",
   "nbconvert_exporter": "python",
   "pygments_lexer": "ipython3",
   "version": "3.6.4"
  }
 },
 "nbformat": 4,
 "nbformat_minor": 2
}


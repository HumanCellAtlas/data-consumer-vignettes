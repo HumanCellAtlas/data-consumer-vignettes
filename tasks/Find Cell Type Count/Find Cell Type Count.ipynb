{
 "cells": [
  {
   "cell_type": "code",
   "execution_count": 6,
   "metadata": {},
   "outputs": [
    {
     "name": "stdout",
     "output_type": "stream",
     "text": [
      "Microsoft Windows [Version 6.1.7601]\r\n",
      "Copyright (c) 2009 Microsoft Corporation.  All rights reserved.\r\n",
      "\r\n",
      "C:\\Users\\Justin\\Desktop>pip install hca\n",
      "Requirement already satisfied: hca in c:\\users\\justin\\anaconda3\\lib\\site-packages\r\n",
      "Requirement already satisfied: Jinja2<3,>=2.9 in c:\\users\\justin\\anaconda3\\lib\\site-packages (from hca)\r\n",
      "Requirement already satisfied: google-auth<2,>=1.0.2 in c:\\users\\justin\\anaconda3\\lib\\site-packages (from hca)\r\n",
      "Requirement already satisfied: tweak<1,>=0.6.7 in c:\\users\\justin\\anaconda3\\lib\\site-packages (from hca)\r\n",
      "Requirement already satisfied: crcmod<2,>=1.7 in c:\\users\\justin\\anaconda3\\lib\\site-packages (from hca)\r\n",
      "Requirement already satisfied: jsonpointer<2,>=1.10 in c:\\users\\justin\\anaconda3\\lib\\site-packages (from hca)\r\n",
      "Requirement already satisfied: commonmark<1,>=0.7.4 in c:\\users\\justin\\anaconda3\\lib\\site-packages (from hca)\r\n",
      "Requirement already satisfied: dcplib<2,>=1.1.0 in c:\\users\\justin\\anaconda3\\lib\\site-packages (from hca)\r\n",
      "Requirement already satisfied: argcomplete<2,>=1.9.3 in c:\\users\\justin\\anaconda3\\lib\\site-packages (from hca)\r\n",
      "Requirement already satisfied: boto3<2,>=1.4 in c:\\users\\justin\\anaconda3\\lib\\site-packages (from hca)\r\n",
      "Requirement already satisfied: requests<3,>=2.17 in c:\\users\\justin\\anaconda3\\lib\\site-packages (from hca)\r\n",
      "Requirement already satisfied: six<2,>=1.10 in c:\\users\\justin\\anaconda3\\lib\\site-packages (from hca)\r\n",
      "Requirement already satisfied: google-auth-oauthlib<2,>=0.1 in c:\\users\\justin\\anaconda3\\lib\\site-packages (from hca)\r\n",
      "Requirement already satisfied: jsonschema<3,>=2.6 in c:\\users\\justin\\anaconda3\\lib\\site-packages (from hca)\r\n",
      "Requirement already satisfied: MarkupSafe>=0.23 in c:\\users\\justin\\anaconda3\\lib\\site-packages (from Jinja2<3,>=2.9->hca)\r\n",
      "Requirement already satisfied: cachetools>=2.0.0 in c:\\users\\justin\\anaconda3\\lib\\site-packages (from google-auth<2,>=1.0.2->hca)\r\n",
      "Requirement already satisfied: pyasn1-modules>=0.2.1 in c:\\users\\justin\\anaconda3\\lib\\site-packages (from google-auth<2,>=1.0.2->hca)\r\n",
      "Requirement already satisfied: rsa>=3.1.4 in c:\\users\\justin\\anaconda3\\lib\\site-packages (from google-auth<2,>=1.0.2->hca)\r\n",
      "Requirement already satisfied: future in c:\\users\\justin\\anaconda3\\lib\\site-packages (from commonmark<1,>=0.7.4->hca)\r\n",
      "Requirement already satisfied: puremagic in c:\\users\\justin\\anaconda3\\lib\\site-packages (from dcplib<2,>=1.1.0->hca)\r\n",
      "Requirement already satisfied: s3transfer<0.2.0,>=0.1.10 in c:\\users\\justin\\anaconda3\\lib\\site-packages (from boto3<2,>=1.4->hca)\r\n",
      "Requirement already satisfied: botocore<1.11.0,>=1.10.48 in c:\\users\\justin\\anaconda3\\lib\\site-packages (from boto3<2,>=1.4->hca)\r\n",
      "Requirement already satisfied: jmespath<1.0.0,>=0.7.1 in c:\\users\\justin\\anaconda3\\lib\\site-packages (from boto3<2,>=1.4->hca)\r\n",
      "Requirement already satisfied: chardet<3.1.0,>=3.0.2 in c:\\users\\justin\\anaconda3\\lib\\site-packages (from requests<3,>=2.17->hca)\r\n",
      "Requirement already satisfied: idna<2.7,>=2.5 in c:\\users\\justin\\anaconda3\\lib\\site-packages (from requests<3,>=2.17->hca)\r\n",
      "Requirement already satisfied: urllib3<1.23,>=1.21.1 in c:\\users\\justin\\anaconda3\\lib\\site-packages (from requests<3,>=2.17->hca)\r\n",
      "Requirement already satisfied: certifi>=2017.4.17 in c:\\users\\justin\\anaconda3\\lib\\site-packages (from requests<3,>=2.17->hca)\r\n",
      "Requirement already satisfied: requests-oauthlib>=0.7.0 in c:\\users\\justin\\anaconda3\\lib\\site-packages (from google-auth-oauthlib<2,>=0.1->hca)\r\n",
      "Requirement already satisfied: pyasn1<0.5.0,>=0.4.1 in c:\\users\\justin\\anaconda3\\lib\\site-packages (from pyasn1-modules>=0.2.1->google-auth<2,>=1.0.2->hca)\r\n",
      "Requirement already satisfied: argparse in c:\\users\\justin\\anaconda3\\lib\\site-packages (from puremagic->dcplib<2,>=1.1.0->hca)\r\n",
      "Requirement already satisfied: docutils>=0.10 in c:\\users\\justin\\anaconda3\\lib\\site-packages (from botocore<1.11.0,>=1.10.48->boto3<2,>=1.4->hca)\r\n",
      "Requirement already satisfied: python-dateutil<3.0.0,>=2.1; python_version >= \"2.7\" in c:\\users\\justin\\anaconda3\\lib\\site-packages (from botocore<1.11.0,>=1.10.48->boto3<2,>=1.4->hca)\r\n",
      "Requirement already satisfied: oauthlib>=0.6.2 in c:\\users\\justin\\anaconda3\\lib\\site-packages (from requests-oauthlib>=0.7.0->google-auth-oauthlib<2,>=0.1->hca)\r\n",
      "\r\n",
      "C:\\Users\\Justin\\Desktop>"
     ]
    },
    {
     "name": "stderr",
     "output_type": "stream",
     "text": [
      "You are using pip version 9.0.1, however version 10.0.1 is available.\r\n",
      "You should consider upgrading via the 'python -m pip install --upgrade pip' command.\r\n"
     ]
    }
   ],
   "source": [
    "%%cmd\n",
    "pip install hca"
   ]
  },
  {
   "cell_type": "code",
   "execution_count": 24,
   "metadata": {},
   "outputs": [
    {
     "name": "stdout",
     "output_type": "stream",
     "text": [
      "{\n",
      "    \"bundle_fqid\": \"0fd98881-8879-4928-939d-e3583ae0d006.2018-05-01T070337.608744Z\",\n",
      "    \"bundle_url\": \"https://dss.data.humancellatlas.org/v1/bundles/0fd98881-8879-4928-939d-e3583ae0d006?version=2018-05-01T070337.608744Z&replica=aws\",\n",
      "    \"metadata\": {\n",
      "        \"files\": {},\n",
      "        \"manifest\": {\n",
      "            \"creator_uid\": 0,\n",
      "            \"files\": [\n",
      "                {\n",
      "                    \"content-type\": \"application/json\",\n",
      "                    \"crc32c\": \"003ad03e\",\n",
      "                    \"indexed\": true,\n",
      "                    \"name\": \"cell.json\",\n",
      "                    \"s3-etag\": \"fb5aac9f8f0a9da710998cac814a33dc\",\n",
      "                    \"sha1\": \"6e1de4809aa92d3e142830fbcf353c2e03556335\",\n",
      "                    \"sha256\": \"cb718e73527242a757431cbbc94b40878e201608064b77ca6b9ebf900c3c9ee6\",\n",
      "                    \"size\": 42,\n",
      "                    \"uuid\": \"ff17b618-e94e-4c0a-a41a-f339ce917358\",\n",
      "                    \"version\": \"2018-05-01T070332.393227Z\"\n",
      "                },\n",
      "                {\n",
      "                    \"content-type\": \"gzip\",\n",
      "                    \"crc32c\": \"942cd9d6\",\n",
      "                    \"indexed\": false,\n",
      "                    \"name\": \"SRR2967608_2.fastq.gz\",\n",
      "                    \"s3-etag\": \"fb9bbafee8a92ced414b3658b1bb9517\",\n",
      "                    \"sha1\": \"bb5c8a68c155bad257cb7b93faef71a116cecba2\",\n",
      "                    \"sha256\": \"c0d11199740a66150b8bb70a0474d8de9819e77f3f77b55dd04790e3fe6fb53c\",\n",
      "                    \"size\": 23675941,\n",
      "                    \"uuid\": \"0c275b5e-edb3-4aeb-882b-1955aa38f507\",\n",
      "                    \"version\": \"2018-05-01T070333.321613Z\"\n",
      "                },\n",
      "                {\n",
      "                    \"content-type\": \"application/json\",\n",
      "                    \"crc32c\": \"4db24aeb\",\n",
      "                    \"indexed\": true,\n",
      "                    \"name\": \"project.json\",\n",
      "                    \"s3-etag\": \"f2a84e3cc346735eb43cb50010ba583a\",\n",
      "                    \"sha1\": \"99d9ab9b83d900b23af4916677130e54197f9082\",\n",
      "                    \"sha256\": \"90cdd049c9654e5048a73c3f9ce575d805b72f6c66e6dbacfc3789a7d0b29e4e\",\n",
      "                    \"size\": 3450,\n",
      "                    \"uuid\": \"f0d0c169-54e7-4879-a7e3-ff82cfeb2989\",\n",
      "                    \"version\": \"2018-05-01T070334.176185Z\"\n",
      "                },\n",
      "                {\n",
      "                    \"content-type\": \"gzip\",\n",
      "                    \"crc32c\": \"e978e85d\",\n",
      "                    \"indexed\": false,\n",
      "                    \"name\": \"SRR2967608_1.fastq.gz\",\n",
      "                    \"s3-etag\": \"89f6f8bec37ec1fc4560f3f99d47721d\",\n",
      "                    \"sha1\": \"58f03f7c6c0887baa54da85db5c820cfbe25d367\",\n",
      "                    \"sha256\": \"9b4c0dde8683f924975d0867903dc7a967f46bee5c0a025c451b9ba73e43f120\",\n",
      "                    \"size\": 22220717,\n",
      "                    \"uuid\": \"f20e0e69-9f5b-4867-bd73-ff1607a4aac8\",\n",
      "                    \"version\": \"2018-05-01T070335.043125Z\"\n",
      "                },\n",
      "                {\n",
      "                    \"content-type\": \"application/json\",\n",
      "                    \"crc32c\": \"ed0f785d\",\n",
      "                    \"indexed\": true,\n",
      "                    \"name\": \"sample.json\",\n",
      "                    \"s3-etag\": \"ecbaee942c4c617d764f971ab8e6b85c\",\n",
      "                    \"sha1\": \"1e2068289735e8b30e75822b6a66660ffdfc57a4\",\n",
      "                    \"sha256\": \"38641578ab2343c31dbb56b114f6e4060862c01fde2f84395d3b99f64423afd9\",\n",
      "                    \"size\": 3060,\n",
      "                    \"uuid\": \"184ce7ce-92ba-4d61-a0f5-4a7b86501ebe\",\n",
      "                    \"version\": \"2018-05-01T070335.634252Z\"\n",
      "                },\n",
      "                {\n",
      "                    \"content-type\": \"application/json\",\n",
      "                    \"crc32c\": \"e5466084\",\n",
      "                    \"indexed\": true,\n",
      "                    \"name\": \"manifest.json\",\n",
      "                    \"s3-etag\": \"d8674c819d58168b36e7c197d07b0247\",\n",
      "                    \"sha1\": \"c897279ca670469ab4044071396301a3d1e6512f\",\n",
      "                    \"sha256\": \"2652667a03099e12af8582e7bfe3d83169cb98b8ee784cf713dd00fa1fe479b1\",\n",
      "                    \"size\": 303,\n",
      "                    \"uuid\": \"29780120-9edd-4761-b79d-c15a04f90ec9\",\n",
      "                    \"version\": \"2018-05-01T070336.418230Z\"\n",
      "                },\n",
      "                {\n",
      "                    \"content-type\": \"application/json\",\n",
      "                    \"crc32c\": \"d31000c8\",\n",
      "                    \"indexed\": true,\n",
      "                    \"name\": \"assay.json\",\n",
      "                    \"s3-etag\": \"7b794fa0ecd2d9d05316291c8b9ff818\",\n",
      "                    \"sha1\": \"f9ec5bec08d09a7c0a4aff8eeb08cfcdda55192b\",\n",
      "                    \"sha256\": \"90648706a325a059966f026783a2a4494dcaaf304182df7bff424fb051d8e378\",\n",
      "                    \"size\": 655,\n",
      "                    \"uuid\": \"02161446-522e-4afd-8331-6d3727c8e5a4\",\n",
      "                    \"version\": \"2018-05-01T070336.974752Z\"\n",
      "                }\n",
      "            ],\n",
      "            \"format\": \"0.0.1\",\n",
      "            \"version\": \"2018-05-01T070337.608744Z\"\n",
      "        },\n",
      "        \"state\": \"new\",\n",
      "        \"uuid\": \"0fd98881-8879-4928-939d-e3583ae0d006\"\n",
      "    },\n",
      "    \"search_score\": 1.0\n",
      "}\n",
      "0\n"
     ]
    }
   ],
   "source": [
    "#!/usr/bin/env python3\n",
    "\n",
    "import hca, json\n",
    "\n",
    "def count_cell_types(cell_type):\n",
    "    count = 0\n",
    "    query = { \"query\": { \"match\": { \"bundle.creator_uid\": 0 } } }\n",
    "    \n",
    "    # Iterate through all search results containing the chosen cell type\n",
    "    for result in hca.dss.DSSClient().post_search.iterate(es_query={}, replica='aws', output_format='raw'):\n",
    "#        print(result)\n",
    "#        bundle_uuid = result['bundle_fqid'][:36]\n",
    "#        bundle_dict = hca.dss.DSSClient().get_bundle(uuid=bundle_uuid, replica='aws')\n",
    "#        print()\n",
    "        print(json.dumps(result, indent=4, sort_keys=True))\n",
    "#        print()\n",
    "#        print(json.dumps(hca.dss.DSSClient().get_file(uuid=bundle_dict.get('bundle').get('files')[0].get('uuid'), replica='aws'), indent=4, sort_keys=True))\n",
    "        break\n",
    "        \n",
    "        # Add up the total number of cells in the sample\n",
    "#        count += bundle.get('biomaterials')[0].get('content').get('total_estimated_cells')\n",
    "    return count\n",
    "\n",
    "def main():\n",
    "    print(count_cell_types('spleen'))\n",
    "\n",
    "main()"
   ]
  },
  {
   "cell_type": "code",
   "execution_count": null,
   "metadata": {},
   "outputs": [],
   "source": [
    "%%cmd\n",
    "pip freeze"
   ]
  },
  {
   "cell_type": "code",
   "execution_count": 74,
   "metadata": {},
   "outputs": [
    {
     "data": {
      "text/plain": [
       "'https://dss.data.humancellatlas.org/v1'"
      ]
     },
     "execution_count": 74,
     "metadata": {},
     "output_type": "execute_result"
    }
   ],
   "source": [
    "client = hca.dss.DSSClient()\n",
    "client.host"
   ]
  },
  {
   "cell_type": "code",
   "execution_count": null,
   "metadata": {},
   "outputs": [],
   "source": []
  }
 ],
 "metadata": {
  "kernelspec": {
   "display_name": "Python 3",
   "language": "python",
   "name": "python3"
  },
  "language_info": {
   "codemirror_mode": {
    "name": "ipython",
    "version": 3
   },
   "file_extension": ".py",
   "mimetype": "text/x-python",
   "name": "python",
   "nbconvert_exporter": "python",
   "pygments_lexer": "ipython3",
   "version": "3.6.4"
  }
 },
 "nbformat": 4,
 "nbformat_minor": 2
}

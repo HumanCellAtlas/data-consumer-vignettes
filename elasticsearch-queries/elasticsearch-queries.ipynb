{
 "cells": [
  {
   "cell_type": "markdown",
   "metadata": {},
   "source": [
    "# Writing ElasticSearch Queries"
   ]
  },
  {
   "cell_type": "markdown",
   "metadata": {},
   "source": [
    "This notebook gives an overview of how to write an ElasticSearch (ES) query to programmatically find (and download) data from the Human Cell Atlas Data Store (DSS)."
   ]
  },
  {
   "cell_type": "markdown",
   "metadata": {},
   "source": [
    "All of the consumer vignette notebooks use a type of ES query called a \"request body search\", which means the search is provided as a JSON document."
   ]
  },
  {
   "cell_type": "markdown",
   "metadata": {},
   "source": [
    "## Running a Basic Query\n",
    "\n",
    "We start with the most basic query: an empty query. First we need a DSS client:"
   ]
  },
  {
   "cell_type": "code",
   "execution_count": 1,
   "metadata": {},
   "outputs": [],
   "source": [
    "import hca.dss\n",
    "client = hca.dss.DSSClient()"
   ]
  },
  {
   "cell_type": "code",
   "execution_count": 2,
   "metadata": {},
   "outputs": [],
   "source": [
    "my_query = {}"
   ]
  },
  {
   "cell_type": "markdown",
   "metadata": {},
   "source": [
    "To run this ES query, we use the [`post_search()`](#) function of the HCA Python API:"
   ]
  },
  {
   "cell_type": "code",
   "execution_count": 3,
   "metadata": {},
   "outputs": [
    {
     "name": "stdout",
     "output_type": "stream",
     "text": [
      "post_search found 2350 results\n",
      "post_search returned 100 results\n"
     ]
    }
   ],
   "source": [
    "bundles = client.post_search(es_query=my_query, replica='aws')\n",
    "\n",
    "print(\"post_search found %d results\"%(bundles['total_hits']))\n",
    "print(\"post_search returned %d results\"%(len(bundles['results'])))"
   ]
  },
  {
   "cell_type": "markdown",
   "metadata": {},
   "source": [
    "`bundles` is a dictionary, and the ElasticSearch query results are stored under the results key:"
   ]
  },
  {
   "cell_type": "code",
   "execution_count": 4,
   "metadata": {},
   "outputs": [
    {
     "name": "stdout",
     "output_type": "stream",
     "text": [
      "dict_keys(['es_query', 'results', 'total_hits'])\n"
     ]
    }
   ],
   "source": [
    "print(bundles.keys())"
   ]
  },
  {
   "cell_type": "markdown",
   "metadata": {},
   "source": [
    "### Bundles Found vs Bundles Returned\n",
    "\n",
    "When you run an ES query, there can potentially be thousands of results that match. The ES search engine paginates results, meaning it returns them in chunks. That's why the `bundles['total_count']` is larger than the  `bundles['results']` - the results are paginated, but the total count is the total number of items matching the search.\n",
    "\n",
    "Total number of bundles found is always returned with the query under the `total_hits` key:"
   ]
  },
  {
   "cell_type": "code",
   "execution_count": 5,
   "metadata": {},
   "outputs": [
    {
     "name": "stdout",
     "output_type": "stream",
     "text": [
      "2350\n"
     ]
    }
   ],
   "source": [
    "print(bundles['total_hits'])"
   ]
  },
  {
   "cell_type": "markdown",
   "metadata": {},
   "source": [
    "If we need to iterate over all search items without paginating them, we can get an iterator over all results found by ES by using the `.iterate()` method of `post_search` (as per the [HCA CLI documentation](https://hca.readthedocs.io/en/latest/api.html#hca.dss.DSSClient.post_search)):\n",
    "\n",
    "```\n",
    "for result in client.post_search.iterate(...):\n",
    "    ...\n",
    "```"
   ]
  },
  {
   "cell_type": "markdown",
   "metadata": {},
   "source": [
    "### Including Metadata in Results\n",
    "\n",
    "To get the metadata, we should include the keyword argument `output_format='raw'` with our search:"
   ]
  },
  {
   "cell_type": "code",
   "execution_count": 6,
   "metadata": {},
   "outputs": [],
   "source": [
    "bundles = client.post_search(\n",
    "    es_query=my_query, replica='aws', output_format='raw')"
   ]
  },
  {
   "cell_type": "markdown",
   "metadata": {},
   "source": [
    "We can inspect the results to determine the metadata schema, and use that to assemble more complicated queries:"
   ]
  },
  {
   "cell_type": "code",
   "execution_count": 7,
   "metadata": {},
   "outputs": [
    {
     "name": "stdout",
     "output_type": "stream",
     "text": [
      "{\n",
      "    \"bundle_fqid\": \"fff14b79-c37e-43a4-9abc-c0777314f380.2019-05-14T105022.468000Z\",\n",
      "    \"bundle_url\": \"https://dss.integration.data.humancellatlas.org/v1/bundles/fff14b79-c37e-43a4-9abc-c0777314f380?version=2019-05-14T105022.468000Z&replica=aws\",\n",
      "    \"metadata\": {\n",
      "        \"files\": {\n",
      "            \"cell_suspension_json\": [\n",
      "                {\n",
      "                    \"biomaterial_core\": {\n",
      "                        \"biomaterial_description\": \"HP1506401_H16 cell\",\n",
      "                        \"biomaterial_id\": \"HP1506401_H16\",\n",
      "                        \"biomaterial_name\": \"HP1506401_H16 cell\",\n",
      "                        \"biosamples_accession\": \"SAMEA4438410\",\n",
      "                        \"insdc_sample_accession\": \"ERS1349859\",\n",
      "                        \"ncbi_taxon_id\": [\n",
      "                            9606\n",
      "                        ]\n",
      "                    },\n",
      "                    \"describedBy\": \"https://schema.humancellatlas.org/type/biomaterial/13.1.0/cell_suspension\",\n",
      "                    \"estimated_cell_count\": 1,\n",
      "                    \"genus_species\": [\n",
      "                        {\n",
      "                            \"ontology\": \"NCBITaxon:9606\",\n",
      "                            \"ontology_label\": \"Homo sapiens\",\n",
      "                            \"text\": \"Homo sapiens\"\n",
      "                        }\n",
      "                    ],\n",
      "                    \"plate_based_sequencing\": {\n",
      "                        \"plate_label\": \"HP1506401\",\n",
      "                        \"well_label\": \"H16\",\n",
      "                        \"well_quality\": \"OK\"\n",
      "                    },\n",
      "                    \"provenance\": {\n",
      "                        \"document_id\": \"5851c22f-3ad8-40db-bdf2-f5dc0e26dbd3\",\n",
      "                        \"submission_date\": \"2019-05-14T09:16:14.867Z\",\n",
      "                        \"update_date\": \"2019-05-14T09:31:26.827Z\"\n",
      "                    },\n",
      "                    \"schema_type\": \"biomaterial\"\n",
      "                }\n",
      "            ],\n",
      "            \"dissociation_protocol_json\": [\n",
      "                {\n",
      "                    \"describedBy\": \"https://schema.humancellatlas.org/type/protocol/biomaterial_collection/6.1.0/dissociation_protocol\",\n",
      "                    \"method\": {\n",
      "                        \"ontology\": \"EFO:0009108\",\n",
      "                        \"ontology_label\": \"fluorescence-activated cell sorting\",\n",
      "                        \"text\": \"fluorescence-activated cell sorting\"\n",
      "                    },\n",
      "                    \"protocol_core\": {\n",
      "                        \"protocol_description\": \"Islets were dissociated into single-cell suspension and viable individual cells were distributed by FACS into 384-well plates containing lysis buffer.\",\n",
      "                        \"protocol_id\": \"dissociation_protocol_1\",\n",
      "                        \"protocol_name\": \"Single cell dissociation\",\n",
      "                        \"publication_doi\": \"10.1016/j.cmet.2016.08.020\"\n",
      "                    },\n",
      "                    \"provenance\": {\n",
      "                        \"document_id\": \"d72df926-94a2-4e11-b40a-88ed7691cae9\",\n",
      "                        \"submission_date\": \"2019-05-14T09:19:37.466Z\",\n",
      "                        \"update_date\": \"2019-05-14T09:19:43.386Z\"\n",
      "                    },\n",
      "                    \"schema_type\": \"protocol\"\n",
      "                }\n",
      "            ],\n",
      "            \"donor_organism_json\": [\n",
      "                {\n",
      "                    \"biomaterial_core\": {\n",
      "                        \"biomaterial_description\": \"Normal Donor 3\",\n",
      "                        \"biomaterial_id\": \"H3\",\n",
      "                        \"biomaterial_name\": \"Normal Donor 3\",\n",
      "                        \"ncbi_taxon_id\": [\n",
      "                            9606\n",
      "                        ]\n",
      "                    },\n",
      "                    \"describedBy\": \"https://schema.humancellatlas.org/type/biomaterial/15.3.0/donor_organism\",\n",
      "                    \"development_stage\": {\n",
      "                        \"ontology\": \"HsapDv:0000087\",\n",
      "                        \"ontology_label\": \"human adult stage\",\n",
      "                        \"text\": \"adult\"\n",
      "                    },\n",
      "                    \"diseases\": [\n",
      "                        {\n",
      "                            \"ontology\": \"PATO:0000461\",\n",
      "                            \"ontology_label\": \"normal\",\n",
      "                            \"text\": \"normal\"\n",
      "                        }\n",
      "                    ],\n",
      "                    \"genus_species\": [\n",
      "                        {\n",
      "                            \"ontology\": \"NCBITaxon:9606\",\n",
      "                            \"ontology_label\": \"Homo sapiens\",\n",
      "                            \"text\": \"Homo sapiens\"\n",
      "                        }\n",
      "                    ],\n",
      "                    \"human_specific\": {\n",
      "                        \"body_mass_index\": 35.0\n",
      "                    },\n",
      "                    \"is_living\": \"no\",\n",
      "                    \"medical_history\": {\n",
      "                        \"test_results\": \"HbA1c 5.7%\"\n",
      "                    },\n",
      "                    \"organism_age\": \"48\",\n",
      "                    \"organism_age_unit\": {\n",
      "                        \"ontology\": \"UO:0000036\",\n",
      "                        \"ontology_label\": \"year\",\n",
      "                        \"text\": \"year\"\n",
      "                    },\n",
      "                    \"provenance\": {\n",
      "                        \"document_id\": \"cfde197c-59c3-4ac7-93e7-b41d2c206e93\",\n",
      "                        \"submission_date\": \"2019-05-14T09:16:14.496Z\",\n",
      "                        \"update_date\": \"2019-05-14T09:25:06.151Z\"\n",
      "                    },\n",
      "                    \"schema_type\": \"biomaterial\",\n",
      "                    \"sex\": \"female\"\n",
      "                }\n",
      "            ],\n",
      "            \"library_preparation_protocol_json\": [\n",
      "                {\n",
      "                    \"describedBy\": \"https://schema.humancellatlas.org/type/protocol/sequencing/6.1.0/library_preparation_protocol\",\n",
      "                    \"end_bias\": \"full length\",\n",
      "                    \"input_nucleic_acid_molecule\": {\n",
      "                        \"ontology\": \"OBI:0000869\",\n",
      "                        \"ontology_label\": \"polyA RNA\",\n",
      "                        \"text\": \"polyA RNA\"\n",
      "                    },\n",
      "                    \"library_construction_method\": {\n",
      "                        \"ontology\": \"EFO:0008931\",\n",
      "                        \"ontology_label\": \"Smart-seq2\",\n",
      "                        \"text\": \"Smart-seq2\"\n",
      "                    },\n",
      "                    \"nucleic_acid_source\": \"single cell\",\n",
      "                    \"primer\": \"poly-dT\",\n",
      "                    \"protocol_core\": {\n",
      "                        \"protocol_description\": \"Single-cell RNA-seq libraries were generated as described in Picelli et al., 2014, Full-length RNA-seq from single cells using Smart-seq2, Nature Protocols.\",\n",
      "                        \"protocol_id\": \"library_preparation_protocol_1\",\n",
      "                        \"protocol_name\": \"Library preparation for sequencing\",\n",
      "                        \"publication_doi\": \"10.1038/nprot.2014.006\"\n",
      "                    },\n",
      "                    \"provenance\": {\n",
      "                        \"document_id\": \"96209d06-5fb7-4fc3-bff4-20ef3f55ee40\",\n",
      "                        \"submission_date\": \"2019-05-14T09:19:37.472Z\",\n",
      "                        \"update_date\": \"2019-05-14T09:19:43.579Z\"\n",
      "                    },\n",
      "                    \"schema_type\": \"protocol\",\n",
      "                    \"spike_in_dilution\": 40000,\n",
      "                    \"spike_in_kit\": {\n",
      "                        \"manufacturer\": \"Ambion, Life Technologies\",\n",
      "                        \"retail_name\": \"External RNA Controls Consortium (ERCC)\"\n",
      "                    },\n",
      "                    \"strand\": \"unstranded\"\n",
      "                }\n",
      "            ],\n",
      "            \"links_json\": [\n",
      "                {\n",
      "                    \"describedBy\": \"https://schema.humancellatlas.org/system/1.1.5/links\",\n",
      "                    \"links\": [\n",
      "                        {\n",
      "                            \"input_type\": \"biomaterial\",\n",
      "                            \"inputs\": [\n",
      "                                \"5851c22f-3ad8-40db-bdf2-f5dc0e26dbd3\"\n",
      "                            ],\n",
      "                            \"output_type\": \"file\",\n",
      "                            \"outputs\": [\n",
      "                                \"24aee65f-213e-442a-b5a6-8f323aaf8b08\"\n",
      "                            ],\n",
      "                            \"process\": \"135c272e-ad97-47dd-9231-2095b716157a\",\n",
      "                            \"protocols\": [\n",
      "                                {\n",
      "                                    \"protocol_id\": \"96209d06-5fb7-4fc3-bff4-20ef3f55ee40\",\n",
      "                                    \"protocol_type\": \"library_preparation_protocol\"\n",
      "                                },\n",
      "                                {\n",
      "                                    \"protocol_id\": \"eb61d563-e7ec-407d-a84f-3626663eb4fa\",\n",
      "                                    \"protocol_type\": \"sequencing_protocol\"\n",
      "                                }\n",
      "                            ]\n",
      "                        },\n",
      "                        {\n",
      "                            \"input_type\": \"biomaterial\",\n",
      "                            \"inputs\": [\n",
      "                                \"1a2e8c90-0d8b-465c-a4a6-bed616dbfad2\"\n",
      "                            ],\n",
      "                            \"output_type\": \"biomaterial\",\n",
      "                            \"outputs\": [\n",
      "                                \"5851c22f-3ad8-40db-bdf2-f5dc0e26dbd3\"\n",
      "                            ],\n",
      "                            \"process\": \"1c67612f-ffc6-4468-8545-ee2bffd2cf38\",\n",
      "                            \"protocols\": [\n",
      "                                {\n",
      "                                    \"protocol_id\": \"d72df926-94a2-4e11-b40a-88ed7691cae9\",\n",
      "                                    \"protocol_type\": \"dissociation_protocol\"\n",
      "                                }\n",
      "                            ]\n",
      "                        },\n",
      "                        {\n",
      "                            \"input_type\": \"biomaterial\",\n",
      "                            \"inputs\": [\n",
      "                                \"cfde197c-59c3-4ac7-93e7-b41d2c206e93\"\n",
      "                            ],\n",
      "                            \"output_type\": \"biomaterial\",\n",
      "                            \"outputs\": [\n",
      "                                \"1a2e8c90-0d8b-465c-a4a6-bed616dbfad2\"\n",
      "                            ],\n",
      "                            \"process\": \"451a2914-2534-47a9-aa43-e0a93dfb5046\",\n",
      "                            \"protocols\": []\n",
      "                        }\n",
      "                    ],\n",
      "                    \"schema_type\": \"link_bundle\",\n",
      "                    \"schema_version\": \"1.1.5\"\n",
      "                }\n",
      "            ],\n",
      "            \"process_json\": [\n",
      "                {\n",
      "                    \"describedBy\": \"https://schema.humancellatlas.org/type/process/9.0.0/process\",\n",
      "                    \"insdc_experiment\": {\n",
      "                        \"insdc_experiment_accession\": \"ERX1701735\"\n",
      "                    },\n",
      "                    \"process_core\": {\n",
      "                        \"process_id\": \"process_id_3579\"\n",
      "                    },\n",
      "                    \"provenance\": {\n",
      "                        \"document_id\": \"135c272e-ad97-47dd-9231-2095b716157a\",\n",
      "                        \"submission_date\": \"2019-05-14T09:22:14.890Z\",\n",
      "                        \"update_date\": \"2019-05-14T09:37:14.651Z\"\n",
      "                    },\n",
      "                    \"schema_type\": \"process\"\n",
      "                },\n",
      "                {\n",
      "                    \"describedBy\": \"https://schema.humancellatlas.org/type/process/9.0.0/process\",\n",
      "                    \"process_core\": {\n",
      "                        \"process_id\": \"process_id_65\"\n",
      "                    },\n",
      "                    \"provenance\": {\n",
      "                        \"document_id\": \"1c67612f-ffc6-4468-8545-ee2bffd2cf38\",\n",
      "                        \"submission_date\": \"2019-05-14T09:19:38.212Z\",\n",
      "                        \"update_date\": \"2019-05-14T09:35:34.378Z\"\n",
      "                    },\n",
      "                    \"schema_type\": \"process\"\n",
      "                },\n",
      "                {\n",
      "                    \"describedBy\": \"https://schema.humancellatlas.org/type/process/9.0.0/process\",\n",
      "                    \"process_core\": {\n",
      "                        \"process_id\": \"process_id_3\"\n",
      "                    },\n",
      "                    \"provenance\": {\n",
      "                        \"document_id\": \"451a2914-2534-47a9-aa43-e0a93dfb5046\",\n",
      "                        \"submission_date\": \"2019-05-14T09:19:37.498Z\",\n",
      "                        \"update_date\": \"2019-05-14T09:35:32.629Z\"\n",
      "                    },\n",
      "                    \"schema_type\": \"process\"\n",
      "                }\n",
      "            ],\n",
      "            \"project_json\": [\n",
      "                {\n",
      "                    \"array_express_accessions\": [\n",
      "                        \"E-MTAB-5061\"\n",
      "                    ],\n",
      "                    \"contributors\": [\n",
      "                        {\n",
      "                            \"address\": \"Nobels vag 3, 171 77, Stockholm\",\n",
      "                            \"corresponding_contributor\": false,\n",
      "                            \"country\": \"Sweden\",\n",
      "                            \"email\": \"Athanasia.Palasantza@ki.se\",\n",
      "                            \"institution\": \"Karolinska Institutet\",\n",
      "                            \"laboratory\": \"Department of Cell and Molecular Biology (CMB)\",\n",
      "                            \"name\": \"Athanasia,,Palasantza\"\n",
      "                        },\n",
      "                        {\n",
      "                            \"address\": \"Nobels vag 3, 171 77, Stockholm\",\n",
      "                            \"corresponding_contributor\": true,\n",
      "                            \"country\": \"Sweden\",\n",
      "                            \"email\": \"Rickard.Sandberg@ki.se\",\n",
      "                            \"institution\": \"Karolinska Institutet\",\n",
      "                            \"laboratory\": \"Department of Cell and Molecular Biology (CMB)\",\n",
      "                            \"name\": \"Rickard,,Sandberg\",\n",
      "                            \"orcid_id\": \"0000-0001-6473-1740\"\n",
      "                        },\n",
      "                        {\n",
      "                            \"address\": \"Nobels vag 3, 171 77, Stockholm\",\n",
      "                            \"corresponding_contributor\": false,\n",
      "                            \"country\": \"Sweden\",\n",
      "                            \"email\": \"Asa.Segerstolpe@ki.se\",\n",
      "                            \"institution\": \"Karolinska Institutet\",\n",
      "                            \"laboratory\": \"Department of Cell and Molecular Biology (CMB)\",\n",
      "                            \"name\": \"Asa,,Segerstolpe\"\n",
      "                        },\n",
      "                        {\n",
      "                            \"address\": \"Wellcome Trust Genome Campus, Cambridge\",\n",
      "                            \"corresponding_contributor\": false,\n",
      "                            \"country\": \"UK\",\n",
      "                            \"email\": \"mfreeberg@ebi.ac.uk\",\n",
      "                            \"institution\": \"EMBL-EBI\",\n",
      "                            \"laboratory\": \"Human Cell Atlas Data Coordination Platform\",\n",
      "                            \"name\": \"Mallory,Ann,Freeberg\",\n",
      "                            \"orcid_id\": \"0000-0003-2949-3921\",\n",
      "                            \"project_role\": {\n",
      "                                \"ontology\": \"EFO:0009737\",\n",
      "                                \"ontology_label\": \"data curator\",\n",
      "                                \"text\": \"Human Cell Atlas wrangler\"\n",
      "                            }\n",
      "                        },\n",
      "                        {\n",
      "                            \"address\": \"Wellcome Trust Genome Campus, Cambridge UK\",\n",
      "                            \"corresponding_contributor\": false,\n",
      "                            \"country\": \"UK\",\n",
      "                            \"email\": \"lauhuema@ebi.ac.uk\",\n",
      "                            \"institution\": \"EMBL-EBI\",\n",
      "                            \"laboratory\": \"Molecular Atlas\",\n",
      "                            \"name\": \"Laura,,Huerta\",\n",
      "                            \"orcid_id\": \"0000-0002-8748-599X\",\n",
      "                            \"project_role\": {\n",
      "                                \"ontology\": \"EFO:0009737\",\n",
      "                                \"ontology_label\": \"data curator\",\n",
      "                                \"text\": \"external curator\"\n",
      "                            }\n",
      "                        },\n",
      "                        {\n",
      "                            \"address\": \"Wellcome Trust Genome Campus, Cambridge UK\",\n",
      "                            \"corresponding_contributor\": false,\n",
      "                            \"country\": \"UK\",\n",
      "                            \"email\": \"anjaf@ebi.ac.uk\",\n",
      "                            \"institution\": \"EMBL-EBI\",\n",
      "                            \"name\": \"Anja,,Fullgrabe\",\n",
      "                            \"orcid_id\": \"0000-0002-8674-0039\",\n",
      "                            \"project_role\": {\n",
      "                                \"ontology\": \"EFO:0009737\",\n",
      "                                \"ontology_label\": \"data curator\",\n",
      "                                \"text\": \"external curator\"\n",
      "                            }\n",
      "                        }\n",
      "                    ],\n",
      "                    \"describedBy\": \"https://schema.humancellatlas.org/type/project/14.0.0/project\",\n",
      "                    \"funders\": [\n",
      "                        {\n",
      "                            \"grant_id\": \"648842\",\n",
      "                            \"organization\": \"European Research Council\"\n",
      "                        },\n",
      "                        {\n",
      "                            \"grant_id\": \"not provided\",\n",
      "                            \"organization\": \"Swedish Research Council\"\n",
      "                        },\n",
      "                        {\n",
      "                            \"grant_id\": \"not provided\",\n",
      "                            \"organization\": \"Swedish Foundation for Strategic Research\"\n",
      "                        },\n",
      "                        {\n",
      "                            \"grant_id\": \"not provided\",\n",
      "                            \"organization\": \"Swedish Cancer Society\"\n",
      "                        },\n",
      "                        {\n",
      "                            \"grant_id\": \"not provided\",\n",
      "                            \"organization\": \"Center for Innovative Medicine\"\n",
      "                        }\n",
      "                    ],\n",
      "                    \"insdc_project_accessions\": [\n",
      "                        \"ERP017126\"\n",
      "                    ],\n",
      "                    \"insdc_study_accessions\": [\n",
      "                        \"PRJEB15401\"\n",
      "                    ],\n",
      "                    \"project_core\": {\n",
      "                        \"project_description\": \"We used single-cell RNA-sequencing to generate transcriptional profiles of endocrine and exocrine cell types of the human pancreas. Pancreatic tissue and islets were obtained from six healthy and four T2D cadaveric donors. Islets were cultured and dissociated into single-cell suspension. Viable individual cells were distributed via fluorescence-activated cell sorted (FACS) into 384-well plates containing lysis buffer. Single-cell cDNA libraries were generated using the Smart-seq2 protocol. Gene expression was quantified as reads per kilobase transcript and per million mapped reads (RPKM) using rpkmforgenes. Bioinformatics analysis was used to classify cells into cell types without knowledge of cell types or prior purification of cell populations. We revealed subpopulations in endocrine and exocrine cell types, identified genes with interesting correlations to body mass index (BMI) in specific cell types and found transcriptional alterations in T2D.  Complementary whole-islet RNA-seq data have also been deposited at ArrayExpress under accession number E-MTAB-5060 (http://www.ebi.ac.uk/arrayexpress/experiments/E-MTAB-5060).\",\n",
      "                        \"project_short_name\": \"Healthy and type 2 diabetes pancreas\",\n",
      "                        \"project_title\": \"Single-cell RNA-seq analysis of human pancreas from healthy individuals and type 2 diabetes patients\"\n",
      "                    },\n",
      "                    \"provenance\": {\n",
      "                        \"document_id\": \"ae71be1d-ddd8-4feb-9bed-24c3ddb6e1ad\",\n",
      "                        \"submission_date\": \"2019-05-14T09:16:14.479Z\",\n",
      "                        \"update_date\": \"2019-05-14T09:25:04.555Z\"\n",
      "                    },\n",
      "                    \"publications\": [\n",
      "                        {\n",
      "                            \"authors\": [\n",
      "                                \"Segerstolpe A\",\n",
      "                                \"Palasantza A\",\n",
      "                                \"Eliasson P\",\n",
      "                                \"Andersson EM\",\n",
      "                                \"Andreasson AC\",\n",
      "                                \"Sun X\",\n",
      "                                \"Picelli S\",\n",
      "                                \"Sabirsh A\",\n",
      "                                \"Clausen M\",\n",
      "                                \"Bjursell MK\",\n",
      "                                \"Smith DM\",\n",
      "                                \"Kasper M\",\n",
      "                                \"Ammala C\",\n",
      "                                \"Sandberg R\"\n",
      "                            ],\n",
      "                            \"doi\": \"10.1016/j.cmet.2016.08.020\",\n",
      "                            \"pmid\": 27667667,\n",
      "                            \"title\": \"Single-Cell Transcriptome Profiling of Human Pancreatic Islets in Health and Type 2 Diabetes\",\n",
      "                            \"url\": \"https://europepmc.org/abstract/MED/27667667\"\n",
      "                        }\n",
      "                    ],\n",
      "                    \"schema_type\": \"project\",\n",
      "                    \"supplementary_links\": [\n",
      "                        \"https://www.ebi.ac.uk/gxa/sc/experiments/E-MTAB-5061/Results\"\n",
      "                    ]\n",
      "                }\n",
      "            ],\n",
      "            \"sequence_file_json\": [\n",
      "                {\n",
      "                    \"describedBy\": \"https://schema.humancellatlas.org/type/file/9.0.0/sequence_file\",\n",
      "                    \"file_core\": {\n",
      "                        \"file_name\": \"HP1506401_H16.fastq.gz\",\n",
      "                        \"format\": \"fastq.gz\"\n",
      "                    },\n",
      "                    \"insdc_run_accessions\": [\n",
      "                        \"ERR1631402\"\n",
      "                    ],\n",
      "                    \"provenance\": {\n",
      "                        \"document_id\": \"24aee65f-213e-442a-b5a6-8f323aaf8b08\",\n",
      "                        \"submission_date\": \"2019-05-14T09:17:54.833Z\",\n",
      "                        \"update_date\": \"2019-05-14T09:52:07.276Z\"\n",
      "                    },\n",
      "                    \"read_index\": \"read1\",\n",
      "                    \"read_length\": 43,\n",
      "                    \"schema_type\": \"file\"\n",
      "                }\n",
      "            ],\n",
      "            \"sequencing_protocol_json\": [\n",
      "                {\n",
      "                    \"describedBy\": \"https://schema.humancellatlas.org/type/protocol/sequencing/10.0.0/sequencing_protocol\",\n",
      "                    \"instrument_manufacturer_model\": {\n",
      "                        \"ontology\": \"EFO:0004203\",\n",
      "                        \"ontology_label\": \"Illumina HiSeq 2000\",\n",
      "                        \"text\": \"Illumina HiSeq 2000\"\n",
      "                    },\n",
      "                    \"method\": {\n",
      "                        \"ontology\": \"EFO:0008441\",\n",
      "                        \"ontology_label\": \"full length single cell RNA sequencing\",\n",
      "                        \"text\": \"full length single cell RNA sequencing\"\n",
      "                    },\n",
      "                    \"paired_end\": false,\n",
      "                    \"protocol_core\": {\n",
      "                        \"protocol_description\": \"Libraries were sequenced on an Illumina HiSeq 2000, generating 43 bp single-end reads.\",\n",
      "                        \"protocol_id\": \"sequencing_protocol_1\",\n",
      "                        \"protocol_name\": \"SmartSeq2 single cell sequencing\",\n",
      "                        \"publication_doi\": \"10.1038/nprot.2014.006\"\n",
      "                    },\n",
      "                    \"provenance\": {\n",
      "                        \"document_id\": \"eb61d563-e7ec-407d-a84f-3626663eb4fa\",\n",
      "                        \"submission_date\": \"2019-05-14T09:19:37.478Z\",\n",
      "                        \"update_date\": \"2019-05-14T09:19:43.616Z\"\n",
      "                    },\n",
      "                    \"schema_type\": \"protocol\"\n",
      "                }\n",
      "            ],\n",
      "            \"specimen_from_organism_json\": [\n",
      "                {\n",
      "                    \"biomaterial_core\": {\n",
      "                        \"biomaterial_description\": \"Pancreas from normal donor H3\",\n",
      "                        \"biomaterial_id\": \"H3_pancreas\",\n",
      "                        \"biomaterial_name\": \"Pancreas from donor H3\",\n",
      "                        \"ncbi_taxon_id\": [\n",
      "                            9606\n",
      "                        ]\n",
      "                    },\n",
      "                    \"describedBy\": \"https://schema.humancellatlas.org/type/biomaterial/10.2.0/specimen_from_organism\",\n",
      "                    \"genus_species\": [\n",
      "                        {\n",
      "                            \"ontology\": \"NCBITaxon:9606\",\n",
      "                            \"ontology_label\": \"Homo sapiens\",\n",
      "                            \"text\": \"Homo sapiens\"\n",
      "                        }\n",
      "                    ],\n",
      "                    \"organ\": {\n",
      "                        \"ontology\": \"UBERON:0001264\",\n",
      "                        \"ontology_label\": \"pancreas\",\n",
      "                        \"text\": \"pancreas\"\n",
      "                    },\n",
      "                    \"organ_parts\": [\n",
      "                        {\n",
      "                            \"ontology\": \"UBERON:0000006\",\n",
      "                            \"ontology_label\": \"islet of Langerhans\",\n",
      "                            \"text\": \"islet of Langerhans\"\n",
      "                        }\n",
      "                    ],\n",
      "                    \"provenance\": {\n",
      "                        \"document_id\": \"1a2e8c90-0d8b-465c-a4a6-bed616dbfad2\",\n",
      "                        \"submission_date\": \"2019-05-14T09:16:14.546Z\",\n",
      "                        \"update_date\": \"2019-05-14T09:26:46.799Z\"\n",
      "                    },\n",
      "                    \"purchased_specimen\": {\n",
      "                        \"manufacturer\": \"Prodo Laboratories Inc (Irvine, CA, USA)\"\n",
      "                    },\n",
      "                    \"schema_type\": \"biomaterial\"\n",
      "                }\n",
      "            ]\n",
      "        },\n",
      "        \"manifest\": {\n",
      "            \"creator_uid\": 0,\n",
      "            \"files\": [\n",
      "                {\n",
      "                    \"content-type\": \"application/json; dcp-type=\\\"metadata/biomaterial\\\"\",\n",
      "                    \"crc32c\": \"fdff6dea\",\n",
      "                    \"indexed\": true,\n",
      "                    \"name\": \"cell_suspension_0.json\",\n",
      "                    \"s3-etag\": \"608e9aba7ccfa6f9ab1a41fe55d3034c\",\n",
      "                    \"sha1\": \"dd0be5655f99000e257e295011cf0a56824c32b2\",\n",
      "                    \"sha256\": \"1842c7285092fa5e7f56ad48fa208edd29120b4798875ae8a6fa1142f817d415\",\n",
      "                    \"size\": 997,\n",
      "                    \"uuid\": \"5851c22f-3ad8-40db-bdf2-f5dc0e26dbd3\",\n",
      "                    \"version\": \"2019-05-14T093128.827000Z\"\n",
      "                },\n",
      "                {\n",
      "                    \"content-type\": \"application/json; dcp-type=\\\"metadata/biomaterial\\\"\",\n",
      "                    \"crc32c\": \"a0c4269e\",\n",
      "                    \"indexed\": true,\n",
      "                    \"name\": \"specimen_from_organism_0.json\",\n",
      "                    \"s3-etag\": \"73163822cf12c0426e9730ef0c0cddd9\",\n",
      "                    \"sha1\": \"7bcb10987d77d74a7080bb8c46b8193f00505985\",\n",
      "                    \"sha256\": \"bb712ce013a58eccdf0bdf55c15d3ea13388bcf3cec5c24220e381eb65846283\",\n",
      "                    \"size\": 1169,\n",
      "                    \"uuid\": \"1a2e8c90-0d8b-465c-a4a6-bed616dbfad2\",\n",
      "                    \"version\": \"2019-05-14T092648.799000Z\"\n",
      "                },\n",
      "                {\n",
      "                    \"content-type\": \"application/json; dcp-type=\\\"metadata/biomaterial\\\"\",\n",
      "                    \"crc32c\": \"b0b45b80\",\n",
      "                    \"indexed\": true,\n",
      "                    \"name\": \"donor_organism_0.json\",\n",
      "                    \"s3-etag\": \"f236a3b672f2025c726149f2d0542161\",\n",
      "                    \"sha1\": \"4cf71dfed1aedd9eb10fa6c8b01afc225f75a3ea\",\n",
      "                    \"sha256\": \"d13d35b49a79ecfc3be995d9c0df64f071ecfe540f958f570c4aec82f9132997\",\n",
      "                    \"size\": 1341,\n",
      "                    \"uuid\": \"cfde197c-59c3-4ac7-93e7-b41d2c206e93\",\n",
      "                    \"version\": \"2019-05-14T092508.151000Z\"\n",
      "                },\n",
      "                {\n",
      "                    \"content-type\": \"application/json; dcp-type=\\\"metadata/file\\\"\",\n",
      "                    \"crc32c\": \"33ce0536\",\n",
      "                    \"indexed\": true,\n",
      "                    \"name\": \"sequence_file_0.json\",\n",
      "                    \"s3-etag\": \"154266a1f321cde8ede20ee8071465a4\",\n",
      "                    \"sha1\": \"23e4c330452839cb41b69b2fc2d18506cb5c86ce\",\n",
      "                    \"sha256\": \"f5d83ecee5d23e98a592482b24a0cff4e92671a9dc6d22f4f62d4d03daf3b987\",\n",
      "                    \"size\": 520,\n",
      "                    \"uuid\": \"24aee65f-213e-442a-b5a6-8f323aaf8b08\",\n",
      "                    \"version\": \"2019-05-14T095209.276000Z\"\n",
      "                },\n",
      "                {\n",
      "                    \"content-type\": \"application/json; dcp-type=\\\"metadata/project\\\"\",\n",
      "                    \"crc32c\": \"08fb0af6\",\n",
      "                    \"indexed\": true,\n",
      "                    \"name\": \"project_0.json\",\n",
      "                    \"s3-etag\": \"0ad4ab37bfe5d9798afdfba0b949eb05\",\n",
      "                    \"sha1\": \"bab034a14a2ca97a98a7035b08cddc9d5fa03459\",\n",
      "                    \"sha256\": \"96a6a89399aa47c52e15984c19769dccac4029656da0294a95b86b10d6e37914\",\n",
      "                    \"size\": 6263,\n",
      "                    \"uuid\": \"ae71be1d-ddd8-4feb-9bed-24c3ddb6e1ad\",\n",
      "                    \"version\": \"2019-05-14T092506.555000Z\"\n",
      "                },\n",
      "                {\n",
      "                    \"content-type\": \"application/json; dcp-type=\\\"metadata/protocol\\\"\",\n",
      "                    \"crc32c\": \"49aa500f\",\n",
      "                    \"indexed\": true,\n",
      "                    \"name\": \"library_preparation_protocol_0.json\",\n",
      "                    \"s3-etag\": \"7e9e1bc2ee6e782f012df057e4fc8513\",\n",
      "                    \"sha1\": \"c7b8d0ac3ac5b66e5ac61d81a1ef70bb37a74323\",\n",
      "                    \"sha256\": \"8d94f45c9c31011a795d2626c2f0aebb506a1dce92de72650171b742a96326fe\",\n",
      "                    \"size\": 1337,\n",
      "                    \"uuid\": \"96209d06-5fb7-4fc3-bff4-20ef3f55ee40\",\n",
      "                    \"version\": \"2019-05-14T091945.579000Z\"\n",
      "                },\n",
      "                {\n",
      "                    \"content-type\": \"application/json; dcp-type=\\\"metadata/protocol\\\"\",\n",
      "                    \"crc32c\": \"82d72b8c\",\n",
      "                    \"indexed\": true,\n",
      "                    \"name\": \"sequencing_protocol_0.json\",\n",
      "                    \"s3-etag\": \"db67c58bf1e090404112e4fdad72f7ac\",\n",
      "                    \"sha1\": \"0aa97de5efb059bef7802d4daa6a462995895fe8\",\n",
      "                    \"sha256\": \"d35a79746f9f3e5487d3342d5c2df76ceaad59d55e282ab8ffc0bc360ea12859\",\n",
      "                    \"size\": 1025,\n",
      "                    \"uuid\": \"eb61d563-e7ec-407d-a84f-3626663eb4fa\",\n",
      "                    \"version\": \"2019-05-14T091945.616000Z\"\n",
      "                },\n",
      "                {\n",
      "                    \"content-type\": \"application/json; dcp-type=\\\"metadata/protocol\\\"\",\n",
      "                    \"crc32c\": \"9e7a0efb\",\n",
      "                    \"indexed\": true,\n",
      "                    \"name\": \"dissociation_protocol_0.json\",\n",
      "                    \"s3-etag\": \"4fb3cd5b9db025c80fcd1191300f5582\",\n",
      "                    \"sha1\": \"b3e94679f3d150ef1d7ec6b6156bf7d391c0c1fd\",\n",
      "                    \"sha256\": \"0d80e243aa428b5612369391ae7b74dd823cfe02b7c63067b9f5ac97d2034c3d\",\n",
      "                    \"size\": 901,\n",
      "                    \"uuid\": \"d72df926-94a2-4e11-b40a-88ed7691cae9\",\n",
      "                    \"version\": \"2019-05-14T091945.386000Z\"\n",
      "                },\n",
      "                {\n",
      "                    \"content-type\": \"application/json; dcp-type=\\\"metadata/process\\\"\",\n",
      "                    \"crc32c\": \"6273537c\",\n",
      "                    \"indexed\": true,\n",
      "                    \"name\": \"process_0.json\",\n",
      "                    \"s3-etag\": \"6d6571aaf2e373b2350bfc6a146edd07\",\n",
      "                    \"sha1\": \"b63c096ec76f8a52c4a7d3d4a1971c5c87d111ba\",\n",
      "                    \"sha256\": \"da80ad8f7f4e3c0a78fcb1078445e3be1a69d90453552005c7b35c07007db7d0\",\n",
      "                    \"size\": 463,\n",
      "                    \"uuid\": \"135c272e-ad97-47dd-9231-2095b716157a\",\n",
      "                    \"version\": \"2019-05-14T093716.651000Z\"\n",
      "                },\n",
      "                {\n",
      "                    \"content-type\": \"application/json; dcp-type=\\\"metadata/process\\\"\",\n",
      "                    \"crc32c\": \"d7412fca\",\n",
      "                    \"indexed\": true,\n",
      "                    \"name\": \"process_1.json\",\n",
      "                    \"s3-etag\": \"2e4f2bb744c2a739a42882628f10b9af\",\n",
      "                    \"sha1\": \"b596b232542279da38a9eddb5f1e07e806a8231c\",\n",
      "                    \"sha256\": \"abb8e689dbe0f83d3cf3a1876c1ba8241e0c706ef9ca22e2ff7013c161b71453\",\n",
      "                    \"size\": 377,\n",
      "                    \"uuid\": \"1c67612f-ffc6-4468-8545-ee2bffd2cf38\",\n",
      "                    \"version\": \"2019-05-14T093536.378000Z\"\n",
      "                },\n",
      "                {\n",
      "                    \"content-type\": \"application/json; dcp-type=\\\"metadata/process\\\"\",\n",
      "                    \"crc32c\": \"3476a09b\",\n",
      "                    \"indexed\": true,\n",
      "                    \"name\": \"process_2.json\",\n",
      "                    \"s3-etag\": \"36f81eb1ea94fa6b4487426322d10ed3\",\n",
      "                    \"sha1\": \"04b8b93260ad2654b377149391a69b5a5d7ea2f6\",\n",
      "                    \"sha256\": \"bd47f699e80b8dc4ebcf3b4e516bb82e01d71f96ab8e6ae16a838983872fc50a\",\n",
      "                    \"size\": 376,\n",
      "                    \"uuid\": \"451a2914-2534-47a9-aa43-e0a93dfb5046\",\n",
      "                    \"version\": \"2019-05-14T093534.629000Z\"\n",
      "                },\n",
      "                {\n",
      "                    \"content-type\": \"application/json; dcp-type=\\\"metadata/links\\\"\",\n",
      "                    \"crc32c\": \"89974eee\",\n",
      "                    \"indexed\": true,\n",
      "                    \"name\": \"links.json\",\n",
      "                    \"s3-etag\": \"7d27535d7b0ddea1204ffbf8bf6e5bf5\",\n",
      "                    \"sha1\": \"4865a7b2602a05cc1b192dbd25b45820e528e785\",\n",
      "                    \"sha256\": \"abef3de4d865fc7a90e5437d3323306cea33e453f48332dd366df6f3974901df\",\n",
      "                    \"size\": 1856,\n",
      "                    \"uuid\": \"e46a83ab-0882-47ae-9ba4-392ac40886f5\",\n",
      "                    \"version\": \"2019-05-14T151416.992321Z\"\n",
      "                },\n",
      "                {\n",
      "                    \"content-type\": \"application/gzip; dcp-type=data\",\n",
      "                    \"crc32c\": \"900f9190\",\n",
      "                    \"indexed\": false,\n",
      "                    \"name\": \"HP1506401_H16.fastq.gz\",\n",
      "                    \"s3-etag\": \"d43db6663df47d5f46cd182964ed5257\",\n",
      "                    \"sha1\": \"420099211a18cc5d4243c5edd2a96694bea6e064\",\n",
      "                    \"sha256\": \"d197ee59a8be6b4db20f01aa802b49b8b3d5d6abe539872863acd6cdef1f067a\",\n",
      "                    \"size\": 26207289,\n",
      "                    \"uuid\": \"90dc8de8-9837-492f-bef8-673b262dd417\",\n",
      "                    \"version\": \"2019-05-14T151417.335615Z\"\n",
      "                }\n",
      "            ],\n",
      "            \"format\": \"0.0.1\",\n",
      "            \"version\": \"2019-05-14T105022.468000Z\"\n",
      "        },\n",
      "        \"shape_descriptor\": \"v.cell_suspension.13.dissociation_protocol.6.donor_organism.15.library_preparation_protocol.6.links.1.process.9.project.14.sequence_file.9.sequencing_protocol.10.specimen_from_organism.10\",\n",
      "        \"state\": \"new\",\n",
      "        \"uuid\": \"fff14b79-c37e-43a4-9abc-c0777314f380\"\n",
      "    },\n",
      "    \"search_score\": null\n",
      "}\n"
     ]
    }
   ],
   "source": [
    "first_bundle = bundles['results'][0]\n",
    "\n",
    "import json\n",
    "print(json.dumps(\n",
    "    first_bundle,\n",
    "    indent=4))"
   ]
  },
  {
   "cell_type": "markdown",
   "metadata": {},
   "source": [
    "## Boolean Conditional Queries\n",
    "\n",
    "Most of the queries we will run will consist of boolean conditional tests, so we will show how to assemble such queries here.\n",
    "\n",
    "All ES queries must include a `query` element in the search body. When we specify a set of boolean conditional checks, we must put them in a `bool` directive and wrap each condition in a `must` or `must_not` directive:\n",
    "\n",
    "```json\n",
    "my_query = {\n",
    "    \"query\": {\n",
    "        \"bool\": {\n",
    "            \"must\": [\n",
    "                ...snip...\n",
    "            ]\n",
    "        }\n",
    "    }\n",
    "}\n",
    "```\n",
    "\n",
    "where the `must` directive contains the list of boolean conditions that must be met by each search result."
   ]
  },
  {
   "cell_type": "markdown",
   "metadata": {},
   "source": [
    "### Inspecting Metadata to Help Assemble Queries\n",
    "\n",
    "The next step is to figure out what fields to use to assemble the boolean checks. we can use the metadata from the first result of the empty query (above) to pick out an interesting metadata field. Some of the JSON files in the bundle hold metadata, so we can use `first_bundle['metadata']['files']` to look at the metadata contained in various JSON files:"
   ]
  },
  {
   "cell_type": "code",
   "execution_count": 8,
   "metadata": {},
   "outputs": [
    {
     "name": "stdout",
     "output_type": "stream",
     "text": [
      "cell_suspension_json\n",
      "dissociation_protocol_json\n",
      "donor_organism_json\n",
      "library_preparation_protocol_json\n",
      "links_json\n",
      "process_json\n",
      "project_json\n",
      "sequence_file_json\n",
      "sequencing_protocol_json\n",
      "specimen_from_organism_json\n"
     ]
    }
   ],
   "source": [
    "first_bundle_metadata = first_bundle['metadata']['files']\n",
    "print(\"\\n\".join(first_bundle_metadata.keys()))"
   ]
  },
  {
   "cell_type": "markdown",
   "metadata": {},
   "source": [
    "If we look in the `specimen_from_organism_json` metadata file, we can see it contains the type of organism this sample is from."
   ]
  },
  {
   "cell_type": "code",
   "execution_count": 9,
   "metadata": {},
   "outputs": [
    {
     "name": "stdout",
     "output_type": "stream",
     "text": [
      "pancreas\n"
     ]
    }
   ],
   "source": [
    "print(first_bundle_metadata['specimen_from_organism_json'][0]['organ']['text'])"
   ]
  },
  {
   "cell_type": "markdown",
   "metadata": {},
   "source": [
    "Each metadata JSON contains different types of information - for example, `project_json` contains information about publications related to the data set, so we can search using DOI numbers too:"
   ]
  },
  {
   "cell_type": "code",
   "execution_count": 10,
   "metadata": {},
   "outputs": [
    {
     "name": "stdout",
     "output_type": "stream",
     "text": [
      "10.1016/j.cmet.2016.08.020\n"
     ]
    }
   ],
   "source": [
    "print(first_bundle_metadata['project_json'][0]['publications'][0]['doi'])"
   ]
  },
  {
   "cell_type": "markdown",
   "metadata": {},
   "source": [
    "### Creating the Boolean Conditional Check\n",
    "\n",
    "To actually use this field in a boolean conditional in an ES query, we can refer to it by separating each key we used to access the field with a period. Start with the `metadata` key, then the `files` key, and so on:\n",
    "\n",
    "```\n",
    "metadata.files.specimen_from_organism_json.organ.text\n",
    "```\n",
    "\n",
    "We stipulate that this field must match a value that we provide, like \"pancreas\", like so:\n",
    "\n",
    "```json\n",
    "\"match\" : {\n",
    "    \"files.specimen_from_organism_json.organ.text\" : \"pancreas\"\n",
    "}\n",
    "```\n",
    "\n",
    "and if we have multiple conditions, we provide each boolean conditional check wrapped in a dictionary, with all of them provided together in a list:\n",
    "\n",
    "```json\n",
    "\"must\" : [\n",
    "    {\n",
    "        \"match\" : {\n",
    "            \"files.specimen_from_organism_json.organ.text\" : \"pancreas\"\n",
    "        }\n",
    "    },\n",
    "    {\n",
    "        \"match\" : {\n",
    "            \"files.project_json.publications.doi\" : \"10.1016/j.cmet.2016.08.020\"\n",
    "        }\n",
    "    }\n",
    "]\n",
    "```"
   ]
  },
  {
   "cell_type": "code",
   "execution_count": 11,
   "metadata": {},
   "outputs": [],
   "source": [
    "organ_type = 'liver'\n",
    "organ_query = {\n",
    "    \"query\" : {\n",
    "        \"bool\" : {\n",
    "            \"must\" : [{\n",
    "                \"match\" : {\n",
    "                    \"files.specimen_from_organism_json.organ.text\" : organ_type\n",
    "                }\n",
    "            }]\n",
    "        }\n",
    "    }\n",
    "}"
   ]
  },
  {
   "cell_type": "markdown",
   "metadata": {},
   "source": [
    "Now we can run the search with our new query:"
   ]
  },
  {
   "cell_type": "code",
   "execution_count": 12,
   "metadata": {},
   "outputs": [
    {
     "name": "stdout",
     "output_type": "stream",
     "text": [
      "post_search found 19 results\n",
      "post_search returned 10 results\n"
     ]
    }
   ],
   "source": [
    "organ_bundles = client.post_search(\n",
    "    es_query=organ_query, replica='aws', output_format='raw')\n",
    "\n",
    "print(\"post_search found %d results\"%(organ_bundles['total_hits']))\n",
    "print(\"post_search returned %d results\"%(len(organ_bundles['results'])))"
   ]
  },
  {
   "cell_type": "markdown",
   "metadata": {},
   "source": [
    "As covered in the \"Bundles Found vs Bundles Returned\" section, the results of `post_search()` are paginated. We can get the total number of matches using the `total_hits` key. We can also use the `post_search.iterate()` method to iterate over all results:\n",
    "\n",
    "```python\n",
    "for org_bundle in client.post_search.iterate(\n",
    "                            es_query = organ_query,\n",
    "                            replica = 'aws',\n",
    "                            output_format = 'raw'):\n",
    "    \n",
    "    ...\n",
    "```"
   ]
  },
  {
   "cell_type": "markdown",
   "metadata": {},
   "source": [
    "## Match Queries for Single-Condition Checks\n",
    "\n",
    "The organ query we just ran has only a single condition to match, so we can specify a `match` query instead of a `bool` query to make the query just a little simpler:"
   ]
  },
  {
   "cell_type": "code",
   "execution_count": 13,
   "metadata": {},
   "outputs": [],
   "source": [
    "def print_query_hits(query):\n",
    "    \"\"\"Utility method to run a search and print how many results were found/returned\"\"\"\n",
    "    bundles_ = client.post_search(\n",
    "        es_query = query,\n",
    "        replica = 'aws',\n",
    "        output_format = 'raw'\n",
    "    )\n",
    "    print(\"post_search() found %d results\"%(bundles_['total_hits']))\n",
    "    print(\"post_search() returned %d results\"%(len(bundles_['results'])))\n",
    "    \n",
    "def get_query_hits(query):\n",
    "    \"\"\"Utility method to run a search and pass along what is returned\"\"\"\n",
    "    return client.post_search(\n",
    "        es_query = query,\n",
    "        replica = 'aws',\n",
    "        output_format = 'raw'\n",
    "    )"
   ]
  },
  {
   "cell_type": "code",
   "execution_count": 14,
   "metadata": {},
   "outputs": [],
   "source": [
    "simpler_organ_query = {\n",
    "    \"query\" : {\n",
    "        \"match\" : {\n",
    "            \"files.specimen_from_organism_json.organ.text\" : organ_type\n",
    "        }\n",
    "    }\n",
    "}"
   ]
  },
  {
   "cell_type": "code",
   "execution_count": 15,
   "metadata": {},
   "outputs": [
    {
     "name": "stdout",
     "output_type": "stream",
     "text": [
      "post_search() found 19 results\n",
      "post_search() returned 10 results\n"
     ]
    }
   ],
   "source": [
    "print_query_hits(simpler_organ_query)"
   ]
  },
  {
   "cell_type": "markdown",
   "metadata": {},
   "source": [
    "### Match Queries vs Boolean Conditional Queries\n",
    "\n",
    "The boolean conditional method, while more complicated, is also more flexible. \n",
    "\n",
    "Unlike a boolean conditional search, we _cannot_ specify multiple match conditions, since the `query` key cannot store a list:\n",
    "\n",
    "```python\n",
    "############ THIS IS AN INVALID QUERY ############\n",
    "{\n",
    "    \"query\" : [\n",
    "        {\n",
    "            \"match\" : {\n",
    "                \"foo.bar\" : \"baz\"\n",
    "            }\n",
    "        },\n",
    "        {\n",
    "            \"match\" : {\n",
    "                \"fizz.buz\" : \"wuz\"\n",
    "            }\n",
    "        }\n",
    "    ]\n",
    "}\n",
    "```\n",
    "\n",
    "Likewise, the `match` dictionaries cannot take multiple key-value pairs:\n",
    "\n",
    "```python\n",
    "############ THIS IS AN INVALID QUERY ############\n",
    "{\n",
    "    \"query\" : {\n",
    "        \"match\" : {\n",
    "            \"foo.bar\" : \"baz\",\n",
    "            \"fizz.buz\" : \"wuz\"\n",
    "        }\n",
    "    }\n",
    "}\n",
    "```\n",
    "\n",
    "That means that queries will become long and deeply nested very quickly."
   ]
  },
  {
   "cell_type": "markdown",
   "metadata": {},
   "source": [
    "## Wildcard and Regular Expression Queries\n",
    "\n",
    "When running queries where the exact content of fields is unknown or partially known (for example, if searching for data related to the small or large intestines, or searching for filenames with a given extension). For these situations, we can use `wildcard` or `regexp` queries."
   ]
  },
  {
   "cell_type": "code",
   "execution_count": 28,
   "metadata": {},
   "outputs": [],
   "source": [
    "wc_query = {\n",
    "    \"query\": {\n",
    "        \"wildcard\": {\n",
    "            \"manifest.files.name\": {\n",
    "                \"value\": \"*.fastq.gz\"\n",
    "            }\n",
    "        }\n",
    "    }\n",
    "}"
   ]
  },
  {
   "cell_type": "code",
   "execution_count": 29,
   "metadata": {},
   "outputs": [],
   "source": [
    "re_query = {\n",
    "    \"query\": {\n",
    "        \"regexp\": {\n",
    "            \"files.biomaterial_json.biomaterials.content.target_cell_type.text\": {\n",
    "                \"value\": \".*T\\\\ cell\" # Gives us any type of T cell\n",
    "            }\n",
    "        }\n",
    "    }\n",
    "}"
   ]
  },
  {
   "cell_type": "markdown",
   "metadata": {},
   "source": [
    "### Wildcard or RegEx?\n",
    "\n",
    "Wildcard conditions are appropriate when all you need is to specify text and wildcards (e.g., \"search for files that end in .fastq.gz\").\n",
    "\n",
    "A regular expression can be more surgical and exact, and is better when you have a more specific request (e.g., \"search for bundles containing .fastq.gz files whose names consist only of digits\")."
   ]
  },
  {
   "cell_type": "markdown",
   "metadata": {},
   "source": [
    "## Filename Queries\n",
    "\n",
    "Being able to search the DSS for particular file types is important. For example, it can help to find gene expression matrices, Fastq files, and other useful data. We cover the use of the manifest metadata to add query conditions based on filenames."
   ]
  },
  {
   "cell_type": "markdown",
   "metadata": {},
   "source": [
    "### Exact Filename Matches\n",
    "\n",
    "To search for exact filenames, we can use a `match` query that looks at each bundle's manifest (the part of the metadata that stores a list of files contained in the bundle) for filenames matching a mattern:"
   ]
  },
  {
   "cell_type": "code",
   "execution_count": 42,
   "metadata": {},
   "outputs": [],
   "source": [
    "exact_filename_query = {\n",
    "    \"query\": {\n",
    "        \"match\": {\n",
    "            \"manifest.files.name\": \"SRR3562314_1.fastq.gz\"\n",
    "        }\n",
    "    }\n",
    "}"
   ]
  },
  {
   "cell_type": "code",
   "execution_count": 43,
   "metadata": {},
   "outputs": [
    {
     "name": "stdout",
     "output_type": "stream",
     "text": [
      "post_search() found 106 results\n",
      "post_search() returned 10 results\n"
     ]
    }
   ],
   "source": [
    "print_query_hits(exact_filename_query)"
   ]
  },
  {
   "cell_type": "markdown",
   "metadata": {},
   "source": [
    "While an exact filename search has its uses, it is rare that we know the exact name of the file we are looking for. Instead, we want a search type that allows for wildcard patterns."
   ]
  },
  {
   "cell_type": "markdown",
   "metadata": {},
   "source": [
    "### Wildcard Filename Matches\n",
    "\n",
    "Instead of using a `match` condition, we can use a `wildcard` condition, and find bundles with files matching a wildcard expression, like `*.fastq`."
   ]
  },
  {
   "cell_type": "code",
   "execution_count": 44,
   "metadata": {},
   "outputs": [],
   "source": [
    "fastq_query = {\n",
    "    \"query\": {\n",
    "        \"wildcard\": {\n",
    "            \"manifest.files.name\": {\n",
    "                \"value\" : \"*.fastq.gz\"\n",
    "            }\n",
    "        }\n",
    "    }\n",
    "}"
   ]
  },
  {
   "cell_type": "code",
   "execution_count": 45,
   "metadata": {},
   "outputs": [
    {
     "name": "stdout",
     "output_type": "stream",
     "text": [
      "post_search() found 2070 results\n",
      "post_search() returned 10 results\n"
     ]
    }
   ],
   "source": [
    "print_query_hits(fastq_query)"
   ]
  },
  {
   "cell_type": "markdown",
   "metadata": {},
   "source": [
    "We can then print the names of all `*.fastq.gz` files in the bundles that are returned, by accessing the manifest via the metadata:"
   ]
  },
  {
   "cell_type": "code",
   "execution_count": 46,
   "metadata": {},
   "outputs": [],
   "source": [
    "def print_fastq_files_in_bundle(bundle_result):\n",
    "    files_list_ = bundle_result['metadata']['manifest']['files']\n",
    "    print(\"\\nBundle %s:\"%(bundle_result['bundle_fqid']))\n",
    "    for f in files_list_:\n",
    "        if f['name'].endswith(\"fastq.gz\"):\n",
    "            print(\" -\", f['name'])"
   ]
  },
  {
   "cell_type": "code",
   "execution_count": 47,
   "metadata": {},
   "outputs": [
    {
     "name": "stdout",
     "output_type": "stream",
     "text": [
      "\n",
      "Bundle fff14b79-c37e-43a4-9abc-c0777314f380.2019-05-14T105022.468000Z:\n",
      " - HP1506401_H16.fastq.gz\n",
      "\n",
      "Bundle ffe67ff4-1ac3-4434-85d0-e7b5970a2400.2019-05-14T083821.437000Z:\n",
      " - SRR3563063_2.fastq.gz\n",
      " - SRR3563063_1.fastq.gz\n",
      "\n",
      "Bundle ffbfbed1-12b3-4a05-aa26-b501e8f2fc40.2019-05-16T154906.486000Z:\n",
      " - SRR6258168.fastq.gz\n",
      "\n",
      "Bundle ffa9e38f-2b2a-48ff-98d2-8c36b3f4b323.2019-07-28T064428.601282Z:\n",
      " - HCATisStabAug177376561_S1_L001_I1_001.fastq.gz\n",
      " - HCATisStabAug177376561_S1_L001_R1_001.fastq.gz\n",
      " - HCATisStabAug177376561_S1_L001_R2_001.fastq.gz\n",
      "\n",
      "Bundle ff87cae7-75ec-403d-b505-ae6d816ba424.2019-07-26T150636.196797Z:\n",
      " - SRR5295006_1.fastq.gz\n",
      " - SRR5295006_2.fastq.gz\n",
      "\n",
      "Bundle ff7ef351-f46f-4c39-b4c3-c8b33423a4c9.2019-02-11T124842.494942Z:\n",
      " - SRR3562314_1.fastq.gz\n",
      " - SRR3562314_2.fastq.gz\n",
      "\n",
      "Bundle ff776787-38e4-40bc-ba8e-7c3a3a63ef70.2019-05-15T205240.232000Z:\n",
      " - SRR5173778_2.fastq.gz\n",
      " - SRR5173778_1.fastq.gz\n",
      "\n",
      "Bundle ff5a367c-4861-4321-9c48-2595c001ec1f.2019-07-03T090632.606000Z:\n",
      " - MantonBM7_HiSeq_6_S21_L005_I1_001.fastq.gz\n",
      " - MantonBM7_HiSeq_6_S21_L005_R1_001.fastq.gz\n",
      " - MantonBM7_HiSeq_6_S21_L005_R2_001.fastq.gz\n",
      " - MantonBM7_HiSeq_6_S21_L006_I1_001.fastq.gz\n",
      " - MantonBM7_HiSeq_6_S21_L006_R1_001.fastq.gz\n",
      " - MantonBM7_HiSeq_6_S21_L006_R2_001.fastq.gz\n",
      "\n",
      "Bundle ff4c1243-de2a-44dd-887c-41306a02c124.2019-07-26T150636.195983Z:\n",
      " - SRR5294949_1.fastq.gz\n",
      " - SRR5294949_2.fastq.gz\n",
      "\n",
      "Bundle ff3adbd6-25b1-4382-bb20-763c9c492f20.2019-05-14T113351.641000Z:\n",
      " - SRR3563780_2.fastq.gz\n",
      " - SRR3563780_1.fastq.gz\n"
     ]
    }
   ],
   "source": [
    "fastq_bundles = get_query_hits(fastq_query)\n",
    "\n",
    "for bundle in fastq_bundles['results']:\n",
    "    print_fastq_files_in_bundle(bundle)"
   ]
  },
  {
   "cell_type": "markdown",
   "metadata": {},
   "source": [
    "### Using Multiple Filename Conditionals\n",
    "\n",
    "We show how to combine multiple filename conditionals together in a single query. We can search for bundles containing `*.fastq.gz` files (sequencing data) and containing `*.results` files (gene expression matrices)."
   ]
  },
  {
   "cell_type": "code",
   "execution_count": 48,
   "metadata": {},
   "outputs": [],
   "source": [
    "multifile_query = {\n",
    "    \"query\": {\n",
    "        \"bool\": {\n",
    "            \"must\": [\n",
    "                {\n",
    "                    \"wildcard\": {\n",
    "                        \"manifest.files.name\": {\n",
    "                            \"value\": \"*.fastq.gz\"\n",
    "                        }\n",
    "                    }\n",
    "                },\n",
    "                {\n",
    "                    \"wildcard\": {\n",
    "                        \"manifest.files.name\": {\n",
    "                            \"value\": \"*.results\"\n",
    "                        }\n",
    "                    }\n",
    "                }\n",
    "            ]\n",
    "        }\n",
    "    }\n",
    "}"
   ]
  },
  {
   "cell_type": "code",
   "execution_count": 49,
   "metadata": {},
   "outputs": [
    {
     "name": "stdout",
     "output_type": "stream",
     "text": [
      "post_search() found 291 results\n",
      "post_search() returned 10 results\n"
     ]
    }
   ],
   "source": [
    "print_query_hits(multifile_query)"
   ]
  },
  {
   "cell_type": "markdown",
   "metadata": {},
   "source": [
    "## Searching Across All Metadata\n",
    "\n",
    "It is possible to use the reserved ES keyword `_all` to search every metadata field. This can be used in both match queries and boolean conditional queries.\n",
    "\n",
    "If we were interested in any and all Human Cell Atlas data that mentions a particular term in any of its metadata, we can use the `_all` key in a match query to search across all metadata:"
   ]
  },
  {
   "cell_type": "code",
   "execution_count": 50,
   "metadata": {},
   "outputs": [],
   "source": [
    "term_query = {\n",
    "    \"query\": {\n",
    "        \"match\": {\n",
    "            \"_all\": \"mouse\"\n",
    "        }\n",
    "    }\n",
    "}"
   ]
  },
  {
   "cell_type": "code",
   "execution_count": 51,
   "metadata": {},
   "outputs": [
    {
     "name": "stdout",
     "output_type": "stream",
     "text": [
      "post_search() found 362 results\n",
      "post_search() returned 10 results\n"
     ]
    }
   ],
   "source": [
    "print_query_hits(term_query)"
   ]
  },
  {
   "cell_type": "markdown",
   "metadata": {},
   "source": [
    "Likewise, we can perform a boolean conditional serach to search for data relating to specific organ types and mentioning a particular term in any metadata field:"
   ]
  },
  {
   "cell_type": "code",
   "execution_count": 52,
   "metadata": {},
   "outputs": [],
   "source": [
    "term_organ_query = {\n",
    "    \"query\" : {\n",
    "        \"bool\" : {\n",
    "            \"must\" : [\n",
    "                {\n",
    "                    \"match\" : {\n",
    "                        \"files.specimen_from_organism_json.organ.text\" : organ_type\n",
    "                    }\n",
    "                },\n",
    "                {\n",
    "                    \"match\" : {\n",
    "                        \"_all\" : \"mouse\"\n",
    "                    }\n",
    "                }\n",
    "            ]\n",
    "        }\n",
    "    }\n",
    "}"
   ]
  },
  {
   "cell_type": "code",
   "execution_count": 53,
   "metadata": {},
   "outputs": [
    {
     "name": "stdout",
     "output_type": "stream",
     "text": [
      "post_search() found 9 results\n",
      "post_search() returned 9 results\n"
     ]
    }
   ],
   "source": [
    "print_query_hits(term_organ_query)"
   ]
  }
 ],
 "metadata": {
  "kernelspec": {
   "display_name": "Python 3",
   "language": "python",
   "name": "python3"
  },
  "language_info": {
   "codemirror_mode": {
    "name": "ipython",
    "version": 3
   },
   "file_extension": ".py",
   "mimetype": "text/x-python",
   "name": "python",
   "nbconvert_exporter": "python",
   "pygments_lexer": "ipython3",
   "version": "3.6.3"
  }
 },
 "nbformat": 4,
 "nbformat_minor": 2
}

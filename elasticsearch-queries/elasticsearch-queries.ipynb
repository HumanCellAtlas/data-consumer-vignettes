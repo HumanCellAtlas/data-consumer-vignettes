{
 "cells": [
  {
   "cell_type": "markdown",
   "metadata": {},
   "source": [
    "# Writing ElasticSearch Queries"
   ]
  },
  {
   "cell_type": "markdown",
   "metadata": {},
   "source": [
    "This notebook gives an overview of how to write an ElasticSearch (ES) query to programmatically find (and download) data from the Human Cell Atlas Data Store (DSS)."
   ]
  },
  {
   "cell_type": "markdown",
   "metadata": {},
   "source": [
    "All of the consumer vignette notebooks use a type of ES query called a \"request body search\", which means the search is provided as a JSON document."
   ]
  },
  {
   "cell_type": "markdown",
   "metadata": {},
   "source": [
    "## Running a Basic Query\n",
    "\n",
    "We start with the most basic query: an empty query. First we need a DSS client:"
   ]
  },
  {
   "cell_type": "code",
   "execution_count": 1,
   "metadata": {},
   "outputs": [],
   "source": [
    "import hca.dss\n",
    "client = hca.dss.DSSClient()"
   ]
  },
  {
   "cell_type": "code",
   "execution_count": 2,
   "metadata": {},
   "outputs": [],
   "source": [
    "my_query = {}"
   ]
  },
  {
   "cell_type": "markdown",
   "metadata": {},
   "source": [
    "To run this ES query, we use the [`post_search()`](#) function of the HCA Python API:"
   ]
  },
  {
   "cell_type": "code",
   "execution_count": 3,
   "metadata": {},
   "outputs": [
    {
     "name": "stdout",
     "output_type": "stream",
     "text": [
      "post_search found 704548 results\n",
      "post_search returned 100 results\n"
     ]
    }
   ],
   "source": [
    "bundles = client.post_search(es_query=my_query, replica='aws')\n",
    "\n",
    "print(\"post_search found %d results\"%(bundles['total_hits']))\n",
    "print(\"post_search returned %d results\"%(len(bundles['results'])))"
   ]
  },
  {
   "cell_type": "markdown",
   "metadata": {},
   "source": [
    "`bundles` is a dictionary, and the ElasticSearch query results are stored under the results key:"
   ]
  },
  {
   "cell_type": "code",
   "execution_count": 4,
   "metadata": {},
   "outputs": [
    {
     "name": "stdout",
     "output_type": "stream",
     "text": [
      "dict_keys(['es_query', 'results', 'total_hits'])\n"
     ]
    }
   ],
   "source": [
    "print(bundles.keys())"
   ]
  },
  {
   "cell_type": "markdown",
   "metadata": {},
   "source": [
    "### Bundles Found vs Bundles Returned\n",
    "\n",
    "When you run an ES query, there can potentially be thousands of results that match. The ES search engine paginates results, meaning it returns them in chunks. That's why the `bundles['total_count']` is larger than the  `bundles['results']` - the results are paginated, but the total count is the total number of items matching the search.\n",
    "\n",
    "Total number of bundles found is always returned with the query under the `total_hits` key:"
   ]
  },
  {
   "cell_type": "code",
   "execution_count": 5,
   "metadata": {},
   "outputs": [
    {
     "name": "stdout",
     "output_type": "stream",
     "text": [
      "704548\n"
     ]
    }
   ],
   "source": [
    "print(bundles['total_hits'])"
   ]
  },
  {
   "cell_type": "markdown",
   "metadata": {},
   "source": [
    "If we need to iterate over all search items without paginating them, we can get an iterator over all results found by ES by using the `.iterate()` method of `post_search` (as per the [HCA CLI documentation](https://hca.readthedocs.io/en/latest/api.html#hca.dss.DSSClient.post_search)):\n",
    "\n",
    "```\n",
    "for result in client.post_search.iterate(...):\n",
    "    ...\n",
    "```"
   ]
  },
  {
   "cell_type": "markdown",
   "metadata": {},
   "source": [
    "### Including Metadata in Results\n",
    "\n",
    "To get the metadata, we should include the keyword argument `output_format='raw'` with our search:"
   ]
  },
  {
   "cell_type": "code",
   "execution_count": 6,
   "metadata": {},
   "outputs": [],
   "source": [
    "bundles = client.post_search(\n",
    "    es_query=my_query, replica='aws', output_format='raw')"
   ]
  },
  {
   "cell_type": "markdown",
   "metadata": {},
   "source": [
    "We can inspect the results to determine the metadata schema, and use that to assemble more complicated queries:"
   ]
  },
  {
   "cell_type": "code",
   "execution_count": 7,
   "metadata": {},
   "outputs": [
    {
     "name": "stdout",
     "output_type": "stream",
     "text": [
      "{\n",
      "    \"bundle_fqid\": \"ffffba2d-30da-4593-9008-8b3528ee94f1.2019-08-01T200147.309074Z\",\n",
      "    \"bundle_url\": \"https://dss.data.humancellatlas.org/v1/bundles/ffffba2d-30da-4593-9008-8b3528ee94f1?version=2019-08-01T200147.309074Z&replica=aws\",\n",
      "    \"metadata\": {\n",
      "        \"files\": {\n",
      "            \"cell_suspension_json\": [\n",
      "                {\n",
      "                    \"biomaterial_core\": {\n",
      "                        \"biomaterial_description\": \"Bladder\",\n",
      "                        \"biomaterial_id\": \"G5.B000610.3_56_F.1.1_B000610_3_56_F_Bladder_\",\n",
      "                        \"ncbi_taxon_id\": [\n",
      "                            10090\n",
      "                        ]\n",
      "                    },\n",
      "                    \"describedBy\": \"https://schema.humancellatlas.org/type/biomaterial/13.1.1/cell_suspension\",\n",
      "                    \"estimated_cell_count\": 1,\n",
      "                    \"genus_species\": [\n",
      "                        {\n",
      "                            \"ontology\": \"NCBITaxon:10090\",\n",
      "                            \"ontology_label\": \"Mus musculus\",\n",
      "                            \"text\": \"Mus musculus\"\n",
      "                        }\n",
      "                    ],\n",
      "                    \"plate_based_sequencing\": {\n",
      "                        \"plate_label\": \"B000610\",\n",
      "                        \"well_label\": \"G5\"\n",
      "                    },\n",
      "                    \"provenance\": {\n",
      "                        \"document_id\": \"ba96ea2d-c7e2-4c47-9561-418a849f93d0\",\n",
      "                        \"submission_date\": \"2019-07-09T19:53:45.345Z\",\n",
      "                        \"update_date\": \"2019-07-09T23:20:55.867Z\"\n",
      "                    },\n",
      "                    \"schema_type\": \"biomaterial\"\n",
      "                }\n",
      "            ],\n",
      "            \"collection_protocol_json\": [\n",
      "                {\n",
      "                    \"describedBy\": \"https://schema.humancellatlas.org/type/protocol/biomaterial_collection/9.1.1/collection_protocol\",\n",
      "                    \"method\": {\n",
      "                        \"ontology\": \"EFO:0003856\",\n",
      "                        \"ontology_label\": \"dissection\",\n",
      "                        \"text\": \"dissection\"\n",
      "                    },\n",
      "                    \"protocol_core\": {\n",
      "                        \"protocol_description\": \"Bladders were cut above the bladder neck and inverted. The epithelial layer and associated stroma were mechanically teased away from the bladder muscle using forceps, and the epithelial/stromal sheet was then minced with butterfly shears.\",\n",
      "                        \"protocol_id\": \"bladder_collection_protocol\",\n",
      "                        \"protocol_name\": \"bladder collection protocol\"\n",
      "                    },\n",
      "                    \"provenance\": {\n",
      "                        \"document_id\": \"785bd27d-558f-4684-80cf-d04b7790be68\",\n",
      "                        \"submission_date\": \"2019-07-09T21:04:28.196Z\",\n",
      "                        \"update_date\": \"2019-07-09T21:04:33.277Z\"\n",
      "                    },\n",
      "                    \"schema_type\": \"protocol\"\n",
      "                }\n",
      "            ],\n",
      "            \"donor_organism_json\": [\n",
      "                {\n",
      "                    \"biomaterial_core\": {\n",
      "                        \"biomaterial_description\": \"Mouse\",\n",
      "                        \"biomaterial_id\": \"3_56_F\",\n",
      "                        \"biomaterial_name\": \"Mouse\",\n",
      "                        \"ncbi_taxon_id\": [\n",
      "                            10090\n",
      "                        ]\n",
      "                    },\n",
      "                    \"death\": {\n",
      "                        \"cause_of_death\": \"euthanasia\"\n",
      "                    },\n",
      "                    \"describedBy\": \"https://schema.humancellatlas.org/type/biomaterial/15.3.2/donor_organism\",\n",
      "                    \"development_stage\": {\n",
      "                        \"ontology\": \"EFO:0001272\",\n",
      "                        \"ontology_label\": \"adult\",\n",
      "                        \"text\": \"adult\"\n",
      "                    },\n",
      "                    \"diseases\": [\n",
      "                        {\n",
      "                            \"ontology\": \"PATO:0000461\",\n",
      "                            \"ontology_label\": \"normal\",\n",
      "                            \"text\": \"normal\"\n",
      "                        }\n",
      "                    ],\n",
      "                    \"genus_species\": [\n",
      "                        {\n",
      "                            \"ontology\": \"NCBITaxon:10090\",\n",
      "                            \"ontology_label\": \"Mus musculus\",\n",
      "                            \"text\": \"Mus musculus\"\n",
      "                        }\n",
      "                    ],\n",
      "                    \"is_living\": \"no\",\n",
      "                    \"mouse_specific\": {\n",
      "                        \"strain\": [\n",
      "                            {\n",
      "                                \"ontology\": \"EFO:0004472\",\n",
      "                                \"ontology_label\": \"C57BL/6\",\n",
      "                                \"text\": \"c57bl/6\"\n",
      "                            }\n",
      "                        ]\n",
      "                    },\n",
      "                    \"organism_age\": \"3\",\n",
      "                    \"organism_age_unit\": {\n",
      "                        \"ontology\": \"UO:0000035\",\n",
      "                        \"ontology_label\": \"month\",\n",
      "                        \"text\": \"month\"\n",
      "                    },\n",
      "                    \"provenance\": {\n",
      "                        \"document_id\": \"278b968f-13eb-4983-995a-4ba08771248a\",\n",
      "                        \"submission_date\": \"2019-07-09T19:41:33.381Z\",\n",
      "                        \"update_date\": \"2019-07-09T22:13:23.206Z\"\n",
      "                    },\n",
      "                    \"schema_type\": \"biomaterial\",\n",
      "                    \"sex\": \"female\"\n",
      "                }\n",
      "            ],\n",
      "            \"enrichment_protocol_json\": [\n",
      "                {\n",
      "                    \"describedBy\": \"https://schema.humancellatlas.org/type/protocol/biomaterial_collection/3.0.1/enrichment_protocol\",\n",
      "                    \"method\": {\n",
      "                        \"ontology\": \"EFO:0009108\",\n",
      "                        \"ontology_label\": \"fluorescence-activated cell sorting\",\n",
      "                        \"text\": \"fluorescence-activated cell sorting\"\n",
      "                    },\n",
      "                    \"protocol_core\": {\n",
      "                        \"protocol_description\": \"Cells were sorted into 3 bins: EpCAM+SCA-1- epithelial cells, 648 EpCAM+ SCA-1+ epithelial cells, and EpCAM- SCA-1+ mesenchymal cells.\",\n",
      "                        \"protocol_id\": \"bladder_enrichment_protocol\",\n",
      "                        \"protocol_name\": \"bladder enrichment protocol\"\n",
      "                    },\n",
      "                    \"provenance\": {\n",
      "                        \"document_id\": \"56eccd10-1cb0-46b5-8008-5f306c5ab6d4\",\n",
      "                        \"submission_date\": \"2019-07-09T21:04:28.783Z\",\n",
      "                        \"update_date\": \"2019-07-09T21:04:33.854Z\"\n",
      "                    },\n",
      "                    \"schema_type\": \"protocol\"\n",
      "                }\n",
      "            ],\n",
      "            \"library_preparation_protocol_json\": [\n",
      "                {\n",
      "                    \"describedBy\": \"https://schema.humancellatlas.org/type/protocol/sequencing/6.1.1/library_preparation_protocol\",\n",
      "                    \"end_bias\": \"full length\",\n",
      "                    \"input_nucleic_acid_molecule\": {\n",
      "                        \"ontology\": \"OBI:0000869\",\n",
      "                        \"ontology_label\": \"polyA RNA\",\n",
      "                        \"text\": \"polyA RNA\"\n",
      "                    },\n",
      "                    \"library_construction_method\": {\n",
      "                        \"ontology\": \"EFO:0008931\",\n",
      "                        \"ontology_label\": \"Smart-seq2\",\n",
      "                        \"text\": \"Smart-seq2\"\n",
      "                    },\n",
      "                    \"nucleic_acid_source\": \"single cell\",\n",
      "                    \"protocol_core\": {\n",
      "                        \"protocol_description\": \"smart-seq2\",\n",
      "                        \"protocol_id\": \"library_preparation_1\",\n",
      "                        \"protocol_name\": \"Smart-seq2\"\n",
      "                    },\n",
      "                    \"provenance\": {\n",
      "                        \"document_id\": \"47d78ecd-e946-4591-9ed4-acbbdbdf82a1\",\n",
      "                        \"submission_date\": \"2019-07-09T21:04:28.837Z\",\n",
      "                        \"update_date\": \"2019-07-09T21:04:34.114Z\"\n",
      "                    },\n",
      "                    \"schema_type\": \"protocol\",\n",
      "                    \"strand\": \"unstranded\"\n",
      "                }\n",
      "            ],\n",
      "            \"links_json\": [\n",
      "                {\n",
      "                    \"describedBy\": \"https://schema.humancellatlas.org/system/1.1.5/links\",\n",
      "                    \"links\": [\n",
      "                        {\n",
      "                            \"input_type\": \"biomaterial\",\n",
      "                            \"inputs\": [\n",
      "                                \"ba96ea2d-c7e2-4c47-9561-418a849f93d0\"\n",
      "                            ],\n",
      "                            \"output_type\": \"file\",\n",
      "                            \"outputs\": [\n",
      "                                \"7726d628-118b-451c-83dc-871a7ea9b1ca\",\n",
      "                                \"437ab7ab-3799-462f-8ec5-c2865555daa3\"\n",
      "                            ],\n",
      "                            \"process\": \"c144c8cc-3048-4fda-a3e0-fdca1743aa62\",\n",
      "                            \"protocols\": [\n",
      "                                {\n",
      "                                    \"protocol_id\": \"47d78ecd-e946-4591-9ed4-acbbdbdf82a1\",\n",
      "                                    \"protocol_type\": \"library_preparation_protocol\"\n",
      "                                },\n",
      "                                {\n",
      "                                    \"protocol_id\": \"571cc0c7-4dc2-443b-93f4-0ce4af08cf6d\",\n",
      "                                    \"protocol_type\": \"sequencing_protocol\"\n",
      "                                }\n",
      "                            ]\n",
      "                        },\n",
      "                        {\n",
      "                            \"input_type\": \"biomaterial\",\n",
      "                            \"inputs\": [\n",
      "                                \"2436de6c-82fa-4434-8cec-f73cde7b01cb\"\n",
      "                            ],\n",
      "                            \"output_type\": \"biomaterial\",\n",
      "                            \"outputs\": [\n",
      "                                \"ba96ea2d-c7e2-4c47-9561-418a849f93d0\"\n",
      "                            ],\n",
      "                            \"process\": \"bd0a00e8-eeed-4c04-abd5-7b3212fa981c\",\n",
      "                            \"protocols\": []\n",
      "                        },\n",
      "                        {\n",
      "                            \"input_type\": \"biomaterial\",\n",
      "                            \"inputs\": [\n",
      "                                \"278b968f-13eb-4983-995a-4ba08771248a\"\n",
      "                            ],\n",
      "                            \"output_type\": \"biomaterial\",\n",
      "                            \"outputs\": [\n",
      "                                \"2436de6c-82fa-4434-8cec-f73cde7b01cb\"\n",
      "                            ],\n",
      "                            \"process\": \"fce3ec06-2d04-4355-a8d1-ab25cfaf9507\",\n",
      "                            \"protocols\": [\n",
      "                                {\n",
      "                                    \"protocol_id\": \"785bd27d-558f-4684-80cf-d04b7790be68\",\n",
      "                                    \"protocol_type\": \"collection_protocol\"\n",
      "                                },\n",
      "                                {\n",
      "                                    \"protocol_id\": \"56eccd10-1cb0-46b5-8008-5f306c5ab6d4\",\n",
      "                                    \"protocol_type\": \"enrichment_protocol\"\n",
      "                                }\n",
      "                            ]\n",
      "                        }\n",
      "                    ],\n",
      "                    \"schema_type\": \"link_bundle\",\n",
      "                    \"schema_version\": \"1.1.5\"\n",
      "                }\n",
      "            ],\n",
      "            \"process_json\": [\n",
      "                {\n",
      "                    \"describedBy\": \"https://schema.humancellatlas.org/type/process/9.1.1/process\",\n",
      "                    \"process_core\": {\n",
      "                        \"process_id\": \"Process_41223\"\n",
      "                    },\n",
      "                    \"provenance\": {\n",
      "                        \"document_id\": \"c144c8cc-3048-4fda-a3e0-fdca1743aa62\",\n",
      "                        \"submission_date\": \"2019-07-09T21:47:11.052Z\",\n",
      "                        \"update_date\": \"2019-07-10T00:50:13.668Z\"\n",
      "                    },\n",
      "                    \"schema_type\": \"process\"\n",
      "                },\n",
      "                {\n",
      "                    \"describedBy\": \"https://schema.humancellatlas.org/type/process/9.1.1/process\",\n",
      "                    \"process_core\": {\n",
      "                        \"process_id\": \"process_id_33123\"\n",
      "                    },\n",
      "                    \"provenance\": {\n",
      "                        \"document_id\": \"bd0a00e8-eeed-4c04-abd5-7b3212fa981c\",\n",
      "                        \"submission_date\": \"2019-07-09T21:19:38.253Z\",\n",
      "                        \"update_date\": \"2019-07-10T00:12:50.697Z\"\n",
      "                    },\n",
      "                    \"schema_type\": \"process\"\n",
      "                },\n",
      "                {\n",
      "                    \"describedBy\": \"https://schema.humancellatlas.org/type/process/9.1.1/process\",\n",
      "                    \"process_core\": {\n",
      "                        \"process_id\": \"process_id_136\"\n",
      "                    },\n",
      "                    \"provenance\": {\n",
      "                        \"document_id\": \"fce3ec06-2d04-4355-a8d1-ab25cfaf9507\",\n",
      "                        \"submission_date\": \"2019-07-09T21:04:32.382Z\",\n",
      "                        \"update_date\": \"2019-07-10T00:08:38.833Z\"\n",
      "                    },\n",
      "                    \"schema_type\": \"process\"\n",
      "                }\n",
      "            ],\n",
      "            \"project_json\": [\n",
      "                {\n",
      "                    \"contributors\": [\n",
      "                        {\n",
      "                            \"address\": \"499 Illinois St San Francisco CA 94158\",\n",
      "                            \"corresponding_contributor\": true,\n",
      "                            \"country\": \"USA\",\n",
      "                            \"email\": \"spyros.darmanis@czbiohub.org\",\n",
      "                            \"institution\": \"Biohub\",\n",
      "                            \"laboratory\": \"Quake\",\n",
      "                            \"name\": \"Spyros,,Darmanis\",\n",
      "                            \"project_role\": {\n",
      "                                \"ontology\": \"EFO:0009736\",\n",
      "                                \"ontology_label\": \"principal investigator\",\n",
      "                                \"text\": \"principal investigator\"\n",
      "                            }\n",
      "                        },\n",
      "                        {\n",
      "                            \"corresponding_contributor\": false,\n",
      "                            \"country\": \"USA\",\n",
      "                            \"email\": \"cjvillar@ucsc.edu\",\n",
      "                            \"institution\": \"University of California at Santa Cruz\",\n",
      "                            \"name\": \"Christopher,,Villarreal\",\n",
      "                            \"project_role\": {\n",
      "                                \"ontology\": \"EFO:0009737\",\n",
      "                                \"ontology_label\": \"data curator\",\n",
      "                                \"text\": \"Human Cell Atlas wrangler\"\n",
      "                            }\n",
      "                        },\n",
      "                        {\n",
      "                            \"address\": \"499 Illinois St San Francisco CA 94158\",\n",
      "                            \"corresponding_contributor\": true,\n",
      "                            \"country\": \"USA\",\n",
      "                            \"email\": \"angela.pisco@czbiohub.org\",\n",
      "                            \"institution\": \"Biohub\",\n",
      "                            \"name\": \"Pisco,,Angela\",\n",
      "                            \"project_role\": {\n",
      "                                \"ontology\": \"EFO:0009742\",\n",
      "                                \"ontology_label\": \"computational scientist\",\n",
      "                                \"text\": \"computational scientist\"\n",
      "                            }\n",
      "                        }\n",
      "                    ],\n",
      "                    \"describedBy\": \"https://schema.humancellatlas.org/type/project/14.0.2/project\",\n",
      "                    \"funders\": [\n",
      "                        {\n",
      "                            \"grant_id\": \"DP1-AG053015\",\n",
      "                            \"grant_title\": \"NIH Grant\",\n",
      "                            \"organization\": \"National Institutes of Health (NIH)\"\n",
      "                        },\n",
      "                        {\n",
      "                            \"grant_id\": \"P30-DK116074\",\n",
      "                            \"grant_title\": \"Stanford Islet Research Core\",\n",
      "                            \"organization\": \"Stanford Diabetes Research Center\"\n",
      "                        }\n",
      "                    ],\n",
      "                    \"geo_series_accessions\": [\n",
      "                        \"GSE109774\"\n",
      "                    ],\n",
      "                    \"insdc_project_accessions\": [\n",
      "                        \"SRP131661\"\n",
      "                    ],\n",
      "                    \"insdc_study_accessions\": [\n",
      "                        \"PRJNA432002\"\n",
      "                    ],\n",
      "                    \"project_core\": {\n",
      "                        \"project_description\": \"We have created a compendium of single cell transcriptome data from the model\\norganism Mus musculus comprising more than 100,000 cells from 20 organs and\\ntissues. These data represent a new resource for cell biology, revealing gene\\nexpression in poorly characterized cell populations and allowing for direct and\\ncontrolled comparison of gene expression in cell types shared between tissues, such\\nas T-lymphocytes and endothelial cells from distinct anatomical locations. Two\\ndistinct technical approaches were used for most tissues: one approach, microfluidic\\ndroplet-based 3\\u2019-end counting, enabled the survey of thousands of cells at relatively\\nlow coverage, while the other, FACS-based full length transcript analysis, enabled\\ncharacterization of cell types with high sensitivity and coverage. The cumulative\\ndata provide the foundation for an atlas of transcriptomic cell biology.\",\n",
      "                        \"project_short_name\": \"Tabula Muris\",\n",
      "                        \"project_title\": \"Tabula Muris: Transcriptomic characterization of 20 organs and tissues from Mus musculus at single cell resolution\"\n",
      "                    },\n",
      "                    \"provenance\": {\n",
      "                        \"document_id\": \"e0009214-c0a0-4a7b-96e2-d6a83e966ce0\",\n",
      "                        \"submission_date\": \"2019-07-09T19:41:33.363Z\",\n",
      "                        \"update_date\": \"2019-07-09T22:13:20.395Z\"\n",
      "                    },\n",
      "                    \"publications\": [\n",
      "                        {\n",
      "                            \"authors\": [\n",
      "                                \"The Tabula Muris Consortium, Quake SR,  Wyss-Coray T, Darmanis S\"\n",
      "                            ],\n",
      "                            \"doi\": \"10.1101/237446\",\n",
      "                            \"title\": \"Transcriptomic characterization of 20 organs and tissues from mouse at single cell resolution creates a Tabula Muris\",\n",
      "                            \"url\": \"https://www.biorxiv.org/content/early/2018/03/29/237446\"\n",
      "                        },\n",
      "                        {\n",
      "                            \"authors\": [\n",
      "                                \"The Tabula Muris Consortium, Quake SR,  Wyss-Coray T, Darmanis S\"\n",
      "                            ],\n",
      "                            \"doi\": \"10.1038/s41586-018-0590-4\",\n",
      "                            \"pmid\": 30283141,\n",
      "                            \"title\": \"Single-cell transcriptomics of 20 mouse organs creates a Tabula Muris\",\n",
      "                            \"url\": \"https://www.nature.com/articles/s41586-018-0590-4\"\n",
      "                        }\n",
      "                    ],\n",
      "                    \"schema_type\": \"project\",\n",
      "                    \"supplementary_links\": [\n",
      "                        \"ftp://ftp.ncbi.nlm.nih.gov/geo/series/GSE109nnn/GSE109774/suppl/GSE109774_Bladder.tar.gz\",\n",
      "                        \"ftp://ftp.ncbi.nlm.nih.gov/geo/series/GSE109nnn/GSE109774/suppl/GSE109774_Brain_Microglia.tar.gz\",\n",
      "                        \"ftp://ftp.ncbi.nlm.nih.gov/geo/series/GSE109nnn/GSE109774/suppl/GSE109774_Brain_Neurons.tar.gz\",\n",
      "                        \"ftp://ftp.ncbi.nlm.nih.gov/geo/series/GSE109nnn/GSE109774/suppl/GSE109774_Colon.tar.gz\",\n",
      "                        \"ftp://ftp.ncbi.nlm.nih.gov/geo/series/GSE109nnn/GSE109774/suppl/GSE109774_Fat.tar.gz\",\n",
      "                        \"ftp://ftp.ncbi.nlm.nih.gov/geo/series/GSE109nnn/GSE109774/suppl/GSE109774_Heart.tar.gz\",\n",
      "                        \"ftp://ftp.ncbi.nlm.nih.gov/geo/series/GSE109nnn/GSE109774/suppl/GSE109774_Kidney.tar.gz\",\n",
      "                        \"ftp://ftp.ncbi.nlm.nih.gov/geo/series/GSE109nnn/GSE109774/suppl/GSE109774_Liver.tar.gz\",\n",
      "                        \"ftp://ftp.ncbi.nlm.nih.gov/geo/series/GSE109nnn/GSE109774/suppl/GSE109774_Lung.tar.gz\",\n",
      "                        \"ftp://ftp.ncbi.nlm.nih.gov/geo/series/GSE109nnn/GSE109774/suppl/GSE109774_Mammary.tar.gz\",\n",
      "                        \"ftp://ftp.ncbi.nlm.nih.gov/geo/series/GSE109nnn/GSE109774/suppl/GSE109774_Marrow.tar.gz\",\n",
      "                        \"ftp://ftp.ncbi.nlm.nih.gov/geo/series/GSE109nnn/GSE109774/suppl/GSE109774_Muscle.tar.gz\",\n",
      "                        \"ftp://ftp.ncbi.nlm.nih.gov/geo/series/GSE109nnn/GSE109774/suppl/GSE109774_Pancreas.tar.gz\",\n",
      "                        \"ftp://ftp.ncbi.nlm.nih.gov/geo/series/GSE109nnn/GSE109774/suppl/GSE109774_RAW.tar\",\n",
      "                        \"ftp://ftp.ncbi.nlm.nih.gov/geo/series/GSE109nnn/GSE109774/suppl/GSE109774_Skin.tar.gz\",\n",
      "                        \"ftp://ftp.ncbi.nlm.nih.gov/geo/series/GSE109nnn/GSE109774/suppl/GSE109774_Spleen.tar.gz\",\n",
      "                        \"ftp://ftp.ncbi.nlm.nih.gov/geo/series/GSE109nnn/GSE109774/suppl/GSE109774_Thymus.tar.gz\",\n",
      "                        \"ftp://ftp.ncbi.nlm.nih.gov/geo/series/GSE109nnn/GSE109774/suppl/GSE109774_Tongue.tar.gz\",\n",
      "                        \"ftp://ftp.ncbi.nlm.nih.gov/geo/series/GSE109nnn/GSE109774/suppl/GSE109774_Trachea.tar.gz\",\n",
      "                        \"ftp://ftp.ncbi.nlm.nih.gov/geo/series/GSE109nnn/GSE109774/suppl/GSE109774_list_of_SRR_accessions_and_raw_filenames.txt.gz\"\n",
      "                    ]\n",
      "                }\n",
      "            ],\n",
      "            \"sequence_file_json\": [\n",
      "                {\n",
      "                    \"describedBy\": \"https://schema.humancellatlas.org/type/file/9.1.0/sequence_file\",\n",
      "                    \"file_core\": {\n",
      "                        \"file_name\": \"SRR6520067_1.fastq.gz\",\n",
      "                        \"format\": \"fastq.gz\"\n",
      "                    },\n",
      "                    \"insdc_run_accessions\": [\n",
      "                        \"SRR6520067\"\n",
      "                    ],\n",
      "                    \"library_prep_id\": \"Rep_id_22197\",\n",
      "                    \"provenance\": {\n",
      "                        \"document_id\": \"7726d628-118b-451c-83dc-871a7ea9b1ca\",\n",
      "                        \"submission_date\": \"2019-07-09T20:26:42.231Z\",\n",
      "                        \"update_date\": \"2019-07-10T15:24:55.421Z\"\n",
      "                    },\n",
      "                    \"read_index\": \"read1\",\n",
      "                    \"schema_type\": \"file\"\n",
      "                },\n",
      "                {\n",
      "                    \"describedBy\": \"https://schema.humancellatlas.org/type/file/9.1.0/sequence_file\",\n",
      "                    \"file_core\": {\n",
      "                        \"file_name\": \"SRR6520067_2.fastq.gz\",\n",
      "                        \"format\": \"fastq.gz\"\n",
      "                    },\n",
      "                    \"insdc_run_accessions\": [\n",
      "                        \"SRR6520067\"\n",
      "                    ],\n",
      "                    \"library_prep_id\": \"Rep_id_22197\",\n",
      "                    \"provenance\": {\n",
      "                        \"document_id\": \"437ab7ab-3799-462f-8ec5-c2865555daa3\",\n",
      "                        \"submission_date\": \"2019-07-09T20:26:42.238Z\",\n",
      "                        \"update_date\": \"2019-07-10T15:25:30.419Z\"\n",
      "                    },\n",
      "                    \"read_index\": \"read2\",\n",
      "                    \"schema_type\": \"file\"\n",
      "                }\n",
      "            ],\n",
      "            \"sequencing_protocol_json\": [\n",
      "                {\n",
      "                    \"describedBy\": \"https://schema.humancellatlas.org/type/protocol/sequencing/10.0.2/sequencing_protocol\",\n",
      "                    \"instrument_manufacturer_model\": {\n",
      "                        \"ontology\": \"EFO:0008637\",\n",
      "                        \"ontology_label\": \"Illumina NovaSeq 6000\",\n",
      "                        \"text\": \"Illumina NovaSeq 6000\"\n",
      "                    },\n",
      "                    \"method\": {\n",
      "                        \"ontology\": \"EFO:0008441\",\n",
      "                        \"ontology_label\": \"full length single cell RNA sequencing\",\n",
      "                        \"text\": \"full length single cell RNA sequencing\"\n",
      "                    },\n",
      "                    \"paired_end\": true,\n",
      "                    \"protocol_core\": {\n",
      "                        \"protocol_description\": \"Libraries were sequenced on an Illumina NovaSeq 6000\",\n",
      "                        \"protocol_id\": \"sequencing_protocol_1\",\n",
      "                        \"protocol_name\": \"SmartSeq2\"\n",
      "                    },\n",
      "                    \"provenance\": {\n",
      "                        \"document_id\": \"571cc0c7-4dc2-443b-93f4-0ce4af08cf6d\",\n",
      "                        \"submission_date\": \"2019-07-09T21:04:28.843Z\",\n",
      "                        \"update_date\": \"2019-07-09T21:04:34.377Z\"\n",
      "                    },\n",
      "                    \"schema_type\": \"protocol\"\n",
      "                }\n",
      "            ],\n",
      "            \"specimen_from_organism_json\": [\n",
      "                {\n",
      "                    \"biomaterial_core\": {\n",
      "                        \"biomaterial_description\": \"Bladder\",\n",
      "                        \"biomaterial_id\": \"3_56_F_Bladder\",\n",
      "                        \"biomaterial_name\": \"3_56_F_Bladder\",\n",
      "                        \"ncbi_taxon_id\": [\n",
      "                            10090\n",
      "                        ]\n",
      "                    },\n",
      "                    \"describedBy\": \"https://schema.humancellatlas.org/type/biomaterial/10.2.1/specimen_from_organism\",\n",
      "                    \"genus_species\": [\n",
      "                        {\n",
      "                            \"ontology\": \"NCBITaxon:10090\",\n",
      "                            \"ontology_label\": \"Mus musculus\",\n",
      "                            \"text\": \"Mus musculus\"\n",
      "                        }\n",
      "                    ],\n",
      "                    \"organ\": {\n",
      "                        \"ontology\": \"UBERON:0018707\",\n",
      "                        \"ontology_label\": \"bladder organ\",\n",
      "                        \"text\": \"bladder\"\n",
      "                    },\n",
      "                    \"provenance\": {\n",
      "                        \"document_id\": \"2436de6c-82fa-4434-8cec-f73cde7b01cb\",\n",
      "                        \"submission_date\": \"2019-07-09T19:41:34.179Z\",\n",
      "                        \"update_date\": \"2019-07-09T22:37:46.665Z\"\n",
      "                    },\n",
      "                    \"schema_type\": \"biomaterial\"\n",
      "                }\n",
      "            ]\n",
      "        },\n",
      "        \"manifest\": {\n",
      "            \"creator_uid\": 8008,\n",
      "            \"files\": [\n",
      "                {\n",
      "                    \"content-type\": \"application/json; dcp-type=\\\"metadata/biomaterial\\\"\",\n",
      "                    \"crc32c\": \"e51ced73\",\n",
      "                    \"indexed\": true,\n",
      "                    \"name\": \"cell_suspension_0.json\",\n",
      "                    \"s3-etag\": \"4b126057ce7abdc231255a8bf7784f8a\",\n",
      "                    \"sha1\": \"5dc657584a0fb00b1a918e0ecfc4701edf569ca1\",\n",
      "                    \"sha256\": \"775d6a9a562a6e818a3de5741c48dfc17d304b942f448da760b3996a139a5876\",\n",
      "                    \"size\": 841,\n",
      "                    \"uuid\": \"ba96ea2d-c7e2-4c47-9561-418a849f93d0\",\n",
      "                    \"version\": \"2019-07-09T232055.867000Z\"\n",
      "                },\n",
      "                {\n",
      "                    \"content-type\": \"application/json; dcp-type=\\\"metadata/biomaterial\\\"\",\n",
      "                    \"crc32c\": \"6c24cc69\",\n",
      "                    \"indexed\": true,\n",
      "                    \"name\": \"specimen_from_organism_0.json\",\n",
      "                    \"s3-etag\": \"de2f1daec3d270806b2d5590eabb3dfc\",\n",
      "                    \"sha1\": \"077305bae96361f9cd453b2066ffb10d4fb6977f\",\n",
      "                    \"sha256\": \"40b34fd3f409255888f3065b7d1f9735538713eac567e647d74043dc44eb4777\",\n",
      "                    \"size\": 861,\n",
      "                    \"uuid\": \"2436de6c-82fa-4434-8cec-f73cde7b01cb\",\n",
      "                    \"version\": \"2019-07-09T223746.665000Z\"\n",
      "                },\n",
      "                {\n",
      "                    \"content-type\": \"application/json; dcp-type=\\\"metadata/biomaterial\\\"\",\n",
      "                    \"crc32c\": \"811a3cdb\",\n",
      "                    \"indexed\": true,\n",
      "                    \"name\": \"donor_organism_0.json\",\n",
      "                    \"s3-etag\": \"8118121f4b1c02b91ff0ae926c42d2c3\",\n",
      "                    \"sha1\": \"1626d0ce2ef617c73da9f5c860ceb7fe718031bf\",\n",
      "                    \"sha256\": \"8b75452e8ac0c2cb92c45932e9e41ff2790e1c228651eeb59ecc1e22781a313d\",\n",
      "                    \"size\": 1455,\n",
      "                    \"uuid\": \"278b968f-13eb-4983-995a-4ba08771248a\",\n",
      "                    \"version\": \"2019-07-09T221323.206000Z\"\n",
      "                },\n",
      "                {\n",
      "                    \"content-type\": \"application/json; dcp-type=\\\"metadata/file\\\"\",\n",
      "                    \"crc32c\": \"a4e2caa6\",\n",
      "                    \"indexed\": true,\n",
      "                    \"name\": \"sequence_file_0.json\",\n",
      "                    \"s3-etag\": \"d8e118f824e84c242ce82b1bd4a3519d\",\n",
      "                    \"sha1\": \"e0132cee448ae9afccd7158ea30f19d0c2b17aa1\",\n",
      "                    \"sha256\": \"548bd20983d6deed7c94e254057f0c9ffac73210530b4a3117160ad56edcf546\",\n",
      "                    \"size\": 535,\n",
      "                    \"uuid\": \"7726d628-118b-451c-83dc-871a7ea9b1ca\",\n",
      "                    \"version\": \"2019-07-10T152455.421000Z\"\n",
      "                },\n",
      "                {\n",
      "                    \"content-type\": \"application/json; dcp-type=\\\"metadata/file\\\"\",\n",
      "                    \"crc32c\": \"ab576f66\",\n",
      "                    \"indexed\": true,\n",
      "                    \"name\": \"sequence_file_1.json\",\n",
      "                    \"s3-etag\": \"45a137fe58ab4c4e3e4df1d29bc13404\",\n",
      "                    \"sha1\": \"d5eab18dd0237627a9e293de5dad0c9939a414ee\",\n",
      "                    \"sha256\": \"eae7639657dfc802fa1a713411ef9c7defef1db8fb3d479a37ee5d6ac0c0f51c\",\n",
      "                    \"size\": 535,\n",
      "                    \"uuid\": \"437ab7ab-3799-462f-8ec5-c2865555daa3\",\n",
      "                    \"version\": \"2019-07-10T152530.419000Z\"\n",
      "                },\n",
      "                {\n",
      "                    \"content-type\": \"application/json; dcp-type=\\\"metadata/project\\\"\",\n",
      "                    \"crc32c\": \"e2b599b7\",\n",
      "                    \"indexed\": true,\n",
      "                    \"name\": \"project_0.json\",\n",
      "                    \"s3-etag\": \"a27d8980b701b4fe7a551190f8540ee0\",\n",
      "                    \"sha1\": \"c3cc63ac906c3d04f23395a367a7383059fa9e3c\",\n",
      "                    \"sha256\": \"ba4df5b43e0bdff717f6d81b5aaaa941987fb50d3a91498b47a49353abbbedee\",\n",
      "                    \"size\": 6366,\n",
      "                    \"uuid\": \"e0009214-c0a0-4a7b-96e2-d6a83e966ce0\",\n",
      "                    \"version\": \"2019-07-09T221320.395000Z\"\n",
      "                },\n",
      "                {\n",
      "                    \"content-type\": \"application/json; dcp-type=\\\"metadata/protocol\\\"\",\n",
      "                    \"crc32c\": \"48b46ee4\",\n",
      "                    \"indexed\": true,\n",
      "                    \"name\": \"library_preparation_protocol_0.json\",\n",
      "                    \"s3-etag\": \"178201e2ddfcfaf1f83a1cc93746ce5a\",\n",
      "                    \"sha1\": \"a4ce5f58c2c2365dc7db0d1f0dcc8054775d7746\",\n",
      "                    \"sha256\": \"d5ffbc2575c154d7ca0ee84cdc778dfd4589549440222119b4cfa122079d58f3\",\n",
      "                    \"size\": 901,\n",
      "                    \"uuid\": \"47d78ecd-e946-4591-9ed4-acbbdbdf82a1\",\n",
      "                    \"version\": \"2019-07-09T210434.114000Z\"\n",
      "                },\n",
      "                {\n",
      "                    \"content-type\": \"application/json; dcp-type=\\\"metadata/protocol\\\"\",\n",
      "                    \"crc32c\": \"7f5baa13\",\n",
      "                    \"indexed\": true,\n",
      "                    \"name\": \"sequencing_protocol_0.json\",\n",
      "                    \"s3-etag\": \"59e4ed4ecdacb4bc9662ff4304f6ba91\",\n",
      "                    \"sha1\": \"71bc2e75cea6b3ccada9f8fc784f46225127708e\",\n",
      "                    \"sha256\": \"b7b21fc6edc81738145dbda7c41d8b1da27f80277f5f07cc00f5c72e16ef99e7\",\n",
      "                    \"size\": 918,\n",
      "                    \"uuid\": \"571cc0c7-4dc2-443b-93f4-0ce4af08cf6d\",\n",
      "                    \"version\": \"2019-07-09T210434.377000Z\"\n",
      "                },\n",
      "                {\n",
      "                    \"content-type\": \"application/json; dcp-type=\\\"metadata/protocol\\\"\",\n",
      "                    \"crc32c\": \"2f49c4de\",\n",
      "                    \"indexed\": true,\n",
      "                    \"name\": \"collection_protocol_0.json\",\n",
      "                    \"s3-etag\": \"2836afecc83df6dec25887fcc02f7128\",\n",
      "                    \"sha1\": \"5de3b743ca7bc4b88bbe6fce8beae37466403a4d\",\n",
      "                    \"sha256\": \"f76e626daeb3c70862d1ade728bbe054be238e2808a3f0fb9214dbd8b9aa43a0\",\n",
      "                    \"size\": 887,\n",
      "                    \"uuid\": \"785bd27d-558f-4684-80cf-d04b7790be68\",\n",
      "                    \"version\": \"2019-07-09T210433.277000Z\"\n",
      "                },\n",
      "                {\n",
      "                    \"content-type\": \"application/json; dcp-type=\\\"metadata/protocol\\\"\",\n",
      "                    \"crc32c\": \"4c06f727\",\n",
      "                    \"indexed\": true,\n",
      "                    \"name\": \"enrichment_protocol_0.json\",\n",
      "                    \"s3-etag\": \"5321084af0c4cea1e51dbb5cd67b2181\",\n",
      "                    \"sha1\": \"03f211eae58453b067e393df92d2c7902c02a84a\",\n",
      "                    \"sha256\": \"fcc4b43afe19a65a6b90989e8a088e595511326878903a43fcea05826700f67e\",\n",
      "                    \"size\": 833,\n",
      "                    \"uuid\": \"56eccd10-1cb0-46b5-8008-5f306c5ab6d4\",\n",
      "                    \"version\": \"2019-07-09T210433.854000Z\"\n",
      "                },\n",
      "                {\n",
      "                    \"content-type\": \"application/json; dcp-type=\\\"metadata/process\\\"\",\n",
      "                    \"crc32c\": \"fea10f32\",\n",
      "                    \"indexed\": true,\n",
      "                    \"name\": \"process_0.json\",\n",
      "                    \"s3-etag\": \"3934c3a428bad588f9cb789dd922531d\",\n",
      "                    \"sha1\": \"0b59566e2f18278a3c4b43a2e7df89d0bfa5ab79\",\n",
      "                    \"sha256\": \"770dcd9f2a63998d50a8a5947c7c36492a2c26b9e5c9fe6e55949f86cd940c38\",\n",
      "                    \"size\": 377,\n",
      "                    \"uuid\": \"c144c8cc-3048-4fda-a3e0-fdca1743aa62\",\n",
      "                    \"version\": \"2019-07-10T005013.668000Z\"\n",
      "                },\n",
      "                {\n",
      "                    \"content-type\": \"application/json; dcp-type=\\\"metadata/process\\\"\",\n",
      "                    \"crc32c\": \"b21f3cea\",\n",
      "                    \"indexed\": true,\n",
      "                    \"name\": \"process_1.json\",\n",
      "                    \"s3-etag\": \"3e8604fe3389cde0c568966ff90784fa\",\n",
      "                    \"sha1\": \"cceb18a181ae0cfb4f7accf4430fb49441ed5f1e\",\n",
      "                    \"sha256\": \"73652e16fb0de49157923099431a39d076707f08b46831cfb984ca7749aef037\",\n",
      "                    \"size\": 380,\n",
      "                    \"uuid\": \"bd0a00e8-eeed-4c04-abd5-7b3212fa981c\",\n",
      "                    \"version\": \"2019-07-10T001250.697000Z\"\n",
      "                },\n",
      "                {\n",
      "                    \"content-type\": \"application/json; dcp-type=\\\"metadata/process\\\"\",\n",
      "                    \"crc32c\": \"d7d43139\",\n",
      "                    \"indexed\": true,\n",
      "                    \"name\": \"process_2.json\",\n",
      "                    \"s3-etag\": \"fad68356e6bf63c4327f1f3b580f497a\",\n",
      "                    \"sha1\": \"117f7e8a215a9513b3c9e7914a8e3aea08bd4c47\",\n",
      "                    \"sha256\": \"d02e6a1b2d1afee2c1a26d74f5c3cb5ba0dfaeabc370984b4f4d5c52b20ccbd5\",\n",
      "                    \"size\": 378,\n",
      "                    \"uuid\": \"fce3ec06-2d04-4355-a8d1-ab25cfaf9507\",\n",
      "                    \"version\": \"2019-07-10T000838.833000Z\"\n",
      "                },\n",
      "                {\n",
      "                    \"content-type\": \"application/json; dcp-type=\\\"metadata/links\\\"\",\n",
      "                    \"crc32c\": \"5e1e8829\",\n",
      "                    \"indexed\": true,\n",
      "                    \"name\": \"links.json\",\n",
      "                    \"s3-etag\": \"383a63488f3cbd045da97d43528fa33a\",\n",
      "                    \"sha1\": \"491271630f534b9b8f39908ecb02eda2b9abce79\",\n",
      "                    \"sha256\": \"061419b16bac390590db9e0e1deb493b94e3a11bcdc6a3253e83521b0be32347\",\n",
      "                    \"size\": 2081,\n",
      "                    \"uuid\": \"9e0a2c0a-ae0d-4349-b3d0-3189a2930508\",\n",
      "                    \"version\": \"2019-08-02T022130.857345Z\"\n",
      "                },\n",
      "                {\n",
      "                    \"content-type\": \"application/gzip; dcp-type=data\",\n",
      "                    \"crc32c\": \"64a1f0d8\",\n",
      "                    \"indexed\": false,\n",
      "                    \"name\": \"SRR6520067_1.fastq.gz\",\n",
      "                    \"s3-etag\": \"33ef86d19b0e86d5ed1d1989c1dbf21e\",\n",
      "                    \"sha1\": \"3d77b76a74e5bdf0fa99e6eb1000b028a8f8ab96\",\n",
      "                    \"sha256\": \"f7bcf27cad4c2e23c82036820e3aceb4a5d74b396425b692a02d8298074377ee\",\n",
      "                    \"size\": 44321552,\n",
      "                    \"uuid\": \"de204c6b-97be-44dd-bdb8-89af19a717b9\",\n",
      "                    \"version\": \"2019-08-02T022131.233758Z\"\n",
      "                },\n",
      "                {\n",
      "                    \"content-type\": \"application/gzip; dcp-type=data\",\n",
      "                    \"crc32c\": \"1f0971e6\",\n",
      "                    \"indexed\": false,\n",
      "                    \"name\": \"SRR6520067_2.fastq.gz\",\n",
      "                    \"s3-etag\": \"97b4aade52e6eedb297aab192bc27e73\",\n",
      "                    \"sha1\": \"871dba6bb574f00cfd984e9e16221d67e5d41dc3\",\n",
      "                    \"sha256\": \"b1d774b2687e2a0b72e5d7643899d8696a348f0c1e04cdb0808de91d593e581d\",\n",
      "                    \"size\": 47430937,\n",
      "                    \"uuid\": \"5bebcad3-22b0-4383-b16a-4c1a8c067677\",\n",
      "                    \"version\": \"2019-08-02T022131.806574Z\"\n",
      "                }\n",
      "            ],\n",
      "            \"format\": \"0.0.1\",\n",
      "            \"version\": \"2019-08-01T200147.309074Z\"\n",
      "        },\n",
      "        \"shape_descriptor\": \"v.cell_suspension.13.collection_protocol.9.donor_organism.15.enrichment_protocol.3.library_preparation_protocol.6.links.1.process.9.project.14.sequence_file.9.sequencing_protocol.10.specimen_from_organism.10\",\n",
      "        \"state\": \"new\",\n",
      "        \"uuid\": \"ffffba2d-30da-4593-9008-8b3528ee94f1\"\n",
      "    },\n",
      "    \"search_score\": null\n",
      "}\n"
     ]
    }
   ],
   "source": [
    "first_bundle = bundles['results'][0]\n",
    "\n",
    "import json\n",
    "print(json.dumps(\n",
    "    first_bundle,\n",
    "    indent=4))"
   ]
  },
  {
   "cell_type": "markdown",
   "metadata": {},
   "source": [
    "## Boolean Conditional Queries\n",
    "\n",
    "Most of the queries we will run will consist of boolean conditional tests, so we will show how to assemble such queries here.\n",
    "\n",
    "All ES queries must include a `query` element in the search body. When we specify a set of boolean conditional checks, we must put them in a `bool` directive and wrap each condition in a `must` or `must_not` directive:\n",
    "\n",
    "```json\n",
    "my_query = {\n",
    "    \"query\": {\n",
    "        \"bool\": {\n",
    "            \"must\": [\n",
    "                ...snip...\n",
    "            ]\n",
    "        }\n",
    "    }\n",
    "}\n",
    "```\n",
    "\n",
    "where the `must` directive contains the list of boolean conditions that must be met by each search result."
   ]
  },
  {
   "cell_type": "markdown",
   "metadata": {},
   "source": [
    "### Inspecting Metadata to Help Assemble Queries\n",
    "\n",
    "The next step is to figure out what fields to use to assemble the boolean checks. we can use the metadata from the first result of the empty query (above) to pick out an interesting metadata field. Some of the JSON files in the bundle hold metadata, so we can use `first_bundle['metadata']['files']` to look at the metadata contained in various JSON files:"
   ]
  },
  {
   "cell_type": "code",
   "execution_count": 8,
   "metadata": {},
   "outputs": [
    {
     "name": "stdout",
     "output_type": "stream",
     "text": [
      "cell_suspension_json\n",
      "collection_protocol_json\n",
      "donor_organism_json\n",
      "enrichment_protocol_json\n",
      "library_preparation_protocol_json\n",
      "links_json\n",
      "process_json\n",
      "project_json\n",
      "sequence_file_json\n",
      "sequencing_protocol_json\n",
      "specimen_from_organism_json\n"
     ]
    }
   ],
   "source": [
    "first_bundle_metadata = first_bundle['metadata']['files']\n",
    "print(\"\\n\".join(first_bundle_metadata.keys()))"
   ]
  },
  {
   "cell_type": "markdown",
   "metadata": {},
   "source": [
    "If we look in the `specimen_from_organism_json` metadata file, we can see it contains the type of organism this sample is from."
   ]
  },
  {
   "cell_type": "code",
   "execution_count": 9,
   "metadata": {},
   "outputs": [
    {
     "name": "stdout",
     "output_type": "stream",
     "text": [
      "bladder\n"
     ]
    }
   ],
   "source": [
    "print(first_bundle_metadata['specimen_from_organism_json'][0]['organ']['text'])"
   ]
  },
  {
   "cell_type": "markdown",
   "metadata": {},
   "source": [
    "Each metadata JSON contains different types of information - for example, `project_json` contains information about publications related to the data set, so we can search using DOI numbers too:"
   ]
  },
  {
   "cell_type": "code",
   "execution_count": 10,
   "metadata": {},
   "outputs": [
    {
     "name": "stdout",
     "output_type": "stream",
     "text": [
      "10.1101/237446\n"
     ]
    }
   ],
   "source": [
    "print(first_bundle_metadata['project_json'][0]['publications'][0]['doi'])"
   ]
  },
  {
   "cell_type": "markdown",
   "metadata": {},
   "source": [
    "### Creating the Boolean Conditional Check\n",
    "\n",
    "To actually use this field in a boolean conditional in an ES query, we can refer to it by separating each key we used to access the field with a period. Start with the `metadata` key, then the `files` key, and so on:\n",
    "\n",
    "```\n",
    "metadata.files.specimen_from_organism_json.organ.text\n",
    "```\n",
    "\n",
    "We stipulate that this field must match a value that we provide, like \"pancreas\", like so:\n",
    "\n",
    "```json\n",
    "\"match\" : {\n",
    "    \"files.specimen_from_organism_json.organ.text\" : \"pancreas\"\n",
    "}\n",
    "```\n",
    "\n",
    "and if we have multiple conditions, we provide each boolean conditional check wrapped in a dictionary, with all of them provided together in a list:\n",
    "\n",
    "```json\n",
    "\"must\" : [\n",
    "    {\n",
    "        \"match\" : {\n",
    "            \"files.specimen_from_organism_json.organ.text\" : \"pancreas\"\n",
    "        }\n",
    "    },\n",
    "    {\n",
    "        \"match\" : {\n",
    "            \"files.project_json.publications.doi\" : \"10.1016/j.cmet.2016.08.020\"\n",
    "        }\n",
    "    }\n",
    "]\n",
    "```"
   ]
  },
  {
   "cell_type": "code",
   "execution_count": 11,
   "metadata": {},
   "outputs": [],
   "source": [
    "organ_type = 'liver'\n",
    "organ_query = {\n",
    "    \"query\" : {\n",
    "        \"bool\" : {\n",
    "            \"must\" : [{\n",
    "                \"match\" : {\n",
    "                    \"files.specimen_from_organism_json.organ.text\" : organ_type\n",
    "                }\n",
    "            }]\n",
    "        }\n",
    "    }\n",
    "}"
   ]
  },
  {
   "cell_type": "markdown",
   "metadata": {},
   "source": [
    "Now we can run the search with our new query:"
   ]
  },
  {
   "cell_type": "code",
   "execution_count": 12,
   "metadata": {},
   "outputs": [
    {
     "name": "stdout",
     "output_type": "stream",
     "text": [
      "post_search found 1914 results\n",
      "post_search returned 10 results\n"
     ]
    }
   ],
   "source": [
    "organ_bundles = client.post_search(\n",
    "    es_query=organ_query, replica='aws', output_format='raw')\n",
    "\n",
    "print(\"post_search found %d results\"%(organ_bundles['total_hits']))\n",
    "print(\"post_search returned %d results\"%(len(organ_bundles['results'])))"
   ]
  },
  {
   "cell_type": "markdown",
   "metadata": {},
   "source": [
    "As covered in the \"Bundles Found vs Bundles Returned\" section, the results of `post_search()` are paginated. We can get the total number of matches using the `total_hits` key. We can also use the `post_search.iterate()` method to iterate over all results:\n",
    "\n",
    "```python\n",
    "for org_bundle in client.post_search.iterate(\n",
    "                            es_query = organ_query,\n",
    "                            replica = 'aws',\n",
    "                            output_format = 'raw'):\n",
    "    \n",
    "    ...\n",
    "```"
   ]
  },
  {
   "cell_type": "markdown",
   "metadata": {},
   "source": [
    "## Match Queries for Single-Condition Checks\n",
    "\n",
    "The organ query we just ran has only a single condition to match, so we can specify a `match` query instead of a `bool` query to make the query just a little simpler:"
   ]
  },
  {
   "cell_type": "code",
   "execution_count": 13,
   "metadata": {},
   "outputs": [],
   "source": [
    "def print_query_hits(query):\n",
    "    \"\"\"Utility method to run a search and print how many results were found/returned\"\"\"\n",
    "    bundles_ = client.post_search(\n",
    "        es_query = query,\n",
    "        replica = 'aws',\n",
    "        output_format = 'raw'\n",
    "    )\n",
    "    print(\"post_search() found %d results\"%(bundles_['total_hits']))\n",
    "    print(\"post_search() returned %d results\"%(len(bundles_['results'])))\n",
    "    \n",
    "def get_query_hits(query):\n",
    "    \"\"\"Utility method to run a search and pass along what is returned\"\"\"\n",
    "    return client.post_search(\n",
    "        es_query = query,\n",
    "        replica = 'aws',\n",
    "        output_format = 'raw'\n",
    "    )"
   ]
  },
  {
   "cell_type": "code",
   "execution_count": 14,
   "metadata": {},
   "outputs": [],
   "source": [
    "simpler_organ_query = {\n",
    "    \"query\" : {\n",
    "        \"match\" : {\n",
    "            \"files.specimen_from_organism_json.organ.text\" : organ_type\n",
    "        }\n",
    "    }\n",
    "}"
   ]
  },
  {
   "cell_type": "code",
   "execution_count": 15,
   "metadata": {},
   "outputs": [
    {
     "name": "stdout",
     "output_type": "stream",
     "text": [
      "post_search() found 1914 results\n",
      "post_search() returned 10 results\n"
     ]
    }
   ],
   "source": [
    "print_query_hits(simpler_organ_query)"
   ]
  },
  {
   "cell_type": "markdown",
   "metadata": {},
   "source": [
    "### Match Queries vs Boolean Conditional Queries\n",
    "\n",
    "The boolean conditional method, while more complicated, is also more flexible. \n",
    "\n",
    "Unlike a boolean conditional search, we _cannot_ specify multiple match conditions, since the `query` key cannot store a list:\n",
    "\n",
    "```python\n",
    "############ THIS IS AN INVALID QUERY ############\n",
    "{\n",
    "    \"query\" : [\n",
    "        {\n",
    "            \"match\" : {\n",
    "                \"foo.bar\" : \"baz\"\n",
    "            }\n",
    "        },\n",
    "        {\n",
    "            \"match\" : {\n",
    "                \"fizz.buz\" : \"wuz\"\n",
    "            }\n",
    "        }\n",
    "    ]\n",
    "}\n",
    "```\n",
    "\n",
    "Likewise, the `match` dictionaries cannot take multiple key-value pairs:\n",
    "\n",
    "```python\n",
    "############ THIS IS AN INVALID QUERY ############\n",
    "{\n",
    "    \"query\" : {\n",
    "        \"match\" : {\n",
    "            \"foo.bar\" : \"baz\",\n",
    "            \"fizz.buz\" : \"wuz\"\n",
    "        }\n",
    "    }\n",
    "}\n",
    "```\n",
    "\n",
    "That means that queries will become long and deeply nested very quickly."
   ]
  },
  {
   "cell_type": "markdown",
   "metadata": {},
   "source": [
    "## Wildcard and Regular Expression Queries\n",
    "\n",
    "When running queries where the exact content of fields is unknown or partially known (for example, if searching for data related to the small or large intestines, or searching for filenames with a given extension). For these situations, we can use `wildcard` or `regexp` queries."
   ]
  },
  {
   "cell_type": "code",
   "execution_count": 16,
   "metadata": {},
   "outputs": [],
   "source": [
    "wc_query = {\n",
    "    \"query\": {\n",
    "        \"wildcard\": {\n",
    "            \"manifest.files.name\": {\n",
    "                \"value\": \"*.fastq.gz\"\n",
    "            }\n",
    "        }\n",
    "    }\n",
    "}"
   ]
  },
  {
   "cell_type": "code",
   "execution_count": 17,
   "metadata": {},
   "outputs": [],
   "source": [
    "re_query = {\n",
    "    \"query\": {\n",
    "        \"regexp\": {\n",
    "            \"files.biomaterial_json.biomaterials.content.target_cell_type.text\": {\n",
    "                \"value\": \".*T\\\\ cell\" # Gives us any type of T cell\n",
    "            }\n",
    "        }\n",
    "    }\n",
    "}"
   ]
  },
  {
   "cell_type": "markdown",
   "metadata": {},
   "source": [
    "### Wildcard or RegEx?\n",
    "\n",
    "Wildcard conditions are appropriate when all you need is to specify text and wildcards (e.g., \"search for files that end in .fastq.gz\").\n",
    "\n",
    "A regular expression can be more surgical and exact, and is better when you have a more specific request (e.g., \"search for bundles containing .fastq.gz files whose names consist only of digits\")."
   ]
  },
  {
   "cell_type": "markdown",
   "metadata": {},
   "source": [
    "## Filename Queries\n",
    "\n",
    "Being able to search the DSS for particular file types is important. For example, it can help to find gene expression matrices, Fastq files, and other useful data. We cover the use of the manifest metadata to add query conditions based on filenames."
   ]
  },
  {
   "cell_type": "markdown",
   "metadata": {},
   "source": [
    "### Exact Filename Matches\n",
    "\n",
    "To search for exact filenames, we can use a `match` query that looks at each bundle's manifest (the part of the metadata that stores a list of files contained in the bundle) for filenames matching a mattern:"
   ]
  },
  {
   "cell_type": "code",
   "execution_count": 18,
   "metadata": {},
   "outputs": [],
   "source": [
    "exact_filename_query = {\n",
    "    \"query\": {\n",
    "        \"match\": {\n",
    "            \"manifest.files.name\": \"SRR3562314_1.fastq.gz\"\n",
    "        }\n",
    "    }\n",
    "}"
   ]
  },
  {
   "cell_type": "code",
   "execution_count": 19,
   "metadata": {},
   "outputs": [
    {
     "name": "stdout",
     "output_type": "stream",
     "text": [
      "post_search() found 2 results\n",
      "post_search() returned 2 results\n"
     ]
    }
   ],
   "source": [
    "print_query_hits(exact_filename_query)"
   ]
  },
  {
   "cell_type": "markdown",
   "metadata": {},
   "source": [
    "While an exact filename search has its uses, it is rare that we know the exact name of the file we are looking for. Instead, we want a search type that allows for wildcard patterns."
   ]
  },
  {
   "cell_type": "markdown",
   "metadata": {},
   "source": [
    "### Wildcard Filename Matches\n",
    "\n",
    "Instead of using a `match` condition, we can use a `wildcard` condition, and find bundles with files matching a wildcard expression, like `*.fastq`."
   ]
  },
  {
   "cell_type": "code",
   "execution_count": 20,
   "metadata": {},
   "outputs": [],
   "source": [
    "fastq_query = {\n",
    "    \"query\": {\n",
    "        \"wildcard\": {\n",
    "            \"manifest.files.name\": {\n",
    "                \"value\" : \"*.fastq.gz\"\n",
    "            }\n",
    "        }\n",
    "    }\n",
    "}"
   ]
  },
  {
   "cell_type": "code",
   "execution_count": 21,
   "metadata": {},
   "outputs": [
    {
     "name": "stdout",
     "output_type": "stream",
     "text": [
      "post_search() found 150588 results\n",
      "post_search() returned 10 results\n"
     ]
    }
   ],
   "source": [
    "print_query_hits(fastq_query)"
   ]
  },
  {
   "cell_type": "markdown",
   "metadata": {},
   "source": [
    "We can then print the names of all `*.fastq.gz` files in the bundles that are returned, by accessing the manifest via the metadata:"
   ]
  },
  {
   "cell_type": "code",
   "execution_count": 22,
   "metadata": {},
   "outputs": [],
   "source": [
    "def print_fastq_files_in_bundle(bundle_result):\n",
    "    files_list_ = bundle_result['metadata']['manifest']['files']\n",
    "    print(\"\\nBundle %s:\"%(bundle_result['bundle_fqid']))\n",
    "    for f in files_list_:\n",
    "        if f['name'].endswith(\"fastq.gz\"):\n",
    "            print(\" -\", f['name'])"
   ]
  },
  {
   "cell_type": "code",
   "execution_count": 23,
   "metadata": {},
   "outputs": [
    {
     "name": "stdout",
     "output_type": "stream",
     "text": [
      "\n",
      "Bundle ffffba2d-30da-4593-9008-8b3528ee94f1.2019-08-01T200147.309074Z:\n",
      " - SRR6520067_1.fastq.gz\n",
      " - SRR6520067_2.fastq.gz\n",
      "\n",
      "Bundle ffffaf55-f19c-40e3-aa81-a6c69d357265.2019-08-01T200147.836832Z:\n",
      " - SRR6579532_1.fastq.gz\n",
      " - SRR6579532_2.fastq.gz\n",
      "\n",
      "Bundle fffee4fc-7bee-4989-8656-e61619da0e70.2019-08-01T200146.910993Z:\n",
      " - SRR6611699_1.fastq.gz\n",
      " - SRR6611699_2.fastq.gz\n",
      "\n",
      "Bundle fffe55c1-18ed-401b-aa9a-6f64d0b93fec.2019-05-17T233932.932000Z:\n",
      " - ERR2459896_1.fastq.gz\n",
      " - ERR2459896_2.fastq.gz\n",
      "\n",
      "Bundle fffcea5e-2e6c-4ca1-9aa9-c23b90b2e8b8.2019-05-16T211813.059000Z:\n",
      " - E18_20161004_Neurons_Sample_14_S083_L005_I1_002.fastq.gz\n",
      " - E18_20161004_Neurons_Sample_14_S083_L005_R1_002.fastq.gz\n",
      " - E18_20161004_Neurons_Sample_14_S083_L005_R2_002.fastq.gz\n",
      "\n",
      "Bundle fffcc997-3121-42af-80ca-33d1cb06f509.2019-08-01T200147.451270Z:\n",
      " - SRR6530626_1.fastq.gz\n",
      " - SRR6530626_2.fastq.gz\n",
      "\n",
      "Bundle fffc09cc-4b69-40ea-9fbe-1086e9ac25eb.2019-08-01T200147.153304Z:\n",
      " - SRR6604368_1.fastq.gz\n",
      " - SRR6604368_2.fastq.gz\n",
      "\n",
      "Bundle fffbe17d-a4b9-49d8-8e9f-93e512ba0775.2019-05-17T160538.682000Z:\n",
      " - ERR2456711_1.fastq.gz\n",
      " - ERR2456711_2.fastq.gz\n",
      "\n",
      "Bundle fffbd572-0d11-472d-8fd9-4e6d85de5080.2019-08-01T200147.074760Z:\n",
      " - SRR6571930_1.fastq.gz\n",
      " - SRR6571930_2.fastq.gz\n",
      "\n",
      "Bundle fffba06b-910f-4645-8d42-fc3ad43f6fba.2019-08-01T200146.893571Z:\n",
      " - SRR6611215_1.fastq.gz\n",
      " - SRR6611215_2.fastq.gz\n"
     ]
    }
   ],
   "source": [
    "fastq_bundles = get_query_hits(fastq_query)\n",
    "\n",
    "for bundle in fastq_bundles['results']:\n",
    "    print_fastq_files_in_bundle(bundle)"
   ]
  },
  {
   "cell_type": "markdown",
   "metadata": {},
   "source": [
    "### Using Multiple Filename Conditionals\n",
    "\n",
    "We show how to combine multiple filename conditionals together in a single query. We can search for bundles containing `*.fastq.gz` files (sequencing data) and containing `*.results` files (gene expression matrices)."
   ]
  },
  {
   "cell_type": "code",
   "execution_count": 24,
   "metadata": {},
   "outputs": [],
   "source": [
    "multifile_query = {\n",
    "    \"query\": {\n",
    "        \"bool\": {\n",
    "            \"must\": [\n",
    "                {\n",
    "                    \"wildcard\": {\n",
    "                        \"manifest.files.name\": {\n",
    "                            \"value\": \"*.fastq.gz\"\n",
    "                        }\n",
    "                    }\n",
    "                },\n",
    "                {\n",
    "                    \"wildcard\": {\n",
    "                        \"manifest.files.name\": {\n",
    "                            \"value\": \"*.results\"\n",
    "                        }\n",
    "                    }\n",
    "                }\n",
    "            ]\n",
    "        }\n",
    "    }\n",
    "}"
   ]
  },
  {
   "cell_type": "code",
   "execution_count": 25,
   "metadata": {},
   "outputs": [
    {
     "name": "stdout",
     "output_type": "stream",
     "text": [
      "post_search() found 14178 results\n",
      "post_search() returned 10 results\n"
     ]
    }
   ],
   "source": [
    "print_query_hits(multifile_query)"
   ]
  },
  {
   "cell_type": "markdown",
   "metadata": {},
   "source": [
    "## Searching Across All Metadata\n",
    "\n",
    "It is possible to use the reserved ES keyword `_all` to search every metadata field. This can be used in both match queries and boolean conditional queries.\n",
    "\n",
    "If we were interested in any and all Human Cell Atlas data that mentions a particular term in any of its metadata, we can use the `_all` key in a match query to search across all metadata:"
   ]
  },
  {
   "cell_type": "code",
   "execution_count": 26,
   "metadata": {},
   "outputs": [],
   "source": [
    "term_query = {\n",
    "    \"query\": {\n",
    "        \"match\": {\n",
    "            \"_all\": \"mouse\"\n",
    "        }\n",
    "    }\n",
    "}"
   ]
  },
  {
   "cell_type": "code",
   "execution_count": 27,
   "metadata": {},
   "outputs": [
    {
     "name": "stdout",
     "output_type": "stream",
     "text": [
      "post_search() found 119503 results\n",
      "post_search() returned 10 results\n"
     ]
    }
   ],
   "source": [
    "print_query_hits(term_query)"
   ]
  },
  {
   "cell_type": "markdown",
   "metadata": {},
   "source": [
    "Likewise, we can perform a boolean conditional serach to search for data relating to specific organ types and mentioning a particular term in any metadata field:"
   ]
  },
  {
   "cell_type": "code",
   "execution_count": 28,
   "metadata": {},
   "outputs": [],
   "source": [
    "term_organ_query = {\n",
    "    \"query\" : {\n",
    "        \"bool\" : {\n",
    "            \"must\" : [\n",
    "                {\n",
    "                    \"match\" : {\n",
    "                        \"files.specimen_from_organism_json.organ.text\" : organ_type\n",
    "                    }\n",
    "                },\n",
    "                {\n",
    "                    \"match\" : {\n",
    "                        \"_all\" : \"mouse\"\n",
    "                    }\n",
    "                }\n",
    "            ]\n",
    "        }\n",
    "    }\n",
    "}"
   ]
  },
  {
   "cell_type": "code",
   "execution_count": 29,
   "metadata": {},
   "outputs": [
    {
     "name": "stdout",
     "output_type": "stream",
     "text": [
      "post_search() found 1899 results\n",
      "post_search() returned 10 results\n"
     ]
    }
   ],
   "source": [
    "print_query_hits(term_organ_query)"
   ]
  }
 ],
 "metadata": {
  "kernelspec": {
   "display_name": "Python 3",
   "language": "python",
   "name": "python3"
  },
  "language_info": {
   "codemirror_mode": {
    "name": "ipython",
    "version": 3
   },
   "file_extension": ".py",
   "mimetype": "text/x-python",
   "name": "python",
   "nbconvert_exporter": "python",
   "pygments_lexer": "ipython3",
   "version": "3.6.3"
  }
 },
 "nbformat": 4,
 "nbformat_minor": 2
}

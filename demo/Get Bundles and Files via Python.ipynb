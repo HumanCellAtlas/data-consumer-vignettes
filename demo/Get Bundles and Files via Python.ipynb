{
 "cells": [
  {
   "cell_type": "markdown",
   "metadata": {},
   "source": [
    "## Basic Bundle and File Operations with the DCP Python API\n",
    "\n",
    "Here are some examples of basic operations with the HCA DSS: getting bundle and file metadata and contents. Here we'll illustrate this using the HCA DCPs python API.\n",
    "\n",
    "First, install the python library so we can make some requests."
   ]
  },
  {
   "cell_type": "code",
   "execution_count": 1,
   "metadata": {},
   "outputs": [
    {
     "name": "stdout",
     "output_type": "stream",
     "text": [
      "Requirement already satisfied: hca in /opt/conda/lib/python3.6/site-packages (4.4.10)\n",
      "Requirement already satisfied: boto3<1.8,>=1.7 in /opt/conda/lib/python3.6/site-packages (from hca) (1.7.84)\n",
      "Requirement already satisfied: crcmod<2,>=1.7 in /opt/conda/lib/python3.6/site-packages (from hca) (1.7)\n",
      "Requirement already satisfied: PyJWT>=1.6.4 in /opt/conda/lib/python3.6/site-packages (from hca) (1.7.1)\n",
      "Requirement already satisfied: jsonpointer<2,>=1.10 in /opt/conda/lib/python3.6/site-packages (from hca) (1.14)\n",
      "Requirement already satisfied: google-auth-oauthlib<2,>=0.1 in /opt/conda/lib/python3.6/site-packages (from hca) (0.2.0)\n",
      "Requirement already satisfied: argcomplete<2,>=1.9.3 in /opt/conda/lib/python3.6/site-packages (from hca) (1.9.4)\n",
      "Requirement already satisfied: docutils<1,>=0.14 in /opt/conda/lib/python3.6/site-packages (from hca) (0.14)\n",
      "Requirement already satisfied: Jinja2<3,>=2.9 in /opt/conda/lib/python3.6/site-packages (from hca) (2.10)\n",
      "Requirement already satisfied: retrying in /opt/conda/lib/python3.6/site-packages (from hca) (1.3.3)\n",
      "Requirement already satisfied: cryptography==2.3.1 in /opt/conda/lib/python3.6/site-packages (from hca) (2.3.1)\n",
      "Requirement already satisfied: google-auth<2,>=1.0.2 in /opt/conda/lib/python3.6/site-packages (from hca) (1.6.1)\n",
      "Requirement already satisfied: jsonschema<3,>=2.6 in /opt/conda/lib/python3.6/site-packages (from hca) (2.6.0)\n",
      "Requirement already satisfied: requests<3,>=2.20.0 in /opt/conda/lib/python3.6/site-packages (from hca) (2.20.0)\n",
      "Requirement already satisfied: six<2,>=1.10 in /opt/conda/lib/python3.6/site-packages (from hca) (1.11.0)\n",
      "Requirement already satisfied: tweak<1,>=0.6.7 in /opt/conda/lib/python3.6/site-packages (from hca) (0.6.7)\n",
      "Requirement already satisfied: dcplib<2,>=1.3.2 in /opt/conda/lib/python3.6/site-packages (from hca) (1.4.0)\n",
      "Requirement already satisfied: commonmark<0.8,>=0.7.4 in /opt/conda/lib/python3.6/site-packages (from hca) (0.7.5)\n",
      "Requirement already satisfied: s3transfer<0.2.0,>=0.1.10 in /opt/conda/lib/python3.6/site-packages (from boto3<1.8,>=1.7->hca) (0.1.13)\n",
      "Requirement already satisfied: jmespath<1.0.0,>=0.7.1 in /opt/conda/lib/python3.6/site-packages (from boto3<1.8,>=1.7->hca) (0.9.3)\n",
      "Requirement already satisfied: botocore<1.11.0,>=1.10.84 in /opt/conda/lib/python3.6/site-packages (from boto3<1.8,>=1.7->hca) (1.10.84)\n",
      "Requirement already satisfied: requests-oauthlib>=0.7.0 in /opt/conda/lib/python3.6/site-packages (from google-auth-oauthlib<2,>=0.1->hca) (1.0.0)\n",
      "Requirement already satisfied: MarkupSafe>=0.23 in /opt/conda/lib/python3.6/site-packages (from Jinja2<3,>=2.9->hca) (1.0)\n",
      "Requirement already satisfied: idna>=2.1 in /opt/conda/lib/python3.6/site-packages (from cryptography==2.3.1->hca) (2.7)\n",
      "Requirement already satisfied: asn1crypto>=0.21.0 in /opt/conda/lib/python3.6/site-packages (from cryptography==2.3.1->hca) (0.24.0)\n",
      "Requirement already satisfied: cffi!=1.11.3,>=1.7 in /opt/conda/lib/python3.6/site-packages (from cryptography==2.3.1->hca) (1.11.5)\n",
      "Requirement already satisfied: pyasn1-modules>=0.2.1 in /opt/conda/lib/python3.6/site-packages (from google-auth<2,>=1.0.2->hca) (0.2.2)\n",
      "Requirement already satisfied: rsa>=3.1.4 in /opt/conda/lib/python3.6/site-packages (from google-auth<2,>=1.0.2->hca) (4.0)\n",
      "Requirement already satisfied: cachetools>=2.0.0 in /opt/conda/lib/python3.6/site-packages (from google-auth<2,>=1.0.2->hca) (3.0.0)\n",
      "Requirement already satisfied: chardet<3.1.0,>=3.0.2 in /opt/conda/lib/python3.6/site-packages (from requests<3,>=2.20.0->hca) (3.0.4)\n",
      "Requirement already satisfied: urllib3<1.25,>=1.21.1 in /opt/conda/lib/python3.6/site-packages (from requests<3,>=2.20.0->hca) (1.23)\n",
      "Requirement already satisfied: certifi>=2017.4.17 in /opt/conda/lib/python3.6/site-packages (from requests<3,>=2.20.0->hca) (2018.10.15)\n",
      "Requirement already satisfied: puremagic in /opt/conda/lib/python3.6/site-packages (from dcplib<2,>=1.3.2->hca) (1.4)\n",
      "Requirement already satisfied: future in /opt/conda/lib/python3.6/site-packages (from commonmark<0.8,>=0.7.4->hca) (0.17.1)\n",
      "Requirement already satisfied: python-dateutil<3.0.0,>=2.1; python_version >= \"2.7\" in /opt/conda/lib/python3.6/site-packages (from botocore<1.11.0,>=1.10.84->boto3<1.8,>=1.7->hca) (2.7.4)\n",
      "Requirement already satisfied: oauthlib>=0.6.2 in /opt/conda/lib/python3.6/site-packages (from requests-oauthlib>=0.7.0->google-auth-oauthlib<2,>=0.1->hca) (2.1.0)\n",
      "Requirement already satisfied: pycparser in /opt/conda/lib/python3.6/site-packages (from cffi!=1.11.3,>=1.7->cryptography==2.3.1->hca) (2.19)\n",
      "Requirement already satisfied: pyasn1<0.5.0,>=0.4.1 in /opt/conda/lib/python3.6/site-packages (from pyasn1-modules>=0.2.1->google-auth<2,>=1.0.2->hca) (0.4.4)\n",
      "Requirement already satisfied: argparse in /opt/conda/lib/python3.6/site-packages (from puremagic->dcplib<2,>=1.3.2->hca) (1.4.0)\n"
     ]
    }
   ],
   "source": [
    "import sys\n",
    "!{sys.executable} -m pip install hca"
   ]
  },
  {
   "cell_type": "markdown",
   "metadata": {},
   "source": [
    "Now, we're going to get the \"manifest\" of a bundle. This is metadata about a bundle and its contents. We'll make a request with the CLI using the bundle's UUID and version."
   ]
  },
  {
   "cell_type": "code",
   "execution_count": 3,
   "metadata": {},
   "outputs": [],
   "source": [
    "bundle_uuid = \"ead66505-a78b-44ee-81f6-418be859ab65\"\n",
    "bundle_version = \"2018-12-06T043139.806469Z\""
   ]
  },
  {
   "cell_type": "markdown",
   "metadata": {},
   "source": [
    "We first need to create a `DSSClient` object, and then we can make the request with `DSSClient.get_bundle`:"
   ]
  },
  {
   "cell_type": "code",
   "execution_count": 4,
   "metadata": {},
   "outputs": [
    {
     "data": {
      "text/plain": [
       "{'bundle': {'creator_uid': 8008,\n",
       "  'files': [{'content-type': 'application/json; dcp-type=\"metadata/biomaterial\"',\n",
       "    'crc32c': 'ec0d3d14',\n",
       "    'indexed': True,\n",
       "    'name': 'cell_suspension_0.json',\n",
       "    's3_etag': 'fee4d8354468476052a1c0da67fb1f03',\n",
       "    'sha1': '6f77abbdd0892a99e6fae5c920daaaf3018b24fd',\n",
       "    'sha256': '5d41934e1af911f510be04506d41b59ebd91d1678f42df759819b223a898b1da',\n",
       "    'size': 1356,\n",
       "    'uuid': '3e4e6f8e-0c67-470c-8059-950e0bd1ebff',\n",
       "    'version': '2018-12-04T190346.297000Z'},\n",
       "   {'content-type': 'application/json; dcp-type=\"metadata/biomaterial\"',\n",
       "    'crc32c': '73fc7859',\n",
       "    'indexed': True,\n",
       "    'name': 'specimen_from_organism_0.json',\n",
       "    's3_etag': '5ba0e2a0506f3fab2d69c5d19227c5c3',\n",
       "    'sha1': '53275ddd170d3d6dd31239674bff86ede607ab2f',\n",
       "    'sha256': '3b76d6f98b4912fd9fc233054cd47c321bb2411e5a56c656efc5c7e9327f2a32',\n",
       "    'size': 1643,\n",
       "    'uuid': '3a04d7b0-105b-457b-9a5e-a6b2ab4d3225',\n",
       "    'version': '2018-12-04T190116.949000Z'},\n",
       "   {'content-type': 'application/json; dcp-type=\"metadata/biomaterial\"',\n",
       "    'crc32c': 'f042482a',\n",
       "    'indexed': True,\n",
       "    'name': 'donor_organism_0.json',\n",
       "    's3_etag': '9934746af087e69493385b21b9281fe0',\n",
       "    'sha1': '1a260f07840cfdf6fad24203b5a6b289b2745d40',\n",
       "    'sha256': '6b620be11ee015dd29fe6de8cf3a5d683211aad9d8bab1cf6e99f19332ccf795',\n",
       "    'size': 1430,\n",
       "    'uuid': 'c489c2bb-54c2-4d51-bdd9-3499e291e367',\n",
       "    'version': '2018-12-04T190115.557000Z'},\n",
       "   {'content-type': 'application/json; dcp-type=\"metadata/file\"',\n",
       "    'crc32c': 'f0687fc8',\n",
       "    'indexed': True,\n",
       "    'name': 'sequence_file_0.json',\n",
       "    's3_etag': '240d1cd150188d22df5cc3a77d625f83',\n",
       "    'sha1': 'f3c7ba26433a085d0e81644d6cdd56676943c085',\n",
       "    'sha256': '100aecd3ab01d5b06ec2c22470af5a092ee6728f20418bf4273f35cc832c466f',\n",
       "    'size': 689,\n",
       "    'uuid': 'cda16082-bbbc-4c88-adfa-c776f953023b',\n",
       "    'version': '2018-12-05T020715.587000Z'},\n",
       "   {'content-type': 'application/json; dcp-type=\"metadata/file\"',\n",
       "    'crc32c': 'bf297bee',\n",
       "    'indexed': True,\n",
       "    'name': 'sequence_file_1.json',\n",
       "    's3_etag': 'd0f940fd3e0f53bf73230428491e9eae',\n",
       "    'sha1': '2de478aa760175e667c40a868f611568c0084224',\n",
       "    'sha256': '2ec78ef3bb2dff105045c5b68dee6ab12e2b9e7fad4a85dd989bd21a4b9ce6cd',\n",
       "    'size': 689,\n",
       "    'uuid': '7836f4cd-5cd0-4a46-b5d8-37da5dca79f6',\n",
       "    'version': '2018-12-05T020725.177000Z'},\n",
       "   {'content-type': 'application/json; dcp-type=\"metadata/file\"',\n",
       "    'crc32c': '4fe0c2cf',\n",
       "    'indexed': True,\n",
       "    'name': 'sequence_file_2.json',\n",
       "    's3_etag': '0c920b8cfd557df13e96d3b4d6a2b5af',\n",
       "    'sha1': 'a825e1873f72af86f54d28a14d0621389659098f',\n",
       "    'sha256': 'b9ecf2102f645779705e7f368b48bceb583a8a1cb1b01ed88bd844259766c3df',\n",
       "    'size': 690,\n",
       "    'uuid': '5d5e7e84-4c3d-45f7-93c9-3ad33cd8d1ad',\n",
       "    'version': '2018-12-05T020932.969000Z'},\n",
       "   {'content-type': 'application/json; dcp-type=\"metadata/project\"',\n",
       "    'crc32c': '5eea185b',\n",
       "    'indexed': True,\n",
       "    'name': 'project_0.json',\n",
       "    's3_etag': 'd93721a1692d5fb7d7e801585579fdd3',\n",
       "    'sha1': 'd0fc14b2d8b03d68fda31c461f153144e8e75d88',\n",
       "    'sha256': 'a13238bc51ff1af094be6b4b614e5031eab5f82a042f823d5a3b2c031097b50d',\n",
       "    'size': 3960,\n",
       "    'uuid': 'ff481f29-3d0b-4533-9de2-a760c61c162d',\n",
       "    'version': '2018-12-04T190115.532000Z'},\n",
       "   {'content-type': 'application/json; dcp-type=\"metadata/protocol\"',\n",
       "    'crc32c': '3e5c2392',\n",
       "    'indexed': True,\n",
       "    'name': 'library_preparation_protocol_0.json',\n",
       "    's3_etag': 'f31cb9587a304de0509a3d52a5efda1f',\n",
       "    'sha1': '8489d7c0a39c85369f3369a5a29c56a584b5dc53',\n",
       "    'sha256': '5e07f5a28c98683b8e51faeb374cc90497b2e67ffb5925d52e2d8e296abbf05a',\n",
       "    'size': 1187,\n",
       "    'uuid': '3c2d6162-f086-4cf4-bd01-fb46c1b04990',\n",
       "    'version': '2018-12-04T185829.682000Z'},\n",
       "   {'content-type': 'application/json; dcp-type=\"metadata/protocol\"',\n",
       "    'crc32c': '99b74b2b',\n",
       "    'indexed': True,\n",
       "    'name': 'sequencing_protocol_0.json',\n",
       "    's3_etag': '990e7dd1050f4b6f64a6d5b2c14a75e3',\n",
       "    'sha1': '3525c0653b01264a3de7d10d4e62e2ada79b021d',\n",
       "    'sha256': '3eee8ee54e3a64966835f185bc142969a9dad5b77d644b310ef6480eb5bfe0b1',\n",
       "    'size': 979,\n",
       "    'uuid': '3decd8d5-5990-43cd-84cc-6c7796b8a76d',\n",
       "    'version': '2018-12-04T185830.949000Z'},\n",
       "   {'content-type': 'application/json; dcp-type=\"metadata/protocol\"',\n",
       "    'crc32c': '2303a410',\n",
       "    'indexed': True,\n",
       "    'name': 'dissociation_protocol_0.json',\n",
       "    's3_etag': '4da303626caabce13339b189fd856c38',\n",
       "    'sha1': '9017ccbfe60811b95f891eaecdc853e5519529fe',\n",
       "    'sha256': 'cd8564e7c1d525101fc569fcc7ad4e783711314f0b93bca11fac71a5c9c3ef9a',\n",
       "    'size': 1191,\n",
       "    'uuid': '516829d4-62b6-4053-b670-650b8b56c4e1',\n",
       "    'version': '2018-12-04T185830.979000Z'},\n",
       "   {'content-type': 'application/json; dcp-type=\"metadata/process\"',\n",
       "    'crc32c': '3c8c3cc5',\n",
       "    'indexed': True,\n",
       "    'name': 'process_0.json',\n",
       "    's3_etag': '003989f2df2aa8f39723f3925e5fb851',\n",
       "    'sha1': '9bff1801fb12b3302b7f7d7dd57a3a3cb6070914',\n",
       "    'sha256': '7a967973684ffa8ac3fe5004177e2fc7d8f3a2c822bbede536dcd58d9af7bdb5',\n",
       "    'size': 408,\n",
       "    'uuid': '9adf9f89-f546-4889-86ff-b430e3123c8b',\n",
       "    'version': '2018-12-04T191256.554000Z'},\n",
       "   {'content-type': 'application/json; dcp-type=\"metadata/process\"',\n",
       "    'crc32c': 'd6733b3d',\n",
       "    'indexed': True,\n",
       "    'name': 'process_1.json',\n",
       "    's3_etag': '3d86c7729662a6fb44be15297a4f627e',\n",
       "    'sha1': 'faf3120b11470ba0d2441e7d7425b937722c8fee',\n",
       "    'sha256': '8713dbd41635b73ab959dcb810c7d11cc7c492e5d72b56fe8e4d5ede876401fc',\n",
       "    'size': 377,\n",
       "    'uuid': '0a0996f2-a17a-4cbb-a0c0-87febf6245b1',\n",
       "    'version': '2018-12-04T190855.085000Z'},\n",
       "   {'content-type': 'application/json; dcp-type=\"metadata/process\"',\n",
       "    'crc32c': '6e01b384',\n",
       "    'indexed': True,\n",
       "    'name': 'process_2.json',\n",
       "    's3_etag': '7325188b7475064ad39ea53559945d81',\n",
       "    'sha1': 'dc58e788bfb9c4203b5b1ddb4773ae90dc57a64b',\n",
       "    'sha256': '874153dcfe6f761e1f3ef2abe82138bf091af6c59a34090681545e4a2a99f712',\n",
       "    'size': 376,\n",
       "    'uuid': 'ca505f0d-0d6e-49bc-bd45-7b1fb3f771e5',\n",
       "    'version': '2018-12-04T190853.816000Z'},\n",
       "   {'content-type': 'application/json; dcp-type=\"metadata/links\"',\n",
       "    'crc32c': '908ecd3a',\n",
       "    'indexed': True,\n",
       "    'name': 'links.json',\n",
       "    's3_etag': '0df5cbf9f0ab1b567e932fb4114af638',\n",
       "    'sha1': 'b721b9e39ec7bb8ad22861dba4b85d7256ddb5b8',\n",
       "    'sha256': 'af83cdf1c569a5383ce50e3b6c184c4127e0bb3595a1d8cf5514fcc632b28a49',\n",
       "    'size': 1968,\n",
       "    'uuid': 'd4b1a29b-4bcf-4bf1-aede-5ef7f5fb35b0',\n",
       "    'version': '2018-12-06T043107.142093Z'},\n",
       "   {'content-type': 'application/gzip; dcp-type=data',\n",
       "    'crc32c': '89fbb4b6',\n",
       "    'indexed': False,\n",
       "    'name': 'E18_20160930_Neurons_Sample_71_S068_L007_I1_006.fastq.gz',\n",
       "    's3_etag': '70611602e4eef043a42fbc9d2dface95',\n",
       "    'sha1': 'c69ee698318fd9719891b2a25952f387486b491a',\n",
       "    'sha256': '5ee2a38045ddca280da1e6122cc306e79c9cee9bb76b76f72ad8ee47c16d8dc0',\n",
       "    'size': 38942279,\n",
       "    'uuid': '50fa124f-feca-4bf7-9522-798b4a18bb37',\n",
       "    'version': '2018-12-06T043107.379722Z'},\n",
       "   {'content-type': 'application/gzip; dcp-type=data',\n",
       "    'crc32c': '897bcdcc',\n",
       "    'indexed': False,\n",
       "    'name': 'E18_20160930_Neurons_Sample_71_S068_L007_R1_006.fastq.gz',\n",
       "    's3_etag': '0e3809f4feec184c0228f7829efe3eb1-2',\n",
       "    'sha1': '0ad4610c4ca2335d948d0a1f648ef39c24f5d4cf',\n",
       "    'sha256': '3a82d659d289348e00d2e7a7782f4ab5a16fd523126a523572a2eb87abc7cc50',\n",
       "    'size': 94751979,\n",
       "    'uuid': '57e4e0ba-e6e8-4a5e-a24a-9e9cd1e014aa',\n",
       "    'version': '2018-12-06T043108.700652Z'},\n",
       "   {'content-type': 'application/gzip; dcp-type=data',\n",
       "    'crc32c': '68a4f554',\n",
       "    'indexed': False,\n",
       "    'name': 'E18_20160930_Neurons_Sample_71_S068_L007_R2_006.fastq.gz',\n",
       "    's3_etag': '6b9b7e2602e6255051fb31d5c62a1afc-6',\n",
       "    'sha1': '0dad98a6a4b1c0f5d5faeba425e7594792359499',\n",
       "    'sha256': 'ef1119f2337f92b955472a2e33207c2e654c7c4655b466890a6337727ab5bc37',\n",
       "    'size': 386122988,\n",
       "    'uuid': '330b4a8c-57d6-4d7a-b15d-9a49ed1c0472',\n",
       "    'version': '2018-12-06T043108.834190Z'}],\n",
       "  'uuid': 'ead66505-a78b-44ee-81f6-418be859ab65',\n",
       "  'version': '2018-12-06T043139.806469Z'}}"
      ]
     },
     "execution_count": 4,
     "metadata": {},
     "output_type": "execute_result"
    }
   ],
   "source": [
    "import hca.dss\n",
    "dss_client = hca.dss.DSSClient()\n",
    "dss_client.get_bundle(uuid=bundle_uuid, version=bundle_version, replica=\"aws\")"
   ]
  },
  {
   "cell_type": "markdown",
   "metadata": {},
   "source": [
    "And there's the contents of that bundle along with some metadata. We can get metadata for a single file using `DSSClient.head_file`."
   ]
  },
  {
   "cell_type": "code",
   "execution_count": 6,
   "metadata": {},
   "outputs": [],
   "source": [
    "file_uuid = \"9adf9f89-f546-4889-86ff-b430e3123c8b\"\n",
    "file_version = \"2018-12-04T191256.554000Z\""
   ]
  },
  {
   "cell_type": "code",
   "execution_count": 10,
   "metadata": {},
   "outputs": [
    {
     "data": {
      "text/plain": [
       "{'Date': 'Tue, 11 Dec 2018 23:48:50 GMT', 'Content-Type': 'text/html; charset=utf-8', 'Content-Length': '0', 'Connection': 'keep-alive', 'x-amzn-RequestId': '4f3cec17-fd9f-11e8-97f5-975f4601d6bf', 'X-DSS-SHA1': '9bff1801fb12b3302b7f7d7dd57a3a3cb6070914', 'Access-Control-Allow-Origin': '*', 'X-DSS-S3-ETAG': '003989f2df2aa8f39723f3925e5fb851', 'X-DSS-SHA256': '7a967973684ffa8ac3fe5004177e2fc7d8f3a2c822bbede536dcd58d9af7bdb5', 'Strict-Transport-Security': 'max-age=31536000; includeSubDomains; preload', 'Access-Control-Allow-Headers': 'Authorization,Content-Type,X-Amz-Date,X-Amz-Security-Token,X-Api-Key', 'X-DSS-CONTENT-TYPE': 'application/json; dcp-type=\"metadata/process\"', 'X-DSS-CRC32C': '3c8c3cc5', 'X-DSS-CREATOR-UID': '8008', 'x-amz-apigw-id': 'RxDzZFD3oAMFaFg=', 'X-DSS-VERSION': '2018-12-04T191256.554000Z', 'X-Amzn-Trace-Id': 'Root=1-5c104ce2-6e03b1a094df5820d80881c0;Sampled=0', 'X-DSS-SIZE': '408'}"
      ]
     },
     "execution_count": 10,
     "metadata": {},
     "output_type": "execute_result"
    }
   ],
   "source": [
    "response = dss_client.head_file(uuid=file_uuid, version=file_version, replica=\"aws\")\n",
    "response.headers"
   ]
  },
  {
   "cell_type": "markdown",
   "metadata": {},
   "source": [
    "This gives a response with metadata about the file in the header. If we want to get the file contents, we can use `DSSClient.get_file`:"
   ]
  },
  {
   "cell_type": "code",
   "execution_count": 12,
   "metadata": {},
   "outputs": [
    {
     "data": {
      "text/plain": [
       "{'process_core': {'process_id': 'E18_20160930_Neurons_Sample_71_S068_L007_006'},\n",
       " 'schema_type': 'process',\n",
       " 'describedBy': 'https://schema.humancellatlas.org/type/process/6.0.2/process',\n",
       " 'provenance': {'document_id': '9adf9f89-f546-4889-86ff-b430e3123c8b',\n",
       "  'submission_date': '2018-12-04T18:59:53.218Z',\n",
       "  'update_date': '2018-12-04T19:12:56.554Z'}}"
      ]
     },
     "execution_count": 12,
     "metadata": {},
     "output_type": "execute_result"
    }
   ],
   "source": [
    "dss_client.get_file(uuid=file_uuid, version=file_version, replica=\"aws\")"
   ]
  },
  {
   "cell_type": "markdown",
   "metadata": {},
   "source": [
    "And there are the contents of the file. Note that since the remote file was JSON, the python library has converted it to a python dictionary rather than raw bytes."
   ]
  },
  {
   "cell_type": "markdown",
   "metadata": {},
   "source": [
    "### Downloading an Entire Bundle\n",
    "\n",
    "The `DSSClient` also has a method `download` that downloads and entire bundle at once:"
   ]
  },
  {
   "cell_type": "code",
   "execution_count": 13,
   "metadata": {},
   "outputs": [],
   "source": [
    "dss_client.download(bundle_uuid=bundle_uuid, version=bundle_version, replica=\"aws\")"
   ]
  },
  {
   "cell_type": "code",
   "execution_count": 14,
   "metadata": {},
   "outputs": [
    {
     "name": "stdout",
     "output_type": "stream",
     "text": [
      "cell_suspension_0.json\r\n",
      "dissociation_protocol_0.json\r\n",
      "donor_organism_0.json\r\n",
      "E18_20160930_Neurons_Sample_71_S068_L007_I1_006.fastq.gz\r\n",
      "E18_20160930_Neurons_Sample_71_S068_L007_R1_006.fastq.gz\r\n",
      "E18_20160930_Neurons_Sample_71_S068_L007_R2_006.fastq.gz\r\n",
      "library_preparation_protocol_0.json\r\n",
      "links.json\r\n",
      "process_0.json\r\n",
      "process_1.json\r\n",
      "process_2.json\r\n",
      "project_0.json\r\n",
      "sequence_file_0.json\r\n",
      "sequence_file_1.json\r\n",
      "sequence_file_2.json\r\n",
      "sequencing_protocol_0.json\r\n",
      "specimen_from_organism_0.json\r\n"
     ]
    }
   ],
   "source": [
    "!ls \"$bundle_uuid\""
   ]
  },
  {
   "cell_type": "markdown",
   "metadata": {},
   "source": [
    "### Streaming Large Files\n",
    "\n",
    "Some files are too large to read into memory at once. The `DSSClient.get_file.stream` method allows iterating over portions of the file. For example, `E18_20160930_Neurons_Sample_71_S068_L007_R2_006.fastq.gz` in the bundle above is 386,122,988 bytes. We can read it one megabyte at a time:"
   ]
  },
  {
   "cell_type": "code",
   "execution_count": 20,
   "metadata": {},
   "outputs": [],
   "source": [
    "with dss_client.get_file.stream(uuid=\"330b4a8c-57d6-4d7a-b15d-9a49ed1c0472\", replica=\"aws\") as remote_fh, \\\n",
    "        open(\"E18_20160930_Neurons_Sample_71_S068_L007_R2_006.fastq.gz\", \"wb\") as local_fh:\n",
    "    while True:\n",
    "        chunk = remote_fh.raw.read(1<<20)\n",
    "        if not chunk:\n",
    "            break\n",
    "        local_fh.write(chunk)"
   ]
  },
  {
   "cell_type": "code",
   "execution_count": 21,
   "metadata": {},
   "outputs": [
    {
     "name": "stdout",
     "output_type": "stream",
     "text": [
      "-rw-r--r-- 1 jovyan users 386122988 Dec 12 03:41 E18_20160930_Neurons_Sample_71_S068_L007_R2_006.fastq.gz\r\n"
     ]
    }
   ],
   "source": [
    "!ls -l E18_20160930_Neurons_Sample_71_S068_L007_R2_006.fastq.gz"
   ]
  }
 ],
 "metadata": {
  "kernelspec": {
   "display_name": "Python 3",
   "language": "python",
   "name": "python3"
  },
  "language_info": {
   "codemirror_mode": {
    "name": "ipython",
    "version": 3
   },
   "file_extension": ".py",
   "mimetype": "text/x-python",
   "name": "python",
   "nbconvert_exporter": "python",
   "pygments_lexer": "ipython3",
   "version": "3.6.6"
  }
 },
 "nbformat": 4,
 "nbformat_minor": 2
}

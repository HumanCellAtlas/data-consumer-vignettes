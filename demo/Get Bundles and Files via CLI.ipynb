{
 "cells": [
  {
   "cell_type": "markdown",
   "metadata": {},
   "source": [
    "## Basic Bundle and File Operations with the DCP CLI\n",
    "\n",
    "Here are some examples of basic operations with the HCA DSS: getting bundle and file metadata and contents. Here we'll illustrate this using the HCAs DCP CLI.\n",
    "\n",
    "First, install the CLI so we can make some requests."
   ]
  },
  {
   "cell_type": "code",
   "execution_count": 1,
   "metadata": {},
   "outputs": [
    {
     "name": "stdout",
     "output_type": "stream",
     "text": [
      "Requirement already satisfied: hca in /opt/conda/lib/python3.6/site-packages (4.4.10)\n",
      "Requirement already satisfied: boto3<1.8,>=1.7 in /opt/conda/lib/python3.6/site-packages (from hca) (1.7.84)\n",
      "Requirement already satisfied: six<2,>=1.10 in /opt/conda/lib/python3.6/site-packages (from hca) (1.11.0)\n",
      "Requirement already satisfied: google-auth<2,>=1.0.2 in /opt/conda/lib/python3.6/site-packages (from hca) (1.6.1)\n",
      "Requirement already satisfied: docutils<1,>=0.14 in /opt/conda/lib/python3.6/site-packages (from hca) (0.14)\n",
      "Requirement already satisfied: argcomplete<2,>=1.9.3 in /opt/conda/lib/python3.6/site-packages (from hca) (1.9.4)\n",
      "Requirement already satisfied: crcmod<2,>=1.7 in /opt/conda/lib/python3.6/site-packages (from hca) (1.7)\n",
      "Requirement already satisfied: commonmark<0.8,>=0.7.4 in /opt/conda/lib/python3.6/site-packages (from hca) (0.7.5)\n",
      "Requirement already satisfied: dcplib<2,>=1.3.2 in /opt/conda/lib/python3.6/site-packages (from hca) (1.4.0)\n",
      "Requirement already satisfied: PyJWT>=1.6.4 in /opt/conda/lib/python3.6/site-packages (from hca) (1.7.1)\n",
      "Requirement already satisfied: google-auth-oauthlib<2,>=0.1 in /opt/conda/lib/python3.6/site-packages (from hca) (0.2.0)\n",
      "Requirement already satisfied: jsonschema<3,>=2.6 in /opt/conda/lib/python3.6/site-packages (from hca) (2.6.0)\n",
      "Requirement already satisfied: jsonpointer<2,>=1.10 in /opt/conda/lib/python3.6/site-packages (from hca) (1.14)\n",
      "Requirement already satisfied: retrying in /opt/conda/lib/python3.6/site-packages (from hca) (1.3.3)\n",
      "Requirement already satisfied: requests<3,>=2.20.0 in /opt/conda/lib/python3.6/site-packages (from hca) (2.20.0)\n",
      "Requirement already satisfied: cryptography==2.3.1 in /opt/conda/lib/python3.6/site-packages (from hca) (2.3.1)\n",
      "Requirement already satisfied: Jinja2<3,>=2.9 in /opt/conda/lib/python3.6/site-packages (from hca) (2.10)\n",
      "Requirement already satisfied: tweak<1,>=0.6.7 in /opt/conda/lib/python3.6/site-packages (from hca) (0.6.7)\n",
      "Requirement already satisfied: s3transfer<0.2.0,>=0.1.10 in /opt/conda/lib/python3.6/site-packages (from boto3<1.8,>=1.7->hca) (0.1.13)\n",
      "Requirement already satisfied: jmespath<1.0.0,>=0.7.1 in /opt/conda/lib/python3.6/site-packages (from boto3<1.8,>=1.7->hca) (0.9.3)\n",
      "Requirement already satisfied: botocore<1.11.0,>=1.10.84 in /opt/conda/lib/python3.6/site-packages (from boto3<1.8,>=1.7->hca) (1.10.84)\n",
      "Requirement already satisfied: pyasn1-modules>=0.2.1 in /opt/conda/lib/python3.6/site-packages (from google-auth<2,>=1.0.2->hca) (0.2.2)\n",
      "Requirement already satisfied: cachetools>=2.0.0 in /opt/conda/lib/python3.6/site-packages (from google-auth<2,>=1.0.2->hca) (3.0.0)\n",
      "Requirement already satisfied: rsa>=3.1.4 in /opt/conda/lib/python3.6/site-packages (from google-auth<2,>=1.0.2->hca) (4.0)\n",
      "Requirement already satisfied: future in /opt/conda/lib/python3.6/site-packages (from commonmark<0.8,>=0.7.4->hca) (0.17.1)\n",
      "Requirement already satisfied: puremagic in /opt/conda/lib/python3.6/site-packages (from dcplib<2,>=1.3.2->hca) (1.4)\n",
      "Requirement already satisfied: requests-oauthlib>=0.7.0 in /opt/conda/lib/python3.6/site-packages (from google-auth-oauthlib<2,>=0.1->hca) (1.0.0)\n",
      "Requirement already satisfied: certifi>=2017.4.17 in /opt/conda/lib/python3.6/site-packages (from requests<3,>=2.20.0->hca) (2018.10.15)\n",
      "Requirement already satisfied: idna<2.8,>=2.5 in /opt/conda/lib/python3.6/site-packages (from requests<3,>=2.20.0->hca) (2.7)\n",
      "Requirement already satisfied: chardet<3.1.0,>=3.0.2 in /opt/conda/lib/python3.6/site-packages (from requests<3,>=2.20.0->hca) (3.0.4)\n",
      "Requirement already satisfied: urllib3<1.25,>=1.21.1 in /opt/conda/lib/python3.6/site-packages (from requests<3,>=2.20.0->hca) (1.23)\n",
      "Requirement already satisfied: asn1crypto>=0.21.0 in /opt/conda/lib/python3.6/site-packages (from cryptography==2.3.1->hca) (0.24.0)\n",
      "Requirement already satisfied: cffi!=1.11.3,>=1.7 in /opt/conda/lib/python3.6/site-packages (from cryptography==2.3.1->hca) (1.11.5)\n",
      "Requirement already satisfied: MarkupSafe>=0.23 in /opt/conda/lib/python3.6/site-packages (from Jinja2<3,>=2.9->hca) (1.0)\n",
      "Requirement already satisfied: python-dateutil<3.0.0,>=2.1; python_version >= \"2.7\" in /opt/conda/lib/python3.6/site-packages (from botocore<1.11.0,>=1.10.84->boto3<1.8,>=1.7->hca) (2.7.4)\n",
      "Requirement already satisfied: pyasn1<0.5.0,>=0.4.1 in /opt/conda/lib/python3.6/site-packages (from pyasn1-modules>=0.2.1->google-auth<2,>=1.0.2->hca) (0.4.4)\n",
      "Requirement already satisfied: argparse in /opt/conda/lib/python3.6/site-packages (from puremagic->dcplib<2,>=1.3.2->hca) (1.4.0)\n",
      "Requirement already satisfied: oauthlib>=0.6.2 in /opt/conda/lib/python3.6/site-packages (from requests-oauthlib>=0.7.0->google-auth-oauthlib<2,>=0.1->hca) (2.1.0)\n",
      "Requirement already satisfied: pycparser in /opt/conda/lib/python3.6/site-packages (from cffi!=1.11.3,>=1.7->cryptography==2.3.1->hca) (2.19)\n"
     ]
    }
   ],
   "source": [
    "import sys\n",
    "!{sys.executable} -m pip install hca"
   ]
  },
  {
   "cell_type": "markdown",
   "metadata": {},
   "source": [
    "Now, we're going to get the \"manifest\" of a bundle. This is metadata about a bundle and its contents. We'll make a request with the CLI using the bundle's UUID and version."
   ]
  },
  {
   "cell_type": "code",
   "execution_count": 2,
   "metadata": {},
   "outputs": [],
   "source": [
    "bundle_uuid = \"ead66505-a78b-44ee-81f6-418be859ab65\"\n",
    "bundle_version = \"2018-12-06T043139.806469Z\""
   ]
  },
  {
   "cell_type": "markdown",
   "metadata": {},
   "source": [
    "The `hca dss get-bundle` command retrieves the manifest:"
   ]
  },
  {
   "cell_type": "code",
   "execution_count": 3,
   "metadata": {},
   "outputs": [
    {
     "name": "stdout",
     "output_type": "stream",
     "text": [
      "{\r\n",
      "  \"bundle\": {\r\n",
      "    \"creator_uid\": 8008,\r\n",
      "    \"files\": [\r\n",
      "      {\r\n",
      "        \"content-type\": \"application/json; dcp-type=\\\"metadata/biomaterial\\\"\",\r\n",
      "        \"crc32c\": \"ec0d3d14\",\r\n",
      "        \"indexed\": true,\r\n",
      "        \"name\": \"cell_suspension_0.json\",\r\n",
      "        \"s3_etag\": \"fee4d8354468476052a1c0da67fb1f03\",\r\n",
      "        \"sha1\": \"6f77abbdd0892a99e6fae5c920daaaf3018b24fd\",\r\n",
      "        \"sha256\": \"5d41934e1af911f510be04506d41b59ebd91d1678f42df759819b223a898b1da\",\r\n",
      "        \"size\": 1356,\r\n",
      "        \"uuid\": \"3e4e6f8e-0c67-470c-8059-950e0bd1ebff\",\r\n",
      "        \"version\": \"2018-12-04T190346.297000Z\"\r\n",
      "      },\r\n",
      "      {\r\n",
      "        \"content-type\": \"application/json; dcp-type=\\\"metadata/biomaterial\\\"\",\r\n",
      "        \"crc32c\": \"73fc7859\",\r\n",
      "        \"indexed\": true,\r\n",
      "        \"name\": \"specimen_from_organism_0.json\",\r\n",
      "        \"s3_etag\": \"5ba0e2a0506f3fab2d69c5d19227c5c3\",\r\n",
      "        \"sha1\": \"53275ddd170d3d6dd31239674bff86ede607ab2f\",\r\n",
      "        \"sha256\": \"3b76d6f98b4912fd9fc233054cd47c321bb2411e5a56c656efc5c7e9327f2a32\",\r\n",
      "        \"size\": 1643,\r\n",
      "        \"uuid\": \"3a04d7b0-105b-457b-9a5e-a6b2ab4d3225\",\r\n",
      "        \"version\": \"2018-12-04T190116.949000Z\"\r\n",
      "      },\r\n",
      "      {\r\n",
      "        \"content-type\": \"application/json; dcp-type=\\\"metadata/biomaterial\\\"\",\r\n",
      "        \"crc32c\": \"f042482a\",\r\n",
      "        \"indexed\": true,\r\n",
      "        \"name\": \"donor_organism_0.json\",\r\n",
      "        \"s3_etag\": \"9934746af087e69493385b21b9281fe0\",\r\n",
      "        \"sha1\": \"1a260f07840cfdf6fad24203b5a6b289b2745d40\",\r\n",
      "        \"sha256\": \"6b620be11ee015dd29fe6de8cf3a5d683211aad9d8bab1cf6e99f19332ccf795\",\r\n",
      "        \"size\": 1430,\r\n",
      "        \"uuid\": \"c489c2bb-54c2-4d51-bdd9-3499e291e367\",\r\n",
      "        \"version\": \"2018-12-04T190115.557000Z\"\r\n",
      "      },\r\n",
      "      {\r\n",
      "        \"content-type\": \"application/json; dcp-type=\\\"metadata/file\\\"\",\r\n",
      "        \"crc32c\": \"f0687fc8\",\r\n",
      "        \"indexed\": true,\r\n",
      "        \"name\": \"sequence_file_0.json\",\r\n",
      "        \"s3_etag\": \"240d1cd150188d22df5cc3a77d625f83\",\r\n",
      "        \"sha1\": \"f3c7ba26433a085d0e81644d6cdd56676943c085\",\r\n",
      "        \"sha256\": \"100aecd3ab01d5b06ec2c22470af5a092ee6728f20418bf4273f35cc832c466f\",\r\n",
      "        \"size\": 689,\r\n",
      "        \"uuid\": \"cda16082-bbbc-4c88-adfa-c776f953023b\",\r\n",
      "        \"version\": \"2018-12-05T020715.587000Z\"\r\n",
      "      },\r\n",
      "      {\r\n",
      "        \"content-type\": \"application/json; dcp-type=\\\"metadata/file\\\"\",\r\n",
      "        \"crc32c\": \"bf297bee\",\r\n",
      "        \"indexed\": true,\r\n",
      "        \"name\": \"sequence_file_1.json\",\r\n",
      "        \"s3_etag\": \"d0f940fd3e0f53bf73230428491e9eae\",\r\n",
      "        \"sha1\": \"2de478aa760175e667c40a868f611568c0084224\",\r\n",
      "        \"sha256\": \"2ec78ef3bb2dff105045c5b68dee6ab12e2b9e7fad4a85dd989bd21a4b9ce6cd\",\r\n",
      "        \"size\": 689,\r\n",
      "        \"uuid\": \"7836f4cd-5cd0-4a46-b5d8-37da5dca79f6\",\r\n",
      "        \"version\": \"2018-12-05T020725.177000Z\"\r\n",
      "      },\r\n",
      "      {\r\n",
      "        \"content-type\": \"application/json; dcp-type=\\\"metadata/file\\\"\",\r\n",
      "        \"crc32c\": \"4fe0c2cf\",\r\n",
      "        \"indexed\": true,\r\n",
      "        \"name\": \"sequence_file_2.json\",\r\n",
      "        \"s3_etag\": \"0c920b8cfd557df13e96d3b4d6a2b5af\",\r\n",
      "        \"sha1\": \"a825e1873f72af86f54d28a14d0621389659098f\",\r\n",
      "        \"sha256\": \"b9ecf2102f645779705e7f368b48bceb583a8a1cb1b01ed88bd844259766c3df\",\r\n",
      "        \"size\": 690,\r\n",
      "        \"uuid\": \"5d5e7e84-4c3d-45f7-93c9-3ad33cd8d1ad\",\r\n",
      "        \"version\": \"2018-12-05T020932.969000Z\"\r\n",
      "      },\r\n",
      "      {\r\n",
      "        \"content-type\": \"application/json; dcp-type=\\\"metadata/project\\\"\",\r\n",
      "        \"crc32c\": \"5eea185b\",\r\n",
      "        \"indexed\": true,\r\n",
      "        \"name\": \"project_0.json\",\r\n",
      "        \"s3_etag\": \"d93721a1692d5fb7d7e801585579fdd3\",\r\n",
      "        \"sha1\": \"d0fc14b2d8b03d68fda31c461f153144e8e75d88\",\r\n",
      "        \"sha256\": \"a13238bc51ff1af094be6b4b614e5031eab5f82a042f823d5a3b2c031097b50d\",\r\n",
      "        \"size\": 3960,\r\n",
      "        \"uuid\": \"ff481f29-3d0b-4533-9de2-a760c61c162d\",\r\n",
      "        \"version\": \"2018-12-04T190115.532000Z\"\r\n",
      "      },\r\n",
      "      {\r\n",
      "        \"content-type\": \"application/json; dcp-type=\\\"metadata/protocol\\\"\",\r\n",
      "        \"crc32c\": \"3e5c2392\",\r\n",
      "        \"indexed\": true,\r\n",
      "        \"name\": \"library_preparation_protocol_0.json\",\r\n",
      "        \"s3_etag\": \"f31cb9587a304de0509a3d52a5efda1f\",\r\n",
      "        \"sha1\": \"8489d7c0a39c85369f3369a5a29c56a584b5dc53\",\r\n",
      "        \"sha256\": \"5e07f5a28c98683b8e51faeb374cc90497b2e67ffb5925d52e2d8e296abbf05a\",\r\n",
      "        \"size\": 1187,\r\n",
      "        \"uuid\": \"3c2d6162-f086-4cf4-bd01-fb46c1b04990\",\r\n",
      "        \"version\": \"2018-12-04T185829.682000Z\"\r\n",
      "      },\r\n",
      "      {\r\n",
      "        \"content-type\": \"application/json; dcp-type=\\\"metadata/protocol\\\"\",\r\n",
      "        \"crc32c\": \"99b74b2b\",\r\n",
      "        \"indexed\": true,\r\n",
      "        \"name\": \"sequencing_protocol_0.json\",\r\n",
      "        \"s3_etag\": \"990e7dd1050f4b6f64a6d5b2c14a75e3\",\r\n",
      "        \"sha1\": \"3525c0653b01264a3de7d10d4e62e2ada79b021d\",\r\n",
      "        \"sha256\": \"3eee8ee54e3a64966835f185bc142969a9dad5b77d644b310ef6480eb5bfe0b1\",\r\n",
      "        \"size\": 979,\r\n",
      "        \"uuid\": \"3decd8d5-5990-43cd-84cc-6c7796b8a76d\",\r\n",
      "        \"version\": \"2018-12-04T185830.949000Z\"\r\n",
      "      },\r\n",
      "      {\r\n",
      "        \"content-type\": \"application/json; dcp-type=\\\"metadata/protocol\\\"\",\r\n",
      "        \"crc32c\": \"2303a410\",\r\n",
      "        \"indexed\": true,\r\n",
      "        \"name\": \"dissociation_protocol_0.json\",\r\n",
      "        \"s3_etag\": \"4da303626caabce13339b189fd856c38\",\r\n",
      "        \"sha1\": \"9017ccbfe60811b95f891eaecdc853e5519529fe\",\r\n",
      "        \"sha256\": \"cd8564e7c1d525101fc569fcc7ad4e783711314f0b93bca11fac71a5c9c3ef9a\",\r\n",
      "        \"size\": 1191,\r\n",
      "        \"uuid\": \"516829d4-62b6-4053-b670-650b8b56c4e1\",\r\n",
      "        \"version\": \"2018-12-04T185830.979000Z\"\r\n",
      "      },\r\n",
      "      {\r\n",
      "        \"content-type\": \"application/json; dcp-type=\\\"metadata/process\\\"\",\r\n",
      "        \"crc32c\": \"3c8c3cc5\",\r\n",
      "        \"indexed\": true,\r\n",
      "        \"name\": \"process_0.json\",\r\n",
      "        \"s3_etag\": \"003989f2df2aa8f39723f3925e5fb851\",\r\n",
      "        \"sha1\": \"9bff1801fb12b3302b7f7d7dd57a3a3cb6070914\",\r\n",
      "        \"sha256\": \"7a967973684ffa8ac3fe5004177e2fc7d8f3a2c822bbede536dcd58d9af7bdb5\",\r\n",
      "        \"size\": 408,\r\n",
      "        \"uuid\": \"9adf9f89-f546-4889-86ff-b430e3123c8b\",\r\n",
      "        \"version\": \"2018-12-04T191256.554000Z\"\r\n",
      "      },\r\n",
      "      {\r\n",
      "        \"content-type\": \"application/json; dcp-type=\\\"metadata/process\\\"\",\r\n",
      "        \"crc32c\": \"d6733b3d\",\r\n",
      "        \"indexed\": true,\r\n",
      "        \"name\": \"process_1.json\",\r\n",
      "        \"s3_etag\": \"3d86c7729662a6fb44be15297a4f627e\",\r\n",
      "        \"sha1\": \"faf3120b11470ba0d2441e7d7425b937722c8fee\",\r\n",
      "        \"sha256\": \"8713dbd41635b73ab959dcb810c7d11cc7c492e5d72b56fe8e4d5ede876401fc\",\r\n",
      "        \"size\": 377,\r\n",
      "        \"uuid\": \"0a0996f2-a17a-4cbb-a0c0-87febf6245b1\",\r\n",
      "        \"version\": \"2018-12-04T190855.085000Z\"\r\n",
      "      },\r\n",
      "      {\r\n",
      "        \"content-type\": \"application/json; dcp-type=\\\"metadata/process\\\"\",\r\n",
      "        \"crc32c\": \"6e01b384\",\r\n",
      "        \"indexed\": true,\r\n",
      "        \"name\": \"process_2.json\",\r\n",
      "        \"s3_etag\": \"7325188b7475064ad39ea53559945d81\",\r\n",
      "        \"sha1\": \"dc58e788bfb9c4203b5b1ddb4773ae90dc57a64b\",\r\n",
      "        \"sha256\": \"874153dcfe6f761e1f3ef2abe82138bf091af6c59a34090681545e4a2a99f712\",\r\n",
      "        \"size\": 376,\r\n",
      "        \"uuid\": \"ca505f0d-0d6e-49bc-bd45-7b1fb3f771e5\",\r\n",
      "        \"version\": \"2018-12-04T190853.816000Z\"\r\n",
      "      },\r\n",
      "      {\r\n",
      "        \"content-type\": \"application/json; dcp-type=\\\"metadata/links\\\"\",\r\n",
      "        \"crc32c\": \"908ecd3a\",\r\n",
      "        \"indexed\": true,\r\n",
      "        \"name\": \"links.json\",\r\n",
      "        \"s3_etag\": \"0df5cbf9f0ab1b567e932fb4114af638\",\r\n",
      "        \"sha1\": \"b721b9e39ec7bb8ad22861dba4b85d7256ddb5b8\",\r\n",
      "        \"sha256\": \"af83cdf1c569a5383ce50e3b6c184c4127e0bb3595a1d8cf5514fcc632b28a49\",\r\n",
      "        \"size\": 1968,\r\n",
      "        \"uuid\": \"d4b1a29b-4bcf-4bf1-aede-5ef7f5fb35b0\",\r\n",
      "        \"version\": \"2018-12-06T043107.142093Z\"\r\n",
      "      },\r\n",
      "      {\r\n",
      "        \"content-type\": \"application/gzip; dcp-type=data\",\r\n",
      "        \"crc32c\": \"89fbb4b6\",\r\n",
      "        \"indexed\": false,\r\n",
      "        \"name\": \"E18_20160930_Neurons_Sample_71_S068_L007_I1_006.fastq.gz\",\r\n",
      "        \"s3_etag\": \"70611602e4eef043a42fbc9d2dface95\",\r\n",
      "        \"sha1\": \"c69ee698318fd9719891b2a25952f387486b491a\",\r\n",
      "        \"sha256\": \"5ee2a38045ddca280da1e6122cc306e79c9cee9bb76b76f72ad8ee47c16d8dc0\",\r\n",
      "        \"size\": 38942279,\r\n",
      "        \"uuid\": \"50fa124f-feca-4bf7-9522-798b4a18bb37\",\r\n",
      "        \"version\": \"2018-12-06T043107.379722Z\"\r\n",
      "      },\r\n",
      "      {\r\n",
      "        \"content-type\": \"application/gzip; dcp-type=data\",\r\n",
      "        \"crc32c\": \"897bcdcc\",\r\n",
      "        \"indexed\": false,\r\n",
      "        \"name\": \"E18_20160930_Neurons_Sample_71_S068_L007_R1_006.fastq.gz\",\r\n",
      "        \"s3_etag\": \"0e3809f4feec184c0228f7829efe3eb1-2\",\r\n",
      "        \"sha1\": \"0ad4610c4ca2335d948d0a1f648ef39c24f5d4cf\",\r\n",
      "        \"sha256\": \"3a82d659d289348e00d2e7a7782f4ab5a16fd523126a523572a2eb87abc7cc50\",\r\n",
      "        \"size\": 94751979,\r\n",
      "        \"uuid\": \"57e4e0ba-e6e8-4a5e-a24a-9e9cd1e014aa\",\r\n",
      "        \"version\": \"2018-12-06T043108.700652Z\"\r\n",
      "      },\r\n",
      "      {\r\n",
      "        \"content-type\": \"application/gzip; dcp-type=data\",\r\n",
      "        \"crc32c\": \"68a4f554\",\r\n",
      "        \"indexed\": false,\r\n",
      "        \"name\": \"E18_20160930_Neurons_Sample_71_S068_L007_R2_006.fastq.gz\",\r\n",
      "        \"s3_etag\": \"6b9b7e2602e6255051fb31d5c62a1afc-6\",\r\n",
      "        \"sha1\": \"0dad98a6a4b1c0f5d5faeba425e7594792359499\",\r\n",
      "        \"sha256\": \"ef1119f2337f92b955472a2e33207c2e654c7c4655b466890a6337727ab5bc37\",\r\n",
      "        \"size\": 386122988,\r\n",
      "        \"uuid\": \"330b4a8c-57d6-4d7a-b15d-9a49ed1c0472\",\r\n",
      "        \"version\": \"2018-12-06T043108.834190Z\"\r\n",
      "      }\r\n",
      "    ],\r\n",
      "    \"uuid\": \"ead66505-a78b-44ee-81f6-418be859ab65\",\r\n",
      "    \"version\": \"2018-12-06T043139.806469Z\"\r\n",
      "  }\r\n",
      "}\r\n"
     ]
    }
   ],
   "source": [
    "!hca dss get-bundle --uuid \"$bundle_uuid\" --version \"$bundle_version\" --replica aws"
   ]
  },
  {
   "cell_type": "markdown",
   "metadata": {},
   "source": [
    "And there's the contents of that bundle along with some metadata. We can check for the existence of a file using `hca dss head-file`:"
   ]
  },
  {
   "cell_type": "code",
   "execution_count": 4,
   "metadata": {},
   "outputs": [],
   "source": [
    "file_uuid = \"9adf9f89-f546-4889-86ff-b430e3123c8b\"\n",
    "file_version = \"2018-12-04T191256.554000Z\""
   ]
  },
  {
   "cell_type": "code",
   "execution_count": 5,
   "metadata": {},
   "outputs": [
    {
     "name": "stdout",
     "output_type": "stream",
     "text": [
      "\"<Response [200]>\"\r\n"
     ]
    }
   ],
   "source": [
    "!hca dss head-file --uuid \"$file_uuid\" --version \"$file_version\" --replica aws"
   ]
  },
  {
   "cell_type": "markdown",
   "metadata": {},
   "source": [
    "Not very helpful. The 200 tells us the file exists, but all the information is in the header, which the CLI doesn't return. If we want to get the file contents, we can use `hca dss get-file`:"
   ]
  },
  {
   "cell_type": "code",
   "execution_count": 6,
   "metadata": {},
   "outputs": [
    {
     "name": "stdout",
     "output_type": "stream",
     "text": [
      "{\r\n",
      "  \"process_core\": {\r\n",
      "    \"process_id\": \"E18_20160930_Neurons_Sample_71_S068_L007_006\"\r\n",
      "  },\r\n",
      "  \"schema_type\": \"process\",\r\n",
      "  \"describedBy\": \"https://schema.humancellatlas.org/type/process/6.0.2/process\",\r\n",
      "  \"provenance\": {\r\n",
      "    \"document_id\": \"9adf9f89-f546-4889-86ff-b430e3123c8b\",\r\n",
      "    \"submission_date\": \"2018-12-04T18:59:53.218Z\",\r\n",
      "    \"update_date\": \"2018-12-04T19:12:56.554Z\"\r\n",
      "  }\r\n",
      "}\r\n"
     ]
    }
   ],
   "source": [
    "!hca dss get-file --uuid \"$file_uuid\" --version \"$file_version\" --replica aws"
   ]
  },
  {
   "cell_type": "markdown",
   "metadata": {},
   "source": [
    "And there are the contents of the file."
   ]
  },
  {
   "cell_type": "markdown",
   "metadata": {},
   "source": [
    "### Downloading Entire Bundles\n",
    "\n",
    "The CLI also exposes another command, hca dss download that downloads an entire bundle to disk with one command:"
   ]
  },
  {
   "cell_type": "code",
   "execution_count": 7,
   "metadata": {},
   "outputs": [
    {
     "name": "stdout",
     "output_type": "stream",
     "text": [
      "INFO:hca:File cell_suspension_0.json: Retrieving...\n",
      "INFO:hca:File cell_suspension_0.json: GET SUCCEEDED. Stored at ead66505-a78b-44ee-81f6-418be859ab65/cell_suspension_0.json.\n",
      "INFO:hca:File specimen_from_organism_0.json: Retrieving...\n",
      "INFO:hca:File specimen_from_organism_0.json: GET SUCCEEDED. Stored at ead66505-a78b-44ee-81f6-418be859ab65/specimen_from_organism_0.json.\n",
      "INFO:hca:File donor_organism_0.json: Retrieving...\n",
      "INFO:hca:File donor_organism_0.json: GET SUCCEEDED. Stored at ead66505-a78b-44ee-81f6-418be859ab65/donor_organism_0.json.\n",
      "INFO:hca:File sequence_file_0.json: Retrieving...\n",
      "INFO:hca:File sequence_file_0.json: GET SUCCEEDED. Stored at ead66505-a78b-44ee-81f6-418be859ab65/sequence_file_0.json.\n",
      "INFO:hca:File sequence_file_1.json: Retrieving...\n",
      "INFO:hca:File sequence_file_1.json: GET SUCCEEDED. Stored at ead66505-a78b-44ee-81f6-418be859ab65/sequence_file_1.json.\n",
      "INFO:hca:File sequence_file_2.json: Retrieving...\n",
      "INFO:hca:File sequence_file_2.json: GET SUCCEEDED. Stored at ead66505-a78b-44ee-81f6-418be859ab65/sequence_file_2.json.\n",
      "INFO:hca:File project_0.json: Retrieving...\n",
      "INFO:hca:File project_0.json: GET SUCCEEDED. Stored at ead66505-a78b-44ee-81f6-418be859ab65/project_0.json.\n",
      "INFO:hca:File library_preparation_protocol_0.json: Retrieving...\n",
      "INFO:hca:File library_preparation_protocol_0.json: GET SUCCEEDED. Stored at ead66505-a78b-44ee-81f6-418be859ab65/library_preparation_protocol_0.json.\n",
      "INFO:hca:File sequencing_protocol_0.json: Retrieving...\n",
      "INFO:hca:File sequencing_protocol_0.json: GET SUCCEEDED. Stored at ead66505-a78b-44ee-81f6-418be859ab65/sequencing_protocol_0.json.\n",
      "INFO:hca:File dissociation_protocol_0.json: Retrieving...\n",
      "INFO:hca:File dissociation_protocol_0.json: GET SUCCEEDED. Stored at ead66505-a78b-44ee-81f6-418be859ab65/dissociation_protocol_0.json.\n",
      "INFO:hca:File process_0.json: Retrieving...\n",
      "INFO:hca:File process_0.json: GET SUCCEEDED. Stored at ead66505-a78b-44ee-81f6-418be859ab65/process_0.json.\n",
      "INFO:hca:File process_1.json: Retrieving...\n",
      "INFO:hca:File process_1.json: GET SUCCEEDED. Stored at ead66505-a78b-44ee-81f6-418be859ab65/process_1.json.\n",
      "INFO:hca:File process_2.json: Retrieving...\n",
      "INFO:hca:File process_2.json: GET SUCCEEDED. Stored at ead66505-a78b-44ee-81f6-418be859ab65/process_2.json.\n",
      "INFO:hca:File links.json: Retrieving...\n",
      "INFO:hca:File links.json: GET SUCCEEDED. Stored at ead66505-a78b-44ee-81f6-418be859ab65/links.json.\n",
      "INFO:hca:File E18_20160930_Neurons_Sample_71_S068_L007_I1_006.fastq.gz: Retrieving...\n",
      "INFO:hca:File E18_20160930_Neurons_Sample_71_S068_L007_I1_006.fastq.gz: GET SUCCEEDED. Stored at ead66505-a78b-44ee-81f6-418be859ab65/E18_20160930_Neurons_Sample_71_S068_L007_I1_006.fastq.gz.\n",
      "INFO:hca:File E18_20160930_Neurons_Sample_71_S068_L007_R1_006.fastq.gz: Retrieving...\n",
      "INFO:hca:File E18_20160930_Neurons_Sample_71_S068_L007_R1_006.fastq.gz: GET SUCCEEDED. Stored at ead66505-a78b-44ee-81f6-418be859ab65/E18_20160930_Neurons_Sample_71_S068_L007_R1_006.fastq.gz.\n",
      "INFO:hca:File E18_20160930_Neurons_Sample_71_S068_L007_R2_006.fastq.gz: Retrieving...\n",
      "INFO:hca:File E18_20160930_Neurons_Sample_71_S068_L007_R2_006.fastq.gz: GET SUCCEEDED. Stored at ead66505-a78b-44ee-81f6-418be859ab65/E18_20160930_Neurons_Sample_71_S068_L007_R2_006.fastq.gz.\n"
     ]
    }
   ],
   "source": [
    "!hca dss download --bundle-uuid \"$bundle_uuid\" --version \"$bundle_version\" --replica aws"
   ]
  },
  {
   "cell_type": "code",
   "execution_count": 9,
   "metadata": {},
   "outputs": [
    {
     "name": "stdout",
     "output_type": "stream",
     "text": [
      "total 516280\r\n",
      "-rw-r--r-- 1 jovyan users      1356 Dec 12 03:08 cell_suspension_0.json\r\n",
      "-rw-r--r-- 1 jovyan users      1191 Dec 12 03:08 dissociation_protocol_0.json\r\n",
      "-rw-r--r-- 1 jovyan users      1430 Dec 12 03:08 donor_organism_0.json\r\n",
      "-rw-r--r-- 1 jovyan users  38942279 Dec 12 03:08 E18_20160930_Neurons_Sample_71_S068_L007_I1_006.fastq.gz\r\n",
      "-rw-r--r-- 1 jovyan users  94751979 Dec 12 03:08 E18_20160930_Neurons_Sample_71_S068_L007_R1_006.fastq.gz\r\n",
      "-rw-r--r-- 1 jovyan users 386122988 Dec 12 03:09 E18_20160930_Neurons_Sample_71_S068_L007_R2_006.fastq.gz\r\n",
      "-rw-r--r-- 1 jovyan users      1187 Dec 12 03:08 library_preparation_protocol_0.json\r\n",
      "-rw-r--r-- 1 jovyan users      1968 Dec 12 03:08 links.json\r\n",
      "-rw-r--r-- 1 jovyan users       408 Dec 12 03:08 process_0.json\r\n",
      "-rw-r--r-- 1 jovyan users       377 Dec 12 03:08 process_1.json\r\n",
      "-rw-r--r-- 1 jovyan users       376 Dec 12 03:08 process_2.json\r\n",
      "-rw-r--r-- 1 jovyan users      3960 Dec 12 03:08 project_0.json\r\n",
      "-rw-r--r-- 1 jovyan users       689 Dec 12 03:08 sequence_file_0.json\r\n",
      "-rw-r--r-- 1 jovyan users       689 Dec 12 03:08 sequence_file_1.json\r\n",
      "-rw-r--r-- 1 jovyan users       690 Dec 12 03:08 sequence_file_2.json\r\n",
      "-rw-r--r-- 1 jovyan users       979 Dec 12 03:08 sequencing_protocol_0.json\r\n",
      "-rw-r--r-- 1 jovyan users      1643 Dec 12 03:08 specimen_from_organism_0.json\r\n"
     ]
    }
   ],
   "source": [
    "!ls -l \"$bundle_uuid\""
   ]
  }
 ],
 "metadata": {
  "kernelspec": {
   "display_name": "Python 3",
   "language": "python",
   "name": "python3"
  },
  "language_info": {
   "codemirror_mode": {
    "name": "ipython",
    "version": 3
   },
   "file_extension": ".py",
   "mimetype": "text/x-python",
   "name": "python",
   "nbconvert_exporter": "python",
   "pygments_lexer": "ipython3",
   "version": "3.6.6"
  }
 },
 "nbformat": 4,
 "nbformat_minor": 2
}
